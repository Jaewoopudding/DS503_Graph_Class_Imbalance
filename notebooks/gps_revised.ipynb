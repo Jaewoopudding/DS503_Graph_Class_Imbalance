{
 "cells": [
  {
   "cell_type": "code",
   "execution_count": 2,
   "metadata": {},
   "outputs": [
    {
     "name": "stderr",
     "output_type": "stream",
     "text": [
      "/home/sujin/anaconda3/envs/ds503/lib/python3.10/site-packages/tqdm/auto.py:21: TqdmWarning: IProgress not found. Please update jupyter and ipywidgets. See https://ipywidgets.readthedocs.io/en/stable/user_install.html\n",
      "  from .autonotebook import tqdm as notebook_tqdm\n"
     ]
    },
    {
     "data": {
      "text/plain": [
       "device(type='cuda', index=3)"
      ]
     },
     "execution_count": 2,
     "metadata": {},
     "output_type": "execute_result"
    }
   ],
   "source": [
    "import os\n",
    "import random\n",
    "\n",
    "import numpy as np\n",
    "import pandas as pd\n",
    "import matplotlib.pyplot as plt\n",
    "from sklearn.model_selection import train_test_split\n",
    "from sklearn.metrics import f1_score\n",
    "from sklearn.metrics import classification_report\n",
    "\n",
    "import torch\n",
    "import torch.nn as nn\n",
    "import torch.nn.functional as F\n",
    "\n",
    "import torch_geometric\n",
    "from torch_geometric.datasets import CoraFull, Planetoid, CitationFull\n",
    "import torch_geometric.nn as gnn \n",
    "import torch_geometric.transforms as T\n",
    "from torchsummary import summary\n",
    "\n",
    "from adamp import AdamP\n",
    "\n",
    "#from models import GPS\n",
    "#from utils import test_model\n",
    "\n",
    "torch.manual_seed(42)\n",
    "torch.cuda.manual_seed(42)\n",
    "np.random.seed(42)\n",
    "random.seed(42)\n",
    "torch.backends.cudnn.deterministic = True\n",
    "torch.backends.cudnn.benchmark = False\n",
    "\n",
    "device = torch.device(\"cuda:3\" if torch.cuda.is_available() else \"cpu\")\n",
    "device"
   ]
  },
  {
   "cell_type": "code",
   "execution_count": 3,
   "metadata": {},
   "outputs": [],
   "source": [
    "transform = T.Compose([T.NormalizeFeatures(), T.AddRandomWalkPE(12, 'RWPE')])\n",
    "dataset = CitationFull(root='dataset/Cora', name='Cora', transform=transform)"
   ]
  },
  {
   "cell_type": "code",
   "execution_count": 3,
   "metadata": {},
   "outputs": [],
   "source": [
    "#torch.save(dataset, \"/home/sujin/project/DS503/ds503/dataset/Cora/cora/RandomWalkPE.pt\")\n",
    "#dataset = torch.load(\"/home/sujin/project/DS503/ds503/dataset/Cora/cora/RandomWalkPE.pt\")"
   ]
  },
  {
   "cell_type": "code",
   "execution_count": 4,
   "metadata": {},
   "outputs": [
    {
     "data": {
      "text/plain": [
       "\"\\ndata = dataset[0]\\ndf = pd.DataFrame(data.x.cpu())\\ndf['y'] = data.y.cpu()\\ntrain, valid = train_test_split(df, stratify=df.y, test_size=0.33)\\ndata.train_mask = torch.zeros(data.num_nodes, dtype=torch.bool)\\ndata.train_mask[train.index]=True\\ndata = data.to(device)\\n\""
      ]
     },
     "execution_count": 4,
     "metadata": {},
     "output_type": "execute_result"
    }
   ],
   "source": [
    "'''\n",
    "data = dataset[0]\n",
    "df = pd.DataFrame(data.x.cpu())\n",
    "df['y'] = data.y.cpu()\n",
    "train, valid = train_test_split(df, stratify=df.y, test_size=0.33)\n",
    "data.train_mask = torch.zeros(data.num_nodes, dtype=torch.bool)\n",
    "data.train_mask[train.index]=True\n",
    "data = data.to(device)\n",
    "'''"
   ]
  },
  {
   "cell_type": "code",
   "execution_count": 5,
   "metadata": {},
   "outputs": [],
   "source": [
    "#torch.save(data.cpu(), \"/home/sujin/sujin/ds503/dataset/RandomWalkPE.pt\")"
   ]
  },
  {
   "cell_type": "code",
   "execution_count": 4,
   "metadata": {},
   "outputs": [],
   "source": [
    "data = torch.load(\"/home/sujin/sujin/ds503/dataset/RandomWalkPE.pt\")\n",
    "data = data.to(device)"
   ]
  },
  {
   "cell_type": "code",
   "execution_count": null,
   "metadata": {},
   "outputs": [],
   "source": []
  },
  {
   "attachments": {},
   "cell_type": "markdown",
   "metadata": {},
   "source": [
    "# GIN backbone"
   ]
  },
  {
   "cell_type": "code",
   "execution_count": 7,
   "metadata": {},
   "outputs": [],
   "source": [
    "import random\n",
    "import numpy as np\n",
    "\n",
    "import torch\n",
    "import torch.nn as nn\n",
    "\n",
    "import torch_geometric.nn as gnn \n",
    "\n",
    "import torch\n",
    "from torch.nn import Embedding, Linear, ModuleList, ReLU, Sequential\n",
    "from torch_geometric.nn.conv import GINConv, GPSConv\n",
    "\n",
    "class GPS(torch.nn.Module):\n",
    "    def __init__(self, in_channels, hidden_channels, pe_dim, number_of_classes, number_of_nodes, num_layers, heads=8):\n",
    "        super().__init__()\n",
    "\n",
    "        self.in_channels = in_channels\n",
    "        self.hidden_channels = hidden_channels\n",
    "        self.pe_dim = pe_dim\n",
    "        self.number_of_classes = number_of_classes\n",
    "        self.number_of_nodes = number_of_nodes\n",
    "        self.num_layers = num_layers\n",
    "        self.heads=heads\n",
    "        \n",
    "        self.node_emb = Linear(self.in_channels, self.hidden_channels)\n",
    "        #self.pe_lin = Linear(self.pe_dim, self.hidden_channels)\n",
    "\n",
    "        self.layers = ModuleList()\n",
    "        for _ in range(self.num_layers):\n",
    "            net = Sequential(\n",
    "                Linear(self.hidden_channels, self.hidden_channels),\n",
    "                ReLU(),\n",
    "                Linear(self.hidden_channels, self.hidden_channels),\n",
    "            )\n",
    "            \n",
    "            conv = GPSConv(channels = self.hidden_channels, conv = GINConv(net), heads=self.heads, attn_dropout=0.5)\n",
    "            self.layers.append(conv)\n",
    "\n",
    "        self.readout = Linear(self.hidden_channels, self.number_of_classes)\n",
    "\n",
    "    def forward(self, x, pe, edge_index):\n",
    "        h = self.node_emb(x) #+ self.pe_lin(pe)\n",
    "        for layer in self.layers:\n",
    "            h = layer(h, edge_index)\n",
    "        h = self.readout(h)\n",
    "\n",
    "        return h\n",
    "    \n"
   ]
  },
  {
   "attachments": {},
   "cell_type": "markdown",
   "metadata": {},
   "source": [
    "# SAGE backbone"
   ]
  },
  {
   "cell_type": "code",
   "execution_count": 8,
   "metadata": {},
   "outputs": [],
   "source": [
    "import random\n",
    "import numpy as np\n",
    "\n",
    "import torch\n",
    "import torch.nn as nn\n",
    "\n",
    "import torch_geometric.nn as gnn \n",
    "\n",
    "import torch\n",
    "from torch.nn import Embedding, Linear, ModuleList, ReLU, Sequential\n",
    "from torch_geometric.nn.conv import GINConv, GPSConv, SAGEConv\n",
    "\n",
    "class GPS(torch.nn.Module):\n",
    "    def __init__(self, in_channels, hidden_channels, pe_dim, number_of_classes, number_of_nodes, num_layers, heads=8):\n",
    "        super().__init__()\n",
    "\n",
    "        self.in_channels = in_channels\n",
    "        self.hidden_channels = hidden_channels\n",
    "        self.pe_dim = pe_dim\n",
    "        self.number_of_classes = number_of_classes\n",
    "        self.number_of_nodes = number_of_nodes\n",
    "        self.num_layers = num_layers\n",
    "        self.heads=heads\n",
    "        \n",
    "        self.node_emb = Linear(self.in_channels, self.hidden_channels)\n",
    "        self.pe_lin = Linear(self.pe_dim, self.hidden_channels)\n",
    "\n",
    "        self.layers = ModuleList()\n",
    "        for _ in range(self.num_layers):\n",
    "            conv = GPSConv(channels = self.hidden_channels, conv = SAGEConv(-1, self.hidden_channels), heads=self.heads, attn_dropout=0.5)\n",
    "            self.layers.append(conv)\n",
    "\n",
    "        self.readout = Linear(self.hidden_channels, self.number_of_classes)\n",
    "\n",
    "    def forward(self, x, pe, edge_index):\n",
    "        h = self.node_emb(x) + self.pe_lin(pe)\n",
    "        for layer in self.layers:\n",
    "            h = layer(h, edge_index)\n",
    "        h = self.readout(h)\n",
    "\n",
    "        return h\n",
    "    "
   ]
  },
  {
   "attachments": {},
   "cell_type": "markdown",
   "metadata": {},
   "source": [
    "# Train"
   ]
  },
  {
   "cell_type": "code",
   "execution_count": 9,
   "metadata": {},
   "outputs": [],
   "source": [
    "def get_n_params(model):\n",
    "    pp=0\n",
    "    for p in list(model.parameters()):\n",
    "        nn=1\n",
    "        for s in list(p.size()):\n",
    "            nn = nn*s\n",
    "        pp += nn\n",
    "    return pp"
   ]
  },
  {
   "cell_type": "code",
   "execution_count": 10,
   "metadata": {},
   "outputs": [],
   "source": [
    "model = GPS(in_channels = data.x.shape[1],\\\n",
    "             hidden_channels=256,\\\n",
    "                pe_dim = 12,\\\n",
    "                  number_of_classes = len(data.y.unique()),\\\n",
    "                    number_of_nodes = data.x.shape[0],\\\n",
    "                        num_layers = 4,\\\n",
    "                          heads=2)\n",
    "model = model.to(device)\n",
    "criterion = nn.CrossEntropyLoss()\n",
    "optimizer = AdamP(model.parameters(), lr=0.0001, weight_decay=5e-4)"
   ]
  },
  {
   "cell_type": "code",
   "execution_count": 11,
   "metadata": {},
   "outputs": [
    {
     "data": {
      "text/plain": [
       "4362822"
      ]
     },
     "execution_count": 11,
     "metadata": {},
     "output_type": "execute_result"
    }
   ],
   "source": [
    "get_n_params(model)"
   ]
  },
  {
   "cell_type": "code",
   "execution_count": 12,
   "metadata": {},
   "outputs": [],
   "source": [
    "def train_model(model, data:torch_geometric.data.data.Data, optimizer, criterion):\n",
    "    model.train()\n",
    "    optimizer.zero_grad()    \n",
    "    out = model(data.x, data.RWPE, data.edge_index)\n",
    "    loss = criterion(out[data.train_mask], data.y[data.train_mask])\n",
    "    loss.backward()\n",
    "    optimizer.step()\n",
    "    pred = out.argmax(dim=-1)\n",
    "    correct = pred[data.train_mask] == data.y[data.train_mask]\n",
    "    acc = int(correct.sum()) / int(data.train_mask.sum())\n",
    "    return loss.detach().cpu().numpy(), acc"
   ]
  },
  {
   "cell_type": "code",
   "execution_count": 13,
   "metadata": {},
   "outputs": [
    {
     "name": "stdout",
     "output_type": "stream",
     "text": [
      "Epoch: 000, Loss: 4.4344, Acc: 1.13\n",
      "Epoch: 001, Loss: 4.3433, Acc: 1.46\n",
      "Epoch: 002, Loss: 4.2725, Acc: 2.96\n",
      "Epoch: 003, Loss: 4.2156, Acc: 4.01\n",
      "Epoch: 004, Loss: 4.1704, Acc: 4.90\n",
      "Epoch: 005, Loss: 4.1339, Acc: 6.27\n",
      "Epoch: 006, Loss: 4.1035, Acc: 6.75\n",
      "Epoch: 007, Loss: 4.0766, Acc: 7.02\n",
      "Epoch: 008, Loss: 4.0532, Acc: 7.20\n",
      "Epoch: 009, Loss: 4.0312, Acc: 7.35\n",
      "Epoch: 010, Loss: 4.0112, Acc: 7.51\n",
      "Epoch: 011, Loss: 3.9911, Acc: 7.93\n",
      "Epoch: 012, Loss: 3.9717, Acc: 8.36\n",
      "Epoch: 013, Loss: 3.9514, Acc: 8.72\n",
      "Epoch: 014, Loss: 3.9309, Acc: 8.96\n",
      "Epoch: 015, Loss: 3.9089, Acc: 9.28\n",
      "Epoch: 016, Loss: 3.8863, Acc: 9.61\n",
      "Epoch: 017, Loss: 3.8613, Acc: 10.00\n",
      "Epoch: 018, Loss: 3.8347, Acc: 10.34\n",
      "Epoch: 019, Loss: 3.8060, Acc: 10.99\n",
      "Epoch: 020, Loss: 3.7786, Acc: 11.67\n",
      "Epoch: 021, Loss: 3.7496, Acc: 12.28\n",
      "Epoch: 022, Loss: 3.7174, Acc: 13.05\n",
      "Epoch: 023, Loss: 3.6811, Acc: 14.42\n",
      "Epoch: 024, Loss: 3.6436, Acc: 15.62\n",
      "Epoch: 025, Loss: 3.6048, Acc: 17.07\n",
      "Epoch: 026, Loss: 3.5606, Acc: 18.18\n",
      "Epoch: 027, Loss: 3.5160, Acc: 19.33\n",
      "Epoch: 028, Loss: 3.4703, Acc: 20.56\n",
      "Epoch: 029, Loss: 3.4208, Acc: 21.78\n",
      "Epoch: 030, Loss: 3.3669, Acc: 22.77\n",
      "Epoch: 031, Loss: 3.3130, Acc: 24.03\n",
      "Epoch: 032, Loss: 3.2572, Acc: 25.28\n",
      "Epoch: 033, Loss: 3.1982, Acc: 26.20\n",
      "Epoch: 034, Loss: 3.1376, Acc: 27.99\n",
      "Epoch: 035, Loss: 3.0787, Acc: 29.15\n",
      "Epoch: 036, Loss: 3.0106, Acc: 31.05\n",
      "Epoch: 037, Loss: 2.9436, Acc: 32.90\n",
      "Epoch: 038, Loss: 2.8761, Acc: 34.71\n",
      "Epoch: 039, Loss: 2.8119, Acc: 36.58\n",
      "Epoch: 040, Loss: 2.7515, Acc: 38.61\n",
      "Epoch: 041, Loss: 2.6873, Acc: 40.62\n",
      "Epoch: 042, Loss: 2.6248, Acc: 42.67\n",
      "Epoch: 043, Loss: 2.5659, Acc: 44.56\n",
      "Epoch: 044, Loss: 2.5105, Acc: 46.08\n",
      "Epoch: 045, Loss: 2.4371, Acc: 48.21\n",
      "Epoch: 046, Loss: 2.3795, Acc: 50.48\n",
      "Epoch: 047, Loss: 2.3151, Acc: 52.10\n",
      "Epoch: 048, Loss: 2.2577, Acc: 53.37\n",
      "Epoch: 049, Loss: 2.1961, Acc: 55.41\n",
      "Epoch: 050, Loss: 2.1321, Acc: 56.98\n",
      "Epoch: 051, Loss: 2.0801, Acc: 57.64\n",
      "Epoch: 052, Loss: 2.0248, Acc: 59.89\n",
      "Epoch: 053, Loss: 1.9658, Acc: 61.04\n",
      "Epoch: 054, Loss: 1.9116, Acc: 62.29\n",
      "Epoch: 055, Loss: 1.8563, Acc: 63.82\n",
      "Epoch: 056, Loss: 1.8085, Acc: 65.00\n",
      "Epoch: 057, Loss: 1.7521, Acc: 66.64\n",
      "Epoch: 058, Loss: 1.7037, Acc: 68.09\n",
      "Epoch: 059, Loss: 1.6556, Acc: 68.91\n",
      "Epoch: 060, Loss: 1.6071, Acc: 70.75\n",
      "Epoch: 061, Loss: 1.5691, Acc: 71.11\n",
      "Epoch: 062, Loss: 1.5223, Acc: 72.61\n",
      "Epoch: 063, Loss: 1.4811, Acc: 73.14\n",
      "Epoch: 064, Loss: 1.4324, Acc: 74.37\n",
      "Epoch: 065, Loss: 1.3872, Acc: 75.61\n",
      "Epoch: 066, Loss: 1.3475, Acc: 76.89\n",
      "Epoch: 067, Loss: 1.3034, Acc: 77.65\n",
      "Epoch: 068, Loss: 1.2664, Acc: 78.24\n",
      "Epoch: 069, Loss: 1.2272, Acc: 79.27\n",
      "Epoch: 070, Loss: 1.1885, Acc: 80.48\n",
      "Epoch: 071, Loss: 1.1523, Acc: 81.38\n",
      "Epoch: 072, Loss: 1.1145, Acc: 82.05\n",
      "Epoch: 073, Loss: 1.0820, Acc: 82.97\n",
      "Epoch: 074, Loss: 1.0461, Acc: 83.72\n",
      "Epoch: 075, Loss: 1.0168, Acc: 84.30\n",
      "Epoch: 076, Loss: 0.9866, Acc: 85.16\n",
      "Epoch: 077, Loss: 0.9618, Acc: 85.67\n",
      "Epoch: 078, Loss: 0.9513, Acc: 85.48\n",
      "Epoch: 079, Loss: 0.9032, Acc: 86.61\n",
      "Epoch: 080, Loss: 0.8760, Acc: 87.47\n",
      "Epoch: 081, Loss: 0.8500, Acc: 87.75\n",
      "Epoch: 082, Loss: 0.8201, Acc: 88.36\n",
      "Epoch: 083, Loss: 0.7942, Acc: 89.25\n",
      "Epoch: 084, Loss: 0.7686, Acc: 89.71\n",
      "Epoch: 085, Loss: 0.7475, Acc: 90.10\n",
      "Epoch: 086, Loss: 0.7165, Acc: 90.97\n",
      "Epoch: 087, Loss: 0.6950, Acc: 91.43\n",
      "Epoch: 088, Loss: 0.6719, Acc: 91.89\n",
      "Epoch: 089, Loss: 0.6456, Acc: 92.37\n",
      "Epoch: 090, Loss: 0.6287, Acc: 92.77\n",
      "Epoch: 091, Loss: 0.6027, Acc: 93.33\n",
      "Epoch: 092, Loss: 0.5861, Acc: 93.63\n",
      "Epoch: 093, Loss: 0.5638, Acc: 94.04\n",
      "Epoch: 094, Loss: 0.5462, Acc: 94.30\n",
      "Epoch: 095, Loss: 0.5271, Acc: 94.86\n",
      "Epoch: 096, Loss: 0.5098, Acc: 95.09\n",
      "Epoch: 097, Loss: 0.4907, Acc: 95.39\n",
      "Epoch: 098, Loss: 0.4761, Acc: 95.65\n",
      "Epoch: 099, Loss: 0.4579, Acc: 96.11\n",
      "Epoch: 100, Loss: 0.4439, Acc: 96.35\n",
      "Epoch: 101, Loss: 0.4268, Acc: 96.51\n",
      "Epoch: 102, Loss: 0.4137, Acc: 96.70\n",
      "Epoch: 103, Loss: 0.3985, Acc: 97.05\n",
      "Epoch: 104, Loss: 0.3857, Acc: 97.28\n",
      "Epoch: 105, Loss: 0.3710, Acc: 97.53\n",
      "Epoch: 106, Loss: 0.3596, Acc: 97.70\n",
      "Epoch: 107, Loss: 0.3461, Acc: 97.94\n",
      "Epoch: 108, Loss: 0.3353, Acc: 98.04\n",
      "Epoch: 109, Loss: 0.3229, Acc: 98.30\n",
      "Epoch: 110, Loss: 0.3125, Acc: 98.43\n",
      "Epoch: 111, Loss: 0.3008, Acc: 98.58\n",
      "Epoch: 112, Loss: 0.2916, Acc: 98.71\n",
      "Epoch: 113, Loss: 0.2808, Acc: 98.82\n",
      "Epoch: 114, Loss: 0.2719, Acc: 98.93\n",
      "Epoch: 115, Loss: 0.2624, Acc: 99.04\n",
      "Epoch: 116, Loss: 0.2534, Acc: 99.15\n",
      "Epoch: 117, Loss: 0.2447, Acc: 99.28\n",
      "Epoch: 118, Loss: 0.2367, Acc: 99.36\n",
      "Epoch: 119, Loss: 0.2287, Acc: 99.41\n",
      "Epoch: 120, Loss: 0.2215, Acc: 99.50\n",
      "Epoch: 121, Loss: 0.2134, Acc: 99.56\n",
      "Epoch: 122, Loss: 0.2067, Acc: 99.61\n",
      "Epoch: 123, Loss: 0.1998, Acc: 99.62\n",
      "Epoch: 124, Loss: 0.1935, Acc: 99.64\n",
      "Epoch: 125, Loss: 0.1871, Acc: 99.72\n",
      "Epoch: 126, Loss: 0.1811, Acc: 99.71\n",
      "Epoch: 127, Loss: 0.1752, Acc: 99.77\n",
      "Epoch: 128, Loss: 0.1698, Acc: 99.81\n",
      "Epoch: 129, Loss: 0.1644, Acc: 99.84\n",
      "Epoch: 130, Loss: 0.1594, Acc: 99.86\n",
      "Epoch: 131, Loss: 0.1545, Acc: 99.88\n",
      "Epoch: 132, Loss: 0.1499, Acc: 99.87\n",
      "Epoch: 133, Loss: 0.1453, Acc: 99.89\n",
      "Epoch: 134, Loss: 0.1409, Acc: 99.89\n",
      "Epoch: 135, Loss: 0.1369, Acc: 99.89\n",
      "Epoch: 136, Loss: 0.1328, Acc: 99.89\n",
      "Epoch: 137, Loss: 0.1289, Acc: 99.90\n",
      "Epoch: 138, Loss: 0.1253, Acc: 99.89\n",
      "Epoch: 139, Loss: 0.1217, Acc: 99.92\n",
      "Epoch: 140, Loss: 0.1182, Acc: 99.92\n",
      "Epoch: 141, Loss: 0.1151, Acc: 99.92\n",
      "Epoch: 142, Loss: 0.1121, Acc: 99.93\n",
      "Epoch: 143, Loss: 0.1090, Acc: 99.93\n",
      "Epoch: 144, Loss: 0.1062, Acc: 99.93\n",
      "Epoch: 145, Loss: 0.1033, Acc: 99.94\n",
      "Epoch: 146, Loss: 0.1007, Acc: 99.94\n",
      "Epoch: 147, Loss: 0.0981, Acc: 99.95\n",
      "Epoch: 148, Loss: 0.0957, Acc: 99.93\n",
      "Epoch: 149, Loss: 0.0933, Acc: 99.95\n",
      "Epoch: 150, Loss: 0.0910, Acc: 99.94\n",
      "Epoch: 151, Loss: 0.0889, Acc: 99.97\n",
      "Epoch: 152, Loss: 0.0867, Acc: 99.96\n",
      "Epoch: 153, Loss: 0.0848, Acc: 99.96\n",
      "Epoch: 154, Loss: 0.0828, Acc: 99.97\n",
      "Epoch: 155, Loss: 0.0809, Acc: 99.98\n",
      "Epoch: 156, Loss: 0.0790, Acc: 99.98\n",
      "Epoch: 157, Loss: 0.0773, Acc: 99.98\n",
      "Epoch: 158, Loss: 0.0757, Acc: 99.98\n",
      "Epoch: 159, Loss: 0.0740, Acc: 99.98\n",
      "Epoch: 160, Loss: 0.0726, Acc: 99.99\n",
      "Epoch: 161, Loss: 0.0710, Acc: 99.98\n",
      "Epoch: 162, Loss: 0.0695, Acc: 99.99\n",
      "Epoch: 163, Loss: 0.0681, Acc: 99.99\n",
      "Epoch: 164, Loss: 0.0667, Acc: 99.99\n",
      "Epoch: 165, Loss: 0.0655, Acc: 99.99\n",
      "Epoch: 166, Loss: 0.0642, Acc: 99.99\n",
      "Epoch: 167, Loss: 0.0629, Acc: 99.99\n",
      "Epoch: 168, Loss: 0.0617, Acc: 99.99\n",
      "Epoch: 169, Loss: 0.0605, Acc: 99.99\n",
      "Epoch: 170, Loss: 0.0594, Acc: 99.99\n",
      "Epoch: 171, Loss: 0.0584, Acc: 99.99\n",
      "Epoch: 172, Loss: 0.0573, Acc: 99.99\n",
      "Epoch: 173, Loss: 0.0563, Acc: 99.99\n",
      "Epoch: 174, Loss: 0.0554, Acc: 99.99\n",
      "Epoch: 175, Loss: 0.0544, Acc: 99.99\n",
      "Epoch: 176, Loss: 0.0534, Acc: 99.99\n",
      "Epoch: 177, Loss: 0.0525, Acc: 99.99\n",
      "Epoch: 178, Loss: 0.0517, Acc: 99.99\n",
      "Epoch: 179, Loss: 0.0508, Acc: 99.99\n",
      "Epoch: 180, Loss: 0.0500, Acc: 99.99\n",
      "Epoch: 181, Loss: 0.0492, Acc: 99.99\n",
      "Epoch: 182, Loss: 0.0484, Acc: 100.00\n",
      "Epoch: 183, Loss: 0.0476, Acc: 100.00\n",
      "Epoch: 184, Loss: 0.0469, Acc: 100.00\n",
      "Epoch: 185, Loss: 0.0462, Acc: 100.00\n",
      "Epoch: 186, Loss: 0.0454, Acc: 100.00\n",
      "Epoch: 187, Loss: 0.0448, Acc: 100.00\n",
      "Epoch: 188, Loss: 0.0441, Acc: 100.00\n",
      "Epoch: 189, Loss: 0.0435, Acc: 100.00\n",
      "Epoch: 190, Loss: 0.0428, Acc: 100.00\n",
      "Epoch: 191, Loss: 0.0422, Acc: 100.00\n",
      "Epoch: 192, Loss: 0.0416, Acc: 100.00\n",
      "Epoch: 193, Loss: 0.0410, Acc: 100.00\n",
      "Epoch: 194, Loss: 0.0404, Acc: 100.00\n",
      "Epoch: 195, Loss: 0.0398, Acc: 100.00\n",
      "Epoch: 196, Loss: 0.0394, Acc: 100.00\n",
      "Epoch: 197, Loss: 0.0388, Acc: 100.00\n",
      "Epoch: 198, Loss: 0.0382, Acc: 100.00\n",
      "Epoch: 199, Loss: 0.0377, Acc: 100.00\n",
      "Epoch: 200, Loss: 0.0372, Acc: 100.00\n",
      "Epoch: 201, Loss: 0.0368, Acc: 100.00\n",
      "Epoch: 202, Loss: 0.0363, Acc: 100.00\n",
      "Epoch: 203, Loss: 0.0359, Acc: 100.00\n",
      "Epoch: 204, Loss: 0.0354, Acc: 100.00\n",
      "Epoch: 205, Loss: 0.0349, Acc: 100.00\n",
      "Epoch: 206, Loss: 0.0345, Acc: 100.00\n",
      "Epoch: 207, Loss: 0.0341, Acc: 100.00\n",
      "Epoch: 208, Loss: 0.0337, Acc: 100.00\n",
      "Epoch: 209, Loss: 0.0333, Acc: 100.00\n",
      "Epoch: 210, Loss: 0.0328, Acc: 100.00\n",
      "Epoch: 211, Loss: 0.0325, Acc: 100.00\n",
      "Epoch: 212, Loss: 0.0321, Acc: 100.00\n",
      "Epoch: 213, Loss: 0.0317, Acc: 100.00\n"
     ]
    },
    {
     "ename": "KeyboardInterrupt",
     "evalue": "",
     "output_type": "error",
     "traceback": [
      "\u001b[0;31m---------------------------------------------------------------------------\u001b[0m",
      "\u001b[0;31mKeyboardInterrupt\u001b[0m                         Traceback (most recent call last)",
      "Cell \u001b[0;32mIn[13], line 5\u001b[0m\n\u001b[1;32m      3\u001b[0m data \u001b[39m=\u001b[39m data\u001b[39m.\u001b[39mto(device)\n\u001b[1;32m      4\u001b[0m \u001b[39mfor\u001b[39;00m epoch \u001b[39min\u001b[39;00m \u001b[39mrange\u001b[39m(\u001b[39m300\u001b[39m):\n\u001b[0;32m----> 5\u001b[0m     loss, acc \u001b[39m=\u001b[39m train_model(model, data, optimizer, criterion)\n\u001b[1;32m      6\u001b[0m     losses\u001b[39m.\u001b[39mappend(loss\u001b[39m.\u001b[39mitem())\n\u001b[1;32m      7\u001b[0m     accs\u001b[39m.\u001b[39mappend(\u001b[39m100\u001b[39m\u001b[39m*\u001b[39macc)\n",
      "Cell \u001b[0;32mIn[12], line 4\u001b[0m, in \u001b[0;36mtrain_model\u001b[0;34m(model, data, optimizer, criterion)\u001b[0m\n\u001b[1;32m      2\u001b[0m model\u001b[39m.\u001b[39mtrain()\n\u001b[1;32m      3\u001b[0m optimizer\u001b[39m.\u001b[39mzero_grad()    \n\u001b[0;32m----> 4\u001b[0m out \u001b[39m=\u001b[39m model(data\u001b[39m.\u001b[39;49mx, data\u001b[39m.\u001b[39;49mRWPE, data\u001b[39m.\u001b[39;49medge_index)\n\u001b[1;32m      5\u001b[0m loss \u001b[39m=\u001b[39m criterion(out[data\u001b[39m.\u001b[39mtrain_mask], data\u001b[39m.\u001b[39my[data\u001b[39m.\u001b[39mtrain_mask])\n\u001b[1;32m      6\u001b[0m loss\u001b[39m.\u001b[39mbackward()\n",
      "File \u001b[0;32m~/anaconda3/envs/ds503/lib/python3.10/site-packages/torch/nn/modules/module.py:1130\u001b[0m, in \u001b[0;36mModule._call_impl\u001b[0;34m(self, *input, **kwargs)\u001b[0m\n\u001b[1;32m   1126\u001b[0m \u001b[39m# If we don't have any hooks, we want to skip the rest of the logic in\u001b[39;00m\n\u001b[1;32m   1127\u001b[0m \u001b[39m# this function, and just call forward.\u001b[39;00m\n\u001b[1;32m   1128\u001b[0m \u001b[39mif\u001b[39;00m \u001b[39mnot\u001b[39;00m (\u001b[39mself\u001b[39m\u001b[39m.\u001b[39m_backward_hooks \u001b[39mor\u001b[39;00m \u001b[39mself\u001b[39m\u001b[39m.\u001b[39m_forward_hooks \u001b[39mor\u001b[39;00m \u001b[39mself\u001b[39m\u001b[39m.\u001b[39m_forward_pre_hooks \u001b[39mor\u001b[39;00m _global_backward_hooks\n\u001b[1;32m   1129\u001b[0m         \u001b[39mor\u001b[39;00m _global_forward_hooks \u001b[39mor\u001b[39;00m _global_forward_pre_hooks):\n\u001b[0;32m-> 1130\u001b[0m     \u001b[39mreturn\u001b[39;00m forward_call(\u001b[39m*\u001b[39;49m\u001b[39minput\u001b[39;49m, \u001b[39m*\u001b[39;49m\u001b[39m*\u001b[39;49mkwargs)\n\u001b[1;32m   1131\u001b[0m \u001b[39m# Do not call functions when jit is used\u001b[39;00m\n\u001b[1;32m   1132\u001b[0m full_backward_hooks, non_full_backward_hooks \u001b[39m=\u001b[39m [], []\n",
      "Cell \u001b[0;32mIn[8], line 38\u001b[0m, in \u001b[0;36mGPS.forward\u001b[0;34m(self, x, pe, edge_index)\u001b[0m\n\u001b[1;32m     36\u001b[0m h \u001b[39m=\u001b[39m \u001b[39mself\u001b[39m\u001b[39m.\u001b[39mnode_emb(x) \u001b[39m+\u001b[39m \u001b[39mself\u001b[39m\u001b[39m.\u001b[39mpe_lin(pe)\n\u001b[1;32m     37\u001b[0m \u001b[39mfor\u001b[39;00m layer \u001b[39min\u001b[39;00m \u001b[39mself\u001b[39m\u001b[39m.\u001b[39mlayers:\n\u001b[0;32m---> 38\u001b[0m     h \u001b[39m=\u001b[39m layer(h, edge_index)\n\u001b[1;32m     39\u001b[0m h \u001b[39m=\u001b[39m \u001b[39mself\u001b[39m\u001b[39m.\u001b[39mreadout(h)\n\u001b[1;32m     41\u001b[0m \u001b[39mreturn\u001b[39;00m h\n",
      "File \u001b[0;32m~/anaconda3/envs/ds503/lib/python3.10/site-packages/torch/nn/modules/module.py:1130\u001b[0m, in \u001b[0;36mModule._call_impl\u001b[0;34m(self, *input, **kwargs)\u001b[0m\n\u001b[1;32m   1126\u001b[0m \u001b[39m# If we don't have any hooks, we want to skip the rest of the logic in\u001b[39;00m\n\u001b[1;32m   1127\u001b[0m \u001b[39m# this function, and just call forward.\u001b[39;00m\n\u001b[1;32m   1128\u001b[0m \u001b[39mif\u001b[39;00m \u001b[39mnot\u001b[39;00m (\u001b[39mself\u001b[39m\u001b[39m.\u001b[39m_backward_hooks \u001b[39mor\u001b[39;00m \u001b[39mself\u001b[39m\u001b[39m.\u001b[39m_forward_hooks \u001b[39mor\u001b[39;00m \u001b[39mself\u001b[39m\u001b[39m.\u001b[39m_forward_pre_hooks \u001b[39mor\u001b[39;00m _global_backward_hooks\n\u001b[1;32m   1129\u001b[0m         \u001b[39mor\u001b[39;00m _global_forward_hooks \u001b[39mor\u001b[39;00m _global_forward_pre_hooks):\n\u001b[0;32m-> 1130\u001b[0m     \u001b[39mreturn\u001b[39;00m forward_call(\u001b[39m*\u001b[39;49m\u001b[39minput\u001b[39;49m, \u001b[39m*\u001b[39;49m\u001b[39m*\u001b[39;49mkwargs)\n\u001b[1;32m   1131\u001b[0m \u001b[39m# Do not call functions when jit is used\u001b[39;00m\n\u001b[1;32m   1132\u001b[0m full_backward_hooks, non_full_backward_hooks \u001b[39m=\u001b[39m [], []\n",
      "File \u001b[0;32m~/anaconda3/envs/ds503/lib/python3.10/site-packages/torch_geometric/nn/conv/gps_conv.py:140\u001b[0m, in \u001b[0;36mGPSConv.forward\u001b[0;34m(self, x, edge_index, batch, **kwargs)\u001b[0m\n\u001b[1;32m    138\u001b[0m h, _ \u001b[39m=\u001b[39m \u001b[39mself\u001b[39m\u001b[39m.\u001b[39mattn(h, h, h, key_padding_mask\u001b[39m=\u001b[39m\u001b[39m~\u001b[39mmask, need_weights\u001b[39m=\u001b[39m\u001b[39mFalse\u001b[39;00m)\n\u001b[1;32m    139\u001b[0m h \u001b[39m=\u001b[39m h[mask]\n\u001b[0;32m--> 140\u001b[0m h \u001b[39m=\u001b[39m F\u001b[39m.\u001b[39;49mdropout(h, p\u001b[39m=\u001b[39;49m\u001b[39mself\u001b[39;49m\u001b[39m.\u001b[39;49mdropout, training\u001b[39m=\u001b[39;49m\u001b[39mself\u001b[39;49m\u001b[39m.\u001b[39;49mtraining)\n\u001b[1;32m    141\u001b[0m h \u001b[39m=\u001b[39m h \u001b[39m+\u001b[39m x  \u001b[39m# Residual connection.\u001b[39;00m\n\u001b[1;32m    142\u001b[0m \u001b[39mif\u001b[39;00m \u001b[39mself\u001b[39m\u001b[39m.\u001b[39mnorm2 \u001b[39mis\u001b[39;00m \u001b[39mnot\u001b[39;00m \u001b[39mNone\u001b[39;00m:\n",
      "File \u001b[0;32m~/anaconda3/envs/ds503/lib/python3.10/site-packages/torch/nn/functional.py:1235\u001b[0m, in \u001b[0;36mdropout\u001b[0;34m(input, p, training, inplace)\u001b[0m\n\u001b[1;32m   1231\u001b[0m     \u001b[39mreturn\u001b[39;00m torch\u001b[39m.\u001b[39m_C\u001b[39m.\u001b[39m_nn\u001b[39m.\u001b[39madaptive_avg_pool3d(\u001b[39minput\u001b[39m, _output_size)\n\u001b[1;32m   1234\u001b[0m \u001b[39m# Activation functions\u001b[39;00m\n\u001b[0;32m-> 1235\u001b[0m \u001b[39mdef\u001b[39;00m \u001b[39mdropout\u001b[39m(\u001b[39minput\u001b[39m: Tensor, p: \u001b[39mfloat\u001b[39m \u001b[39m=\u001b[39m \u001b[39m0.5\u001b[39m, training: \u001b[39mbool\u001b[39m \u001b[39m=\u001b[39m \u001b[39mTrue\u001b[39;00m, inplace: \u001b[39mbool\u001b[39m \u001b[39m=\u001b[39m \u001b[39mFalse\u001b[39;00m) \u001b[39m-\u001b[39m\u001b[39m>\u001b[39m Tensor:\n\u001b[1;32m   1236\u001b[0m \u001b[39m    \u001b[39m\u001b[39mr\u001b[39m\u001b[39m\"\"\"\u001b[39;00m\n\u001b[1;32m   1237\u001b[0m \u001b[39m    During training, randomly zeroes some of the elements of the input\u001b[39;00m\n\u001b[1;32m   1238\u001b[0m \u001b[39m    tensor with probability :attr:`p` using samples from a Bernoulli\u001b[39;00m\n\u001b[0;32m   (...)\u001b[0m\n\u001b[1;32m   1246\u001b[0m \u001b[39m        inplace: If set to ``True``, will do this operation in-place. Default: ``False``\u001b[39;00m\n\u001b[1;32m   1247\u001b[0m \u001b[39m    \"\"\"\u001b[39;00m\n\u001b[1;32m   1248\u001b[0m     \u001b[39mif\u001b[39;00m has_torch_function_unary(\u001b[39minput\u001b[39m):\n",
      "\u001b[0;31mKeyboardInterrupt\u001b[0m: "
     ]
    }
   ],
   "source": [
    "losses = []\n",
    "accs = []\n",
    "data = data.to(device)\n",
    "for epoch in range(300):\n",
    "    loss, acc = train_model(model, data, optimizer, criterion)\n",
    "    losses.append(loss.item())\n",
    "    accs.append(100*acc)\n",
    "    print(f'Epoch: {epoch:03d}, Loss: {loss:.4f}, Acc: {100*acc:.2f}')"
   ]
  },
  {
   "cell_type": "code",
   "execution_count": 14,
   "metadata": {},
   "outputs": [
    {
     "data": {
      "text/plain": [
       "[<matplotlib.lines.Line2D at 0x7f2a25757850>]"
      ]
     },
     "execution_count": 14,
     "metadata": {},
     "output_type": "execute_result"
    },
    {
     "data": {
      "image/png": "[encoded data removed]",
      "text/plain": [
       "<Figure size 640x480 with 1 Axes>"
      ]
     },
     "metadata": {},
     "output_type": "display_data"
    }
   ],
   "source": [
    "plt.plot(accs)"
   ]
  },
  {
   "cell_type": "code",
   "execution_count": 15,
   "metadata": {},
   "outputs": [
    {
     "data": {
      "text/plain": [
       "[<matplotlib.lines.Line2D at 0x7f2a2532d840>]"
      ]
     },
     "execution_count": 15,
     "metadata": {},
     "output_type": "execute_result"
    },
    {
     "data": {
      "image/png": "[encoded data removed]",
      "text/plain": [
       "<Figure size 640x480 with 1 Axes>"
      ]
     },
     "metadata": {},
     "output_type": "display_data"
    }
   ],
   "source": [
    "plt.plot(losses)"
   ]
  },
  {
   "cell_type": "code",
   "execution_count": 16,
   "metadata": {},
   "outputs": [],
   "source": [
    "model.eval()\n",
    "out = model(data.x, data.RWPE, data.edge_index)\n",
    "pred = out.argmax(dim=-1)\n",
    "report = pd.DataFrame(classification_report(data.y[~data.train_mask.cpu()].cpu(), pred[~data.train_mask.cpu()].cpu(), output_dict=True)).T"
   ]
  },
  {
   "cell_type": "code",
   "execution_count": 17,
   "metadata": {},
   "outputs": [
    {
     "name": "stdout",
     "output_type": "stream",
     "text": [
      "Test Acc: 62.41579914268218\n"
     ]
    }
   ],
   "source": [
    "result_sliced = report.iloc[:-3 if len(report) < 23 else 20, :]\n",
    "acc = report.loc['accuracy'][0]\n",
    "report.loc['minorities-f1',:] = result_sliced.mean(axis=0)\n",
    "print(f'Test Acc: {100*acc}')"
   ]
  },
  {
   "cell_type": "code",
   "execution_count": 23,
   "metadata": {},
   "outputs": [
    {
     "data": {
      "text/html": [
       "<div>\n",
       "<style scoped>\n",
       "    .dataframe tbody tr th:only-of-type {\n",
       "        vertical-align: middle;\n",
       "    }\n",
       "\n",
       "    .dataframe tbody tr th {\n",
       "        vertical-align: top;\n",
       "    }\n",
       "\n",
       "    .dataframe thead th {\n",
       "        text-align: right;\n",
       "    }\n",
       "</style>\n",
       "<table border=\"1\" class=\"dataframe\">\n",
       "  <thead>\n",
       "    <tr style=\"text-align: right;\">\n",
       "      <th></th>\n",
       "      <th>precision</th>\n",
       "      <th>recall</th>\n",
       "      <th>f1-score</th>\n",
       "      <th>support</th>\n",
       "    </tr>\n",
       "  </thead>\n",
       "  <tbody>\n",
       "    <tr>\n",
       "      <th>0</th>\n",
       "      <td>0.803279</td>\n",
       "      <td>0.576471</td>\n",
       "      <td>0.671233</td>\n",
       "      <td>85.000000</td>\n",
       "    </tr>\n",
       "    <tr>\n",
       "      <th>1</th>\n",
       "      <td>0.636364</td>\n",
       "      <td>0.411765</td>\n",
       "      <td>0.500000</td>\n",
       "      <td>17.000000</td>\n",
       "    </tr>\n",
       "    <tr>\n",
       "      <th>2</th>\n",
       "      <td>0.587629</td>\n",
       "      <td>0.712500</td>\n",
       "      <td>0.644068</td>\n",
       "      <td>80.000000</td>\n",
       "    </tr>\n",
       "    <tr>\n",
       "      <th>3</th>\n",
       "      <td>0.839080</td>\n",
       "      <td>0.584000</td>\n",
       "      <td>0.688679</td>\n",
       "      <td>125.000000</td>\n",
       "    </tr>\n",
       "    <tr>\n",
       "      <th>4</th>\n",
       "      <td>0.545455</td>\n",
       "      <td>0.857143</td>\n",
       "      <td>0.666667</td>\n",
       "      <td>21.000000</td>\n",
       "    </tr>\n",
       "    <tr>\n",
       "      <th>...</th>\n",
       "      <td>...</td>\n",
       "      <td>...</td>\n",
       "      <td>...</td>\n",
       "      <td>...</td>\n",
       "    </tr>\n",
       "    <tr>\n",
       "      <th>69</th>\n",
       "      <td>0.700000</td>\n",
       "      <td>0.700000</td>\n",
       "      <td>0.700000</td>\n",
       "      <td>10.000000</td>\n",
       "    </tr>\n",
       "    <tr>\n",
       "      <th>accuracy</th>\n",
       "      <td>0.624158</td>\n",
       "      <td>0.624158</td>\n",
       "      <td>0.624158</td>\n",
       "      <td>0.624158</td>\n",
       "    </tr>\n",
       "    <tr>\n",
       "      <th>macro avg</th>\n",
       "      <td>0.611234</td>\n",
       "      <td>0.568290</td>\n",
       "      <td>0.573512</td>\n",
       "      <td>6532.000000</td>\n",
       "    </tr>\n",
       "    <tr>\n",
       "      <th>weighted avg</th>\n",
       "      <td>0.652875</td>\n",
       "      <td>0.624158</td>\n",
       "      <td>0.623947</td>\n",
       "      <td>6532.000000</td>\n",
       "    </tr>\n",
       "    <tr>\n",
       "      <th>minorities-f1</th>\n",
       "      <td>0.653235</td>\n",
       "      <td>0.604169</td>\n",
       "      <td>0.614724</td>\n",
       "      <td>85.100000</td>\n",
       "    </tr>\n",
       "  </tbody>\n",
       "</table>\n",
       "<p>74 rows × 4 columns</p>\n",
       "</div>"
      ],
      "text/plain": [
       "               precision    recall  f1-score      support\n",
       "0               0.803279  0.576471  0.671233    85.000000\n",
       "1               0.636364  0.411765  0.500000    17.000000\n",
       "2               0.587629  0.712500  0.644068    80.000000\n",
       "3               0.839080  0.584000  0.688679   125.000000\n",
       "4               0.545455  0.857143  0.666667    21.000000\n",
       "...                  ...       ...       ...          ...\n",
       "69              0.700000  0.700000  0.700000    10.000000\n",
       "accuracy        0.624158  0.624158  0.624158     0.624158\n",
       "macro avg       0.611234  0.568290  0.573512  6532.000000\n",
       "weighted avg    0.652875  0.624158  0.623947  6532.000000\n",
       "minorities-f1   0.653235  0.604169  0.614724    85.100000\n",
       "\n",
       "[74 rows x 4 columns]"
      ]
     },
     "execution_count": 23,
     "metadata": {},
     "output_type": "execute_result"
    }
   ],
   "source": [
    "report"
   ]
  },
  {
   "cell_type": "code",
   "execution_count": 24,
   "metadata": {},
   "outputs": [],
   "source": [
    "#GraphSAGE_layers4_neurons256\n",
    "report.to_csv(\"/home/sujin/sujin/ds503/results/GPS_layers4_neurons256_SAGE_RWPE.csv\")"
   ]
  },
  {
   "cell_type": "code",
   "execution_count": 25,
   "metadata": {},
   "outputs": [],
   "source": [
    "train_res_loss = pd.DataFrame({'GPS_layers4_neurons256_SAGE_RWPE' : losses})\n",
    "train_res_loss.to_csv('./results/train_results/GPS_layers4_neurons256_SAGE_RWPE_loss.csv', index=False)"
   ]
  },
  {
   "cell_type": "code",
   "execution_count": 26,
   "metadata": {},
   "outputs": [],
   "source": [
    "train_res_acc = pd.DataFrame({'GPS_layers4_neurons256_RWPE' : accs})\n",
    "train_res_acc.to_csv('./results/train_results/GPS_layers4_neurons256_SAGE_RWPE_acc.csv', index=False)"
   ]
  },
  {
   "cell_type": "code",
   "execution_count": null,
   "metadata": {},
   "outputs": [],
   "source": []
  },
  {
   "cell_type": "code",
   "execution_count": null,
   "metadata": {},
   "outputs": [],
   "source": []
  }
 ],
 "metadata": {
  "kernelspec": {
   "display_name": "ds503",
   "language": "python",
   "name": "ds503"
  },
  "language_info": {
   "codemirror_mode": {
    "name": "ipython",
    "version": 3
   },
   "file_extension": ".py",
   "mimetype": "text/x-python",
   "name": "python",
   "nbconvert_exporter": "python",
   "pygments_lexer": "ipython3",
   "version": "3.10.11"
  },
  "orig_nbformat": 4
 },
 "nbformat": 4,
 "nbformat_minor": 2
}
