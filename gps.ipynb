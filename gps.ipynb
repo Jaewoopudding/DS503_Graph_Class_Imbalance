{
 "cells": [
  {
   "cell_type": "code",
   "execution_count": 9,
   "metadata": {},
   "outputs": [
    {
     "data": {
      "text/plain": [
       "device(type='cuda', index=0)"
      ]
     },
     "execution_count": 9,
     "metadata": {},
     "output_type": "execute_result"
    }
   ],
   "source": [
    "import os\n",
    "import random\n",
    "\n",
    "import numpy as np\n",
    "import pandas as pd\n",
    "import matplotlib.pyplot as plt\n",
    "from sklearn.model_selection import train_test_split\n",
    "from sklearn.metrics import f1_score\n",
    "from sklearn.metrics import classification_report\n",
    "\n",
    "import torch\n",
    "import torch.nn as nn\n",
    "import torch.nn.functional as F\n",
    "\n",
    "import torch_geometric\n",
    "from torch_geometric.datasets import CoraFull, Planetoid, CitationFull\n",
    "import torch_geometric.nn as gnn \n",
    "import torch_geometric.transforms as T\n",
    "\n",
    "#from models import GPS\n",
    "#from utils import test_model\n",
    "\n",
    "torch.manual_seed(42)\n",
    "torch.cuda.manual_seed(42)\n",
    "np.random.seed(42)\n",
    "random.seed(42)\n",
    "torch.backends.cudnn.deterministic = True\n",
    "torch.backends.cudnn.benchmark = False\n",
    "\n",
    "device = torch.device(\"cuda:0\" if torch.cuda.is_available() else \"cpu\")\n",
    "device"
   ]
  },
  {
   "cell_type": "code",
   "execution_count": 2,
   "metadata": {},
   "outputs": [],
   "source": [
    "transform = T.Compose([T.NormalizeFeatures(), T.AddRandomWalkPE(16, 'RWPE')])\n",
    "dataset = CitationFull(root='dataset/CoraML', name='Cora_ML', transform=transform)"
   ]
  },
  {
   "cell_type": "code",
   "execution_count": null,
   "metadata": {},
   "outputs": [
    {
     "ename": "",
     "evalue": "",
     "output_type": "error",
     "traceback": [
      "\u001b[1;31mnotebook controller is DISPOSED. \n",
      "\u001b[1;31m자세한 내용은 Jupyter <a href='command:jupyter.viewOutput'>로그</a>를 참조하세요."
     ]
    },
    {
     "ename": "",
     "evalue": "",
     "output_type": "error",
     "traceback": [
      "\u001b[1;31mnotebook controller is DISPOSED. \n",
      "\u001b[1;31m자세한 내용은 Jupyter <a href='command:jupyter.viewOutput'>로그</a>를 참조하세요."
     ]
    }
   ],
   "source": [
    "#transform = T.Compose([T.NormalizeFeatures(), T.AddRandomWalkPE(16, 'RWPE')])"
   ]
  },
  {
   "cell_type": "code",
   "execution_count": null,
   "metadata": {},
   "outputs": [
    {
     "ename": "",
     "evalue": "",
     "output_type": "error",
     "traceback": [
      "\u001b[1;31mnotebook controller is DISPOSED. \n",
      "\u001b[1;31m자세한 내용은 Jupyter <a href='command:jupyter.viewOutput'>로그</a>를 참조하세요."
     ]
    }
   ],
   "source": [
    "#dataset = CitationFull(root='dataset/Cora', name='Cora', transform=transform)"
   ]
  },
  {
   "cell_type": "code",
   "execution_count": 2,
   "metadata": {},
   "outputs": [],
   "source": [
    "#dataset = torch.load(\"/home/sujin/project/DS503/ds503/dataset/Cora/cora/RandomWalkPE.pt\")"
   ]
  },
  {
   "cell_type": "code",
   "execution_count": 3,
   "metadata": {},
   "outputs": [
    {
     "data": {
      "text/plain": [
       "Cora_mlFull()"
      ]
     },
     "execution_count": 3,
     "metadata": {},
     "output_type": "execute_result"
    }
   ],
   "source": [
    "dataset"
   ]
  },
  {
   "cell_type": "code",
   "execution_count": 4,
   "metadata": {},
   "outputs": [],
   "source": [
    "data = dataset[0]\n",
    "df = pd.DataFrame(data.x.cpu())\n",
    "df['y'] = data.y.cpu()\n",
    "train, valid = train_test_split(df, stratify=df.y, test_size=0.33)\n",
    "data.train_mask = torch.zeros(data.num_nodes, dtype=torch.bool)\n",
    "data.train_mask[train.index]=True\n",
    "data = data.to(device)"
   ]
  },
  {
   "cell_type": "code",
   "execution_count": 5,
   "metadata": {},
   "outputs": [],
   "source": [
    "import random\n",
    "import numpy as np\n",
    "\n",
    "import torch\n",
    "import torch.nn as nn\n",
    "\n",
    "import torch_geometric.nn as gnn \n",
    "\n",
    "import torch\n",
    "from torch.nn import Embedding, Linear, ModuleList, ReLU, Sequential\n",
    "from torch_geometric.nn.conv import GINConv, GPSConv\n",
    "\n",
    "class GPS(torch.nn.Module):\n",
    "    def __init__(self, in_channels, hidden_channels, pe_dim, number_of_classes, number_of_nodes, num_layers, heads=8, device = 'cuda:0'):\n",
    "        super().__init__()\n",
    "\n",
    "        self.in_channels = in_channels\n",
    "        self.hidden_channels = hidden_channels\n",
    "        self.pe_dim = pe_dim\n",
    "        self.number_of_classes = number_of_classes\n",
    "        self.number_of_nodes = number_of_nodes\n",
    "        self.num_layers = num_layers\n",
    "        self.heads=heads\n",
    "        self.model = self.build_model().to(device)\n",
    "\n",
    "    def forward(self, x, pe, edge_index):\n",
    "        x = self.node_emb(x) + self.pe_lin(pe)\n",
    "        return self.model(x, edge_index)\n",
    "    \n",
    "    def build_model(self):\n",
    "        \n",
    "        self.node_emb = Linear(self.in_channels, self.hidden_channels).to(device)\n",
    "        self.pe_lin = Linear(self.pe_dim, self.hidden_channels).to(device)\n",
    "\n",
    "        layers = []\n",
    "        for _ in range(self.num_layers):\n",
    "            net = Sequential(\n",
    "                Linear(self.hidden_channels, self.hidden_channels),\n",
    "                ReLU(),\n",
    "                Linear(self.hidden_channels, self.hidden_channels),\n",
    "            ).to(device)\n",
    "            \n",
    "            conv = GPSConv(channels = self.hidden_channels, conv = GINConv(net), heads=self.heads, attn_dropout=0.5)\n",
    "            layers.append((conv,'x, edge_index -> x'))\n",
    "\n",
    "        layers.append((Linear(self.hidden_channels, self.number_of_classes),'x -> x'))\n",
    "        print(layers)\n",
    "\n",
    "        return gnn.Sequential('x, edge_index', layers)\n",
    "    \n",
    "        \n",
    "    def get_n_params(self):\n",
    "        pp=0\n",
    "        for p in list(self.model.parameters()):\n",
    "            nn=1\n",
    "            for s in list(p.size()):\n",
    "                nn = nn*s\n",
    "            pp += nn\n",
    "        return pp"
   ]
  },
  {
   "cell_type": "code",
   "execution_count": 6,
   "metadata": {},
   "outputs": [
    {
     "name": "stdout",
     "output_type": "stream",
     "text": [
      "[(GPSConv(128, conv=GINConv(nn=Sequential(\n",
      "  (0): Linear(in_features=128, out_features=128, bias=True)\n",
      "  (1): ReLU()\n",
      "  (2): Linear(in_features=128, out_features=128, bias=True)\n",
      ")), heads=8), 'x, edge_index -> x'), (GPSConv(128, conv=GINConv(nn=Sequential(\n",
      "  (0): Linear(in_features=128, out_features=128, bias=True)\n",
      "  (1): ReLU()\n",
      "  (2): Linear(in_features=128, out_features=128, bias=True)\n",
      ")), heads=8), 'x, edge_index -> x'), (GPSConv(128, conv=GINConv(nn=Sequential(\n",
      "  (0): Linear(in_features=128, out_features=128, bias=True)\n",
      "  (1): ReLU()\n",
      "  (2): Linear(in_features=128, out_features=128, bias=True)\n",
      ")), heads=8), 'x, edge_index -> x'), (GPSConv(128, conv=GINConv(nn=Sequential(\n",
      "  (0): Linear(in_features=128, out_features=128, bias=True)\n",
      "  (1): ReLU()\n",
      "  (2): Linear(in_features=128, out_features=128, bias=True)\n",
      ")), heads=8), 'x, edge_index -> x'), (GPSConv(128, conv=GINConv(nn=Sequential(\n",
      "  (0): Linear(in_features=128, out_features=128, bias=True)\n",
      "  (1): ReLU()\n",
      "  (2): Linear(in_features=128, out_features=128, bias=True)\n",
      ")), heads=8), 'x, edge_index -> x'), (Linear(in_features=128, out_features=7, bias=True), 'x -> x')]\n",
      "829703\n"
     ]
    }
   ],
   "source": [
    "model = GPS(in_channels = data.x.shape[1],\\\n",
    "             hidden_channels=128,\\\n",
    "                pe_dim = 16,\\\n",
    "                  number_of_classes = len(data.y.unique()),\\\n",
    "                    number_of_nodes = data.x.shape[0],\\\n",
    "                        num_layers = 5,\\\n",
    "                          heads=8,\\\n",
    "                              device=\"cuda:0\")\n",
    "print(model.get_n_params())\n",
    "criterion = nn.CrossEntropyLoss()\n",
    "optimizer = torch.optim.Adam(model.parameters(), lr=0.001, weight_decay=5e-4)"
   ]
  },
  {
   "cell_type": "code",
   "execution_count": 7,
   "metadata": {},
   "outputs": [],
   "source": [
    "def train_model(model, data:torch_geometric.data.data.Data, optimizer, criterion):\n",
    "    model.train()\n",
    "    optimizer.zero_grad()\n",
    "    out = model(data.x, data.RWPE, data.edge_index)\n",
    "    loss = criterion(out[data.train_mask], data.y[data.train_mask])\n",
    "    loss.backward()\n",
    "    optimizer.step()\n",
    "    pred = out.argmax(dim=-1)\n",
    "    correct = pred[data.train_mask] == data.y[data.train_mask]\n",
    "    acc = int(correct.sum()) / int(data.train_mask.sum())\n",
    "    return loss"
   ]
  },
  {
   "cell_type": "code",
   "execution_count": 8,
   "metadata": {},
   "outputs": [
    {
     "name": "stdout",
     "output_type": "stream",
     "text": [
      "Epoch: 000, Loss: 1.9235\n",
      "Epoch: 001, Loss: 1.7321\n",
      "Epoch: 002, Loss: 1.6353\n",
      "Epoch: 003, Loss: 1.5848\n",
      "Epoch: 004, Loss: 1.5152\n",
      "Epoch: 005, Loss: 1.4817\n",
      "Epoch: 006, Loss: 1.4486\n",
      "Epoch: 007, Loss: 1.4140\n",
      "Epoch: 008, Loss: 1.3784\n",
      "Epoch: 009, Loss: 1.3555\n",
      "Epoch: 010, Loss: 1.3399\n",
      "Epoch: 011, Loss: 1.3187\n",
      "Epoch: 012, Loss: 1.2867\n",
      "Epoch: 013, Loss: 1.2666\n",
      "Epoch: 014, Loss: 1.2311\n",
      "Epoch: 015, Loss: 1.2034\n",
      "Epoch: 016, Loss: 1.1706\n",
      "Epoch: 017, Loss: 1.1418\n",
      "Epoch: 018, Loss: 1.1227\n",
      "Epoch: 019, Loss: 1.0895\n",
      "Epoch: 020, Loss: 1.0600\n",
      "Epoch: 021, Loss: 1.0222\n",
      "Epoch: 022, Loss: 0.9788\n",
      "Epoch: 023, Loss: 0.9479\n",
      "Epoch: 024, Loss: 0.9333\n",
      "Epoch: 025, Loss: 0.8727\n",
      "Epoch: 026, Loss: 0.8685\n",
      "Epoch: 027, Loss: 0.8361\n",
      "Epoch: 028, Loss: 0.7886\n",
      "Epoch: 029, Loss: 0.7710\n",
      "Epoch: 030, Loss: 0.7169\n",
      "Epoch: 031, Loss: 0.7170\n",
      "Epoch: 032, Loss: 0.6785\n",
      "Epoch: 033, Loss: 0.6488\n",
      "Epoch: 034, Loss: 0.6212\n",
      "Epoch: 035, Loss: 0.6078\n",
      "Epoch: 036, Loss: 0.5763\n",
      "Epoch: 037, Loss: 0.5646\n",
      "Epoch: 038, Loss: 0.5262\n",
      "Epoch: 039, Loss: 0.5014\n",
      "Epoch: 040, Loss: 0.4845\n",
      "Epoch: 041, Loss: 0.4506\n",
      "Epoch: 042, Loss: 0.4524\n",
      "Epoch: 043, Loss: 0.4180\n",
      "Epoch: 044, Loss: 0.3985\n",
      "Epoch: 045, Loss: 0.3717\n",
      "Epoch: 046, Loss: 0.3526\n",
      "Epoch: 047, Loss: 0.3408\n",
      "Epoch: 048, Loss: 0.3212\n",
      "Epoch: 049, Loss: 0.3185\n",
      "Epoch: 050, Loss: 0.3007\n",
      "Epoch: 051, Loss: 0.2793\n",
      "Epoch: 052, Loss: 0.2578\n",
      "Epoch: 053, Loss: 0.2402\n",
      "Epoch: 054, Loss: 0.2256\n",
      "Epoch: 055, Loss: 0.2123\n",
      "Epoch: 056, Loss: 0.2125\n",
      "Epoch: 057, Loss: 0.2092\n",
      "Epoch: 058, Loss: 0.1828\n",
      "Epoch: 059, Loss: 0.1627\n",
      "Epoch: 060, Loss: 0.1513\n",
      "Epoch: 061, Loss: 0.1459\n",
      "Epoch: 062, Loss: 0.1285\n",
      "Epoch: 063, Loss: 0.1262\n",
      "Epoch: 064, Loss: 0.1071\n",
      "Epoch: 065, Loss: 0.0983\n",
      "Epoch: 066, Loss: 0.0950\n",
      "Epoch: 067, Loss: 0.0836\n",
      "Epoch: 068, Loss: 0.0727\n",
      "Epoch: 069, Loss: 0.0748\n",
      "Epoch: 070, Loss: 0.0666\n",
      "Epoch: 071, Loss: 0.0532\n",
      "Epoch: 072, Loss: 0.0504\n",
      "Epoch: 073, Loss: 0.0485\n",
      "Epoch: 074, Loss: 0.0399\n",
      "Epoch: 075, Loss: 0.0409\n",
      "Epoch: 076, Loss: 0.0327\n",
      "Epoch: 077, Loss: 0.0327\n",
      "Epoch: 078, Loss: 0.0281\n",
      "Epoch: 079, Loss: 0.0263\n",
      "Epoch: 080, Loss: 0.0226\n",
      "Epoch: 081, Loss: 0.0197\n",
      "Epoch: 082, Loss: 0.0197\n",
      "Epoch: 083, Loss: 0.0176\n",
      "Epoch: 084, Loss: 0.0163\n",
      "Epoch: 085, Loss: 0.0140\n",
      "Epoch: 086, Loss: 0.0152\n",
      "Epoch: 087, Loss: 0.0121\n",
      "Epoch: 088, Loss: 0.0131\n",
      "Epoch: 089, Loss: 0.0113\n",
      "Epoch: 090, Loss: 0.0112\n",
      "Epoch: 091, Loss: 0.0114\n",
      "Epoch: 092, Loss: 0.0083\n",
      "Epoch: 093, Loss: 0.0086\n",
      "Epoch: 094, Loss: 0.0082\n",
      "Epoch: 095, Loss: 0.0073\n",
      "Epoch: 096, Loss: 0.0064\n",
      "Epoch: 097, Loss: 0.0071\n",
      "Epoch: 098, Loss: 0.0061\n",
      "Epoch: 099, Loss: 0.0053\n",
      "Epoch: 100, Loss: 0.0054\n",
      "Epoch: 101, Loss: 0.0054\n",
      "Epoch: 102, Loss: 0.0056\n",
      "Epoch: 103, Loss: 0.0047\n",
      "Epoch: 104, Loss: 0.0050\n",
      "Epoch: 105, Loss: 0.0046\n",
      "Epoch: 106, Loss: 0.0043\n",
      "Epoch: 107, Loss: 0.0043\n",
      "Epoch: 108, Loss: 0.0040\n",
      "Epoch: 109, Loss: 0.0035\n",
      "Epoch: 110, Loss: 0.0039\n",
      "Epoch: 111, Loss: 0.0034\n",
      "Epoch: 112, Loss: 0.0035\n",
      "Epoch: 113, Loss: 0.0034\n",
      "Epoch: 114, Loss: 0.0032\n",
      "Epoch: 115, Loss: 0.0037\n",
      "Epoch: 116, Loss: 0.0029\n",
      "Epoch: 117, Loss: 0.0029\n",
      "Epoch: 118, Loss: 0.0029\n",
      "Epoch: 119, Loss: 0.0029\n",
      "Epoch: 120, Loss: 0.0029\n",
      "Epoch: 121, Loss: 0.0028\n",
      "Epoch: 122, Loss: 0.0026\n",
      "Epoch: 123, Loss: 0.0027\n",
      "Epoch: 124, Loss: 0.0028\n",
      "Epoch: 125, Loss: 0.0026\n",
      "Epoch: 126, Loss: 0.0027\n",
      "Epoch: 127, Loss: 0.0025\n",
      "Epoch: 128, Loss: 0.0025\n",
      "Epoch: 129, Loss: 0.0026\n",
      "Epoch: 130, Loss: 0.0026\n",
      "Epoch: 131, Loss: 0.0025\n",
      "Epoch: 132, Loss: 0.0024\n",
      "Epoch: 133, Loss: 0.0025\n",
      "Epoch: 134, Loss: 0.0026\n",
      "Epoch: 135, Loss: 0.0024\n",
      "Epoch: 136, Loss: 0.0024\n",
      "Epoch: 137, Loss: 0.0023\n",
      "Epoch: 138, Loss: 0.0022\n",
      "Epoch: 139, Loss: 0.0023\n",
      "Epoch: 140, Loss: 0.0024\n",
      "Epoch: 141, Loss: 0.0022\n",
      "Epoch: 142, Loss: 0.0023\n",
      "Epoch: 143, Loss: 0.0023\n",
      "Epoch: 144, Loss: 0.0023\n",
      "Epoch: 145, Loss: 0.0022\n",
      "Epoch: 146, Loss: 0.0023\n",
      "Epoch: 147, Loss: 0.0022\n",
      "Epoch: 148, Loss: 0.0022\n",
      "Epoch: 149, Loss: 0.0022\n",
      "Epoch: 150, Loss: 0.0021\n",
      "Epoch: 151, Loss: 0.0022\n",
      "Epoch: 152, Loss: 0.0021\n",
      "Epoch: 153, Loss: 0.0021\n",
      "Epoch: 154, Loss: 0.0021\n",
      "Epoch: 155, Loss: 0.0023\n",
      "Epoch: 156, Loss: 0.0020\n",
      "Epoch: 157, Loss: 0.0020\n",
      "Epoch: 158, Loss: 0.0021\n",
      "Epoch: 159, Loss: 0.0020\n",
      "Epoch: 160, Loss: 0.0021\n",
      "Epoch: 161, Loss: 0.0021\n",
      "Epoch: 162, Loss: 0.0021\n",
      "Epoch: 163, Loss: 0.0021\n",
      "Epoch: 164, Loss: 0.0021\n",
      "Epoch: 165, Loss: 0.0024\n",
      "Epoch: 166, Loss: 0.0021\n",
      "Epoch: 167, Loss: 0.0021\n",
      "Epoch: 168, Loss: 0.0020\n",
      "Epoch: 169, Loss: 0.0020\n",
      "Epoch: 170, Loss: 0.0021\n",
      "Epoch: 171, Loss: 0.0021\n",
      "Epoch: 172, Loss: 0.0021\n",
      "Epoch: 173, Loss: 0.0021\n",
      "Epoch: 174, Loss: 0.0020\n",
      "Epoch: 175, Loss: 0.0021\n",
      "Epoch: 176, Loss: 0.0021\n",
      "Epoch: 177, Loss: 0.0021\n",
      "Epoch: 178, Loss: 0.0021\n",
      "Epoch: 179, Loss: 0.0021\n",
      "Epoch: 180, Loss: 0.0021\n",
      "Epoch: 181, Loss: 0.0021\n",
      "Epoch: 182, Loss: 0.0020\n",
      "Epoch: 183, Loss: 0.0020\n",
      "Epoch: 184, Loss: 0.0021\n",
      "Epoch: 185, Loss: 0.0020\n",
      "Epoch: 186, Loss: 0.0021\n",
      "Epoch: 187, Loss: 0.0020\n",
      "Epoch: 188, Loss: 0.0022\n",
      "Epoch: 189, Loss: 0.0019\n",
      "Epoch: 190, Loss: 0.0019\n",
      "Epoch: 191, Loss: 0.0020\n",
      "Epoch: 192, Loss: 0.0020\n",
      "Epoch: 193, Loss: 0.0021\n",
      "Epoch: 194, Loss: 0.0020\n",
      "Epoch: 195, Loss: 0.0020\n",
      "Epoch: 196, Loss: 0.0020\n",
      "Epoch: 197, Loss: 0.0020\n",
      "Epoch: 198, Loss: 0.0019\n",
      "Epoch: 199, Loss: 0.0020\n"
     ]
    }
   ],
   "source": [
    "for epoch in range(200):\n",
    "    loss = train_model(model, data, optimizer, criterion)\n",
    "    print(f'Epoch: {epoch:03d}, Loss: {loss:.4f}')"
   ]
  },
  {
   "cell_type": "code",
   "execution_count": null,
   "metadata": {},
   "outputs": [],
   "source": []
  },
  {
   "cell_type": "code",
   "execution_count": 12,
   "metadata": {},
   "outputs": [],
   "source": [
    "model.eval()\n",
    "out = model(data.x, data.RWPE, data.edge_index)\n",
    "pred = out.argmax(dim=-1)\n",
    "correct = (pred[~data.train_mask] == data.y[~data.train_mask])\n",
    "acc = int(correct.sum()) / int(correct.shape[0])\n",
    "f1 = f1_score(data.y[~data.train_mask.cpu()].cpu(), pred[~data.train_mask.cpu()].cpu(), average='micro')\n",
    "report = pd.DataFrame(classification_report(data.y[~data.train_mask.cpu()].cpu(), pred[~data.train_mask.cpu()].cpu(), output_dict=True))"
   ]
  },
  {
   "cell_type": "code",
   "execution_count": 13,
   "metadata": {},
   "outputs": [],
   "source": [
    "report.to_csv('./results/gps_coraml.csv')"
   ]
  },
  {
   "cell_type": "markdown",
   "metadata": {},
   "source": []
  },
  {
   "cell_type": "code",
   "execution_count": null,
   "metadata": {},
   "outputs": [],
   "source": []
  }
 ],
 "metadata": {
  "kernelspec": {
   "display_name": "latest",
   "language": "python",
   "name": "latest"
  },
  "language_info": {
   "codemirror_mode": {
    "name": "ipython",
    "version": 3
   },
   "file_extension": ".py",
   "mimetype": "text/x-python",
   "name": "python",
   "nbconvert_exporter": "python",
   "pygments_lexer": "ipython3",
   "version": "3.9.16"
  },
  "orig_nbformat": 4
 },
 "nbformat": 4,
 "nbformat_minor": 2
}
