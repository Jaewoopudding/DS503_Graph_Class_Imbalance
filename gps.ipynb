{
 "cells": [
  {
   "cell_type": "code",
   "execution_count": 1,
   "metadata": {},
   "outputs": [
    {
     "name": "stderr",
     "output_type": "stream",
     "text": [
      "/home/sujin/anaconda3/envs/latest0506/lib/python3.10/site-packages/tqdm/auto.py:21: TqdmWarning: IProgress not found. Please update jupyter and ipywidgets. See https://ipywidgets.readthedocs.io/en/stable/user_install.html\n",
      "  from .autonotebook import tqdm as notebook_tqdm\n"
     ]
    },
    {
     "data": {
      "text/plain": [
       "device(type='cuda', index=0)"
      ]
     },
     "execution_count": 1,
     "metadata": {},
     "output_type": "execute_result"
    }
   ],
   "source": [
    "import os\n",
    "import random\n",
    "\n",
    "import numpy as np\n",
    "import pandas as pd\n",
    "import matplotlib.pyplot as plt\n",
    "from sklearn.model_selection import train_test_split\n",
    "from sklearn.metrics import f1_score\n",
    "\n",
    "import torch\n",
    "import torch.nn as nn\n",
    "import torch.nn.functional as F\n",
    "\n",
    "import torch_geometric\n",
    "from torch_geometric.datasets import CoraFull, Planetoid, CitationFull\n",
    "import torch_geometric.nn as gnn \n",
    "import torch_geometric.transforms as T\n",
    "\n",
    "#from models import GPS\n",
    "#from utils import test_model\n",
    "\n",
    "torch.manual_seed(42)\n",
    "torch.cuda.manual_seed(42)\n",
    "np.random.seed(42)\n",
    "random.seed(42)\n",
    "torch.backends.cudnn.deterministic = True\n",
    "torch.backends.cudnn.benchmark = False\n",
    "\n",
    "device = torch.device(\"cuda:0\" if torch.cuda.is_available() else \"cpu\")\n",
    "device"
   ]
  },
  {
   "cell_type": "code",
   "execution_count": 2,
   "metadata": {},
   "outputs": [],
   "source": [
    "transform = T.Compose([T.NormalizeFeatures(), T.AddRandomWalkPE(16, 'RWPE')])\n",
    "dataset = CitationFull(root='dataset/CoraML', name='Cora_ML', transform=transform)"
   ]
  },
  {
   "cell_type": "code",
   "execution_count": null,
   "metadata": {},
   "outputs": [
    {
     "ename": "",
     "evalue": "",
     "output_type": "error",
     "traceback": [
      "\u001b[1;31mnotebook controller is DISPOSED. \n",
      "\u001b[1;31m자세한 내용은 Jupyter <a href='command:jupyter.viewOutput'>로그</a>를 참조하세요."
     ]
    },
    {
     "ename": "",
     "evalue": "",
     "output_type": "error",
     "traceback": [
      "\u001b[1;31mnotebook controller is DISPOSED. \n",
      "\u001b[1;31m자세한 내용은 Jupyter <a href='command:jupyter.viewOutput'>로그</a>를 참조하세요."
     ]
    }
   ],
   "source": [
    "#transform = T.Compose([T.NormalizeFeatures(), T.AddRandomWalkPE(16, 'RWPE')])"
   ]
  },
  {
   "cell_type": "code",
   "execution_count": null,
   "metadata": {},
   "outputs": [
    {
     "ename": "",
     "evalue": "",
     "output_type": "error",
     "traceback": [
      "\u001b[1;31mnotebook controller is DISPOSED. \n",
      "\u001b[1;31m자세한 내용은 Jupyter <a href='command:jupyter.viewOutput'>로그</a>를 참조하세요."
     ]
    }
   ],
   "source": [
    "#dataset = CitationFull(root='dataset/Cora', name='Cora', transform=transform)"
   ]
  },
  {
   "cell_type": "code",
   "execution_count": 2,
   "metadata": {},
   "outputs": [],
   "source": [
    "#dataset = torch.load(\"/home/sujin/project/DS503/ds503/dataset/Cora/cora/RandomWalkPE.pt\")"
   ]
  },
  {
   "cell_type": "code",
   "execution_count": 3,
   "metadata": {},
   "outputs": [
    {
     "data": {
      "text/plain": [
       "Cora_mlFull()"
      ]
     },
     "execution_count": 3,
     "metadata": {},
     "output_type": "execute_result"
    }
   ],
   "source": [
    "dataset"
   ]
  },
  {
   "cell_type": "code",
   "execution_count": 3,
   "metadata": {},
   "outputs": [],
   "source": [
    "data = dataset[0]\n",
    "df = pd.DataFrame(data.x.cpu())\n",
    "df['y'] = data.y.cpu()\n",
    "train, valid = train_test_split(df, stratify=df.y, test_size=0.33)\n",
    "data.train_mask = torch.zeros(data.num_nodes, dtype=torch.bool)\n",
    "data.train_mask[train.index]=True\n",
    "data = data.to(device)"
   ]
  },
  {
   "cell_type": "code",
   "execution_count": 4,
   "metadata": {},
   "outputs": [],
   "source": [
    "import random\n",
    "import numpy as np\n",
    "\n",
    "import torch\n",
    "import torch.nn as nn\n",
    "\n",
    "import torch_geometric.nn as gnn \n",
    "\n",
    "import torch\n",
    "from torch.nn import Embedding, Linear, ModuleList, ReLU, Sequential\n",
    "from torch_geometric.nn.conv import GINConv, GPSConv\n",
    "\n",
    "class GPS(torch.nn.Module):\n",
    "    def __init__(self, in_channels, hidden_channels, pe_dim, number_of_classes, number_of_nodes, num_layers, heads=8, device = 'cuda:0'):\n",
    "        super().__init__()\n",
    "\n",
    "        self.in_channels = in_channels\n",
    "        self.hidden_channels = hidden_channels\n",
    "        self.pe_dim = pe_dim\n",
    "        self.number_of_classes = number_of_classes\n",
    "        self.number_of_nodes = number_of_nodes\n",
    "        self.num_layers = num_layers\n",
    "        self.heads=heads\n",
    "        self.model = self.build_model().to(device)\n",
    "\n",
    "    def forward(self, x, pe, edge_index):\n",
    "        x = self.node_emb(x) + self.pe_lin(pe)\n",
    "        return self.model(x, edge_index)\n",
    "    \n",
    "    def build_model(self):\n",
    "        \n",
    "        self.node_emb = Linear(self.in_channels, self.hidden_channels).to(device)\n",
    "        self.pe_lin = Linear(self.pe_dim, self.hidden_channels).to(device)\n",
    "\n",
    "        layers = []\n",
    "        for _ in range(self.num_layers):\n",
    "            net = Sequential(\n",
    "                Linear(self.hidden_channels, self.hidden_channels),\n",
    "                ReLU(),\n",
    "                Linear(self.hidden_channels, self.hidden_channels),\n",
    "            ).to(device)\n",
    "            \n",
    "            conv = GPSConv(channels = self.hidden_channels, conv = GINConv(net), heads=self.heads, attn_dropout=0.5)\n",
    "            layers.append((conv,'x, edge_index -> x'))\n",
    "\n",
    "        layers.append((Linear(self.hidden_channels, self.number_of_classes),'x -> x'))\n",
    "        print(layers)\n",
    "\n",
    "        return gnn.Sequential('x, edge_index', layers)\n",
    "    \n",
    "        \n",
    "    def get_n_params(self):\n",
    "        pp=0\n",
    "        for p in list(self.model.parameters()):\n",
    "            nn=1\n",
    "            for s in list(p.size()):\n",
    "                nn = nn*s\n",
    "            pp += nn\n",
    "        return pp"
   ]
  },
  {
   "cell_type": "code",
   "execution_count": 5,
   "metadata": {},
   "outputs": [
    {
     "name": "stdout",
     "output_type": "stream",
     "text": [
      "[(GPSConv(128, conv=GINConv(nn=Sequential(\n",
      "  (0): Linear(in_features=128, out_features=128, bias=True)\n",
      "  (1): ReLU()\n",
      "  (2): Linear(in_features=128, out_features=128, bias=True)\n",
      ")), heads=4), 'x, edge_index -> x'), (GPSConv(128, conv=GINConv(nn=Sequential(\n",
      "  (0): Linear(in_features=128, out_features=128, bias=True)\n",
      "  (1): ReLU()\n",
      "  (2): Linear(in_features=128, out_features=128, bias=True)\n",
      ")), heads=4), 'x, edge_index -> x'), (GPSConv(128, conv=GINConv(nn=Sequential(\n",
      "  (0): Linear(in_features=128, out_features=128, bias=True)\n",
      "  (1): ReLU()\n",
      "  (2): Linear(in_features=128, out_features=128, bias=True)\n",
      ")), heads=4), 'x, edge_index -> x'), (GPSConv(128, conv=GINConv(nn=Sequential(\n",
      "  (0): Linear(in_features=128, out_features=128, bias=True)\n",
      "  (1): ReLU()\n",
      "  (2): Linear(in_features=128, out_features=128, bias=True)\n",
      ")), heads=4), 'x, edge_index -> x'), (GPSConv(128, conv=GINConv(nn=Sequential(\n",
      "  (0): Linear(in_features=128, out_features=128, bias=True)\n",
      "  (1): ReLU()\n",
      "  (2): Linear(in_features=128, out_features=128, bias=True)\n",
      ")), heads=4), 'x, edge_index -> x'), (GPSConv(128, conv=GINConv(nn=Sequential(\n",
      "  (0): Linear(in_features=128, out_features=128, bias=True)\n",
      "  (1): ReLU()\n",
      "  (2): Linear(in_features=128, out_features=128, bias=True)\n",
      ")), heads=4), 'x, edge_index -> x'), (GPSConv(128, conv=GINConv(nn=Sequential(\n",
      "  (0): Linear(in_features=128, out_features=128, bias=True)\n",
      "  (1): ReLU()\n",
      "  (2): Linear(in_features=128, out_features=128, bias=True)\n",
      ")), heads=4), 'x, edge_index -> x'), (Linear(in_features=128, out_features=7, bias=True), 'x -> x')]\n",
      "1161223\n"
     ]
    }
   ],
   "source": [
    "model = GPS(in_channels = data.x.shape[1],\\\n",
    "             hidden_channels=128,\\\n",
    "                pe_dim = 16,\\\n",
    "                  number_of_classes = len(data.y.unique()),\\\n",
    "                    number_of_nodes = data.x.shape[0],\\\n",
    "                        num_layers = 7,\\\n",
    "                          heads=4,\\\n",
    "                              device=\"cuda:0\")\n",
    "print(model.get_n_params())\n",
    "criterion = nn.CrossEntropyLoss()\n",
    "optimizer = torch.optim.Adam(model.parameters(), lr=0.001, weight_decay=5e-4)"
   ]
  },
  {
   "cell_type": "code",
   "execution_count": 6,
   "metadata": {},
   "outputs": [],
   "source": [
    "def train_model(model, data:torch_geometric.data.data.Data, optimizer, criterion):\n",
    "    model.train()\n",
    "    optimizer.zero_grad()\n",
    "    out = model(data.x, data.RWPE, data.edge_index)\n",
    "    loss = criterion(out[data.train_mask], data.y[data.train_mask])\n",
    "    loss.backward()\n",
    "    optimizer.step()\n",
    "    pred = out.argmax(dim=-1)\n",
    "    correct = pred[data.train_mask] == data.y[data.train_mask]\n",
    "    acc = int(correct.sum()) / int(data.train_mask.sum())\n",
    "    return loss"
   ]
  },
  {
   "cell_type": "code",
   "execution_count": 7,
   "metadata": {},
   "outputs": [
    {
     "name": "stdout",
     "output_type": "stream",
     "text": [
      "Epoch: 000, Loss: 1.9463\n",
      "Epoch: 001, Loss: 1.7792\n",
      "Epoch: 002, Loss: 1.6573\n",
      "Epoch: 003, Loss: 1.5755\n",
      "Epoch: 004, Loss: 1.5398\n",
      "Epoch: 005, Loss: 1.5053\n",
      "Epoch: 006, Loss: 1.4654\n",
      "Epoch: 007, Loss: 1.4433\n",
      "Epoch: 008, Loss: 1.4199\n",
      "Epoch: 009, Loss: 1.4072\n",
      "Epoch: 010, Loss: 1.4087\n",
      "Epoch: 011, Loss: 1.3856\n",
      "Epoch: 012, Loss: 1.3591\n",
      "Epoch: 013, Loss: 1.3352\n",
      "Epoch: 014, Loss: 1.3328\n",
      "Epoch: 015, Loss: 1.3243\n",
      "Epoch: 016, Loss: 1.3167\n",
      "Epoch: 017, Loss: 1.2944\n",
      "Epoch: 018, Loss: 1.2821\n",
      "Epoch: 019, Loss: 1.2524\n",
      "Epoch: 020, Loss: 1.2418\n",
      "Epoch: 021, Loss: 1.2289\n",
      "Epoch: 022, Loss: 1.1945\n",
      "Epoch: 023, Loss: 1.1806\n",
      "Epoch: 024, Loss: 1.1652\n",
      "Epoch: 025, Loss: 1.1568\n",
      "Epoch: 026, Loss: 1.1103\n",
      "Epoch: 027, Loss: 1.1124\n",
      "Epoch: 028, Loss: 1.0901\n",
      "Epoch: 029, Loss: 1.0829\n",
      "Epoch: 030, Loss: 1.0395\n",
      "Epoch: 031, Loss: 1.0417\n",
      "Epoch: 032, Loss: 1.0059\n",
      "Epoch: 033, Loss: 1.0322\n",
      "Epoch: 034, Loss: 1.0205\n",
      "Epoch: 035, Loss: 1.0102\n",
      "Epoch: 036, Loss: 0.9730\n",
      "Epoch: 037, Loss: 0.9731\n",
      "Epoch: 038, Loss: 0.9350\n",
      "Epoch: 039, Loss: 0.9320\n",
      "Epoch: 040, Loss: 0.9161\n",
      "Epoch: 041, Loss: 0.9052\n",
      "Epoch: 042, Loss: 0.8806\n",
      "Epoch: 043, Loss: 0.8585\n",
      "Epoch: 044, Loss: 0.8471\n",
      "Epoch: 045, Loss: 0.8237\n",
      "Epoch: 046, Loss: 0.8065\n",
      "Epoch: 047, Loss: 0.8258\n",
      "Epoch: 048, Loss: 0.7872\n",
      "Epoch: 049, Loss: 0.7922\n",
      "Epoch: 050, Loss: 0.7683\n",
      "Epoch: 051, Loss: 0.7463\n",
      "Epoch: 052, Loss: 0.7536\n",
      "Epoch: 053, Loss: 0.7276\n",
      "Epoch: 054, Loss: 0.7254\n",
      "Epoch: 055, Loss: 0.6890\n",
      "Epoch: 056, Loss: 0.6719\n",
      "Epoch: 057, Loss: 0.6855\n",
      "Epoch: 058, Loss: 0.6494\n",
      "Epoch: 059, Loss: 0.6414\n",
      "Epoch: 060, Loss: 0.6390\n",
      "Epoch: 061, Loss: 0.6200\n"
     ]
    }
   ],
   "source": [
    "for epoch in range(500):\n",
    "    loss = train_model(model, data, optimizer, criterion)\n",
    "    print(f'Epoch: {epoch:03d}, Loss: {loss:.4f}')"
   ]
  },
  {
   "cell_type": "code",
   "execution_count": null,
   "metadata": {},
   "outputs": [],
   "source": []
  },
  {
   "cell_type": "code",
   "execution_count": null,
   "metadata": {},
   "outputs": [],
   "source": [
    "  model.eval()\n",
    "  out = model(data.x, data.RWPE, data.edge_index)\n",
    "  pred = out.argmax(dim=-1)\n",
    "  correct = (pred[~data.train_mask] == data.y[~data.train_mask])\n",
    "  acc = int(correct.sum()) / int(correct.shape[0])\n",
    "  f1 = f1_score(data.y[~data.train_mask.cpu()].cpu(), pred[~data.train_mask.cpu()].cpu(), average='micro')\n",
    "  print(classification_report(data.y[~data.train_mask.cpu()].cpu(), pred[~data.train_mask.cpu()].cpu()))"
   ]
  }
 ],
 "metadata": {
  "kernelspec": {
   "display_name": "latest0506",
   "language": "python",
   "name": "latest0506"
  },
  "language_info": {
   "codemirror_mode": {
    "name": "ipython",
    "version": 3
   },
   "file_extension": ".py",
   "mimetype": "text/x-python",
   "name": "python",
   "nbconvert_exporter": "python",
   "pygments_lexer": "ipython3",
   "version": "3.10.11"
  },
  "orig_nbformat": 4
 },
 "nbformat": 4,
 "nbformat_minor": 2
}
