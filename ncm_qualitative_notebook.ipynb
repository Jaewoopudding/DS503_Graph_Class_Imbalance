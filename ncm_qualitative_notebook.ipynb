{
 "cells": [
  {
   "cell_type": "code",
   "execution_count": 1,
   "metadata": {},
   "outputs": [
    {
     "name": "stderr",
     "output_type": "stream",
     "text": [
      "/home/sujin/anaconda3/envs/0606/lib/python3.10/site-packages/tqdm/auto.py:21: TqdmWarning: IProgress not found. Please update jupyter and ipywidgets. See https://ipywidgets.readthedocs.io/en/stable/user_install.html\n",
      "  from .autonotebook import tqdm as notebook_tqdm\n"
     ]
    },
    {
     "data": {
      "text/plain": [
       "device(type='cuda')"
      ]
     },
     "execution_count": 1,
     "metadata": {},
     "output_type": "execute_result"
    }
   ],
   "source": [
    "import os\n",
    "import random\n",
    "\n",
    "import numpy as np\n",
    "import pandas as pd\n",
    "import matplotlib.pyplot as plt\n",
    "from sklearn.model_selection import train_test_split\n",
    "from sklearn.metrics import f1_score\n",
    "\n",
    "import torch\n",
    "import torch.nn as nn\n",
    "import torch.nn.functional as F\n",
    "\n",
    "import torch_geometric\n",
    "from torch_geometric.datasets import CoraFull, Planetoid, CitationFull\n",
    "from torch_geometric.transforms import NormalizeFeatures\n",
    "import torch_geometric.nn as gnn \n",
    "\n",
    "from models import GAT, GraphSAGE, GIN\n",
    "from utils import train_model, test_model\n",
    "from mean_average_distance import MAD, MADGap\n",
    "from virtualnode import VirtualClassNode, UnidirectionalVirtualClassNode\n",
    "\n",
    "from tqdm.auto import tqdm\n",
    "from sklearn.metrics import classification_report\n",
    "\n",
    "torch.manual_seed(42)\n",
    "torch.cuda.manual_seed(42)\n",
    "np.random.seed(42)\n",
    "random.seed(42)\n",
    "torch.backends.cudnn.deterministic = True\n",
    "torch.backends.cudnn.benchmark = False\n",
    "\n",
    "SAVE_PATH = 'results'\n",
    "LR = 0.001\n",
    "\n",
    "device = torch.device(\"cuda\" if torch.cuda.is_available() else \"cpu\")\n",
    "device"
   ]
  },
  {
   "cell_type": "code",
   "execution_count": 35,
   "metadata": {},
   "outputs": [],
   "source": [
    "dataset = CitationFull(root='dataset/Cora', name='Cora', transform=NormalizeFeatures())"
   ]
  },
  {
   "cell_type": "code",
   "execution_count": 36,
   "metadata": {},
   "outputs": [],
   "source": [
    "data = dataset[0]\n",
    "df = pd.DataFrame(data.x)\n",
    "df['y'] = data.y\n",
    "train, valid = train_test_split(df, stratify=df.y, test_size=0.4)\n",
    "valid, test = train_test_split(valid, stratify=valid.y, test_size=0.5)\n",
    "data.train_mask = torch.zeros(data.num_nodes, dtype=torch.bool)\n",
    "data.train_mask[train.index]=True\n",
    "data.valid_mask = torch.zeros(data.num_nodes, dtype=torch.bool)\n",
    "data.valid_mask[valid.index]=True\n",
    "data.test_mask = torch.zeros(data.num_nodes, dtype=torch.bool)\n",
    "data.test_mask[test.index]=True"
   ]
  },
  {
   "cell_type": "code",
   "execution_count": 37,
   "metadata": {},
   "outputs": [],
   "source": [
    "labels = data.y.numpy()\n",
    "num_node_ = []\n",
    "for i in range(70):\n",
    "    temp = np.where(labels == i)[0]\n",
    "    num_node_.append(len(temp))"
   ]
  },
  {
   "cell_type": "code",
   "execution_count": 40,
   "metadata": {},
   "outputs": [],
   "source": [
    "sorted_node = np.argsort(num_node_)[::-1]"
   ]
  },
  {
   "cell_type": "code",
   "execution_count": null,
   "metadata": {},
   "outputs": [],
   "source": []
  },
  {
   "cell_type": "code",
   "execution_count": 5,
   "metadata": {},
   "outputs": [],
   "source": [
    "mad = MAD(device=device, global_flag=True)\n",
    "madgap = MADGap(device, 3, 8)"
   ]
  },
  {
   "cell_type": "code",
   "execution_count": 6,
   "metadata": {},
   "outputs": [],
   "source": [
    "SAVE_PATH = 'model_file'\n",
    "EARLY_STOPPING = 30\n",
    "\n",
    "device = torch.device(\"cuda:0\" if torch.cuda.is_available() else \"cpu\")\n",
    "device\n",
    "dataset = CitationFull(root='dataset/Cora', name='Cora', transform=NormalizeFeatures())"
   ]
  },
  {
   "cell_type": "code",
   "execution_count": 7,
   "metadata": {},
   "outputs": [],
   "source": [
    "optparams = pd.read_csv(\"./res_stats/training_sage.csv\")"
   ]
  },
  {
   "cell_type": "code",
   "execution_count": 8,
   "metadata": {},
   "outputs": [
    {
     "data": {
      "text/html": [
       "<div>\n",
       "<style scoped>\n",
       "    .dataframe tbody tr th:only-of-type {\n",
       "        vertical-align: middle;\n",
       "    }\n",
       "\n",
       "    .dataframe tbody tr th {\n",
       "        vertical-align: top;\n",
       "    }\n",
       "\n",
       "    .dataframe thead th {\n",
       "        text-align: right;\n",
       "    }\n",
       "</style>\n",
       "<table border=\"1\" class=\"dataframe\">\n",
       "  <thead>\n",
       "    <tr style=\"text-align: right;\">\n",
       "      <th></th>\n",
       "      <th>trial</th>\n",
       "      <th>model</th>\n",
       "      <th>virtualnode</th>\n",
       "      <th>vnode_init</th>\n",
       "      <th>temperature</th>\n",
       "      <th>constrative coef</th>\n",
       "      <th>gaussian_noise_scale</th>\n",
       "      <th>lr</th>\n",
       "      <th>train_acc</th>\n",
       "      <th>train_loss</th>\n",
       "      <th>val_acc</th>\n",
       "      <th>val_loss</th>\n",
       "      <th>test_acc</th>\n",
       "      <th>macro f1</th>\n",
       "      <th>micro f1minor f1</th>\n",
       "      <th>mad</th>\n",
       "      <th>madgap</th>\n",
       "      <th>micro f1</th>\n",
       "      <th>minor f1</th>\n",
       "      <th>positive_sampling</th>\n",
       "    </tr>\n",
       "  </thead>\n",
       "  <tbody>\n",
       "    <tr>\n",
       "      <th>0</th>\n",
       "      <td>64</td>\n",
       "      <td>GraphSAGE</td>\n",
       "      <td>UnidirectionalVirtualClassNode()</td>\n",
       "      <td>NaN</td>\n",
       "      <td>6.569987</td>\n",
       "      <td>0.013822</td>\n",
       "      <td>0.001000</td>\n",
       "      <td>0.003629</td>\n",
       "      <td>0.944914</td>\n",
       "      <td>0.165789</td>\n",
       "      <td>0.716555</td>\n",
       "      <td>0.003321</td>\n",
       "      <td>0.703208</td>\n",
       "      <td>0.644170</td>\n",
       "      <td>NaN</td>\n",
       "      <td>0.863704</td>\n",
       "      <td>0.483508</td>\n",
       "      <td>0.700064</td>\n",
       "      <td>0.487957</td>\n",
       "      <td>True</td>\n",
       "    </tr>\n",
       "    <tr>\n",
       "      <th>1</th>\n",
       "      <td>84</td>\n",
       "      <td>GraphSAGE</td>\n",
       "      <td>UnidirectionalVirtualClassNode()</td>\n",
       "      <td>NaN</td>\n",
       "      <td>7.840447</td>\n",
       "      <td>0.021910</td>\n",
       "      <td>0.001000</td>\n",
       "      <td>0.002777</td>\n",
       "      <td>0.939473</td>\n",
       "      <td>0.185297</td>\n",
       "      <td>0.712087</td>\n",
       "      <td>0.004056</td>\n",
       "      <td>0.703208</td>\n",
       "      <td>0.643586</td>\n",
       "      <td>NaN</td>\n",
       "      <td>0.868719</td>\n",
       "      <td>0.491279</td>\n",
       "      <td>0.700527</td>\n",
       "      <td>0.493140</td>\n",
       "      <td>True</td>\n",
       "    </tr>\n",
       "    <tr>\n",
       "      <th>2</th>\n",
       "      <td>2</td>\n",
       "      <td>GraphSAGE</td>\n",
       "      <td>VirtualClassNode()</td>\n",
       "      <td>NaN</td>\n",
       "      <td>6.681166</td>\n",
       "      <td>0.058019</td>\n",
       "      <td>0.000001</td>\n",
       "      <td>0.001735</td>\n",
       "      <td>0.994140</td>\n",
       "      <td>0.009016</td>\n",
       "      <td>0.671382</td>\n",
       "      <td>-0.006688</td>\n",
       "      <td>0.663425</td>\n",
       "      <td>0.606996</td>\n",
       "      <td>NaN</td>\n",
       "      <td>0.764222</td>\n",
       "      <td>0.484988</td>\n",
       "      <td>0.659217</td>\n",
       "      <td>0.508190</td>\n",
       "      <td>NaN</td>\n",
       "    </tr>\n",
       "    <tr>\n",
       "      <th>3</th>\n",
       "      <td>3</td>\n",
       "      <td>GraphSAGE</td>\n",
       "      <td>VirtualClassNode()</td>\n",
       "      <td>NaN</td>\n",
       "      <td>6.058254</td>\n",
       "      <td>0.340557</td>\n",
       "      <td>0.000010</td>\n",
       "      <td>0.002781</td>\n",
       "      <td>0.991210</td>\n",
       "      <td>-0.021983</td>\n",
       "      <td>0.664185</td>\n",
       "      <td>-0.046624</td>\n",
       "      <td>0.654837</td>\n",
       "      <td>0.596474</td>\n",
       "      <td>NaN</td>\n",
       "      <td>0.825723</td>\n",
       "      <td>0.523051</td>\n",
       "      <td>0.653479</td>\n",
       "      <td>0.454100</td>\n",
       "      <td>NaN</td>\n",
       "    </tr>\n",
       "    <tr>\n",
       "      <th>4</th>\n",
       "      <td>4</td>\n",
       "      <td>GraphSAGE</td>\n",
       "      <td>VirtualClassNode()</td>\n",
       "      <td>NaN</td>\n",
       "      <td>2.956950</td>\n",
       "      <td>0.000036</td>\n",
       "      <td>0.000001</td>\n",
       "      <td>0.006563</td>\n",
       "      <td>0.049477</td>\n",
       "      <td>7.893188</td>\n",
       "      <td>0.052867</td>\n",
       "      <td>7.642127</td>\n",
       "      <td>0.051781</td>\n",
       "      <td>0.014052</td>\n",
       "      <td>NaN</td>\n",
       "      <td>0.002419</td>\n",
       "      <td>0.001145</td>\n",
       "      <td>0.027590</td>\n",
       "      <td>0.000000</td>\n",
       "      <td>NaN</td>\n",
       "    </tr>\n",
       "  </tbody>\n",
       "</table>\n",
       "</div>"
      ],
      "text/plain": [
       "   trial      model                       virtualnode  vnode_init  \\\n",
       "0     64  GraphSAGE  UnidirectionalVirtualClassNode()         NaN   \n",
       "1     84  GraphSAGE  UnidirectionalVirtualClassNode()         NaN   \n",
       "2      2  GraphSAGE                VirtualClassNode()         NaN   \n",
       "3      3  GraphSAGE                VirtualClassNode()         NaN   \n",
       "4      4  GraphSAGE                VirtualClassNode()         NaN   \n",
       "\n",
       "   temperature  constrative coef  gaussian_noise_scale        lr  train_acc  \\\n",
       "0     6.569987          0.013822              0.001000  0.003629   0.944914   \n",
       "1     7.840447          0.021910              0.001000  0.002777   0.939473   \n",
       "2     6.681166          0.058019              0.000001  0.001735   0.994140   \n",
       "3     6.058254          0.340557              0.000010  0.002781   0.991210   \n",
       "4     2.956950          0.000036              0.000001  0.006563   0.049477   \n",
       "\n",
       "   train_loss   val_acc  val_loss  test_acc  macro f1  micro f1minor f1  \\\n",
       "0    0.165789  0.716555  0.003321  0.703208  0.644170               NaN   \n",
       "1    0.185297  0.712087  0.004056  0.703208  0.643586               NaN   \n",
       "2    0.009016  0.671382 -0.006688  0.663425  0.606996               NaN   \n",
       "3   -0.021983  0.664185 -0.046624  0.654837  0.596474               NaN   \n",
       "4    7.893188  0.052867  7.642127  0.051781  0.014052               NaN   \n",
       "\n",
       "        mad    madgap  micro f1  minor f1 positive_sampling  \n",
       "0  0.863704  0.483508  0.700064  0.487957              True  \n",
       "1  0.868719  0.491279  0.700527  0.493140              True  \n",
       "2  0.764222  0.484988  0.659217  0.508190               NaN  \n",
       "3  0.825723  0.523051  0.653479  0.454100               NaN  \n",
       "4  0.002419  0.001145  0.027590  0.000000               NaN  "
      ]
     },
     "execution_count": 8,
     "metadata": {},
     "output_type": "execute_result"
    }
   ],
   "source": [
    "optparams.head()"
   ]
  },
  {
   "cell_type": "code",
   "execution_count": 9,
   "metadata": {},
   "outputs": [
    {
     "data": {
      "text/html": [
       "<div>\n",
       "<style scoped>\n",
       "    .dataframe tbody tr th:only-of-type {\n",
       "        vertical-align: middle;\n",
       "    }\n",
       "\n",
       "    .dataframe tbody tr th {\n",
       "        vertical-align: top;\n",
       "    }\n",
       "\n",
       "    .dataframe thead th {\n",
       "        text-align: right;\n",
       "    }\n",
       "</style>\n",
       "<table border=\"1\" class=\"dataframe\">\n",
       "  <thead>\n",
       "    <tr style=\"text-align: right;\">\n",
       "      <th></th>\n",
       "      <th>trial</th>\n",
       "      <th>model</th>\n",
       "      <th>virtualnode</th>\n",
       "      <th>vnode_init</th>\n",
       "      <th>temperature</th>\n",
       "      <th>constrative coef</th>\n",
       "      <th>gaussian_noise_scale</th>\n",
       "      <th>lr</th>\n",
       "      <th>train_acc</th>\n",
       "      <th>train_loss</th>\n",
       "      <th>val_acc</th>\n",
       "      <th>val_loss</th>\n",
       "      <th>test_acc</th>\n",
       "      <th>macro f1</th>\n",
       "      <th>micro f1minor f1</th>\n",
       "      <th>mad</th>\n",
       "      <th>madgap</th>\n",
       "      <th>micro f1</th>\n",
       "      <th>minor f1</th>\n",
       "      <th>positive_sampling</th>\n",
       "    </tr>\n",
       "  </thead>\n",
       "  <tbody>\n",
       "    <tr>\n",
       "      <th>0</th>\n",
       "      <td>64</td>\n",
       "      <td>GraphSAGE</td>\n",
       "      <td>UnidirectionalVirtualClassNode()</td>\n",
       "      <td>NaN</td>\n",
       "      <td>6.569987</td>\n",
       "      <td>0.013822</td>\n",
       "      <td>0.001</td>\n",
       "      <td>0.003629</td>\n",
       "      <td>0.944914</td>\n",
       "      <td>0.165789</td>\n",
       "      <td>0.716555</td>\n",
       "      <td>0.003321</td>\n",
       "      <td>0.703208</td>\n",
       "      <td>0.644170</td>\n",
       "      <td>NaN</td>\n",
       "      <td>0.863704</td>\n",
       "      <td>0.483508</td>\n",
       "      <td>0.700064</td>\n",
       "      <td>0.487957</td>\n",
       "      <td>True</td>\n",
       "    </tr>\n",
       "    <tr>\n",
       "      <th>1</th>\n",
       "      <td>84</td>\n",
       "      <td>GraphSAGE</td>\n",
       "      <td>UnidirectionalVirtualClassNode()</td>\n",
       "      <td>NaN</td>\n",
       "      <td>7.840447</td>\n",
       "      <td>0.021910</td>\n",
       "      <td>0.001</td>\n",
       "      <td>0.002777</td>\n",
       "      <td>0.939473</td>\n",
       "      <td>0.185297</td>\n",
       "      <td>0.712087</td>\n",
       "      <td>0.004056</td>\n",
       "      <td>0.703208</td>\n",
       "      <td>0.643586</td>\n",
       "      <td>NaN</td>\n",
       "      <td>0.868719</td>\n",
       "      <td>0.491279</td>\n",
       "      <td>0.700527</td>\n",
       "      <td>0.493140</td>\n",
       "      <td>True</td>\n",
       "    </tr>\n",
       "    <tr>\n",
       "      <th>5</th>\n",
       "      <td>73</td>\n",
       "      <td>GraphSAGE</td>\n",
       "      <td>UnidirectionalVirtualClassNode()</td>\n",
       "      <td>NaN</td>\n",
       "      <td>6.791155</td>\n",
       "      <td>0.007410</td>\n",
       "      <td>0.001</td>\n",
       "      <td>0.002404</td>\n",
       "      <td>0.902051</td>\n",
       "      <td>0.303335</td>\n",
       "      <td>0.709109</td>\n",
       "      <td>0.029355</td>\n",
       "      <td>0.699924</td>\n",
       "      <td>0.643163</td>\n",
       "      <td>NaN</td>\n",
       "      <td>0.839162</td>\n",
       "      <td>0.489485</td>\n",
       "      <td>0.697414</td>\n",
       "      <td>0.508454</td>\n",
       "      <td>True</td>\n",
       "    </tr>\n",
       "    <tr>\n",
       "      <th>9</th>\n",
       "      <td>52</td>\n",
       "      <td>GraphSAGE</td>\n",
       "      <td>UnidirectionalVirtualClassNode()</td>\n",
       "      <td>NaN</td>\n",
       "      <td>7.301587</td>\n",
       "      <td>0.006751</td>\n",
       "      <td>0.001</td>\n",
       "      <td>0.003360</td>\n",
       "      <td>0.937882</td>\n",
       "      <td>0.195050</td>\n",
       "      <td>0.712584</td>\n",
       "      <td>0.007956</td>\n",
       "      <td>0.703208</td>\n",
       "      <td>0.642777</td>\n",
       "      <td>NaN</td>\n",
       "      <td>0.825546</td>\n",
       "      <td>0.472002</td>\n",
       "      <td>0.699861</td>\n",
       "      <td>0.494061</td>\n",
       "      <td>True</td>\n",
       "    </tr>\n",
       "    <tr>\n",
       "      <th>10</th>\n",
       "      <td>95</td>\n",
       "      <td>GraphSAGE</td>\n",
       "      <td>UnidirectionalVirtualClassNode()</td>\n",
       "      <td>NaN</td>\n",
       "      <td>7.046566</td>\n",
       "      <td>0.013341</td>\n",
       "      <td>0.001</td>\n",
       "      <td>0.002364</td>\n",
       "      <td>0.926999</td>\n",
       "      <td>0.222144</td>\n",
       "      <td>0.710102</td>\n",
       "      <td>0.013306</td>\n",
       "      <td>0.701440</td>\n",
       "      <td>0.642516</td>\n",
       "      <td>NaN</td>\n",
       "      <td>0.866375</td>\n",
       "      <td>0.495455</td>\n",
       "      <td>0.698893</td>\n",
       "      <td>0.495706</td>\n",
       "      <td>True</td>\n",
       "    </tr>\n",
       "  </tbody>\n",
       "</table>\n",
       "</div>"
      ],
      "text/plain": [
       "    trial      model                       virtualnode  vnode_init  \\\n",
       "0      64  GraphSAGE  UnidirectionalVirtualClassNode()         NaN   \n",
       "1      84  GraphSAGE  UnidirectionalVirtualClassNode()         NaN   \n",
       "5      73  GraphSAGE  UnidirectionalVirtualClassNode()         NaN   \n",
       "9      52  GraphSAGE  UnidirectionalVirtualClassNode()         NaN   \n",
       "10     95  GraphSAGE  UnidirectionalVirtualClassNode()         NaN   \n",
       "\n",
       "    temperature  constrative coef  gaussian_noise_scale        lr  train_acc  \\\n",
       "0      6.569987          0.013822                 0.001  0.003629   0.944914   \n",
       "1      7.840447          0.021910                 0.001  0.002777   0.939473   \n",
       "5      6.791155          0.007410                 0.001  0.002404   0.902051   \n",
       "9      7.301587          0.006751                 0.001  0.003360   0.937882   \n",
       "10     7.046566          0.013341                 0.001  0.002364   0.926999   \n",
       "\n",
       "    train_loss   val_acc  val_loss  test_acc  macro f1  micro f1minor f1  \\\n",
       "0     0.165789  0.716555  0.003321  0.703208  0.644170               NaN   \n",
       "1     0.185297  0.712087  0.004056  0.703208  0.643586               NaN   \n",
       "5     0.303335  0.709109  0.029355  0.699924  0.643163               NaN   \n",
       "9     0.195050  0.712584  0.007956  0.703208  0.642777               NaN   \n",
       "10    0.222144  0.710102  0.013306  0.701440  0.642516               NaN   \n",
       "\n",
       "         mad    madgap  micro f1  minor f1 positive_sampling  \n",
       "0   0.863704  0.483508  0.700064  0.487957              True  \n",
       "1   0.868719  0.491279  0.700527  0.493140              True  \n",
       "5   0.839162  0.489485  0.697414  0.508454              True  \n",
       "9   0.825546  0.472002  0.699861  0.494061              True  \n",
       "10  0.866375  0.495455  0.698893  0.495706              True  "
      ]
     },
     "execution_count": 9,
     "metadata": {},
     "output_type": "execute_result"
    }
   ],
   "source": [
    "optparams.sort_values(by=['macro f1'], ascending=False).head()"
   ]
  },
  {
   "cell_type": "code",
   "execution_count": null,
   "metadata": {},
   "outputs": [],
   "source": []
  },
  {
   "cell_type": "code",
   "execution_count": 10,
   "metadata": {},
   "outputs": [],
   "source": [
    "for i in [64]:\n",
    "    g_noise = optparams.loc[i,'gaussian_noise_scale']\n",
    "    if optparams.loc[i,'model'] == 'Graph Attention Network':\n",
    "        model = GAT(in_channels=dataset.num_features, hidden_channels=476, number_of_classes=dataset.num_classes, num_of_hidden_layers=4, device=device, heads=1, noise_level=g_noise)\n",
    "        model_name = 'Graph Attention Network'\n",
    "    elif optparams.loc[i,'model'] == 'GraphSAGE':\n",
    "        model = GraphSAGE(in_channels=dataset.num_features, hidden_channels=256, number_of_classes=dataset.num_classes, num_of_hidden_layers=4, device=device, noise_level=g_noise)\n",
    "        model_name = 'GraphSAGE'\n",
    "    elif optparams.loc[i,'model'] == 'GIN':\n",
    "        model = GIN(in_channels=dataset.num_features, hidden_channels=415, number_of_classes=dataset.num_classes, num_of_hidden_layers=4, device=device, noise_level=g_noise)\n",
    "        model_name = 'GIN'\n",
    "    vnode = optparams.loc[i,'virtualnode']\n",
    "    if vnode == \"UnidirectionalVirtualClassNode()\":\n",
    "        vc = UnidirectionalVirtualClassNode()\n",
    "    else:\n",
    "        vc = VirtualClassNode()\n",
    "\n",
    "    data.to(device)\n",
    "    data_for_tuning = vc.forward(data)\n",
    "    data_for_tuning.to(device)\n",
    "\n",
    "    model = model.to(device)\n",
    "    data_for_tuning = data_for_tuning.to(device)\n",
    "\n",
    "    model.load_state_dict(torch.load(os.path.join(SAVE_PATH, f'SAGE/{model_name}_{i}.pt')))\n",
    "\n",
    "    \n",
    "    out, embedding = model(data.x, data.edge_index)\n",
    "    pred = out.argmax(dim=-1)\n",
    "    report = classification_report(data.y[~data.train_mask.cpu()].cpu(), pred[~data.train_mask.cpu()].cpu(), output_dict=True)\n",
    "    \n",
    "    result = pd.DataFrame(report).T\n",
    "    result = model(data_for_tuning.x.to(device), data_for_tuning.edge_index.to(device))[1].cpu()\n",
    "    global_mad = mad(result).item()\n",
    "    mad_gap = madgap(result, data_for_tuning.edge_index).item()\n",
    "    "
   ]
  },
  {
   "cell_type": "code",
   "execution_count": null,
   "metadata": {},
   "outputs": [],
   "source": []
  },
  {
   "cell_type": "code",
   "execution_count": 11,
   "metadata": {},
   "outputs": [],
   "source": [
    "# test set \n",
    "model.eval()\n",
    "out, embedding = model(data_for_tuning.x, data_for_tuning.edge_index)\n",
    "vnode_emb = embedding[-70:,:]\n",
    "\n",
    "testset = embedding[~data_for_tuning.train_mask]\n",
    "testset_y = data_for_tuning.y[~data_for_tuning.train_mask]\n",
    "\n",
    "dist = torch.cdist(testset, vnode_emb)\n",
    "pred_ncm = dist.argmin(dim=-1)"
   ]
  },
  {
   "cell_type": "code",
   "execution_count": 12,
   "metadata": {},
   "outputs": [
    {
     "data": {
      "text/plain": [
       "(array([103.,  21.,  97., 151.,  25., 122., 162., 265.,  96., 137.,  56.,\n",
       "         89.,  41., 208., 136.,  55.,  46.,  44.,  32., 174., 168., 102.,\n",
       "        166.,  78., 134., 126., 114., 313.,  45., 186.,  88., 150.,  62.,\n",
       "        342., 231.,  34., 117.,  65.,  50., 226., 112.,  82.,  38.,  21.,\n",
       "         52., 148.,  49.,  30., 223., 114.,  29., 250., 200., 260.,  40.,\n",
       "        189., 130., 371.,  85., 120.,  46.,  88.,  66., 116.,  59.,  36.,\n",
       "         55.,  34.,   6.,  12.]),\n",
       " array([ 0.        ,  0.98571429,  1.97142857,  2.95714286,  3.94285714,\n",
       "         4.92857143,  5.91428571,  6.9       ,  7.88571429,  8.87142857,\n",
       "         9.85714286, 10.84285714, 11.82857143, 12.81428571, 13.8       ,\n",
       "        14.78571429, 15.77142857, 16.75714286, 17.74285714, 18.72857143,\n",
       "        19.71428571, 20.7       , 21.68571429, 22.67142857, 23.65714286,\n",
       "        24.64285714, 25.62857143, 26.61428571, 27.6       , 28.58571429,\n",
       "        29.57142857, 30.55714286, 31.54285714, 32.52857143, 33.51428571,\n",
       "        34.5       , 35.48571429, 36.47142857, 37.45714286, 38.44285714,\n",
       "        39.42857143, 40.41428571, 41.4       , 42.38571429, 43.37142857,\n",
       "        44.35714286, 45.34285714, 46.32857143, 47.31428571, 48.3       ,\n",
       "        49.28571429, 50.27142857, 51.25714286, 52.24285714, 53.22857143,\n",
       "        54.21428571, 55.2       , 56.18571429, 57.17142857, 58.15714286,\n",
       "        59.14285714, 60.12857143, 61.11428571, 62.1       , 63.08571429,\n",
       "        64.07142857, 65.05714286, 66.04285714, 67.02857143, 68.01428571,\n",
       "        69.        ]),\n",
       " <BarContainer object of 70 artists>)"
      ]
     },
     "execution_count": 12,
     "metadata": {},
     "output_type": "execute_result"
    },
    {
     "data": {
      "image/png": "[encoded data removed]",
      "text/plain": [
       "<Figure size 640x480 with 1 Axes>"
      ]
     },
     "metadata": {},
     "output_type": "display_data"
    }
   ],
   "source": [
    "# test data real label\n",
    "plt.hist(testset_y.cpu().detach().numpy(), bins=70)"
   ]
  },
  {
   "cell_type": "code",
   "execution_count": 13,
   "metadata": {},
   "outputs": [
    {
     "data": {
      "text/plain": [
       "(array([ 95.,  21.,  82., 128.,  26., 128., 140., 270., 121., 132.,  53.,\n",
       "         97.,  25., 193., 151.,  64.,  63.,  53.,  27., 159., 183.,  84.,\n",
       "        164.,  71., 122., 138.,  72., 358.,  39., 202.,  86., 141.,  53.,\n",
       "        337., 239.,  42., 153.,  81.,  58., 225., 108.,  83.,  45.,  32.,\n",
       "         49., 115.,  72.,  25., 228.,  94.,  58., 291., 153., 254.,  46.,\n",
       "        182., 125., 345.,  68., 139.,  64., 134.,  44., 110.,  63.,  21.,\n",
       "         40.,  29.,   6.,  19.]),\n",
       " array([ 0.        ,  0.98571429,  1.97142857,  2.95714286,  3.94285714,\n",
       "         4.92857143,  5.91428571,  6.9       ,  7.88571429,  8.87142857,\n",
       "         9.85714286, 10.84285714, 11.82857143, 12.81428571, 13.8       ,\n",
       "        14.78571429, 15.77142857, 16.75714286, 17.74285714, 18.72857143,\n",
       "        19.71428571, 20.7       , 21.68571429, 22.67142857, 23.65714286,\n",
       "        24.64285714, 25.62857143, 26.61428571, 27.6       , 28.58571429,\n",
       "        29.57142857, 30.55714286, 31.54285714, 32.52857143, 33.51428571,\n",
       "        34.5       , 35.48571429, 36.47142857, 37.45714286, 38.44285714,\n",
       "        39.42857143, 40.41428571, 41.4       , 42.38571429, 43.37142857,\n",
       "        44.35714286, 45.34285714, 46.32857143, 47.31428571, 48.3       ,\n",
       "        49.28571429, 50.27142857, 51.25714286, 52.24285714, 53.22857143,\n",
       "        54.21428571, 55.2       , 56.18571429, 57.17142857, 58.15714286,\n",
       "        59.14285714, 60.12857143, 61.11428571, 62.1       , 63.08571429,\n",
       "        64.07142857, 65.05714286, 66.04285714, 67.02857143, 68.01428571,\n",
       "        69.        ]),\n",
       " <BarContainer object of 70 artists>)"
      ]
     },
     "execution_count": 13,
     "metadata": {},
     "output_type": "execute_result"
    },
    {
     "data": {
      "image/png": "[encoded data removed]",
      "text/plain": [
       "<Figure size 640x480 with 1 Axes>"
      ]
     },
     "metadata": {},
     "output_type": "display_data"
    }
   ],
   "source": [
    "# test data ncm prediction\n",
    "plt.hist(pred_ncm.cpu().numpy(), bins=70)"
   ]
  },
  {
   "cell_type": "code",
   "execution_count": 14,
   "metadata": {},
   "outputs": [
    {
     "data": {
      "text/plain": [
       "(array([1., 1., 1., 1., 1., 1., 1., 1., 1., 1., 1., 1., 1., 1., 1., 1., 1.,\n",
       "        1., 1., 1., 1., 1., 1., 1., 1., 1., 1., 1., 1., 1., 1., 1., 1., 1.,\n",
       "        1., 1., 1., 1., 1., 1., 1., 1., 1., 1., 1., 1., 1., 1., 1., 1., 1.,\n",
       "        1., 1., 1., 1., 1., 1., 1., 1., 1., 1., 1., 1., 1., 1., 1., 1., 1.,\n",
       "        1., 1.]),\n",
       " array([ 0.        ,  0.98571429,  1.97142857,  2.95714286,  3.94285714,\n",
       "         4.92857143,  5.91428571,  6.9       ,  7.88571429,  8.87142857,\n",
       "         9.85714286, 10.84285714, 11.82857143, 12.81428571, 13.8       ,\n",
       "        14.78571429, 15.77142857, 16.75714286, 17.74285714, 18.72857143,\n",
       "        19.71428571, 20.7       , 21.68571429, 22.67142857, 23.65714286,\n",
       "        24.64285714, 25.62857143, 26.61428571, 27.6       , 28.58571429,\n",
       "        29.57142857, 30.55714286, 31.54285714, 32.52857143, 33.51428571,\n",
       "        34.5       , 35.48571429, 36.47142857, 37.45714286, 38.44285714,\n",
       "        39.42857143, 40.41428571, 41.4       , 42.38571429, 43.37142857,\n",
       "        44.35714286, 45.34285714, 46.32857143, 47.31428571, 48.3       ,\n",
       "        49.28571429, 50.27142857, 51.25714286, 52.24285714, 53.22857143,\n",
       "        54.21428571, 55.2       , 56.18571429, 57.17142857, 58.15714286,\n",
       "        59.14285714, 60.12857143, 61.11428571, 62.1       , 63.08571429,\n",
       "        64.07142857, 65.05714286, 66.04285714, 67.02857143, 68.01428571,\n",
       "        69.        ]),\n",
       " <BarContainer object of 70 artists>)"
      ]
     },
     "execution_count": 14,
     "metadata": {},
     "output_type": "execute_result"
    },
    {
     "data": {
      "image/png": "[encoded data removed]",
      "text/plain": [
       "<Figure size 640x480 with 1 Axes>"
      ]
     },
     "metadata": {},
     "output_type": "display_data"
    }
   ],
   "source": [
    "# vnode model prediction\n",
    "vnode_out = out[-70:,:]\n",
    "pred = vnode_out.argmax(dim=-1)\n",
    "plt.hist(pred.cpu().detach().numpy(), bins=70)"
   ]
  },
  {
   "cell_type": "code",
   "execution_count": 15,
   "metadata": {},
   "outputs": [
    {
     "data": {
      "text/plain": [
       "(array([110.,   9., 105., 148.,  24., 124., 155., 279., 105., 141.,  49.,\n",
       "        100.,  26., 206., 156.,  54.,  61.,  45.,  27., 181., 164.,  90.,\n",
       "        153.,  64., 136., 134.,  77., 333.,  42., 195.,  91., 163.,  58.,\n",
       "        349., 278.,  30., 141.,  76.,  55., 229., 111.,  79.,  33.,  18.,\n",
       "         53., 138.,  61.,  26., 217.,  96.,  39., 269., 175., 265.,  22.,\n",
       "        200., 120., 369.,  85., 128.,  58., 100.,  40.,  98.,  66.,  17.,\n",
       "         33.,  29.,   1.,   9.]),\n",
       " array([ 0.        ,  0.98571429,  1.97142857,  2.95714286,  3.94285714,\n",
       "         4.92857143,  5.91428571,  6.9       ,  7.88571429,  8.87142857,\n",
       "         9.85714286, 10.84285714, 11.82857143, 12.81428571, 13.8       ,\n",
       "        14.78571429, 15.77142857, 16.75714286, 17.74285714, 18.72857143,\n",
       "        19.71428571, 20.7       , 21.68571429, 22.67142857, 23.65714286,\n",
       "        24.64285714, 25.62857143, 26.61428571, 27.6       , 28.58571429,\n",
       "        29.57142857, 30.55714286, 31.54285714, 32.52857143, 33.51428571,\n",
       "        34.5       , 35.48571429, 36.47142857, 37.45714286, 38.44285714,\n",
       "        39.42857143, 40.41428571, 41.4       , 42.38571429, 43.37142857,\n",
       "        44.35714286, 45.34285714, 46.32857143, 47.31428571, 48.3       ,\n",
       "        49.28571429, 50.27142857, 51.25714286, 52.24285714, 53.22857143,\n",
       "        54.21428571, 55.2       , 56.18571429, 57.17142857, 58.15714286,\n",
       "        59.14285714, 60.12857143, 61.11428571, 62.1       , 63.08571429,\n",
       "        64.07142857, 65.05714286, 66.04285714, 67.02857143, 68.01428571,\n",
       "        69.        ]),\n",
       " <BarContainer object of 70 artists>)"
      ]
     },
     "execution_count": 15,
     "metadata": {},
     "output_type": "execute_result"
    },
    {
     "data": {
      "image/png": "[encoded data removed]",
      "text/plain": [
       "<Figure size 640x480 with 1 Axes>"
      ]
     },
     "metadata": {},
     "output_type": "display_data"
    }
   ],
   "source": [
    "# test data model prediction\n",
    "pred = out[~data_for_tuning.train_mask].argmax(dim=-1)\n",
    "plt.hist(pred.cpu().detach().numpy(), bins=70)"
   ]
  },
  {
   "cell_type": "code",
   "execution_count": 20,
   "metadata": {},
   "outputs": [],
   "source": [
    "import plotly.express as px\n",
    "from sklearn.manifold import TSNE\n",
    "TSNE_emb = TSNE(n_components=3).fit_transform(vnode_emb.cpu().detach().numpy())\n"
   ]
  },
  {
   "cell_type": "code",
   "execution_count": 26,
   "metadata": {},
   "outputs": [
    {
     "data": {
      "application/vnd.plotly.v1+json": {
       "config": {
        "plotlyServerURL": "https://plot.ly"
       },
       "data": [
        {
         "hovertemplate": "x=%{x}<br>y=%{y}<br>z=%{z}<extra></extra>",
         "legendgroup": "",
         "marker": {
          "color": "#636efa",
          "symbol": "circle"
         },
         "mode": "markers",
         "name": "",
         "scene": "scene",
         "showlegend": false,
         "type": "scatter3d",
         "x": [
          -95.74327087402344,
          65.72980499267578,
          -48.258522033691406,
          20.410884857177734,
          98.61430358886719,
          63.98303985595703,
          65.71684265136719,
          76.22188568115234,
          -75.1961441040039,
          50.880409240722656,
          9.069851875305176,
          4.798262119293213,
          14.234549522399902,
          -57.14155578613281,
          97.2209701538086,
          -31.92408561706543,
          -99.4018325805664,
          -18.80767822265625,
          30.265790939331055,
          26.38025665283203,
          84.74372863769531,
          -73.08568572998047,
          130.8604736328125,
          -89.23033142089844,
          85.98511505126953,
          40.43890380859375,
          41.812644958496094,
          -115.58979797363281,
          1.5404677391052246,
          -5.639583587646484,
          58.41035461425781,
          -97.00952911376953,
          -64.47679901123047,
          -47.03942108154297,
          13.476765632629395,
          25.137060165405273,
          -61.04251480102539,
          55.941856384277344,
          -9.550734519958496,
          114.83432006835938,
          -51.97637939453125,
          101.80297088623047,
          -18.836750030517578,
          -52.604576110839844,
          -44.64971160888672,
          -47.805057525634766,
          45.60826873779297,
          94.87065124511719,
          -7.229259014129639,
          39.151397705078125,
          -0.7823817729949951,
          -103.36241149902344,
          -3.643312692642212,
          -53.069358825683594,
          -19.438072204589844,
          -16.36605453491211,
          -11.528762817382812,
          -56.104312896728516,
          23.93903160095215,
          58.73644256591797,
          8.417516708374023,
          130.9581298828125,
          -100.92558288574219,
          -27.89566421508789,
          -5.94136905670166,
          3.7862794399261475,
          28.96533966064453,
          63.28266143798828,
          3.3671135902404785,
          -46.61418151855469
         ],
         "y": [
          -77.69426727294922,
          30.840402603149414,
          -23.924528121948242,
          -57.18629455566406,
          69.77163696289062,
          85.20966339111328,
          -44.27293014526367,
          -104.6765365600586,
          -72.72538757324219,
          -27.71361541748047,
          116.1413345336914,
          -19.291906356811523,
          96.43596649169922,
          99.66215515136719,
          0.6681442260742188,
          -108.15274810791016,
          64.25804138183594,
          -25.479053497314453,
          -118.88876342773438,
          91.46124267578125,
          34.54998016357422,
          5.02919340133667,
          7.753103256225586,
          102.69082641601562,
          -52.349388122558594,
          56.726219177246094,
          24.296987533569336,
          -9.595412254333496,
          90.64189147949219,
          -8.045877456665039,
          116.16692352294922,
          18.179689407348633,
          55.737064361572266,
          32.337425231933594,
          -64.37309265136719,
          63.41473388671875,
          -31.17780113220215,
          26.419612884521484,
          31.48387908935547,
          -72.53970336914062,
          11.913349151611328,
          -9.979750633239746,
          -53.472965240478516,
          -110.507080078125,
          97.93016052246094,
          61.31570053100586,
          -110.00148010253906,
          -96.61982727050781,
          52.135833740234375,
          -4.887868881225586,
          9.424280166625977,
          -3.9241652488708496,
          -112.61239624023438,
          -30.85870933532715,
          -57.547000885009766,
          1.4144872426986694,
          60.863380432128906,
          9.640313148498535,
          -23.76140594482422,
          -45.314144134521484,
          -60.99778366088867,
          -35.36254119873047,
          38.12367248535156,
          -103.72444915771484,
          -53.802433013916016,
          22.48061180114746,
          19.256900787353516,
          -10.235013961791992,
          37.38737106323242,
          -61.01662063598633
         ],
         "z": [
          -29.69956398010254,
          -30.865684509277344,
          -56.113399505615234,
          2.293154001235962,
          -25.239910125732422,
          0.9982944130897522,
          57.660316467285156,
          1.2202754020690918,
          32.13572311401367,
          126.76919555664062,
          -26.194721221923828,
          62.258975982666016,
          66.67292022705078,
          -31.492048263549805,
          77.31690216064453,
          -50.46745681762695,
          -22.60027503967285,
          -103.18820190429688,
          -35.18714141845703,
          -110.71214294433594,
          26.74763298034668,
          -120.91094970703125,
          -2.8823609352111816,
          26.315540313720703,
          -14.795873641967773,
          60.863807678222656,
          94.23583221435547,
          17.694244384765625,
          10.156905174255371,
          4.664295196533203,
          51.99407196044922,
          -77.20500183105469,
          -97.65302276611328,
          -32.13018035888672,
          57.089256286621094,
          -41.47124481201172,
          -9.096580505371094,
          -88.7332534790039,
          55.700557708740234,
          52.91240310668945,
          20.906211853027344,
          -56.061485290527344,
          -35.7613410949707,
          -0.6240975260734558,
          75.72299194335938,
          27.80268096923828,
          69.1697769165039,
          -57.655643463134766,
          105.59078979492188,
          -119.73815155029297,
          -61.1753044128418,
          -28.502002716064453,
          24.512725830078125,
          56.91858673095703,
          22.81201934814453,
          131.86387634277344,
          -80.87113952636719,
          90.5572509765625,
          -29.4055118560791,
          -60.010318756103516,
          -71.30207061767578,
          -8.482961654663086,
          41.42621612548828,
          65.38999938964844,
          109.20101928710938,
          -126.33372497558594,
          23.648693084716797,
          2.8501362800598145,
          -7.304996490478516,
          -104.94593048095703
         ]
        }
       ],
       "layout": {
        "legend": {
         "tracegroupgap": 0
        },
        "margin": {
         "t": 60
        },
        "scene": {
         "domain": {
          "x": [
           0,
           1
          ],
          "y": [
           0,
           1
          ]
         },
         "xaxis": {
          "title": {
           "text": "x"
          }
         },
         "yaxis": {
          "title": {
           "text": "y"
          }
         },
         "zaxis": {
          "title": {
           "text": "z"
          }
         }
        },
        "template": {
         "data": {
          "bar": [
           {
            "error_x": {
             "color": "#2a3f5f"
            },
            "error_y": {
             "color": "#2a3f5f"
            },
            "marker": {
             "line": {
              "color": "#E5ECF6",
              "width": 0.5
             },
             "pattern": {
              "fillmode": "overlay",
              "size": 10,
              "solidity": 0.2
             }
            },
            "type": "bar"
           }
          ],
          "barpolar": [
           {
            "marker": {
             "line": {
              "color": "#E5ECF6",
              "width": 0.5
             },
             "pattern": {
              "fillmode": "overlay",
              "size": 10,
              "solidity": 0.2
             }
            },
            "type": "barpolar"
           }
          ],
          "carpet": [
           {
            "aaxis": {
             "endlinecolor": "#2a3f5f",
             "gridcolor": "white",
             "linecolor": "white",
             "minorgridcolor": "white",
             "startlinecolor": "#2a3f5f"
            },
            "baxis": {
             "endlinecolor": "#2a3f5f",
             "gridcolor": "white",
             "linecolor": "white",
             "minorgridcolor": "white",
             "startlinecolor": "#2a3f5f"
            },
            "type": "carpet"
           }
          ],
          "choropleth": [
           {
            "colorbar": {
             "outlinewidth": 0,
             "ticks": ""
            },
            "type": "choropleth"
           }
          ],
          "contour": [
           {
            "colorbar": {
             "outlinewidth": 0,
             "ticks": ""
            },
            "colorscale": [
             [
              0,
              "#0d0887"
             ],
             [
              0.1111111111111111,
              "#46039f"
             ],
             [
              0.2222222222222222,
              "#7201a8"
             ],
             [
              0.3333333333333333,
              "#9c179e"
             ],
             [
              0.4444444444444444,
              "#bd3786"
             ],
             [
              0.5555555555555556,
              "#d8576b"
             ],
             [
              0.6666666666666666,
              "#ed7953"
             ],
             [
              0.7777777777777778,
              "#fb9f3a"
             ],
             [
              0.8888888888888888,
              "#fdca26"
             ],
             [
              1,
              "#f0f921"
             ]
            ],
            "type": "contour"
           }
          ],
          "contourcarpet": [
           {
            "colorbar": {
             "outlinewidth": 0,
             "ticks": ""
            },
            "type": "contourcarpet"
           }
          ],
          "heatmap": [
           {
            "colorbar": {
             "outlinewidth": 0,
             "ticks": ""
            },
            "colorscale": [
             [
              0,
              "#0d0887"
             ],
             [
              0.1111111111111111,
              "#46039f"
             ],
             [
              0.2222222222222222,
              "#7201a8"
             ],
             [
              0.3333333333333333,
              "#9c179e"
             ],
             [
              0.4444444444444444,
              "#bd3786"
             ],
             [
              0.5555555555555556,
              "#d8576b"
             ],
             [
              0.6666666666666666,
              "#ed7953"
             ],
             [
              0.7777777777777778,
              "#fb9f3a"
             ],
             [
              0.8888888888888888,
              "#fdca26"
             ],
             [
              1,
              "#f0f921"
             ]
            ],
            "type": "heatmap"
           }
          ],
          "heatmapgl": [
           {
            "colorbar": {
             "outlinewidth": 0,
             "ticks": ""
            },
            "colorscale": [
             [
              0,
              "#0d0887"
             ],
             [
              0.1111111111111111,
              "#46039f"
             ],
             [
              0.2222222222222222,
              "#7201a8"
             ],
             [
              0.3333333333333333,
              "#9c179e"
             ],
             [
              0.4444444444444444,
              "#bd3786"
             ],
             [
              0.5555555555555556,
              "#d8576b"
             ],
             [
              0.6666666666666666,
              "#ed7953"
             ],
             [
              0.7777777777777778,
              "#fb9f3a"
             ],
             [
              0.8888888888888888,
              "#fdca26"
             ],
             [
              1,
              "#f0f921"
             ]
            ],
            "type": "heatmapgl"
           }
          ],
          "histogram": [
           {
            "marker": {
             "pattern": {
              "fillmode": "overlay",
              "size": 10,
              "solidity": 0.2
             }
            },
            "type": "histogram"
           }
          ],
          "histogram2d": [
           {
            "colorbar": {
             "outlinewidth": 0,
             "ticks": ""
            },
            "colorscale": [
             [
              0,
              "#0d0887"
             ],
             [
              0.1111111111111111,
              "#46039f"
             ],
             [
              0.2222222222222222,
              "#7201a8"
             ],
             [
              0.3333333333333333,
              "#9c179e"
             ],
             [
              0.4444444444444444,
              "#bd3786"
             ],
             [
              0.5555555555555556,
              "#d8576b"
             ],
             [
              0.6666666666666666,
              "#ed7953"
             ],
             [
              0.7777777777777778,
              "#fb9f3a"
             ],
             [
              0.8888888888888888,
              "#fdca26"
             ],
             [
              1,
              "#f0f921"
             ]
            ],
            "type": "histogram2d"
           }
          ],
          "histogram2dcontour": [
           {
            "colorbar": {
             "outlinewidth": 0,
             "ticks": ""
            },
            "colorscale": [
             [
              0,
              "#0d0887"
             ],
             [
              0.1111111111111111,
              "#46039f"
             ],
             [
              0.2222222222222222,
              "#7201a8"
             ],
             [
              0.3333333333333333,
              "#9c179e"
             ],
             [
              0.4444444444444444,
              "#bd3786"
             ],
             [
              0.5555555555555556,
              "#d8576b"
             ],
             [
              0.6666666666666666,
              "#ed7953"
             ],
             [
              0.7777777777777778,
              "#fb9f3a"
             ],
             [
              0.8888888888888888,
              "#fdca26"
             ],
             [
              1,
              "#f0f921"
             ]
            ],
            "type": "histogram2dcontour"
           }
          ],
          "mesh3d": [
           {
            "colorbar": {
             "outlinewidth": 0,
             "ticks": ""
            },
            "type": "mesh3d"
           }
          ],
          "parcoords": [
           {
            "line": {
             "colorbar": {
              "outlinewidth": 0,
              "ticks": ""
             }
            },
            "type": "parcoords"
           }
          ],
          "pie": [
           {
            "automargin": true,
            "type": "pie"
           }
          ],
          "scatter": [
           {
            "fillpattern": {
             "fillmode": "overlay",
             "size": 10,
             "solidity": 0.2
            },
            "type": "scatter"
           }
          ],
          "scatter3d": [
           {
            "line": {
             "colorbar": {
              "outlinewidth": 0,
              "ticks": ""
             }
            },
            "marker": {
             "colorbar": {
              "outlinewidth": 0,
              "ticks": ""
             }
            },
            "type": "scatter3d"
           }
          ],
          "scattercarpet": [
           {
            "marker": {
             "colorbar": {
              "outlinewidth": 0,
              "ticks": ""
             }
            },
            "type": "scattercarpet"
           }
          ],
          "scattergeo": [
           {
            "marker": {
             "colorbar": {
              "outlinewidth": 0,
              "ticks": ""
             }
            },
            "type": "scattergeo"
           }
          ],
          "scattergl": [
           {
            "marker": {
             "colorbar": {
              "outlinewidth": 0,
              "ticks": ""
             }
            },
            "type": "scattergl"
           }
          ],
          "scattermapbox": [
           {
            "marker": {
             "colorbar": {
              "outlinewidth": 0,
              "ticks": ""
             }
            },
            "type": "scattermapbox"
           }
          ],
          "scatterpolar": [
           {
            "marker": {
             "colorbar": {
              "outlinewidth": 0,
              "ticks": ""
             }
            },
            "type": "scatterpolar"
           }
          ],
          "scatterpolargl": [
           {
            "marker": {
             "colorbar": {
              "outlinewidth": 0,
              "ticks": ""
             }
            },
            "type": "scatterpolargl"
           }
          ],
          "scatterternary": [
           {
            "marker": {
             "colorbar": {
              "outlinewidth": 0,
              "ticks": ""
             }
            },
            "type": "scatterternary"
           }
          ],
          "surface": [
           {
            "colorbar": {
             "outlinewidth": 0,
             "ticks": ""
            },
            "colorscale": [
             [
              0,
              "#0d0887"
             ],
             [
              0.1111111111111111,
              "#46039f"
             ],
             [
              0.2222222222222222,
              "#7201a8"
             ],
             [
              0.3333333333333333,
              "#9c179e"
             ],
             [
              0.4444444444444444,
              "#bd3786"
             ],
             [
              0.5555555555555556,
              "#d8576b"
             ],
             [
              0.6666666666666666,
              "#ed7953"
             ],
             [
              0.7777777777777778,
              "#fb9f3a"
             ],
             [
              0.8888888888888888,
              "#fdca26"
             ],
             [
              1,
              "#f0f921"
             ]
            ],
            "type": "surface"
           }
          ],
          "table": [
           {
            "cells": {
             "fill": {
              "color": "#EBF0F8"
             },
             "line": {
              "color": "white"
             }
            },
            "header": {
             "fill": {
              "color": "#C8D4E3"
             },
             "line": {
              "color": "white"
             }
            },
            "type": "table"
           }
          ]
         },
         "layout": {
          "annotationdefaults": {
           "arrowcolor": "#2a3f5f",
           "arrowhead": 0,
           "arrowwidth": 1
          },
          "autotypenumbers": "strict",
          "coloraxis": {
           "colorbar": {
            "outlinewidth": 0,
            "ticks": ""
           }
          },
          "colorscale": {
           "diverging": [
            [
             0,
             "#8e0152"
            ],
            [
             0.1,
             "#c51b7d"
            ],
            [
             0.2,
             "#de77ae"
            ],
            [
             0.3,
             "#f1b6da"
            ],
            [
             0.4,
             "#fde0ef"
            ],
            [
             0.5,
             "#f7f7f7"
            ],
            [
             0.6,
             "#e6f5d0"
            ],
            [
             0.7,
             "#b8e186"
            ],
            [
             0.8,
             "#7fbc41"
            ],
            [
             0.9,
             "#4d9221"
            ],
            [
             1,
             "#276419"
            ]
           ],
           "sequential": [
            [
             0,
             "#0d0887"
            ],
            [
             0.1111111111111111,
             "#46039f"
            ],
            [
             0.2222222222222222,
             "#7201a8"
            ],
            [
             0.3333333333333333,
             "#9c179e"
            ],
            [
             0.4444444444444444,
             "#bd3786"
            ],
            [
             0.5555555555555556,
             "#d8576b"
            ],
            [
             0.6666666666666666,
             "#ed7953"
            ],
            [
             0.7777777777777778,
             "#fb9f3a"
            ],
            [
             0.8888888888888888,
             "#fdca26"
            ],
            [
             1,
             "#f0f921"
            ]
           ],
           "sequentialminus": [
            [
             0,
             "#0d0887"
            ],
            [
             0.1111111111111111,
             "#46039f"
            ],
            [
             0.2222222222222222,
             "#7201a8"
            ],
            [
             0.3333333333333333,
             "#9c179e"
            ],
            [
             0.4444444444444444,
             "#bd3786"
            ],
            [
             0.5555555555555556,
             "#d8576b"
            ],
            [
             0.6666666666666666,
             "#ed7953"
            ],
            [
             0.7777777777777778,
             "#fb9f3a"
            ],
            [
             0.8888888888888888,
             "#fdca26"
            ],
            [
             1,
             "#f0f921"
            ]
           ]
          },
          "colorway": [
           "#636efa",
           "#EF553B",
           "#00cc96",
           "#ab63fa",
           "#FFA15A",
           "#19d3f3",
           "#FF6692",
           "#B6E880",
           "#FF97FF",
           "#FECB52"
          ],
          "font": {
           "color": "#2a3f5f"
          },
          "geo": {
           "bgcolor": "white",
           "lakecolor": "white",
           "landcolor": "#E5ECF6",
           "showlakes": true,
           "showland": true,
           "subunitcolor": "white"
          },
          "hoverlabel": {
           "align": "left"
          },
          "hovermode": "closest",
          "mapbox": {
           "style": "light"
          },
          "paper_bgcolor": "white",
          "plot_bgcolor": "#E5ECF6",
          "polar": {
           "angularaxis": {
            "gridcolor": "white",
            "linecolor": "white",
            "ticks": ""
           },
           "bgcolor": "#E5ECF6",
           "radialaxis": {
            "gridcolor": "white",
            "linecolor": "white",
            "ticks": ""
           }
          },
          "scene": {
           "xaxis": {
            "backgroundcolor": "#E5ECF6",
            "gridcolor": "white",
            "gridwidth": 2,
            "linecolor": "white",
            "showbackground": true,
            "ticks": "",
            "zerolinecolor": "white"
           },
           "yaxis": {
            "backgroundcolor": "#E5ECF6",
            "gridcolor": "white",
            "gridwidth": 2,
            "linecolor": "white",
            "showbackground": true,
            "ticks": "",
            "zerolinecolor": "white"
           },
           "zaxis": {
            "backgroundcolor": "#E5ECF6",
            "gridcolor": "white",
            "gridwidth": 2,
            "linecolor": "white",
            "showbackground": true,
            "ticks": "",
            "zerolinecolor": "white"
           }
          },
          "shapedefaults": {
           "line": {
            "color": "#2a3f5f"
           }
          },
          "ternary": {
           "aaxis": {
            "gridcolor": "white",
            "linecolor": "white",
            "ticks": ""
           },
           "baxis": {
            "gridcolor": "white",
            "linecolor": "white",
            "ticks": ""
           },
           "bgcolor": "#E5ECF6",
           "caxis": {
            "gridcolor": "white",
            "linecolor": "white",
            "ticks": ""
           }
          },
          "title": {
           "x": 0.05
          },
          "xaxis": {
           "automargin": true,
           "gridcolor": "white",
           "linecolor": "white",
           "ticks": "",
           "title": {
            "standoff": 15
           },
           "zerolinecolor": "white",
           "zerolinewidth": 2
          },
          "yaxis": {
           "automargin": true,
           "gridcolor": "white",
           "linecolor": "white",
           "ticks": "",
           "title": {
            "standoff": 15
           },
           "zerolinecolor": "white",
           "zerolinewidth": 2
          }
         }
        }
       }
      },
      "text/html": [
       "<div>                            <div id=\"e5e3fd43-7614-4881-82ed-343661cbe894\" class=\"plotly-graph-div\" style=\"height:525px; width:100%;\"></div>            <script type=\"text/javascript\">                require([\"plotly\"], function(Plotly) {                    window.PLOTLYENV=window.PLOTLYENV || {};                                    if (document.getElementById(\"e5e3fd43-7614-4881-82ed-343661cbe894\")) {                    Plotly.newPlot(                        \"e5e3fd43-7614-4881-82ed-343661cbe894\",                        [{\"hovertemplate\":\"x=%{x}<br>y=%{y}<br>z=%{z}<extra></extra>\",\"legendgroup\":\"\",\"marker\":{\"color\":\"#636efa\",\"symbol\":\"circle\"},\"mode\":\"markers\",\"name\":\"\",\"scene\":\"scene\",\"showlegend\":false,\"x\":[-95.74327087402344,65.72980499267578,-48.258522033691406,20.410884857177734,98.61430358886719,63.98303985595703,65.71684265136719,76.22188568115234,-75.1961441040039,50.880409240722656,9.069851875305176,4.798262119293213,14.234549522399902,-57.14155578613281,97.2209701538086,-31.92408561706543,-99.4018325805664,-18.80767822265625,30.265790939331055,26.38025665283203,84.74372863769531,-73.08568572998047,130.8604736328125,-89.23033142089844,85.98511505126953,40.43890380859375,41.812644958496094,-115.58979797363281,1.5404677391052246,-5.639583587646484,58.41035461425781,-97.00952911376953,-64.47679901123047,-47.03942108154297,13.476765632629395,25.137060165405273,-61.04251480102539,55.941856384277344,-9.550734519958496,114.83432006835938,-51.97637939453125,101.80297088623047,-18.836750030517578,-52.604576110839844,-44.64971160888672,-47.805057525634766,45.60826873779297,94.87065124511719,-7.229259014129639,39.151397705078125,-0.7823817729949951,-103.36241149902344,-3.643312692642212,-53.069358825683594,-19.438072204589844,-16.36605453491211,-11.528762817382812,-56.104312896728516,23.93903160095215,58.73644256591797,8.417516708374023,130.9581298828125,-100.92558288574219,-27.89566421508789,-5.94136905670166,3.7862794399261475,28.96533966064453,63.28266143798828,3.3671135902404785,-46.61418151855469],\"y\":[-77.69426727294922,30.840402603149414,-23.924528121948242,-57.18629455566406,69.77163696289062,85.20966339111328,-44.27293014526367,-104.6765365600586,-72.72538757324219,-27.71361541748047,116.1413345336914,-19.291906356811523,96.43596649169922,99.66215515136719,0.6681442260742188,-108.15274810791016,64.25804138183594,-25.479053497314453,-118.88876342773438,91.46124267578125,34.54998016357422,5.02919340133667,7.753103256225586,102.69082641601562,-52.349388122558594,56.726219177246094,24.296987533569336,-9.595412254333496,90.64189147949219,-8.045877456665039,116.16692352294922,18.179689407348633,55.737064361572266,32.337425231933594,-64.37309265136719,63.41473388671875,-31.17780113220215,26.419612884521484,31.48387908935547,-72.53970336914062,11.913349151611328,-9.979750633239746,-53.472965240478516,-110.507080078125,97.93016052246094,61.31570053100586,-110.00148010253906,-96.61982727050781,52.135833740234375,-4.887868881225586,9.424280166625977,-3.9241652488708496,-112.61239624023438,-30.85870933532715,-57.547000885009766,1.4144872426986694,60.863380432128906,9.640313148498535,-23.76140594482422,-45.314144134521484,-60.99778366088867,-35.36254119873047,38.12367248535156,-103.72444915771484,-53.802433013916016,22.48061180114746,19.256900787353516,-10.235013961791992,37.38737106323242,-61.01662063598633],\"z\":[-29.69956398010254,-30.865684509277344,-56.113399505615234,2.293154001235962,-25.239910125732422,0.9982944130897522,57.660316467285156,1.2202754020690918,32.13572311401367,126.76919555664062,-26.194721221923828,62.258975982666016,66.67292022705078,-31.492048263549805,77.31690216064453,-50.46745681762695,-22.60027503967285,-103.18820190429688,-35.18714141845703,-110.71214294433594,26.74763298034668,-120.91094970703125,-2.8823609352111816,26.315540313720703,-14.795873641967773,60.863807678222656,94.23583221435547,17.694244384765625,10.156905174255371,4.664295196533203,51.99407196044922,-77.20500183105469,-97.65302276611328,-32.13018035888672,57.089256286621094,-41.47124481201172,-9.096580505371094,-88.7332534790039,55.700557708740234,52.91240310668945,20.906211853027344,-56.061485290527344,-35.7613410949707,-0.6240975260734558,75.72299194335938,27.80268096923828,69.1697769165039,-57.655643463134766,105.59078979492188,-119.73815155029297,-61.1753044128418,-28.502002716064453,24.512725830078125,56.91858673095703,22.81201934814453,131.86387634277344,-80.87113952636719,90.5572509765625,-29.4055118560791,-60.010318756103516,-71.30207061767578,-8.482961654663086,41.42621612548828,65.38999938964844,109.20101928710938,-126.33372497558594,23.648693084716797,2.8501362800598145,-7.304996490478516,-104.94593048095703],\"type\":\"scatter3d\"}],                        {\"template\":{\"data\":{\"histogram2dcontour\":[{\"type\":\"histogram2dcontour\",\"colorbar\":{\"outlinewidth\":0,\"ticks\":\"\"},\"colorscale\":[[0.0,\"#0d0887\"],[0.1111111111111111,\"#46039f\"],[0.2222222222222222,\"#7201a8\"],[0.3333333333333333,\"#9c179e\"],[0.4444444444444444,\"#bd3786\"],[0.5555555555555556,\"#d8576b\"],[0.6666666666666666,\"#ed7953\"],[0.7777777777777778,\"#fb9f3a\"],[0.8888888888888888,\"#fdca26\"],[1.0,\"#f0f921\"]]}],\"choropleth\":[{\"type\":\"choropleth\",\"colorbar\":{\"outlinewidth\":0,\"ticks\":\"\"}}],\"histogram2d\":[{\"type\":\"histogram2d\",\"colorbar\":{\"outlinewidth\":0,\"ticks\":\"\"},\"colorscale\":[[0.0,\"#0d0887\"],[0.1111111111111111,\"#46039f\"],[0.2222222222222222,\"#7201a8\"],[0.3333333333333333,\"#9c179e\"],[0.4444444444444444,\"#bd3786\"],[0.5555555555555556,\"#d8576b\"],[0.6666666666666666,\"#ed7953\"],[0.7777777777777778,\"#fb9f3a\"],[0.8888888888888888,\"#fdca26\"],[1.0,\"#f0f921\"]]}],\"heatmap\":[{\"type\":\"heatmap\",\"colorbar\":{\"outlinewidth\":0,\"ticks\":\"\"},\"colorscale\":[[0.0,\"#0d0887\"],[0.1111111111111111,\"#46039f\"],[0.2222222222222222,\"#7201a8\"],[0.3333333333333333,\"#9c179e\"],[0.4444444444444444,\"#bd3786\"],[0.5555555555555556,\"#d8576b\"],[0.6666666666666666,\"#ed7953\"],[0.7777777777777778,\"#fb9f3a\"],[0.8888888888888888,\"#fdca26\"],[1.0,\"#f0f921\"]]}],\"heatmapgl\":[{\"type\":\"heatmapgl\",\"colorbar\":{\"outlinewidth\":0,\"ticks\":\"\"},\"colorscale\":[[0.0,\"#0d0887\"],[0.1111111111111111,\"#46039f\"],[0.2222222222222222,\"#7201a8\"],[0.3333333333333333,\"#9c179e\"],[0.4444444444444444,\"#bd3786\"],[0.5555555555555556,\"#d8576b\"],[0.6666666666666666,\"#ed7953\"],[0.7777777777777778,\"#fb9f3a\"],[0.8888888888888888,\"#fdca26\"],[1.0,\"#f0f921\"]]}],\"contourcarpet\":[{\"type\":\"contourcarpet\",\"colorbar\":{\"outlinewidth\":0,\"ticks\":\"\"}}],\"contour\":[{\"type\":\"contour\",\"colorbar\":{\"outlinewidth\":0,\"ticks\":\"\"},\"colorscale\":[[0.0,\"#0d0887\"],[0.1111111111111111,\"#46039f\"],[0.2222222222222222,\"#7201a8\"],[0.3333333333333333,\"#9c179e\"],[0.4444444444444444,\"#bd3786\"],[0.5555555555555556,\"#d8576b\"],[0.6666666666666666,\"#ed7953\"],[0.7777777777777778,\"#fb9f3a\"],[0.8888888888888888,\"#fdca26\"],[1.0,\"#f0f921\"]]}],\"surface\":[{\"type\":\"surface\",\"colorbar\":{\"outlinewidth\":0,\"ticks\":\"\"},\"colorscale\":[[0.0,\"#0d0887\"],[0.1111111111111111,\"#46039f\"],[0.2222222222222222,\"#7201a8\"],[0.3333333333333333,\"#9c179e\"],[0.4444444444444444,\"#bd3786\"],[0.5555555555555556,\"#d8576b\"],[0.6666666666666666,\"#ed7953\"],[0.7777777777777778,\"#fb9f3a\"],[0.8888888888888888,\"#fdca26\"],[1.0,\"#f0f921\"]]}],\"mesh3d\":[{\"type\":\"mesh3d\",\"colorbar\":{\"outlinewidth\":0,\"ticks\":\"\"}}],\"scatter\":[{\"fillpattern\":{\"fillmode\":\"overlay\",\"size\":10,\"solidity\":0.2},\"type\":\"scatter\"}],\"parcoords\":[{\"type\":\"parcoords\",\"line\":{\"colorbar\":{\"outlinewidth\":0,\"ticks\":\"\"}}}],\"scatterpolargl\":[{\"type\":\"scatterpolargl\",\"marker\":{\"colorbar\":{\"outlinewidth\":0,\"ticks\":\"\"}}}],\"bar\":[{\"error_x\":{\"color\":\"#2a3f5f\"},\"error_y\":{\"color\":\"#2a3f5f\"},\"marker\":{\"line\":{\"color\":\"#E5ECF6\",\"width\":0.5},\"pattern\":{\"fillmode\":\"overlay\",\"size\":10,\"solidity\":0.2}},\"type\":\"bar\"}],\"scattergeo\":[{\"type\":\"scattergeo\",\"marker\":{\"colorbar\":{\"outlinewidth\":0,\"ticks\":\"\"}}}],\"scatterpolar\":[{\"type\":\"scatterpolar\",\"marker\":{\"colorbar\":{\"outlinewidth\":0,\"ticks\":\"\"}}}],\"histogram\":[{\"marker\":{\"pattern\":{\"fillmode\":\"overlay\",\"size\":10,\"solidity\":0.2}},\"type\":\"histogram\"}],\"scattergl\":[{\"type\":\"scattergl\",\"marker\":{\"colorbar\":{\"outlinewidth\":0,\"ticks\":\"\"}}}],\"scatter3d\":[{\"type\":\"scatter3d\",\"line\":{\"colorbar\":{\"outlinewidth\":0,\"ticks\":\"\"}},\"marker\":{\"colorbar\":{\"outlinewidth\":0,\"ticks\":\"\"}}}],\"scattermapbox\":[{\"type\":\"scattermapbox\",\"marker\":{\"colorbar\":{\"outlinewidth\":0,\"ticks\":\"\"}}}],\"scatterternary\":[{\"type\":\"scatterternary\",\"marker\":{\"colorbar\":{\"outlinewidth\":0,\"ticks\":\"\"}}}],\"scattercarpet\":[{\"type\":\"scattercarpet\",\"marker\":{\"colorbar\":{\"outlinewidth\":0,\"ticks\":\"\"}}}],\"carpet\":[{\"aaxis\":{\"endlinecolor\":\"#2a3f5f\",\"gridcolor\":\"white\",\"linecolor\":\"white\",\"minorgridcolor\":\"white\",\"startlinecolor\":\"#2a3f5f\"},\"baxis\":{\"endlinecolor\":\"#2a3f5f\",\"gridcolor\":\"white\",\"linecolor\":\"white\",\"minorgridcolor\":\"white\",\"startlinecolor\":\"#2a3f5f\"},\"type\":\"carpet\"}],\"table\":[{\"cells\":{\"fill\":{\"color\":\"#EBF0F8\"},\"line\":{\"color\":\"white\"}},\"header\":{\"fill\":{\"color\":\"#C8D4E3\"},\"line\":{\"color\":\"white\"}},\"type\":\"table\"}],\"barpolar\":[{\"marker\":{\"line\":{\"color\":\"#E5ECF6\",\"width\":0.5},\"pattern\":{\"fillmode\":\"overlay\",\"size\":10,\"solidity\":0.2}},\"type\":\"barpolar\"}],\"pie\":[{\"automargin\":true,\"type\":\"pie\"}]},\"layout\":{\"autotypenumbers\":\"strict\",\"colorway\":[\"#636efa\",\"#EF553B\",\"#00cc96\",\"#ab63fa\",\"#FFA15A\",\"#19d3f3\",\"#FF6692\",\"#B6E880\",\"#FF97FF\",\"#FECB52\"],\"font\":{\"color\":\"#2a3f5f\"},\"hovermode\":\"closest\",\"hoverlabel\":{\"align\":\"left\"},\"paper_bgcolor\":\"white\",\"plot_bgcolor\":\"#E5ECF6\",\"polar\":{\"bgcolor\":\"#E5ECF6\",\"angularaxis\":{\"gridcolor\":\"white\",\"linecolor\":\"white\",\"ticks\":\"\"},\"radialaxis\":{\"gridcolor\":\"white\",\"linecolor\":\"white\",\"ticks\":\"\"}},\"ternary\":{\"bgcolor\":\"#E5ECF6\",\"aaxis\":{\"gridcolor\":\"white\",\"linecolor\":\"white\",\"ticks\":\"\"},\"baxis\":{\"gridcolor\":\"white\",\"linecolor\":\"white\",\"ticks\":\"\"},\"caxis\":{\"gridcolor\":\"white\",\"linecolor\":\"white\",\"ticks\":\"\"}},\"coloraxis\":{\"colorbar\":{\"outlinewidth\":0,\"ticks\":\"\"}},\"colorscale\":{\"sequential\":[[0.0,\"#0d0887\"],[0.1111111111111111,\"#46039f\"],[0.2222222222222222,\"#7201a8\"],[0.3333333333333333,\"#9c179e\"],[0.4444444444444444,\"#bd3786\"],[0.5555555555555556,\"#d8576b\"],[0.6666666666666666,\"#ed7953\"],[0.7777777777777778,\"#fb9f3a\"],[0.8888888888888888,\"#fdca26\"],[1.0,\"#f0f921\"]],\"sequentialminus\":[[0.0,\"#0d0887\"],[0.1111111111111111,\"#46039f\"],[0.2222222222222222,\"#7201a8\"],[0.3333333333333333,\"#9c179e\"],[0.4444444444444444,\"#bd3786\"],[0.5555555555555556,\"#d8576b\"],[0.6666666666666666,\"#ed7953\"],[0.7777777777777778,\"#fb9f3a\"],[0.8888888888888888,\"#fdca26\"],[1.0,\"#f0f921\"]],\"diverging\":[[0,\"#8e0152\"],[0.1,\"#c51b7d\"],[0.2,\"#de77ae\"],[0.3,\"#f1b6da\"],[0.4,\"#fde0ef\"],[0.5,\"#f7f7f7\"],[0.6,\"#e6f5d0\"],[0.7,\"#b8e186\"],[0.8,\"#7fbc41\"],[0.9,\"#4d9221\"],[1,\"#276419\"]]},\"xaxis\":{\"gridcolor\":\"white\",\"linecolor\":\"white\",\"ticks\":\"\",\"title\":{\"standoff\":15},\"zerolinecolor\":\"white\",\"automargin\":true,\"zerolinewidth\":2},\"yaxis\":{\"gridcolor\":\"white\",\"linecolor\":\"white\",\"ticks\":\"\",\"title\":{\"standoff\":15},\"zerolinecolor\":\"white\",\"automargin\":true,\"zerolinewidth\":2},\"scene\":{\"xaxis\":{\"backgroundcolor\":\"#E5ECF6\",\"gridcolor\":\"white\",\"linecolor\":\"white\",\"showbackground\":true,\"ticks\":\"\",\"zerolinecolor\":\"white\",\"gridwidth\":2},\"yaxis\":{\"backgroundcolor\":\"#E5ECF6\",\"gridcolor\":\"white\",\"linecolor\":\"white\",\"showbackground\":true,\"ticks\":\"\",\"zerolinecolor\":\"white\",\"gridwidth\":2},\"zaxis\":{\"backgroundcolor\":\"#E5ECF6\",\"gridcolor\":\"white\",\"linecolor\":\"white\",\"showbackground\":true,\"ticks\":\"\",\"zerolinecolor\":\"white\",\"gridwidth\":2}},\"shapedefaults\":{\"line\":{\"color\":\"#2a3f5f\"}},\"annotationdefaults\":{\"arrowcolor\":\"#2a3f5f\",\"arrowhead\":0,\"arrowwidth\":1},\"geo\":{\"bgcolor\":\"white\",\"landcolor\":\"#E5ECF6\",\"subunitcolor\":\"white\",\"showland\":true,\"showlakes\":true,\"lakecolor\":\"white\"},\"title\":{\"x\":0.05},\"mapbox\":{\"style\":\"light\"}}},\"scene\":{\"domain\":{\"x\":[0.0,1.0],\"y\":[0.0,1.0]},\"xaxis\":{\"title\":{\"text\":\"x\"}},\"yaxis\":{\"title\":{\"text\":\"y\"}},\"zaxis\":{\"title\":{\"text\":\"z\"}}},\"legend\":{\"tracegroupgap\":0},\"margin\":{\"t\":60}},                        {\"responsive\": true}                    ).then(function(){\n",
       "                            \n",
       "var gd = document.getElementById('e5e3fd43-7614-4881-82ed-343661cbe894');\n",
       "var x = new MutationObserver(function (mutations, observer) {{\n",
       "        var display = window.getComputedStyle(gd).display;\n",
       "        if (!display || display === 'none') {{\n",
       "            console.log([gd, 'removed!']);\n",
       "            Plotly.purge(gd);\n",
       "            observer.disconnect();\n",
       "        }}\n",
       "}});\n",
       "\n",
       "// Listen for the removal of the full notebook cells\n",
       "var notebookContainer = gd.closest('#notebook-container');\n",
       "if (notebookContainer) {{\n",
       "    x.observe(notebookContainer, {childList: true});\n",
       "}}\n",
       "\n",
       "// Listen for the clearing of the current output cell\n",
       "var outputEl = gd.closest('.output');\n",
       "if (outputEl) {{\n",
       "    x.observe(outputEl, {childList: true});\n",
       "}}\n",
       "\n",
       "                        })                };                });            </script>        </div>"
      ]
     },
     "metadata": {},
     "output_type": "display_data"
    }
   ],
   "source": [
    "fig = px.scatter_3d(\n",
    "    x=TSNE_emb[:,0],\n",
    "    y=TSNE_emb[:,1],\n",
    "    z=TSNE_emb[:,2]\n",
    "    )\n",
    "fig.show()"
   ]
  },
  {
   "cell_type": "code",
   "execution_count": 28,
   "metadata": {},
   "outputs": [
    {
     "data": {
      "text/plain": [
       "<mpl_toolkits.mplot3d.art3d.Path3DCollection at 0x7f72772a45e0>"
      ]
     },
     "execution_count": 28,
     "metadata": {},
     "output_type": "execute_result"
    },
    {
     "data": {
      "image/png": "[encoded data removed]",
      "text/plain": [
       "<Figure size 640x480 with 1 Axes>"
      ]
     },
     "metadata": {},
     "output_type": "display_data"
    },
    {
     "data": {
      "image/png": "[encoded data removed]",
      "text/plain": [
       "<Figure size 640x480 with 1 Axes>"
      ]
     },
     "metadata": {},
     "output_type": "display_data"
    }
   ],
   "source": [
    "from sklearn.manifold import TSNE\n",
    "TSNE_emb = TSNE(n_components=3).fit_transform(vnode_emb.cpu().detach().numpy())\n",
    "\n",
    "fig = plt.figure()\n",
    "ax = fig.add_subplot(projection='3d')\n",
    "ax.scatter(TSNE_emb[:,0], TSNE_emb[:,1], TSNE_emb[:,2])"
   ]
  },
  {
   "cell_type": "code",
   "execution_count": 27,
   "metadata": {},
   "outputs": [
    {
     "data": {
      "text/plain": [
       "(70, 3)"
      ]
     },
     "execution_count": 27,
     "metadata": {},
     "output_type": "execute_result"
    }
   ],
   "source": [
    "from sklearn.manifold import TSNE\n",
    "TSNE_emb = TSNE(n_components=3).fit_transform(vnode_emb.cpu().detach().numpy())\n",
    "TSNE_emb.shape"
   ]
  },
  {
   "cell_type": "code",
   "execution_count": 27,
   "metadata": {},
   "outputs": [],
   "source": [
    "from sklearn.metrics import f1_score\n",
    "from sklearn.metrics import classification_report"
   ]
  },
  {
   "cell_type": "code",
   "execution_count": 29,
   "metadata": {},
   "outputs": [],
   "source": [
    "# train data real label\n",
    "train_y = data_for_tuning.y[data_for_tuning.train_mask]\n",
    "train_emb = embedding[data_for_tuning.train_mask]\n",
    "vnode_emb = embedding[-70:,:]\n",
    "\n",
    "train_ncm_label = torch.cdist(train_emb, vnode_emb).argmin(dim=-1)\n",
    "\n",
    "report = classification_report(train_ncm_label.cpu(), train_y.cpu(), output_dict=True)"
   ]
  },
  {
   "cell_type": "code",
   "execution_count": null,
   "metadata": {},
   "outputs": [],
   "source": []
  },
  {
   "cell_type": "code",
   "execution_count": 30,
   "metadata": {},
   "outputs": [],
   "source": [
    "pd.set_option('display.max_rows', 1000)"
   ]
  },
  {
   "cell_type": "code",
   "execution_count": 31,
   "metadata": {},
   "outputs": [
    {
     "data": {
      "text/html": [
       "<div>\n",
       "<style scoped>\n",
       "    .dataframe tbody tr th:only-of-type {\n",
       "        vertical-align: middle;\n",
       "    }\n",
       "\n",
       "    .dataframe tbody tr th {\n",
       "        vertical-align: top;\n",
       "    }\n",
       "\n",
       "    .dataframe thead th {\n",
       "        text-align: right;\n",
       "    }\n",
       "</style>\n",
       "<table border=\"1\" class=\"dataframe\">\n",
       "  <thead>\n",
       "    <tr style=\"text-align: right;\">\n",
       "      <th></th>\n",
       "      <th>precision</th>\n",
       "      <th>recall</th>\n",
       "      <th>f1-score</th>\n",
       "      <th>support</th>\n",
       "    </tr>\n",
       "  </thead>\n",
       "  <tbody>\n",
       "    <tr>\n",
       "      <th>0</th>\n",
       "      <td>0.941935</td>\n",
       "      <td>0.948052</td>\n",
       "      <td>0.944984</td>\n",
       "      <td>154.000000</td>\n",
       "    </tr>\n",
       "    <tr>\n",
       "      <th>1</th>\n",
       "      <td>1.000000</td>\n",
       "      <td>0.864865</td>\n",
       "      <td>0.927536</td>\n",
       "      <td>37.000000</td>\n",
       "    </tr>\n",
       "    <tr>\n",
       "      <th>2</th>\n",
       "      <td>0.870748</td>\n",
       "      <td>0.977099</td>\n",
       "      <td>0.920863</td>\n",
       "      <td>131.000000</td>\n",
       "    </tr>\n",
       "    <tr>\n",
       "      <th>3</th>\n",
       "      <td>0.951754</td>\n",
       "      <td>0.964444</td>\n",
       "      <td>0.958057</td>\n",
       "      <td>225.000000</td>\n",
       "    </tr>\n",
       "    <tr>\n",
       "      <th>4</th>\n",
       "      <td>1.000000</td>\n",
       "      <td>0.975000</td>\n",
       "      <td>0.987342</td>\n",
       "      <td>40.000000</td>\n",
       "    </tr>\n",
       "    <tr>\n",
       "      <th>5</th>\n",
       "      <td>0.972826</td>\n",
       "      <td>0.957219</td>\n",
       "      <td>0.964960</td>\n",
       "      <td>187.000000</td>\n",
       "    </tr>\n",
       "    <tr>\n",
       "      <th>6</th>\n",
       "      <td>0.893004</td>\n",
       "      <td>0.990868</td>\n",
       "      <td>0.939394</td>\n",
       "      <td>219.000000</td>\n",
       "    </tr>\n",
       "    <tr>\n",
       "      <th>7</th>\n",
       "      <td>0.899749</td>\n",
       "      <td>0.918159</td>\n",
       "      <td>0.908861</td>\n",
       "      <td>391.000000</td>\n",
       "    </tr>\n",
       "    <tr>\n",
       "      <th>8</th>\n",
       "      <td>1.000000</td>\n",
       "      <td>0.941558</td>\n",
       "      <td>0.969900</td>\n",
       "      <td>154.000000</td>\n",
       "    </tr>\n",
       "    <tr>\n",
       "      <th>9</th>\n",
       "      <td>0.927184</td>\n",
       "      <td>0.979487</td>\n",
       "      <td>0.952618</td>\n",
       "      <td>195.000000</td>\n",
       "    </tr>\n",
       "    <tr>\n",
       "      <th>10</th>\n",
       "      <td>0.965116</td>\n",
       "      <td>0.821782</td>\n",
       "      <td>0.887701</td>\n",
       "      <td>101.000000</td>\n",
       "    </tr>\n",
       "    <tr>\n",
       "      <th>11</th>\n",
       "      <td>0.962963</td>\n",
       "      <td>0.921986</td>\n",
       "      <td>0.942029</td>\n",
       "      <td>141.000000</td>\n",
       "    </tr>\n",
       "    <tr>\n",
       "      <th>12</th>\n",
       "      <td>0.854839</td>\n",
       "      <td>0.913793</td>\n",
       "      <td>0.883333</td>\n",
       "      <td>58.000000</td>\n",
       "    </tr>\n",
       "    <tr>\n",
       "      <th>13</th>\n",
       "      <td>0.942675</td>\n",
       "      <td>0.942675</td>\n",
       "      <td>0.942675</td>\n",
       "      <td>314.000000</td>\n",
       "    </tr>\n",
       "    <tr>\n",
       "      <th>14</th>\n",
       "      <td>0.961165</td>\n",
       "      <td>0.925234</td>\n",
       "      <td>0.942857</td>\n",
       "      <td>214.000000</td>\n",
       "    </tr>\n",
       "    <tr>\n",
       "      <th>15</th>\n",
       "      <td>0.976190</td>\n",
       "      <td>0.836735</td>\n",
       "      <td>0.901099</td>\n",
       "      <td>98.000000</td>\n",
       "    </tr>\n",
       "    <tr>\n",
       "      <th>16</th>\n",
       "      <td>1.000000</td>\n",
       "      <td>0.886076</td>\n",
       "      <td>0.939597</td>\n",
       "      <td>79.000000</td>\n",
       "    </tr>\n",
       "    <tr>\n",
       "      <th>17</th>\n",
       "      <td>1.000000</td>\n",
       "      <td>0.906667</td>\n",
       "      <td>0.951049</td>\n",
       "      <td>75.000000</td>\n",
       "    </tr>\n",
       "    <tr>\n",
       "      <th>18</th>\n",
       "      <td>0.938776</td>\n",
       "      <td>0.978723</td>\n",
       "      <td>0.958333</td>\n",
       "      <td>47.000000</td>\n",
       "    </tr>\n",
       "    <tr>\n",
       "      <th>19</th>\n",
       "      <td>0.870229</td>\n",
       "      <td>0.946058</td>\n",
       "      <td>0.906561</td>\n",
       "      <td>241.000000</td>\n",
       "    </tr>\n",
       "    <tr>\n",
       "      <th>20</th>\n",
       "      <td>0.944664</td>\n",
       "      <td>0.891791</td>\n",
       "      <td>0.917466</td>\n",
       "      <td>268.000000</td>\n",
       "    </tr>\n",
       "    <tr>\n",
       "      <th>21</th>\n",
       "      <td>0.960784</td>\n",
       "      <td>0.973510</td>\n",
       "      <td>0.967105</td>\n",
       "      <td>151.000000</td>\n",
       "    </tr>\n",
       "    <tr>\n",
       "      <th>22</th>\n",
       "      <td>0.867470</td>\n",
       "      <td>0.857143</td>\n",
       "      <td>0.862275</td>\n",
       "      <td>252.000000</td>\n",
       "    </tr>\n",
       "    <tr>\n",
       "      <th>23</th>\n",
       "      <td>0.924370</td>\n",
       "      <td>0.924370</td>\n",
       "      <td>0.924370</td>\n",
       "      <td>119.000000</td>\n",
       "    </tr>\n",
       "    <tr>\n",
       "      <th>24</th>\n",
       "      <td>0.880597</td>\n",
       "      <td>0.967213</td>\n",
       "      <td>0.921875</td>\n",
       "      <td>183.000000</td>\n",
       "    </tr>\n",
       "    <tr>\n",
       "      <th>25</th>\n",
       "      <td>0.915789</td>\n",
       "      <td>0.865672</td>\n",
       "      <td>0.890026</td>\n",
       "      <td>201.000000</td>\n",
       "    </tr>\n",
       "    <tr>\n",
       "      <th>26</th>\n",
       "      <td>0.719298</td>\n",
       "      <td>0.953488</td>\n",
       "      <td>0.820000</td>\n",
       "      <td>129.000000</td>\n",
       "    </tr>\n",
       "    <tr>\n",
       "      <th>27</th>\n",
       "      <td>0.966030</td>\n",
       "      <td>0.919192</td>\n",
       "      <td>0.942029</td>\n",
       "      <td>495.000000</td>\n",
       "    </tr>\n",
       "    <tr>\n",
       "      <th>28</th>\n",
       "      <td>0.855072</td>\n",
       "      <td>0.867647</td>\n",
       "      <td>0.861314</td>\n",
       "      <td>68.000000</td>\n",
       "    </tr>\n",
       "    <tr>\n",
       "      <th>29</th>\n",
       "      <td>0.985765</td>\n",
       "      <td>0.923333</td>\n",
       "      <td>0.953528</td>\n",
       "      <td>300.000000</td>\n",
       "    </tr>\n",
       "    <tr>\n",
       "      <th>30</th>\n",
       "      <td>0.940299</td>\n",
       "      <td>0.933333</td>\n",
       "      <td>0.936803</td>\n",
       "      <td>135.000000</td>\n",
       "    </tr>\n",
       "    <tr>\n",
       "      <th>31</th>\n",
       "      <td>0.889868</td>\n",
       "      <td>0.885965</td>\n",
       "      <td>0.887912</td>\n",
       "      <td>228.000000</td>\n",
       "    </tr>\n",
       "    <tr>\n",
       "      <th>32</th>\n",
       "      <td>0.881720</td>\n",
       "      <td>0.921348</td>\n",
       "      <td>0.901099</td>\n",
       "      <td>89.000000</td>\n",
       "    </tr>\n",
       "    <tr>\n",
       "      <th>33</th>\n",
       "      <td>0.896887</td>\n",
       "      <td>0.936992</td>\n",
       "      <td>0.916501</td>\n",
       "      <td>492.000000</td>\n",
       "    </tr>\n",
       "    <tr>\n",
       "      <th>34</th>\n",
       "      <td>0.930636</td>\n",
       "      <td>0.917379</td>\n",
       "      <td>0.923960</td>\n",
       "      <td>351.000000</td>\n",
       "    </tr>\n",
       "    <tr>\n",
       "      <th>35</th>\n",
       "      <td>0.764706</td>\n",
       "      <td>0.795918</td>\n",
       "      <td>0.780000</td>\n",
       "      <td>49.000000</td>\n",
       "    </tr>\n",
       "    <tr>\n",
       "      <th>36</th>\n",
       "      <td>0.966102</td>\n",
       "      <td>0.822115</td>\n",
       "      <td>0.888312</td>\n",
       "      <td>208.000000</td>\n",
       "    </tr>\n",
       "    <tr>\n",
       "      <th>37</th>\n",
       "      <td>0.969697</td>\n",
       "      <td>0.950495</td>\n",
       "      <td>0.960000</td>\n",
       "      <td>101.000000</td>\n",
       "    </tr>\n",
       "    <tr>\n",
       "      <th>38</th>\n",
       "      <td>0.828947</td>\n",
       "      <td>0.840000</td>\n",
       "      <td>0.834437</td>\n",
       "      <td>75.000000</td>\n",
       "    </tr>\n",
       "    <tr>\n",
       "      <th>39</th>\n",
       "      <td>0.905605</td>\n",
       "      <td>0.938838</td>\n",
       "      <td>0.921922</td>\n",
       "      <td>327.000000</td>\n",
       "    </tr>\n",
       "    <tr>\n",
       "      <th>40</th>\n",
       "      <td>0.982249</td>\n",
       "      <td>0.932584</td>\n",
       "      <td>0.956772</td>\n",
       "      <td>178.000000</td>\n",
       "    </tr>\n",
       "    <tr>\n",
       "      <th>41</th>\n",
       "      <td>0.895161</td>\n",
       "      <td>0.909836</td>\n",
       "      <td>0.902439</td>\n",
       "      <td>122.000000</td>\n",
       "    </tr>\n",
       "    <tr>\n",
       "      <th>42</th>\n",
       "      <td>0.947368</td>\n",
       "      <td>0.931034</td>\n",
       "      <td>0.939130</td>\n",
       "      <td>58.000000</td>\n",
       "    </tr>\n",
       "    <tr>\n",
       "      <th>43</th>\n",
       "      <td>1.000000</td>\n",
       "      <td>0.673469</td>\n",
       "      <td>0.804878</td>\n",
       "      <td>49.000000</td>\n",
       "    </tr>\n",
       "    <tr>\n",
       "      <th>44</th>\n",
       "      <td>0.923077</td>\n",
       "      <td>0.986301</td>\n",
       "      <td>0.953642</td>\n",
       "      <td>73.000000</td>\n",
       "    </tr>\n",
       "    <tr>\n",
       "      <th>45</th>\n",
       "      <td>0.901345</td>\n",
       "      <td>0.980488</td>\n",
       "      <td>0.939252</td>\n",
       "      <td>205.000000</td>\n",
       "    </tr>\n",
       "    <tr>\n",
       "      <th>46</th>\n",
       "      <td>0.945946</td>\n",
       "      <td>0.833333</td>\n",
       "      <td>0.886076</td>\n",
       "      <td>84.000000</td>\n",
       "    </tr>\n",
       "    <tr>\n",
       "      <th>47</th>\n",
       "      <td>1.000000</td>\n",
       "      <td>0.978261</td>\n",
       "      <td>0.989011</td>\n",
       "      <td>46.000000</td>\n",
       "    </tr>\n",
       "    <tr>\n",
       "      <th>48</th>\n",
       "      <td>0.892537</td>\n",
       "      <td>0.943218</td>\n",
       "      <td>0.917178</td>\n",
       "      <td>317.000000</td>\n",
       "    </tr>\n",
       "    <tr>\n",
       "      <th>49</th>\n",
       "      <td>0.889535</td>\n",
       "      <td>0.921687</td>\n",
       "      <td>0.905325</td>\n",
       "      <td>166.000000</td>\n",
       "    </tr>\n",
       "    <tr>\n",
       "      <th>50</th>\n",
       "      <td>0.977273</td>\n",
       "      <td>0.811321</td>\n",
       "      <td>0.886598</td>\n",
       "      <td>53.000000</td>\n",
       "    </tr>\n",
       "    <tr>\n",
       "      <th>51</th>\n",
       "      <td>0.938830</td>\n",
       "      <td>0.891414</td>\n",
       "      <td>0.914508</td>\n",
       "      <td>396.000000</td>\n",
       "    </tr>\n",
       "    <tr>\n",
       "      <th>52</th>\n",
       "      <td>0.778146</td>\n",
       "      <td>0.917969</td>\n",
       "      <td>0.842294</td>\n",
       "      <td>256.000000</td>\n",
       "    </tr>\n",
       "    <tr>\n",
       "      <th>53</th>\n",
       "      <td>0.953964</td>\n",
       "      <td>0.939547</td>\n",
       "      <td>0.946701</td>\n",
       "      <td>397.000000</td>\n",
       "    </tr>\n",
       "    <tr>\n",
       "      <th>54</th>\n",
       "      <td>0.783333</td>\n",
       "      <td>0.758065</td>\n",
       "      <td>0.770492</td>\n",
       "      <td>62.000000</td>\n",
       "    </tr>\n",
       "    <tr>\n",
       "      <th>55</th>\n",
       "      <td>0.891228</td>\n",
       "      <td>0.916968</td>\n",
       "      <td>0.903915</td>\n",
       "      <td>277.000000</td>\n",
       "    </tr>\n",
       "    <tr>\n",
       "      <th>56</th>\n",
       "      <td>0.928205</td>\n",
       "      <td>0.967914</td>\n",
       "      <td>0.947644</td>\n",
       "      <td>187.000000</td>\n",
       "    </tr>\n",
       "    <tr>\n",
       "      <th>57</th>\n",
       "      <td>0.897849</td>\n",
       "      <td>0.945283</td>\n",
       "      <td>0.920956</td>\n",
       "      <td>530.000000</td>\n",
       "    </tr>\n",
       "    <tr>\n",
       "      <th>58</th>\n",
       "      <td>0.773438</td>\n",
       "      <td>0.916667</td>\n",
       "      <td>0.838983</td>\n",
       "      <td>108.000000</td>\n",
       "    </tr>\n",
       "    <tr>\n",
       "      <th>59</th>\n",
       "      <td>0.983516</td>\n",
       "      <td>0.877451</td>\n",
       "      <td>0.927461</td>\n",
       "      <td>204.000000</td>\n",
       "    </tr>\n",
       "    <tr>\n",
       "      <th>60</th>\n",
       "      <td>0.985915</td>\n",
       "      <td>0.843373</td>\n",
       "      <td>0.909091</td>\n",
       "      <td>83.000000</td>\n",
       "    </tr>\n",
       "    <tr>\n",
       "      <th>61</th>\n",
       "      <td>0.969925</td>\n",
       "      <td>0.796296</td>\n",
       "      <td>0.874576</td>\n",
       "      <td>162.000000</td>\n",
       "    </tr>\n",
       "    <tr>\n",
       "      <th>62</th>\n",
       "      <td>0.860000</td>\n",
       "      <td>0.914894</td>\n",
       "      <td>0.886598</td>\n",
       "      <td>94.000000</td>\n",
       "    </tr>\n",
       "    <tr>\n",
       "      <th>63</th>\n",
       "      <td>0.931818</td>\n",
       "      <td>0.916201</td>\n",
       "      <td>0.923944</td>\n",
       "      <td>179.000000</td>\n",
       "    </tr>\n",
       "    <tr>\n",
       "      <th>64</th>\n",
       "      <td>0.921348</td>\n",
       "      <td>0.901099</td>\n",
       "      <td>0.911111</td>\n",
       "      <td>91.000000</td>\n",
       "    </tr>\n",
       "    <tr>\n",
       "      <th>65</th>\n",
       "      <td>0.910714</td>\n",
       "      <td>0.894737</td>\n",
       "      <td>0.902655</td>\n",
       "      <td>57.000000</td>\n",
       "    </tr>\n",
       "    <tr>\n",
       "      <th>66</th>\n",
       "      <td>0.903614</td>\n",
       "      <td>0.882353</td>\n",
       "      <td>0.892857</td>\n",
       "      <td>85.000000</td>\n",
       "    </tr>\n",
       "    <tr>\n",
       "      <th>67</th>\n",
       "      <td>1.000000</td>\n",
       "      <td>0.864407</td>\n",
       "      <td>0.927273</td>\n",
       "      <td>59.000000</td>\n",
       "    </tr>\n",
       "    <tr>\n",
       "      <th>68</th>\n",
       "      <td>1.000000</td>\n",
       "      <td>0.555556</td>\n",
       "      <td>0.714286</td>\n",
       "      <td>18.000000</td>\n",
       "    </tr>\n",
       "    <tr>\n",
       "      <th>69</th>\n",
       "      <td>1.000000</td>\n",
       "      <td>0.666667</td>\n",
       "      <td>0.800000</td>\n",
       "      <td>27.000000</td>\n",
       "    </tr>\n",
       "    <tr>\n",
       "      <th>accuracy</th>\n",
       "      <td>0.917371</td>\n",
       "      <td>0.917371</td>\n",
       "      <td>0.917371</td>\n",
       "      <td>0.917371</td>\n",
       "    </tr>\n",
       "    <tr>\n",
       "      <th>macro avg</th>\n",
       "      <td>0.924140</td>\n",
       "      <td>0.899294</td>\n",
       "      <td>0.908233</td>\n",
       "      <td>11945.000000</td>\n",
       "    </tr>\n",
       "    <tr>\n",
       "      <th>weighted avg</th>\n",
       "      <td>0.920897</td>\n",
       "      <td>0.917371</td>\n",
       "      <td>0.917499</td>\n",
       "      <td>11945.000000</td>\n",
       "    </tr>\n",
       "  </tbody>\n",
       "</table>\n",
       "</div>"
      ],
      "text/plain": [
       "              precision    recall  f1-score       support\n",
       "0              0.941935  0.948052  0.944984    154.000000\n",
       "1              1.000000  0.864865  0.927536     37.000000\n",
       "2              0.870748  0.977099  0.920863    131.000000\n",
       "3              0.951754  0.964444  0.958057    225.000000\n",
       "4              1.000000  0.975000  0.987342     40.000000\n",
       "5              0.972826  0.957219  0.964960    187.000000\n",
       "6              0.893004  0.990868  0.939394    219.000000\n",
       "7              0.899749  0.918159  0.908861    391.000000\n",
       "8              1.000000  0.941558  0.969900    154.000000\n",
       "9              0.927184  0.979487  0.952618    195.000000\n",
       "10             0.965116  0.821782  0.887701    101.000000\n",
       "11             0.962963  0.921986  0.942029    141.000000\n",
       "12             0.854839  0.913793  0.883333     58.000000\n",
       "13             0.942675  0.942675  0.942675    314.000000\n",
       "14             0.961165  0.925234  0.942857    214.000000\n",
       "15             0.976190  0.836735  0.901099     98.000000\n",
       "16             1.000000  0.886076  0.939597     79.000000\n",
       "17             1.000000  0.906667  0.951049     75.000000\n",
       "18             0.938776  0.978723  0.958333     47.000000\n",
       "19             0.870229  0.946058  0.906561    241.000000\n",
       "20             0.944664  0.891791  0.917466    268.000000\n",
       "21             0.960784  0.973510  0.967105    151.000000\n",
       "22             0.867470  0.857143  0.862275    252.000000\n",
       "23             0.924370  0.924370  0.924370    119.000000\n",
       "24             0.880597  0.967213  0.921875    183.000000\n",
       "25             0.915789  0.865672  0.890026    201.000000\n",
       "26             0.719298  0.953488  0.820000    129.000000\n",
       "27             0.966030  0.919192  0.942029    495.000000\n",
       "28             0.855072  0.867647  0.861314     68.000000\n",
       "29             0.985765  0.923333  0.953528    300.000000\n",
       "30             0.940299  0.933333  0.936803    135.000000\n",
       "31             0.889868  0.885965  0.887912    228.000000\n",
       "32             0.881720  0.921348  0.901099     89.000000\n",
       "33             0.896887  0.936992  0.916501    492.000000\n",
       "34             0.930636  0.917379  0.923960    351.000000\n",
       "35             0.764706  0.795918  0.780000     49.000000\n",
       "36             0.966102  0.822115  0.888312    208.000000\n",
       "37             0.969697  0.950495  0.960000    101.000000\n",
       "38             0.828947  0.840000  0.834437     75.000000\n",
       "39             0.905605  0.938838  0.921922    327.000000\n",
       "40             0.982249  0.932584  0.956772    178.000000\n",
       "41             0.895161  0.909836  0.902439    122.000000\n",
       "42             0.947368  0.931034  0.939130     58.000000\n",
       "43             1.000000  0.673469  0.804878     49.000000\n",
       "44             0.923077  0.986301  0.953642     73.000000\n",
       "45             0.901345  0.980488  0.939252    205.000000\n",
       "46             0.945946  0.833333  0.886076     84.000000\n",
       "47             1.000000  0.978261  0.989011     46.000000\n",
       "48             0.892537  0.943218  0.917178    317.000000\n",
       "49             0.889535  0.921687  0.905325    166.000000\n",
       "50             0.977273  0.811321  0.886598     53.000000\n",
       "51             0.938830  0.891414  0.914508    396.000000\n",
       "52             0.778146  0.917969  0.842294    256.000000\n",
       "53             0.953964  0.939547  0.946701    397.000000\n",
       "54             0.783333  0.758065  0.770492     62.000000\n",
       "55             0.891228  0.916968  0.903915    277.000000\n",
       "56             0.928205  0.967914  0.947644    187.000000\n",
       "57             0.897849  0.945283  0.920956    530.000000\n",
       "58             0.773438  0.916667  0.838983    108.000000\n",
       "59             0.983516  0.877451  0.927461    204.000000\n",
       "60             0.985915  0.843373  0.909091     83.000000\n",
       "61             0.969925  0.796296  0.874576    162.000000\n",
       "62             0.860000  0.914894  0.886598     94.000000\n",
       "63             0.931818  0.916201  0.923944    179.000000\n",
       "64             0.921348  0.901099  0.911111     91.000000\n",
       "65             0.910714  0.894737  0.902655     57.000000\n",
       "66             0.903614  0.882353  0.892857     85.000000\n",
       "67             1.000000  0.864407  0.927273     59.000000\n",
       "68             1.000000  0.555556  0.714286     18.000000\n",
       "69             1.000000  0.666667  0.800000     27.000000\n",
       "accuracy       0.917371  0.917371  0.917371      0.917371\n",
       "macro avg      0.924140  0.899294  0.908233  11945.000000\n",
       "weighted avg   0.920897  0.917371  0.917499  11945.000000"
      ]
     },
     "execution_count": 31,
     "metadata": {},
     "output_type": "execute_result"
    }
   ],
   "source": [
    "# classification report for train data ncm and real data\n",
    "result = pd.DataFrame(report).T\n",
    "result"
   ]
  },
  {
   "cell_type": "code",
   "execution_count": 32,
   "metadata": {},
   "outputs": [
    {
     "data": {
      "text/html": [
       "<div>\n",
       "<style scoped>\n",
       "    .dataframe tbody tr th:only-of-type {\n",
       "        vertical-align: middle;\n",
       "    }\n",
       "\n",
       "    .dataframe tbody tr th {\n",
       "        vertical-align: top;\n",
       "    }\n",
       "\n",
       "    .dataframe thead th {\n",
       "        text-align: right;\n",
       "    }\n",
       "</style>\n",
       "<table border=\"1\" class=\"dataframe\">\n",
       "  <thead>\n",
       "    <tr style=\"text-align: right;\">\n",
       "      <th></th>\n",
       "      <th>precision</th>\n",
       "      <th>recall</th>\n",
       "      <th>f1-score</th>\n",
       "      <th>support</th>\n",
       "    </tr>\n",
       "  </thead>\n",
       "  <tbody>\n",
       "    <tr>\n",
       "      <th>0</th>\n",
       "      <td>0.708738</td>\n",
       "      <td>0.768421</td>\n",
       "      <td>0.737374</td>\n",
       "      <td>95.000000</td>\n",
       "    </tr>\n",
       "    <tr>\n",
       "      <th>1</th>\n",
       "      <td>0.476190</td>\n",
       "      <td>0.476190</td>\n",
       "      <td>0.476190</td>\n",
       "      <td>21.000000</td>\n",
       "    </tr>\n",
       "    <tr>\n",
       "      <th>2</th>\n",
       "      <td>0.628866</td>\n",
       "      <td>0.743902</td>\n",
       "      <td>0.681564</td>\n",
       "      <td>82.000000</td>\n",
       "    </tr>\n",
       "    <tr>\n",
       "      <th>3</th>\n",
       "      <td>0.662252</td>\n",
       "      <td>0.781250</td>\n",
       "      <td>0.716846</td>\n",
       "      <td>128.000000</td>\n",
       "    </tr>\n",
       "    <tr>\n",
       "      <th>4</th>\n",
       "      <td>0.680000</td>\n",
       "      <td>0.653846</td>\n",
       "      <td>0.666667</td>\n",
       "      <td>26.000000</td>\n",
       "    </tr>\n",
       "    <tr>\n",
       "      <th>5</th>\n",
       "      <td>0.770492</td>\n",
       "      <td>0.734375</td>\n",
       "      <td>0.752000</td>\n",
       "      <td>128.000000</td>\n",
       "    </tr>\n",
       "    <tr>\n",
       "      <th>6</th>\n",
       "      <td>0.802469</td>\n",
       "      <td>0.928571</td>\n",
       "      <td>0.860927</td>\n",
       "      <td>140.000000</td>\n",
       "    </tr>\n",
       "    <tr>\n",
       "      <th>7</th>\n",
       "      <td>0.656604</td>\n",
       "      <td>0.644444</td>\n",
       "      <td>0.650467</td>\n",
       "      <td>270.000000</td>\n",
       "    </tr>\n",
       "    <tr>\n",
       "      <th>8</th>\n",
       "      <td>0.791667</td>\n",
       "      <td>0.628099</td>\n",
       "      <td>0.700461</td>\n",
       "      <td>121.000000</td>\n",
       "    </tr>\n",
       "    <tr>\n",
       "      <th>9</th>\n",
       "      <td>0.788321</td>\n",
       "      <td>0.818182</td>\n",
       "      <td>0.802974</td>\n",
       "      <td>132.000000</td>\n",
       "    </tr>\n",
       "    <tr>\n",
       "      <th>10</th>\n",
       "      <td>0.446429</td>\n",
       "      <td>0.471698</td>\n",
       "      <td>0.458716</td>\n",
       "      <td>53.000000</td>\n",
       "    </tr>\n",
       "    <tr>\n",
       "      <th>11</th>\n",
       "      <td>0.662921</td>\n",
       "      <td>0.608247</td>\n",
       "      <td>0.634409</td>\n",
       "      <td>97.000000</td>\n",
       "    </tr>\n",
       "    <tr>\n",
       "      <th>12</th>\n",
       "      <td>0.317073</td>\n",
       "      <td>0.520000</td>\n",
       "      <td>0.393939</td>\n",
       "      <td>25.000000</td>\n",
       "    </tr>\n",
       "    <tr>\n",
       "      <th>13</th>\n",
       "      <td>0.658654</td>\n",
       "      <td>0.709845</td>\n",
       "      <td>0.683292</td>\n",
       "      <td>193.000000</td>\n",
       "    </tr>\n",
       "    <tr>\n",
       "      <th>14</th>\n",
       "      <td>0.823529</td>\n",
       "      <td>0.741722</td>\n",
       "      <td>0.780488</td>\n",
       "      <td>151.000000</td>\n",
       "    </tr>\n",
       "    <tr>\n",
       "      <th>15</th>\n",
       "      <td>0.672727</td>\n",
       "      <td>0.578125</td>\n",
       "      <td>0.621849</td>\n",
       "      <td>64.000000</td>\n",
       "    </tr>\n",
       "    <tr>\n",
       "      <th>16</th>\n",
       "      <td>0.739130</td>\n",
       "      <td>0.539683</td>\n",
       "      <td>0.623853</td>\n",
       "      <td>63.000000</td>\n",
       "    </tr>\n",
       "    <tr>\n",
       "      <th>17</th>\n",
       "      <td>0.750000</td>\n",
       "      <td>0.622642</td>\n",
       "      <td>0.680412</td>\n",
       "      <td>53.000000</td>\n",
       "    </tr>\n",
       "    <tr>\n",
       "      <th>18</th>\n",
       "      <td>0.656250</td>\n",
       "      <td>0.777778</td>\n",
       "      <td>0.711864</td>\n",
       "      <td>27.000000</td>\n",
       "    </tr>\n",
       "    <tr>\n",
       "      <th>19</th>\n",
       "      <td>0.643678</td>\n",
       "      <td>0.704403</td>\n",
       "      <td>0.672673</td>\n",
       "      <td>159.000000</td>\n",
       "    </tr>\n",
       "    <tr>\n",
       "      <th>20</th>\n",
       "      <td>0.684524</td>\n",
       "      <td>0.628415</td>\n",
       "      <td>0.655271</td>\n",
       "      <td>183.000000</td>\n",
       "    </tr>\n",
       "    <tr>\n",
       "      <th>21</th>\n",
       "      <td>0.578431</td>\n",
       "      <td>0.702381</td>\n",
       "      <td>0.634409</td>\n",
       "      <td>84.000000</td>\n",
       "    </tr>\n",
       "    <tr>\n",
       "      <th>22</th>\n",
       "      <td>0.656627</td>\n",
       "      <td>0.664634</td>\n",
       "      <td>0.660606</td>\n",
       "      <td>164.000000</td>\n",
       "    </tr>\n",
       "    <tr>\n",
       "      <th>23</th>\n",
       "      <td>0.423077</td>\n",
       "      <td>0.464789</td>\n",
       "      <td>0.442953</td>\n",
       "      <td>71.000000</td>\n",
       "    </tr>\n",
       "    <tr>\n",
       "      <th>24</th>\n",
       "      <td>0.656716</td>\n",
       "      <td>0.721311</td>\n",
       "      <td>0.687500</td>\n",
       "      <td>122.000000</td>\n",
       "    </tr>\n",
       "    <tr>\n",
       "      <th>25</th>\n",
       "      <td>0.666667</td>\n",
       "      <td>0.608696</td>\n",
       "      <td>0.636364</td>\n",
       "      <td>138.000000</td>\n",
       "    </tr>\n",
       "    <tr>\n",
       "      <th>26</th>\n",
       "      <td>0.508772</td>\n",
       "      <td>0.805556</td>\n",
       "      <td>0.623656</td>\n",
       "      <td>72.000000</td>\n",
       "    </tr>\n",
       "    <tr>\n",
       "      <th>27</th>\n",
       "      <td>0.798722</td>\n",
       "      <td>0.698324</td>\n",
       "      <td>0.745156</td>\n",
       "      <td>358.000000</td>\n",
       "    </tr>\n",
       "    <tr>\n",
       "      <th>28</th>\n",
       "      <td>0.466667</td>\n",
       "      <td>0.538462</td>\n",
       "      <td>0.500000</td>\n",
       "      <td>39.000000</td>\n",
       "    </tr>\n",
       "    <tr>\n",
       "      <th>29</th>\n",
       "      <td>0.924731</td>\n",
       "      <td>0.851485</td>\n",
       "      <td>0.886598</td>\n",
       "      <td>202.000000</td>\n",
       "    </tr>\n",
       "    <tr>\n",
       "      <th>30</th>\n",
       "      <td>0.647727</td>\n",
       "      <td>0.662791</td>\n",
       "      <td>0.655172</td>\n",
       "      <td>86.000000</td>\n",
       "    </tr>\n",
       "    <tr>\n",
       "      <th>31</th>\n",
       "      <td>0.626667</td>\n",
       "      <td>0.666667</td>\n",
       "      <td>0.646048</td>\n",
       "      <td>141.000000</td>\n",
       "    </tr>\n",
       "    <tr>\n",
       "      <th>32</th>\n",
       "      <td>0.516129</td>\n",
       "      <td>0.603774</td>\n",
       "      <td>0.556522</td>\n",
       "      <td>53.000000</td>\n",
       "    </tr>\n",
       "    <tr>\n",
       "      <th>33</th>\n",
       "      <td>0.783626</td>\n",
       "      <td>0.795252</td>\n",
       "      <td>0.789396</td>\n",
       "      <td>337.000000</td>\n",
       "    </tr>\n",
       "    <tr>\n",
       "      <th>34</th>\n",
       "      <td>0.744589</td>\n",
       "      <td>0.719665</td>\n",
       "      <td>0.731915</td>\n",
       "      <td>239.000000</td>\n",
       "    </tr>\n",
       "    <tr>\n",
       "      <th>35</th>\n",
       "      <td>0.352941</td>\n",
       "      <td>0.285714</td>\n",
       "      <td>0.315789</td>\n",
       "      <td>42.000000</td>\n",
       "    </tr>\n",
       "    <tr>\n",
       "      <th>36</th>\n",
       "      <td>0.760684</td>\n",
       "      <td>0.581699</td>\n",
       "      <td>0.659259</td>\n",
       "      <td>153.000000</td>\n",
       "    </tr>\n",
       "    <tr>\n",
       "      <th>37</th>\n",
       "      <td>0.846154</td>\n",
       "      <td>0.679012</td>\n",
       "      <td>0.753425</td>\n",
       "      <td>81.000000</td>\n",
       "    </tr>\n",
       "    <tr>\n",
       "      <th>38</th>\n",
       "      <td>0.720000</td>\n",
       "      <td>0.620690</td>\n",
       "      <td>0.666667</td>\n",
       "      <td>58.000000</td>\n",
       "    </tr>\n",
       "    <tr>\n",
       "      <th>39</th>\n",
       "      <td>0.818584</td>\n",
       "      <td>0.822222</td>\n",
       "      <td>0.820399</td>\n",
       "      <td>225.000000</td>\n",
       "    </tr>\n",
       "    <tr>\n",
       "      <th>40</th>\n",
       "      <td>0.785714</td>\n",
       "      <td>0.814815</td>\n",
       "      <td>0.800000</td>\n",
       "      <td>108.000000</td>\n",
       "    </tr>\n",
       "    <tr>\n",
       "      <th>41</th>\n",
       "      <td>0.707317</td>\n",
       "      <td>0.698795</td>\n",
       "      <td>0.703030</td>\n",
       "      <td>83.000000</td>\n",
       "    </tr>\n",
       "    <tr>\n",
       "      <th>42</th>\n",
       "      <td>0.631579</td>\n",
       "      <td>0.533333</td>\n",
       "      <td>0.578313</td>\n",
       "      <td>45.000000</td>\n",
       "    </tr>\n",
       "    <tr>\n",
       "      <th>43</th>\n",
       "      <td>0.571429</td>\n",
       "      <td>0.375000</td>\n",
       "      <td>0.452830</td>\n",
       "      <td>32.000000</td>\n",
       "    </tr>\n",
       "    <tr>\n",
       "      <th>44</th>\n",
       "      <td>0.730769</td>\n",
       "      <td>0.775510</td>\n",
       "      <td>0.752475</td>\n",
       "      <td>49.000000</td>\n",
       "    </tr>\n",
       "    <tr>\n",
       "      <th>45</th>\n",
       "      <td>0.574324</td>\n",
       "      <td>0.739130</td>\n",
       "      <td>0.646388</td>\n",
       "      <td>115.000000</td>\n",
       "    </tr>\n",
       "    <tr>\n",
       "      <th>46</th>\n",
       "      <td>0.571429</td>\n",
       "      <td>0.388889</td>\n",
       "      <td>0.462810</td>\n",
       "      <td>72.000000</td>\n",
       "    </tr>\n",
       "    <tr>\n",
       "      <th>47</th>\n",
       "      <td>0.666667</td>\n",
       "      <td>0.800000</td>\n",
       "      <td>0.727273</td>\n",
       "      <td>25.000000</td>\n",
       "    </tr>\n",
       "    <tr>\n",
       "      <th>48</th>\n",
       "      <td>0.735426</td>\n",
       "      <td>0.719298</td>\n",
       "      <td>0.727273</td>\n",
       "      <td>228.000000</td>\n",
       "    </tr>\n",
       "    <tr>\n",
       "      <th>49</th>\n",
       "      <td>0.561404</td>\n",
       "      <td>0.680851</td>\n",
       "      <td>0.615385</td>\n",
       "      <td>94.000000</td>\n",
       "    </tr>\n",
       "    <tr>\n",
       "      <th>50</th>\n",
       "      <td>0.793103</td>\n",
       "      <td>0.396552</td>\n",
       "      <td>0.528736</td>\n",
       "      <td>58.000000</td>\n",
       "    </tr>\n",
       "    <tr>\n",
       "      <th>51</th>\n",
       "      <td>0.768000</td>\n",
       "      <td>0.659794</td>\n",
       "      <td>0.709797</td>\n",
       "      <td>291.000000</td>\n",
       "    </tr>\n",
       "    <tr>\n",
       "      <th>52</th>\n",
       "      <td>0.530000</td>\n",
       "      <td>0.692810</td>\n",
       "      <td>0.600567</td>\n",
       "      <td>153.000000</td>\n",
       "    </tr>\n",
       "    <tr>\n",
       "      <th>53</th>\n",
       "      <td>0.819231</td>\n",
       "      <td>0.838583</td>\n",
       "      <td>0.828794</td>\n",
       "      <td>254.000000</td>\n",
       "    </tr>\n",
       "    <tr>\n",
       "      <th>54</th>\n",
       "      <td>0.300000</td>\n",
       "      <td>0.260870</td>\n",
       "      <td>0.279070</td>\n",
       "      <td>46.000000</td>\n",
       "    </tr>\n",
       "    <tr>\n",
       "      <th>55</th>\n",
       "      <td>0.751323</td>\n",
       "      <td>0.780220</td>\n",
       "      <td>0.765499</td>\n",
       "      <td>182.000000</td>\n",
       "    </tr>\n",
       "    <tr>\n",
       "      <th>56</th>\n",
       "      <td>0.730769</td>\n",
       "      <td>0.760000</td>\n",
       "      <td>0.745098</td>\n",
       "      <td>125.000000</td>\n",
       "    </tr>\n",
       "    <tr>\n",
       "      <th>57</th>\n",
       "      <td>0.735849</td>\n",
       "      <td>0.791304</td>\n",
       "      <td>0.762570</td>\n",
       "      <td>345.000000</td>\n",
       "    </tr>\n",
       "    <tr>\n",
       "      <th>58</th>\n",
       "      <td>0.494118</td>\n",
       "      <td>0.617647</td>\n",
       "      <td>0.549020</td>\n",
       "      <td>68.000000</td>\n",
       "    </tr>\n",
       "    <tr>\n",
       "      <th>59</th>\n",
       "      <td>0.866667</td>\n",
       "      <td>0.748201</td>\n",
       "      <td>0.803089</td>\n",
       "      <td>139.000000</td>\n",
       "    </tr>\n",
       "    <tr>\n",
       "      <th>60</th>\n",
       "      <td>0.869565</td>\n",
       "      <td>0.625000</td>\n",
       "      <td>0.727273</td>\n",
       "      <td>64.000000</td>\n",
       "    </tr>\n",
       "    <tr>\n",
       "      <th>61</th>\n",
       "      <td>0.681818</td>\n",
       "      <td>0.447761</td>\n",
       "      <td>0.540541</td>\n",
       "      <td>134.000000</td>\n",
       "    </tr>\n",
       "    <tr>\n",
       "      <th>62</th>\n",
       "      <td>0.424242</td>\n",
       "      <td>0.636364</td>\n",
       "      <td>0.509091</td>\n",
       "      <td>44.000000</td>\n",
       "    </tr>\n",
       "    <tr>\n",
       "      <th>63</th>\n",
       "      <td>0.629310</td>\n",
       "      <td>0.663636</td>\n",
       "      <td>0.646018</td>\n",
       "      <td>110.000000</td>\n",
       "    </tr>\n",
       "    <tr>\n",
       "      <th>64</th>\n",
       "      <td>0.559322</td>\n",
       "      <td>0.523810</td>\n",
       "      <td>0.540984</td>\n",
       "      <td>63.000000</td>\n",
       "    </tr>\n",
       "    <tr>\n",
       "      <th>65</th>\n",
       "      <td>0.333333</td>\n",
       "      <td>0.571429</td>\n",
       "      <td>0.421053</td>\n",
       "      <td>21.000000</td>\n",
       "    </tr>\n",
       "    <tr>\n",
       "      <th>66</th>\n",
       "      <td>0.418182</td>\n",
       "      <td>0.575000</td>\n",
       "      <td>0.484211</td>\n",
       "      <td>40.000000</td>\n",
       "    </tr>\n",
       "    <tr>\n",
       "      <th>67</th>\n",
       "      <td>0.176471</td>\n",
       "      <td>0.206897</td>\n",
       "      <td>0.190476</td>\n",
       "      <td>29.000000</td>\n",
       "    </tr>\n",
       "    <tr>\n",
       "      <th>68</th>\n",
       "      <td>0.000000</td>\n",
       "      <td>0.000000</td>\n",
       "      <td>0.000000</td>\n",
       "      <td>6.000000</td>\n",
       "    </tr>\n",
       "    <tr>\n",
       "      <th>69</th>\n",
       "      <td>0.833333</td>\n",
       "      <td>0.526316</td>\n",
       "      <td>0.645161</td>\n",
       "      <td>19.000000</td>\n",
       "    </tr>\n",
       "    <tr>\n",
       "      <th>accuracy</th>\n",
       "      <td>0.692473</td>\n",
       "      <td>0.692473</td>\n",
       "      <td>0.692473</td>\n",
       "      <td>0.692473</td>\n",
       "    </tr>\n",
       "    <tr>\n",
       "      <th>macro avg</th>\n",
       "      <td>0.639553</td>\n",
       "      <td>0.634583</td>\n",
       "      <td>0.630241</td>\n",
       "      <td>7918.000000</td>\n",
       "    </tr>\n",
       "    <tr>\n",
       "      <th>weighted avg</th>\n",
       "      <td>0.702242</td>\n",
       "      <td>0.692473</td>\n",
       "      <td>0.693019</td>\n",
       "      <td>7918.000000</td>\n",
       "    </tr>\n",
       "  </tbody>\n",
       "</table>\n",
       "</div>"
      ],
      "text/plain": [
       "              precision    recall  f1-score      support\n",
       "0              0.708738  0.768421  0.737374    95.000000\n",
       "1              0.476190  0.476190  0.476190    21.000000\n",
       "2              0.628866  0.743902  0.681564    82.000000\n",
       "3              0.662252  0.781250  0.716846   128.000000\n",
       "4              0.680000  0.653846  0.666667    26.000000\n",
       "5              0.770492  0.734375  0.752000   128.000000\n",
       "6              0.802469  0.928571  0.860927   140.000000\n",
       "7              0.656604  0.644444  0.650467   270.000000\n",
       "8              0.791667  0.628099  0.700461   121.000000\n",
       "9              0.788321  0.818182  0.802974   132.000000\n",
       "10             0.446429  0.471698  0.458716    53.000000\n",
       "11             0.662921  0.608247  0.634409    97.000000\n",
       "12             0.317073  0.520000  0.393939    25.000000\n",
       "13             0.658654  0.709845  0.683292   193.000000\n",
       "14             0.823529  0.741722  0.780488   151.000000\n",
       "15             0.672727  0.578125  0.621849    64.000000\n",
       "16             0.739130  0.539683  0.623853    63.000000\n",
       "17             0.750000  0.622642  0.680412    53.000000\n",
       "18             0.656250  0.777778  0.711864    27.000000\n",
       "19             0.643678  0.704403  0.672673   159.000000\n",
       "20             0.684524  0.628415  0.655271   183.000000\n",
       "21             0.578431  0.702381  0.634409    84.000000\n",
       "22             0.656627  0.664634  0.660606   164.000000\n",
       "23             0.423077  0.464789  0.442953    71.000000\n",
       "24             0.656716  0.721311  0.687500   122.000000\n",
       "25             0.666667  0.608696  0.636364   138.000000\n",
       "26             0.508772  0.805556  0.623656    72.000000\n",
       "27             0.798722  0.698324  0.745156   358.000000\n",
       "28             0.466667  0.538462  0.500000    39.000000\n",
       "29             0.924731  0.851485  0.886598   202.000000\n",
       "30             0.647727  0.662791  0.655172    86.000000\n",
       "31             0.626667  0.666667  0.646048   141.000000\n",
       "32             0.516129  0.603774  0.556522    53.000000\n",
       "33             0.783626  0.795252  0.789396   337.000000\n",
       "34             0.744589  0.719665  0.731915   239.000000\n",
       "35             0.352941  0.285714  0.315789    42.000000\n",
       "36             0.760684  0.581699  0.659259   153.000000\n",
       "37             0.846154  0.679012  0.753425    81.000000\n",
       "38             0.720000  0.620690  0.666667    58.000000\n",
       "39             0.818584  0.822222  0.820399   225.000000\n",
       "40             0.785714  0.814815  0.800000   108.000000\n",
       "41             0.707317  0.698795  0.703030    83.000000\n",
       "42             0.631579  0.533333  0.578313    45.000000\n",
       "43             0.571429  0.375000  0.452830    32.000000\n",
       "44             0.730769  0.775510  0.752475    49.000000\n",
       "45             0.574324  0.739130  0.646388   115.000000\n",
       "46             0.571429  0.388889  0.462810    72.000000\n",
       "47             0.666667  0.800000  0.727273    25.000000\n",
       "48             0.735426  0.719298  0.727273   228.000000\n",
       "49             0.561404  0.680851  0.615385    94.000000\n",
       "50             0.793103  0.396552  0.528736    58.000000\n",
       "51             0.768000  0.659794  0.709797   291.000000\n",
       "52             0.530000  0.692810  0.600567   153.000000\n",
       "53             0.819231  0.838583  0.828794   254.000000\n",
       "54             0.300000  0.260870  0.279070    46.000000\n",
       "55             0.751323  0.780220  0.765499   182.000000\n",
       "56             0.730769  0.760000  0.745098   125.000000\n",
       "57             0.735849  0.791304  0.762570   345.000000\n",
       "58             0.494118  0.617647  0.549020    68.000000\n",
       "59             0.866667  0.748201  0.803089   139.000000\n",
       "60             0.869565  0.625000  0.727273    64.000000\n",
       "61             0.681818  0.447761  0.540541   134.000000\n",
       "62             0.424242  0.636364  0.509091    44.000000\n",
       "63             0.629310  0.663636  0.646018   110.000000\n",
       "64             0.559322  0.523810  0.540984    63.000000\n",
       "65             0.333333  0.571429  0.421053    21.000000\n",
       "66             0.418182  0.575000  0.484211    40.000000\n",
       "67             0.176471  0.206897  0.190476    29.000000\n",
       "68             0.000000  0.000000  0.000000     6.000000\n",
       "69             0.833333  0.526316  0.645161    19.000000\n",
       "accuracy       0.692473  0.692473  0.692473     0.692473\n",
       "macro avg      0.639553  0.634583  0.630241  7918.000000\n",
       "weighted avg   0.702242  0.692473  0.693019  7918.000000"
      ]
     },
     "execution_count": 32,
     "metadata": {},
     "output_type": "execute_result"
    }
   ],
   "source": [
    "# train data real label\n",
    "train_y = data_for_tuning.y[~data_for_tuning.train_mask]\n",
    "train_emb = embedding[~data_for_tuning.train_mask]\n",
    "vnode_emb = embedding[-70:,:]\n",
    "\n",
    "train_ncm_label = torch.cdist(train_emb, vnode_emb).argmin(dim=-1)\n",
    "\n",
    "report = classification_report(train_ncm_label.cpu(), train_y.cpu(), output_dict=True)\n",
    "result = pd.DataFrame(report).T\n",
    "result"
   ]
  },
  {
   "cell_type": "code",
   "execution_count": 52,
   "metadata": {},
   "outputs": [],
   "source": [
    "train_y = data_for_tuning.y[data_for_tuning.train_mask]\n",
    "train_emb = embedding[data_for_tuning.train_mask]\n",
    "vnode_emb = embedding[-70:,:]\n",
    "\n",
    "res_cv = {}\n",
    "res_cc = {}\n",
    "for i in sorted_node:\n",
    "    class_emb = train_emb[train_y == i]\n",
    "    v_class = vnode_emb[i].unsqueeze(0)\n",
    "    res_cv[i] = torch.cdist(class_emb, v_class).mean().item()\n",
    "    res_cc[i] = torch.cdist(class_emb, class_emb).mean().item()\n"
   ]
  },
  {
   "cell_type": "code",
   "execution_count": 53,
   "metadata": {},
   "outputs": [
    {
     "data": {
      "text/plain": [
       "<matplotlib.legend.Legend at 0x7fd664366ad0>"
      ]
     },
     "execution_count": 53,
     "metadata": {},
     "output_type": "execute_result"
    },
    {
     "data": {
      "image/png": "[encoded data removed]",
      "text/plain": [
       "<Figure size 640x480 with 1 Axes>"
      ]
     },
     "metadata": {},
     "output_type": "display_data"
    }
   ],
   "source": [
    "res_cv_lst = res_cv.values()\n",
    "res_cc_lst = res_cc.values()\n",
    "plt.hist(res_cc_lst, label='cc', alpha = 0.5)\n",
    "plt.hist(res_cv_lst, label='cv', alpha = 0.5)\n",
    "plt.legend()"
   ]
  },
  {
   "cell_type": "code",
   "execution_count": 56,
   "metadata": {},
   "outputs": [
    {
     "data": {
      "text/plain": [
       "<matplotlib.legend.Legend at 0x7fd664383370>"
      ]
     },
     "execution_count": 56,
     "metadata": {},
     "output_type": "execute_result"
    },
    {
     "data": {
      "image/png": "[encoded data removed]",
      "text/plain": [
       "<Figure size 640x480 with 1 Axes>"
      ]
     },
     "metadata": {},
     "output_type": "display_data"
    }
   ],
   "source": [
    "res_cv_lst = res_cv.values()\n",
    "res_cc_lst = res_cc.values()\n",
    "plt.hist(list(res_cc_lst)[:10], label='cc', alpha = 0.5)\n",
    "plt.hist(list(res_cv_lst)[:10], label='cv', alpha = 0.5)\n",
    "plt.legend()"
   ]
  },
  {
   "cell_type": "code",
   "execution_count": 57,
   "metadata": {},
   "outputs": [
    {
     "data": {
      "text/plain": [
       "<matplotlib.legend.Legend at 0x7fd6799d2dd0>"
      ]
     },
     "execution_count": 57,
     "metadata": {},
     "output_type": "execute_result"
    },
    {
     "data": {
      "image/png": "[encoded data removed]",
      "text/plain": [
       "<Figure size 640x480 with 1 Axes>"
      ]
     },
     "metadata": {},
     "output_type": "display_data"
    }
   ],
   "source": [
    "res_cv_lst = res_cv.values()\n",
    "res_cc_lst = res_cc.values()\n",
    "plt.hist(list(res_cc_lst)[-10:], label='cc', alpha = 0.5)\n",
    "plt.hist(list(res_cv_lst)[-10:], label='cv', alpha = 0.5)\n",
    "plt.legend()"
   ]
  },
  {
   "cell_type": "code",
   "execution_count": null,
   "metadata": {},
   "outputs": [],
   "source": []
  }
 ],
 "metadata": {
  "kernelspec": {
   "display_name": "0606",
   "language": "python",
   "name": "0606"
  },
  "language_info": {
   "codemirror_mode": {
    "name": "ipython",
    "version": 3
   },
   "file_extension": ".py",
   "mimetype": "text/x-python",
   "name": "python",
   "nbconvert_exporter": "python",
   "pygments_lexer": "ipython3",
   "version": "3.10.11"
  },
  "orig_nbformat": 4
 },
 "nbformat": 4,
 "nbformat_minor": 2
}
