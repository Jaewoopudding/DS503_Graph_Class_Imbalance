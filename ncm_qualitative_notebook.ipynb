{
 "cells": [
  {
   "cell_type": "code",
   "execution_count": 1,
   "metadata": {},
   "outputs": [
    {
     "name": "stderr",
     "output_type": "stream",
     "text": [
      "/home/sujin/anaconda3/envs/0606/lib/python3.10/site-packages/tqdm/auto.py:21: TqdmWarning: IProgress not found. Please update jupyter and ipywidgets. See https://ipywidgets.readthedocs.io/en/stable/user_install.html\n",
      "  from .autonotebook import tqdm as notebook_tqdm\n"
     ]
    },
    {
     "data": {
      "text/plain": [
       "device(type='cuda')"
      ]
     },
     "execution_count": 1,
     "metadata": {},
     "output_type": "execute_result"
    }
   ],
   "source": [
    "import os\n",
    "import random\n",
    "\n",
    "import numpy as np\n",
    "import pandas as pd\n",
    "import matplotlib.pyplot as plt\n",
    "from sklearn.model_selection import train_test_split\n",
    "from sklearn.metrics import f1_score\n",
    "\n",
    "import torch\n",
    "import torch.nn as nn\n",
    "import torch.nn.functional as F\n",
    "\n",
    "import torch_geometric\n",
    "from torch_geometric.datasets import CoraFull, Planetoid, CitationFull\n",
    "from torch_geometric.transforms import NormalizeFeatures\n",
    "import torch_geometric.nn as gnn \n",
    "\n",
    "from src.models import GAT, GraphSAGE, GIN\n",
    "from src.utils import train_model, test_model\n",
    "from mean_average_distance import MAD, MADGap\n",
    "from src.virtualnode import VirtualClassNode, UnidirectionalVirtualClassNode\n",
    "\n",
    "from tqdm.auto import tqdm\n",
    "from sklearn.metrics import classification_report\n",
    "\n",
    "torch.manual_seed(42)\n",
    "torch.cuda.manual_seed(42)\n",
    "np.random.seed(42)\n",
    "random.seed(42)\n",
    "torch.backends.cudnn.deterministic = True\n",
    "torch.backends.cudnn.benchmark = False\n",
    "\n",
    "SAVE_PATH = 'results'\n",
    "LR = 0.001\n",
    "\n",
    "device = torch.device(\"cuda\" if torch.cuda.is_available() else \"cpu\")\n",
    "device"
   ]
  },
  {
   "cell_type": "code",
   "execution_count": 2,
   "metadata": {},
   "outputs": [],
   "source": [
    "dataset = CitationFull(root='dataset/Cora', name='Cora', transform=NormalizeFeatures())"
   ]
  },
  {
   "cell_type": "code",
   "execution_count": 3,
   "metadata": {},
   "outputs": [],
   "source": [
    "data = dataset[0]\n",
    "df = pd.DataFrame(data.x)\n",
    "df['y'] = data.y\n",
    "train, valid = train_test_split(df, stratify=df.y, test_size=0.4)\n",
    "valid, test = train_test_split(valid, stratify=valid.y, test_size=0.5)\n",
    "data.train_mask = torch.zeros(data.num_nodes, dtype=torch.bool)\n",
    "data.train_mask[train.index]=True\n",
    "data.valid_mask = torch.zeros(data.num_nodes, dtype=torch.bool)\n",
    "data.valid_mask[valid.index]=True\n",
    "data.test_mask = torch.zeros(data.num_nodes, dtype=torch.bool)\n",
    "data.test_mask[test.index]=True"
   ]
  },
  {
   "cell_type": "code",
   "execution_count": 4,
   "metadata": {},
   "outputs": [],
   "source": [
    "labels = data.y.numpy()\n",
    "num_node_ = []\n",
    "for i in range(70):\n",
    "    temp = np.where(labels == i)[0]\n",
    "    num_node_.append(len(temp))"
   ]
  },
  {
   "cell_type": "code",
   "execution_count": 5,
   "metadata": {},
   "outputs": [],
   "source": [
    "sorted_node = np.argsort(num_node_)[::-1]"
   ]
  },
  {
   "cell_type": "code",
   "execution_count": 6,
   "metadata": {},
   "outputs": [],
   "source": [
    "mad = MAD(device=device, global_flag=True)\n",
    "madgap = MADGap(device, 3, 8)"
   ]
  },
  {
   "cell_type": "code",
   "execution_count": 7,
   "metadata": {},
   "outputs": [],
   "source": [
    "SAVE_PATH = 'model_file'\n",
    "EARLY_STOPPING = 30\n",
    "\n",
    "device = torch.device(\"cuda:1\" if torch.cuda.is_available() else \"cpu\")\n",
    "device\n",
    "dataset = CitationFull(root='dataset/Cora', name='Cora', transform=NormalizeFeatures())"
   ]
  },
  {
   "cell_type": "code",
   "execution_count": 8,
   "metadata": {},
   "outputs": [],
   "source": [
    "optparams = pd.read_csv(\"./res_stats/training_sage.csv\")"
   ]
  },
  {
   "cell_type": "code",
   "execution_count": 9,
   "metadata": {},
   "outputs": [
    {
     "data": {
      "text/html": [
       "<div>\n",
       "<style scoped>\n",
       "    .dataframe tbody tr th:only-of-type {\n",
       "        vertical-align: middle;\n",
       "    }\n",
       "\n",
       "    .dataframe tbody tr th {\n",
       "        vertical-align: top;\n",
       "    }\n",
       "\n",
       "    .dataframe thead th {\n",
       "        text-align: right;\n",
       "    }\n",
       "</style>\n",
       "<table border=\"1\" class=\"dataframe\">\n",
       "  <thead>\n",
       "    <tr style=\"text-align: right;\">\n",
       "      <th></th>\n",
       "      <th>trial</th>\n",
       "      <th>model</th>\n",
       "      <th>virtualnode</th>\n",
       "      <th>vnode_init</th>\n",
       "      <th>temperature</th>\n",
       "      <th>constrative coef</th>\n",
       "      <th>gaussian_noise_scale</th>\n",
       "      <th>lr</th>\n",
       "      <th>train_acc</th>\n",
       "      <th>train_loss</th>\n",
       "      <th>val_acc</th>\n",
       "      <th>val_loss</th>\n",
       "      <th>test_acc</th>\n",
       "      <th>macro f1</th>\n",
       "      <th>micro f1minor f1</th>\n",
       "      <th>mad</th>\n",
       "      <th>madgap</th>\n",
       "      <th>micro f1</th>\n",
       "      <th>minor f1</th>\n",
       "      <th>positive_sampling</th>\n",
       "    </tr>\n",
       "  </thead>\n",
       "  <tbody>\n",
       "    <tr>\n",
       "      <th>0</th>\n",
       "      <td>64</td>\n",
       "      <td>GraphSAGE</td>\n",
       "      <td>UnidirectionalVirtualClassNode()</td>\n",
       "      <td>NaN</td>\n",
       "      <td>6.569987</td>\n",
       "      <td>0.013822</td>\n",
       "      <td>0.001000</td>\n",
       "      <td>0.003629</td>\n",
       "      <td>0.944914</td>\n",
       "      <td>0.165789</td>\n",
       "      <td>0.716555</td>\n",
       "      <td>0.003321</td>\n",
       "      <td>0.703208</td>\n",
       "      <td>0.644170</td>\n",
       "      <td>NaN</td>\n",
       "      <td>0.863704</td>\n",
       "      <td>0.483508</td>\n",
       "      <td>0.700064</td>\n",
       "      <td>0.487957</td>\n",
       "      <td>True</td>\n",
       "    </tr>\n",
       "    <tr>\n",
       "      <th>1</th>\n",
       "      <td>84</td>\n",
       "      <td>GraphSAGE</td>\n",
       "      <td>UnidirectionalVirtualClassNode()</td>\n",
       "      <td>NaN</td>\n",
       "      <td>7.840447</td>\n",
       "      <td>0.021910</td>\n",
       "      <td>0.001000</td>\n",
       "      <td>0.002777</td>\n",
       "      <td>0.939473</td>\n",
       "      <td>0.185297</td>\n",
       "      <td>0.712087</td>\n",
       "      <td>0.004056</td>\n",
       "      <td>0.703208</td>\n",
       "      <td>0.643586</td>\n",
       "      <td>NaN</td>\n",
       "      <td>0.868719</td>\n",
       "      <td>0.491279</td>\n",
       "      <td>0.700527</td>\n",
       "      <td>0.493140</td>\n",
       "      <td>True</td>\n",
       "    </tr>\n",
       "    <tr>\n",
       "      <th>2</th>\n",
       "      <td>2</td>\n",
       "      <td>GraphSAGE</td>\n",
       "      <td>VirtualClassNode()</td>\n",
       "      <td>NaN</td>\n",
       "      <td>6.681166</td>\n",
       "      <td>0.058019</td>\n",
       "      <td>0.000001</td>\n",
       "      <td>0.001735</td>\n",
       "      <td>0.994140</td>\n",
       "      <td>0.009016</td>\n",
       "      <td>0.671382</td>\n",
       "      <td>-0.006688</td>\n",
       "      <td>0.663425</td>\n",
       "      <td>0.606996</td>\n",
       "      <td>NaN</td>\n",
       "      <td>0.764222</td>\n",
       "      <td>0.484988</td>\n",
       "      <td>0.659217</td>\n",
       "      <td>0.508190</td>\n",
       "      <td>NaN</td>\n",
       "    </tr>\n",
       "    <tr>\n",
       "      <th>3</th>\n",
       "      <td>3</td>\n",
       "      <td>GraphSAGE</td>\n",
       "      <td>VirtualClassNode()</td>\n",
       "      <td>NaN</td>\n",
       "      <td>6.058254</td>\n",
       "      <td>0.340557</td>\n",
       "      <td>0.000010</td>\n",
       "      <td>0.002781</td>\n",
       "      <td>0.991210</td>\n",
       "      <td>-0.021983</td>\n",
       "      <td>0.664185</td>\n",
       "      <td>-0.046624</td>\n",
       "      <td>0.654837</td>\n",
       "      <td>0.596474</td>\n",
       "      <td>NaN</td>\n",
       "      <td>0.825723</td>\n",
       "      <td>0.523051</td>\n",
       "      <td>0.653479</td>\n",
       "      <td>0.454100</td>\n",
       "      <td>NaN</td>\n",
       "    </tr>\n",
       "    <tr>\n",
       "      <th>4</th>\n",
       "      <td>4</td>\n",
       "      <td>GraphSAGE</td>\n",
       "      <td>VirtualClassNode()</td>\n",
       "      <td>NaN</td>\n",
       "      <td>2.956950</td>\n",
       "      <td>0.000036</td>\n",
       "      <td>0.000001</td>\n",
       "      <td>0.006563</td>\n",
       "      <td>0.049477</td>\n",
       "      <td>7.893188</td>\n",
       "      <td>0.052867</td>\n",
       "      <td>7.642127</td>\n",
       "      <td>0.051781</td>\n",
       "      <td>0.014052</td>\n",
       "      <td>NaN</td>\n",
       "      <td>0.002419</td>\n",
       "      <td>0.001145</td>\n",
       "      <td>0.027590</td>\n",
       "      <td>0.000000</td>\n",
       "      <td>NaN</td>\n",
       "    </tr>\n",
       "  </tbody>\n",
       "</table>\n",
       "</div>"
      ],
      "text/plain": [
       "   trial      model                       virtualnode  vnode_init  \\\n",
       "0     64  GraphSAGE  UnidirectionalVirtualClassNode()         NaN   \n",
       "1     84  GraphSAGE  UnidirectionalVirtualClassNode()         NaN   \n",
       "2      2  GraphSAGE                VirtualClassNode()         NaN   \n",
       "3      3  GraphSAGE                VirtualClassNode()         NaN   \n",
       "4      4  GraphSAGE                VirtualClassNode()         NaN   \n",
       "\n",
       "   temperature  constrative coef  gaussian_noise_scale        lr  train_acc  \\\n",
       "0     6.569987          0.013822              0.001000  0.003629   0.944914   \n",
       "1     7.840447          0.021910              0.001000  0.002777   0.939473   \n",
       "2     6.681166          0.058019              0.000001  0.001735   0.994140   \n",
       "3     6.058254          0.340557              0.000010  0.002781   0.991210   \n",
       "4     2.956950          0.000036              0.000001  0.006563   0.049477   \n",
       "\n",
       "   train_loss   val_acc  val_loss  test_acc  macro f1  micro f1minor f1  \\\n",
       "0    0.165789  0.716555  0.003321  0.703208  0.644170               NaN   \n",
       "1    0.185297  0.712087  0.004056  0.703208  0.643586               NaN   \n",
       "2    0.009016  0.671382 -0.006688  0.663425  0.606996               NaN   \n",
       "3   -0.021983  0.664185 -0.046624  0.654837  0.596474               NaN   \n",
       "4    7.893188  0.052867  7.642127  0.051781  0.014052               NaN   \n",
       "\n",
       "        mad    madgap  micro f1  minor f1 positive_sampling  \n",
       "0  0.863704  0.483508  0.700064  0.487957              True  \n",
       "1  0.868719  0.491279  0.700527  0.493140              True  \n",
       "2  0.764222  0.484988  0.659217  0.508190               NaN  \n",
       "3  0.825723  0.523051  0.653479  0.454100               NaN  \n",
       "4  0.002419  0.001145  0.027590  0.000000               NaN  "
      ]
     },
     "execution_count": 9,
     "metadata": {},
     "output_type": "execute_result"
    }
   ],
   "source": [
    "optparams.head()"
   ]
  },
  {
   "cell_type": "code",
   "execution_count": 10,
   "metadata": {},
   "outputs": [
    {
     "data": {
      "text/html": [
       "<div>\n",
       "<style scoped>\n",
       "    .dataframe tbody tr th:only-of-type {\n",
       "        vertical-align: middle;\n",
       "    }\n",
       "\n",
       "    .dataframe tbody tr th {\n",
       "        vertical-align: top;\n",
       "    }\n",
       "\n",
       "    .dataframe thead th {\n",
       "        text-align: right;\n",
       "    }\n",
       "</style>\n",
       "<table border=\"1\" class=\"dataframe\">\n",
       "  <thead>\n",
       "    <tr style=\"text-align: right;\">\n",
       "      <th></th>\n",
       "      <th>trial</th>\n",
       "      <th>model</th>\n",
       "      <th>virtualnode</th>\n",
       "      <th>vnode_init</th>\n",
       "      <th>temperature</th>\n",
       "      <th>constrative coef</th>\n",
       "      <th>gaussian_noise_scale</th>\n",
       "      <th>lr</th>\n",
       "      <th>train_acc</th>\n",
       "      <th>train_loss</th>\n",
       "      <th>val_acc</th>\n",
       "      <th>val_loss</th>\n",
       "      <th>test_acc</th>\n",
       "      <th>macro f1</th>\n",
       "      <th>micro f1minor f1</th>\n",
       "      <th>mad</th>\n",
       "      <th>madgap</th>\n",
       "      <th>micro f1</th>\n",
       "      <th>minor f1</th>\n",
       "      <th>positive_sampling</th>\n",
       "    </tr>\n",
       "  </thead>\n",
       "  <tbody>\n",
       "    <tr>\n",
       "      <th>0</th>\n",
       "      <td>64</td>\n",
       "      <td>GraphSAGE</td>\n",
       "      <td>UnidirectionalVirtualClassNode()</td>\n",
       "      <td>NaN</td>\n",
       "      <td>6.569987</td>\n",
       "      <td>0.013822</td>\n",
       "      <td>0.001</td>\n",
       "      <td>0.003629</td>\n",
       "      <td>0.944914</td>\n",
       "      <td>0.165789</td>\n",
       "      <td>0.716555</td>\n",
       "      <td>0.003321</td>\n",
       "      <td>0.703208</td>\n",
       "      <td>0.644170</td>\n",
       "      <td>NaN</td>\n",
       "      <td>0.863704</td>\n",
       "      <td>0.483508</td>\n",
       "      <td>0.700064</td>\n",
       "      <td>0.487957</td>\n",
       "      <td>True</td>\n",
       "    </tr>\n",
       "    <tr>\n",
       "      <th>1</th>\n",
       "      <td>84</td>\n",
       "      <td>GraphSAGE</td>\n",
       "      <td>UnidirectionalVirtualClassNode()</td>\n",
       "      <td>NaN</td>\n",
       "      <td>7.840447</td>\n",
       "      <td>0.021910</td>\n",
       "      <td>0.001</td>\n",
       "      <td>0.002777</td>\n",
       "      <td>0.939473</td>\n",
       "      <td>0.185297</td>\n",
       "      <td>0.712087</td>\n",
       "      <td>0.004056</td>\n",
       "      <td>0.703208</td>\n",
       "      <td>0.643586</td>\n",
       "      <td>NaN</td>\n",
       "      <td>0.868719</td>\n",
       "      <td>0.491279</td>\n",
       "      <td>0.700527</td>\n",
       "      <td>0.493140</td>\n",
       "      <td>True</td>\n",
       "    </tr>\n",
       "    <tr>\n",
       "      <th>5</th>\n",
       "      <td>73</td>\n",
       "      <td>GraphSAGE</td>\n",
       "      <td>UnidirectionalVirtualClassNode()</td>\n",
       "      <td>NaN</td>\n",
       "      <td>6.791155</td>\n",
       "      <td>0.007410</td>\n",
       "      <td>0.001</td>\n",
       "      <td>0.002404</td>\n",
       "      <td>0.902051</td>\n",
       "      <td>0.303335</td>\n",
       "      <td>0.709109</td>\n",
       "      <td>0.029355</td>\n",
       "      <td>0.699924</td>\n",
       "      <td>0.643163</td>\n",
       "      <td>NaN</td>\n",
       "      <td>0.839162</td>\n",
       "      <td>0.489485</td>\n",
       "      <td>0.697414</td>\n",
       "      <td>0.508454</td>\n",
       "      <td>True</td>\n",
       "    </tr>\n",
       "    <tr>\n",
       "      <th>9</th>\n",
       "      <td>52</td>\n",
       "      <td>GraphSAGE</td>\n",
       "      <td>UnidirectionalVirtualClassNode()</td>\n",
       "      <td>NaN</td>\n",
       "      <td>7.301587</td>\n",
       "      <td>0.006751</td>\n",
       "      <td>0.001</td>\n",
       "      <td>0.003360</td>\n",
       "      <td>0.937882</td>\n",
       "      <td>0.195050</td>\n",
       "      <td>0.712584</td>\n",
       "      <td>0.007956</td>\n",
       "      <td>0.703208</td>\n",
       "      <td>0.642777</td>\n",
       "      <td>NaN</td>\n",
       "      <td>0.825546</td>\n",
       "      <td>0.472002</td>\n",
       "      <td>0.699861</td>\n",
       "      <td>0.494061</td>\n",
       "      <td>True</td>\n",
       "    </tr>\n",
       "    <tr>\n",
       "      <th>10</th>\n",
       "      <td>95</td>\n",
       "      <td>GraphSAGE</td>\n",
       "      <td>UnidirectionalVirtualClassNode()</td>\n",
       "      <td>NaN</td>\n",
       "      <td>7.046566</td>\n",
       "      <td>0.013341</td>\n",
       "      <td>0.001</td>\n",
       "      <td>0.002364</td>\n",
       "      <td>0.926999</td>\n",
       "      <td>0.222144</td>\n",
       "      <td>0.710102</td>\n",
       "      <td>0.013306</td>\n",
       "      <td>0.701440</td>\n",
       "      <td>0.642516</td>\n",
       "      <td>NaN</td>\n",
       "      <td>0.866375</td>\n",
       "      <td>0.495455</td>\n",
       "      <td>0.698893</td>\n",
       "      <td>0.495706</td>\n",
       "      <td>True</td>\n",
       "    </tr>\n",
       "  </tbody>\n",
       "</table>\n",
       "</div>"
      ],
      "text/plain": [
       "    trial      model                       virtualnode  vnode_init  \\\n",
       "0      64  GraphSAGE  UnidirectionalVirtualClassNode()         NaN   \n",
       "1      84  GraphSAGE  UnidirectionalVirtualClassNode()         NaN   \n",
       "5      73  GraphSAGE  UnidirectionalVirtualClassNode()         NaN   \n",
       "9      52  GraphSAGE  UnidirectionalVirtualClassNode()         NaN   \n",
       "10     95  GraphSAGE  UnidirectionalVirtualClassNode()         NaN   \n",
       "\n",
       "    temperature  constrative coef  gaussian_noise_scale        lr  train_acc  \\\n",
       "0      6.569987          0.013822                 0.001  0.003629   0.944914   \n",
       "1      7.840447          0.021910                 0.001  0.002777   0.939473   \n",
       "5      6.791155          0.007410                 0.001  0.002404   0.902051   \n",
       "9      7.301587          0.006751                 0.001  0.003360   0.937882   \n",
       "10     7.046566          0.013341                 0.001  0.002364   0.926999   \n",
       "\n",
       "    train_loss   val_acc  val_loss  test_acc  macro f1  micro f1minor f1  \\\n",
       "0     0.165789  0.716555  0.003321  0.703208  0.644170               NaN   \n",
       "1     0.185297  0.712087  0.004056  0.703208  0.643586               NaN   \n",
       "5     0.303335  0.709109  0.029355  0.699924  0.643163               NaN   \n",
       "9     0.195050  0.712584  0.007956  0.703208  0.642777               NaN   \n",
       "10    0.222144  0.710102  0.013306  0.701440  0.642516               NaN   \n",
       "\n",
       "         mad    madgap  micro f1  minor f1 positive_sampling  \n",
       "0   0.863704  0.483508  0.700064  0.487957              True  \n",
       "1   0.868719  0.491279  0.700527  0.493140              True  \n",
       "5   0.839162  0.489485  0.697414  0.508454              True  \n",
       "9   0.825546  0.472002  0.699861  0.494061              True  \n",
       "10  0.866375  0.495455  0.698893  0.495706              True  "
      ]
     },
     "execution_count": 10,
     "metadata": {},
     "output_type": "execute_result"
    }
   ],
   "source": [
    "optparams.sort_values(by=['macro f1'], ascending=False).head()"
   ]
  },
  {
   "cell_type": "code",
   "execution_count": null,
   "metadata": {},
   "outputs": [],
   "source": []
  },
  {
   "cell_type": "code",
   "execution_count": 11,
   "metadata": {},
   "outputs": [],
   "source": [
    "for i in [64]:\n",
    "    g_noise = optparams.loc[i,'gaussian_noise_scale']\n",
    "    if optparams.loc[i,'model'] == 'Graph Attention Network':\n",
    "        model = GAT(in_channels=dataset.num_features, hidden_channels=476, number_of_classes=dataset.num_classes, num_of_hidden_layers=4, device=device, heads=1, noise_level=g_noise)\n",
    "        model_name = 'Graph Attention Network'\n",
    "    elif optparams.loc[i,'model'] == 'GraphSAGE':\n",
    "        model = GraphSAGE(in_channels=dataset.num_features, hidden_channels=256, number_of_classes=dataset.num_classes, num_of_hidden_layers=4, device=device, noise_level=g_noise)\n",
    "        model_name = 'GraphSAGE'\n",
    "    elif optparams.loc[i,'model'] == 'GIN':\n",
    "        model = GIN(in_channels=dataset.num_features, hidden_channels=415, number_of_classes=dataset.num_classes, num_of_hidden_layers=4, device=device, noise_level=g_noise)\n",
    "        model_name = 'GIN'\n",
    "    vnode = optparams.loc[i,'virtualnode']\n",
    "    if vnode == \"UnidirectionalVirtualClassNode()\":\n",
    "        vc = UnidirectionalVirtualClassNode()\n",
    "    else:\n",
    "        vc = VirtualClassNode()\n",
    "\n",
    "    data.to(device)\n",
    "    data_for_tuning = vc.forward(data)\n",
    "    data_for_tuning.to(device)\n",
    "\n",
    "    model = model.to(device)\n",
    "    data_for_tuning = data_for_tuning.to(device)\n",
    "\n",
    "    model.load_state_dict(torch.load(os.path.join(SAVE_PATH, f'SAGE/{model_name}_{i}.pt')))\n",
    "\n",
    "    \n",
    "    out, embedding = model(data.x, data.edge_index)\n",
    "    pred = out.argmax(dim=-1)\n",
    "    report = classification_report(data.y[~data.train_mask.cpu()].cpu(), pred[~data.train_mask.cpu()].cpu(), output_dict=True)\n",
    "    \n",
    "    result = pd.DataFrame(report).T\n",
    "    result = model(data_for_tuning.x.to(device), data_for_tuning.edge_index.to(device))[1].cpu()\n",
    "    global_mad = mad(result).item()\n",
    "    mad_gap = madgap(result, data_for_tuning.edge_index).item()\n",
    "    "
   ]
  },
  {
   "cell_type": "code",
   "execution_count": null,
   "metadata": {},
   "outputs": [],
   "source": []
  },
  {
   "cell_type": "code",
   "execution_count": 12,
   "metadata": {},
   "outputs": [],
   "source": [
    "# test set \n",
    "model.eval()\n",
    "out, embedding = model(data_for_tuning.x, data_for_tuning.edge_index)\n",
    "vnode_emb = embedding[-70:,:]\n",
    "\n",
    "testset = embedding[~data_for_tuning.train_mask]\n",
    "testset_y = data_for_tuning.y[~data_for_tuning.train_mask]\n",
    "\n",
    "dist = torch.cdist(testset, vnode_emb)\n",
    "pred_ncm = dist.argmin(dim=-1)"
   ]
  },
  {
   "cell_type": "code",
   "execution_count": 13,
   "metadata": {},
   "outputs": [
    {
     "data": {
      "text/plain": [
       "(array([103.,  21.,  97., 151.,  25., 122., 162., 265.,  96., 137.,  56.,\n",
       "         89.,  41., 208., 136.,  55.,  46.,  44.,  32., 174., 168., 102.,\n",
       "        166.,  78., 134., 126., 114., 313.,  45., 186.,  88., 150.,  62.,\n",
       "        342., 231.,  34., 117.,  65.,  50., 226., 112.,  82.,  38.,  21.,\n",
       "         52., 148.,  49.,  30., 223., 114.,  29., 250., 200., 260.,  40.,\n",
       "        189., 130., 371.,  85., 120.,  46.,  88.,  66., 116.,  59.,  36.,\n",
       "         55.,  34.,   6.,  12.]),\n",
       " array([ 0.        ,  0.98571429,  1.97142857,  2.95714286,  3.94285714,\n",
       "         4.92857143,  5.91428571,  6.9       ,  7.88571429,  8.87142857,\n",
       "         9.85714286, 10.84285714, 11.82857143, 12.81428571, 13.8       ,\n",
       "        14.78571429, 15.77142857, 16.75714286, 17.74285714, 18.72857143,\n",
       "        19.71428571, 20.7       , 21.68571429, 22.67142857, 23.65714286,\n",
       "        24.64285714, 25.62857143, 26.61428571, 27.6       , 28.58571429,\n",
       "        29.57142857, 30.55714286, 31.54285714, 32.52857143, 33.51428571,\n",
       "        34.5       , 35.48571429, 36.47142857, 37.45714286, 38.44285714,\n",
       "        39.42857143, 40.41428571, 41.4       , 42.38571429, 43.37142857,\n",
       "        44.35714286, 45.34285714, 46.32857143, 47.31428571, 48.3       ,\n",
       "        49.28571429, 50.27142857, 51.25714286, 52.24285714, 53.22857143,\n",
       "        54.21428571, 55.2       , 56.18571429, 57.17142857, 58.15714286,\n",
       "        59.14285714, 60.12857143, 61.11428571, 62.1       , 63.08571429,\n",
       "        64.07142857, 65.05714286, 66.04285714, 67.02857143, 68.01428571,\n",
       "        69.        ]),\n",
       " <BarContainer object of 70 artists>)"
      ]
     },
     "execution_count": 13,
     "metadata": {},
     "output_type": "execute_result"
    },
    {
     "data": {
      "image/png": "[encoded data removed]",
      "text/plain": [
       "<Figure size 640x480 with 1 Axes>"
      ]
     },
     "metadata": {},
     "output_type": "display_data"
    }
   ],
   "source": [
    "# test data real label\n",
    "plt.hist(testset_y.cpu().detach().numpy(), bins=70)"
   ]
  },
  {
   "cell_type": "code",
   "execution_count": 14,
   "metadata": {},
   "outputs": [
    {
     "data": {
      "text/plain": [
       "(array([ 95.,  21.,  82., 128.,  26., 128., 140., 270., 121., 132.,  53.,\n",
       "         97.,  25., 193., 151.,  64.,  63.,  53.,  27., 159., 183.,  84.,\n",
       "        164.,  71., 122., 138.,  72., 358.,  39., 202.,  86., 141.,  53.,\n",
       "        337., 239.,  42., 153.,  81.,  58., 225., 108.,  83.,  45.,  32.,\n",
       "         49., 115.,  72.,  25., 228.,  94.,  58., 291., 153., 254.,  46.,\n",
       "        182., 125., 345.,  68., 139.,  64., 134.,  44., 110.,  63.,  21.,\n",
       "         40.,  29.,   6.,  19.]),\n",
       " array([ 0.        ,  0.98571429,  1.97142857,  2.95714286,  3.94285714,\n",
       "         4.92857143,  5.91428571,  6.9       ,  7.88571429,  8.87142857,\n",
       "         9.85714286, 10.84285714, 11.82857143, 12.81428571, 13.8       ,\n",
       "        14.78571429, 15.77142857, 16.75714286, 17.74285714, 18.72857143,\n",
       "        19.71428571, 20.7       , 21.68571429, 22.67142857, 23.65714286,\n",
       "        24.64285714, 25.62857143, 26.61428571, 27.6       , 28.58571429,\n",
       "        29.57142857, 30.55714286, 31.54285714, 32.52857143, 33.51428571,\n",
       "        34.5       , 35.48571429, 36.47142857, 37.45714286, 38.44285714,\n",
       "        39.42857143, 40.41428571, 41.4       , 42.38571429, 43.37142857,\n",
       "        44.35714286, 45.34285714, 46.32857143, 47.31428571, 48.3       ,\n",
       "        49.28571429, 50.27142857, 51.25714286, 52.24285714, 53.22857143,\n",
       "        54.21428571, 55.2       , 56.18571429, 57.17142857, 58.15714286,\n",
       "        59.14285714, 60.12857143, 61.11428571, 62.1       , 63.08571429,\n",
       "        64.07142857, 65.05714286, 66.04285714, 67.02857143, 68.01428571,\n",
       "        69.        ]),\n",
       " <BarContainer object of 70 artists>)"
      ]
     },
     "execution_count": 14,
     "metadata": {},
     "output_type": "execute_result"
    },
    {
     "data": {
      "image/png": "[encoded data removed]",
      "text/plain": [
       "<Figure size 640x480 with 1 Axes>"
      ]
     },
     "metadata": {},
     "output_type": "display_data"
    }
   ],
   "source": [
    "# test data ncm prediction\n",
    "plt.hist(pred_ncm.cpu().numpy(), bins=70)"
   ]
  },
  {
   "cell_type": "code",
   "execution_count": 15,
   "metadata": {},
   "outputs": [
    {
     "data": {
      "text/plain": [
       "(array([1., 1., 1., 1., 1., 1., 1., 1., 1., 1., 1., 1., 1., 1., 1., 1., 1.,\n",
       "        1., 1., 1., 1., 1., 1., 1., 1., 1., 1., 1., 1., 1., 1., 1., 1., 1.,\n",
       "        1., 1., 1., 1., 1., 1., 1., 1., 1., 1., 1., 1., 1., 1., 1., 1., 1.,\n",
       "        1., 1., 1., 1., 1., 1., 1., 1., 1., 1., 1., 1., 1., 1., 1., 1., 1.,\n",
       "        1., 1.]),\n",
       " array([ 0.        ,  0.98571429,  1.97142857,  2.95714286,  3.94285714,\n",
       "         4.92857143,  5.91428571,  6.9       ,  7.88571429,  8.87142857,\n",
       "         9.85714286, 10.84285714, 11.82857143, 12.81428571, 13.8       ,\n",
       "        14.78571429, 15.77142857, 16.75714286, 17.74285714, 18.72857143,\n",
       "        19.71428571, 20.7       , 21.68571429, 22.67142857, 23.65714286,\n",
       "        24.64285714, 25.62857143, 26.61428571, 27.6       , 28.58571429,\n",
       "        29.57142857, 30.55714286, 31.54285714, 32.52857143, 33.51428571,\n",
       "        34.5       , 35.48571429, 36.47142857, 37.45714286, 38.44285714,\n",
       "        39.42857143, 40.41428571, 41.4       , 42.38571429, 43.37142857,\n",
       "        44.35714286, 45.34285714, 46.32857143, 47.31428571, 48.3       ,\n",
       "        49.28571429, 50.27142857, 51.25714286, 52.24285714, 53.22857143,\n",
       "        54.21428571, 55.2       , 56.18571429, 57.17142857, 58.15714286,\n",
       "        59.14285714, 60.12857143, 61.11428571, 62.1       , 63.08571429,\n",
       "        64.07142857, 65.05714286, 66.04285714, 67.02857143, 68.01428571,\n",
       "        69.        ]),\n",
       " <BarContainer object of 70 artists>)"
      ]
     },
     "execution_count": 15,
     "metadata": {},
     "output_type": "execute_result"
    },
    {
     "data": {
      "image/png": "[encoded data removed]",
      "text/plain": [
       "<Figure size 640x480 with 1 Axes>"
      ]
     },
     "metadata": {},
     "output_type": "display_data"
    }
   ],
   "source": [
    "# vnode model prediction\n",
    "vnode_out = out[-70:,:]\n",
    "pred = vnode_out.argmax(dim=-1)\n",
    "plt.hist(pred.cpu().detach().numpy(), bins=70)"
   ]
  },
  {
   "cell_type": "code",
   "execution_count": 16,
   "metadata": {},
   "outputs": [
    {
     "data": {
      "text/plain": [
       "(array([110.,   9., 105., 148.,  24., 124., 155., 279., 105., 141.,  49.,\n",
       "        100.,  26., 206., 156.,  54.,  61.,  45.,  27., 181., 164.,  90.,\n",
       "        153.,  64., 136., 134.,  77., 333.,  42., 195.,  91., 163.,  58.,\n",
       "        349., 278.,  30., 141.,  76.,  55., 229., 111.,  79.,  33.,  18.,\n",
       "         53., 138.,  61.,  26., 217.,  96.,  39., 269., 175., 265.,  22.,\n",
       "        200., 120., 369.,  85., 128.,  58., 100.,  40.,  98.,  66.,  17.,\n",
       "         33.,  29.,   1.,   9.]),\n",
       " array([ 0.        ,  0.98571429,  1.97142857,  2.95714286,  3.94285714,\n",
       "         4.92857143,  5.91428571,  6.9       ,  7.88571429,  8.87142857,\n",
       "         9.85714286, 10.84285714, 11.82857143, 12.81428571, 13.8       ,\n",
       "        14.78571429, 15.77142857, 16.75714286, 17.74285714, 18.72857143,\n",
       "        19.71428571, 20.7       , 21.68571429, 22.67142857, 23.65714286,\n",
       "        24.64285714, 25.62857143, 26.61428571, 27.6       , 28.58571429,\n",
       "        29.57142857, 30.55714286, 31.54285714, 32.52857143, 33.51428571,\n",
       "        34.5       , 35.48571429, 36.47142857, 37.45714286, 38.44285714,\n",
       "        39.42857143, 40.41428571, 41.4       , 42.38571429, 43.37142857,\n",
       "        44.35714286, 45.34285714, 46.32857143, 47.31428571, 48.3       ,\n",
       "        49.28571429, 50.27142857, 51.25714286, 52.24285714, 53.22857143,\n",
       "        54.21428571, 55.2       , 56.18571429, 57.17142857, 58.15714286,\n",
       "        59.14285714, 60.12857143, 61.11428571, 62.1       , 63.08571429,\n",
       "        64.07142857, 65.05714286, 66.04285714, 67.02857143, 68.01428571,\n",
       "        69.        ]),\n",
       " <BarContainer object of 70 artists>)"
      ]
     },
     "execution_count": 16,
     "metadata": {},
     "output_type": "execute_result"
    },
    {
     "data": {
      "image/png": "[encoded data removed]",
      "text/plain": [
       "<Figure size 640x480 with 1 Axes>"
      ]
     },
     "metadata": {},
     "output_type": "display_data"
    }
   ],
   "source": [
    "# test data model prediction\n",
    "pred = out[~data_for_tuning.train_mask].argmax(dim=-1)\n",
    "plt.hist(pred.cpu().detach().numpy(), bins=70)"
   ]
  },
  {
   "cell_type": "code",
   "execution_count": 17,
   "metadata": {},
   "outputs": [],
   "source": [
    "import plotly.express as px\n",
    "from sklearn.manifold import TSNE\n",
    "TSNE_emb = TSNE(n_components=3).fit_transform(vnode_emb.cpu().detach().numpy())\n"
   ]
  },
  {
   "cell_type": "code",
   "execution_count": 20,
   "metadata": {},
   "outputs": [
    {
     "data": {
      "application/vnd.plotly.v1+json": {
       "config": {
        "plotlyServerURL": "https://plot.ly"
       },
       "data": [
        {
         "marker": {
          "opacity": 0.8,
          "size": 2
         },
         "mode": "markers",
         "type": "scatter3d",
         "x": [
          122.71501159667969,
          88.57551574707031,
          35.3033561706543,
          -66.26210021972656,
          -124.6223373413086,
          109.09048461914062,
          9.068693161010742,
          -66.678955078125,
          -67.21743774414062,
          59.57005310058594,
          52.720699310302734,
          49.42007827758789,
          -17.38553810119629,
          -49.94287109375,
          -15.16911506652832,
          -23.748491287231445,
          -79.16578674316406,
          2.4508605003356934,
          82.97882843017578,
          79.79987335205078,
          -76.51066589355469,
          -16.400604248046875,
          8.194634437561035,
          45.20235824584961,
          -24.255023956298828,
          -36.454673767089844,
          -124.16345977783203,
          -20.304317474365234,
          -66.55484008789062,
          60.68693542480469,
          -95.02021789550781,
          33.187252044677734,
          29.71831703186035,
          -125.65462493896484,
          35.90715408325195,
          55.353736877441406,
          -7.427017688751221,
          -88.69068908691406,
          -20.8057861328125,
          111.07866668701172,
          -59.186058044433594,
          2.4516162872314453,
          -80.95470428466797,
          -122.87055969238281,
          -60.05601501464844,
          -6.57879638671875,
          40.59552764892578,
          106.86923217773438,
          79.26850891113281,
          -102.17721557617188,
          -8.02023983001709,
          -55.62265396118164,
          107.14362335205078,
          15.348265647888184,
          65.92577362060547,
          36.195953369140625,
          -5.82602596282959,
          -65.06624603271484,
          61.398719787597656,
          -3.273268461227417,
          -40.573326110839844,
          30.369508743286133,
          -34.96151351928711,
          53.15318298339844,
          -5.532714366912842,
          -21.320659637451172,
          -223.33132934570312,
          101.70063018798828,
          -76.63907623291016,
          -5.344766616821289
         ],
         "y": [
          41.3703498840332,
          60.2204704284668,
          24.91123390197754,
          -92.75244903564453,
          -42.062652587890625,
          20.883651733398438,
          74.02571868896484,
          38.39442443847656,
          106.80420684814453,
          -109.34285736083984,
          -40.41783142089844,
          -93.21592712402344,
          110.3927993774414,
          -75.98326110839844,
          79.96495819091797,
          -154.04544067382812,
          -5.142069339752197,
          -95.18946838378906,
          -107.06925201416016,
          -46.32927703857422,
          56.72779083251953,
          -61.698402404785156,
          -8.596606254577637,
          1.437392234802246,
          -41.17887878417969,
          -118.17967224121094,
          -37.056968688964844,
          43.652000427246094,
          86.73637390136719,
          68.77002716064453,
          -104.2257308959961,
          -42.670169830322266,
          -92.4157485961914,
          15.8256196975708,
          98.7642822265625,
          115.46971130371094,
          28.23227882385254,
          -46.07106018066406,
          72.38435363769531,
          -83.8116226196289,
          66.94113159179688,
          -25.39181900024414,
          4.386353969573975,
          74.85134887695312,
          14.513551712036133,
          -121.89017486572266,
          -11.929519653320312,
          -17.987730026245117,
          74.21063232421875,
          25.589920043945312,
          -9.415966987609863,
          -3.2565224170684814,
          -36.79405975341797,
          43.81088638305664,
          -47.73283386230469,
          86.62655639648438,
          134.02792358398438,
          -42.914310455322266,
          15.489956855773926,
          -68.53160095214844,
          -12.224920272827148,
          -43.94514465332031,
          17.472169876098633,
          44.67875289916992,
          27.517749786376953,
          33.56303405761719,
          -202.33863830566406,
          18.061595916748047,
          -38.21977233886719,
          -72.55570983886719
         ],
         "z": [
          -22.38817596435547,
          0.013486988842487335,
          33.32831954956055,
          59.9249153137207,
          -30.783401489257812,
          -91.50341033935547,
          -95.32332611083984,
          99.3261947631836,
          40.361446380615234,
          65.78304290771484,
          31.35489845275879,
          2.7048346996307373,
          -43.750267028808594,
          -24.664222717285156,
          86.76632690429688,
          -22.48829460144043,
          132.0880584716797,
          -36.04751968383789,
          -56.7225456237793,
          -73.77577209472656,
          35.05166244506836,
          -112.5524673461914,
          -84.45319366455078,
          85.38235473632812,
          -45.73125457763672,
          16.202272415161133,
          31.13286018371582,
          143.8353271484375,
          -20.77208137512207,
          -63.06636047363281,
          -14.904362678527832,
          -124.68653106689453,
          -94.15628051757812,
          5.289917469024658,
          65.43302917480469,
          -29.073896408081055,
          -136.55397033691406,
          87.7096176147461,
          2.568981409072876,
          1.1302464008331299,
          -90.4662857055664,
          44.88733673095703,
          49.91032791137695,
          1.9420852661132812,
          -6.137373924255371,
          57.01463317871094,
          -6.058284282684326,
          -5.0300493240356445,
          64.2252426147461,
          -64.0603256225586,
          -3.1850175857543945,
          -116.67867279052734,
          61.659690856933594,
          -31.095701217651367,
          100.50166320800781,
          16.75843620300293,
          35.23441696166992,
          19.197813034057617,
          -56.0685920715332,
          86.35997009277344,
          73.47877502441406,
          -63.16250228881836,
          -57.798152923583984,
          119.37306213378906,
          89.93460845947266,
          45.173221588134766,
          -27.351436614990234,
          52.205970764160156,
          -68.19268035888672,
          18.000904083251953
         ]
        }
       ],
       "layout": {
        "margin": {
         "b": 0,
         "l": 0,
         "r": 0,
         "t": 0
        },
        "template": {
         "data": {
          "bar": [
           {
            "error_x": {
             "color": "#2a3f5f"
            },
            "error_y": {
             "color": "#2a3f5f"
            },
            "marker": {
             "line": {
              "color": "#E5ECF6",
              "width": 0.5
             },
             "pattern": {
              "fillmode": "overlay",
              "size": 10,
              "solidity": 0.2
             }
            },
            "type": "bar"
           }
          ],
          "barpolar": [
           {
            "marker": {
             "line": {
              "color": "#E5ECF6",
              "width": 0.5
             },
             "pattern": {
              "fillmode": "overlay",
              "size": 10,
              "solidity": 0.2
             }
            },
            "type": "barpolar"
           }
          ],
          "carpet": [
           {
            "aaxis": {
             "endlinecolor": "#2a3f5f",
             "gridcolor": "white",
             "linecolor": "white",
             "minorgridcolor": "white",
             "startlinecolor": "#2a3f5f"
            },
            "baxis": {
             "endlinecolor": "#2a3f5f",
             "gridcolor": "white",
             "linecolor": "white",
             "minorgridcolor": "white",
             "startlinecolor": "#2a3f5f"
            },
            "type": "carpet"
           }
          ],
          "choropleth": [
           {
            "colorbar": {
             "outlinewidth": 0,
             "ticks": ""
            },
            "type": "choropleth"
           }
          ],
          "contour": [
           {
            "colorbar": {
             "outlinewidth": 0,
             "ticks": ""
            },
            "colorscale": [
             [
              0,
              "#0d0887"
             ],
             [
              0.1111111111111111,
              "#46039f"
             ],
             [
              0.2222222222222222,
              "#7201a8"
             ],
             [
              0.3333333333333333,
              "#9c179e"
             ],
             [
              0.4444444444444444,
              "#bd3786"
             ],
             [
              0.5555555555555556,
              "#d8576b"
             ],
             [
              0.6666666666666666,
              "#ed7953"
             ],
             [
              0.7777777777777778,
              "#fb9f3a"
             ],
             [
              0.8888888888888888,
              "#fdca26"
             ],
             [
              1,
              "#f0f921"
             ]
            ],
            "type": "contour"
           }
          ],
          "contourcarpet": [
           {
            "colorbar": {
             "outlinewidth": 0,
             "ticks": ""
            },
            "type": "contourcarpet"
           }
          ],
          "heatmap": [
           {
            "colorbar": {
             "outlinewidth": 0,
             "ticks": ""
            },
            "colorscale": [
             [
              0,
              "#0d0887"
             ],
             [
              0.1111111111111111,
              "#46039f"
             ],
             [
              0.2222222222222222,
              "#7201a8"
             ],
             [
              0.3333333333333333,
              "#9c179e"
             ],
             [
              0.4444444444444444,
              "#bd3786"
             ],
             [
              0.5555555555555556,
              "#d8576b"
             ],
             [
              0.6666666666666666,
              "#ed7953"
             ],
             [
              0.7777777777777778,
              "#fb9f3a"
             ],
             [
              0.8888888888888888,
              "#fdca26"
             ],
             [
              1,
              "#f0f921"
             ]
            ],
            "type": "heatmap"
           }
          ],
          "heatmapgl": [
           {
            "colorbar": {
             "outlinewidth": 0,
             "ticks": ""
            },
            "colorscale": [
             [
              0,
              "#0d0887"
             ],
             [
              0.1111111111111111,
              "#46039f"
             ],
             [
              0.2222222222222222,
              "#7201a8"
             ],
             [
              0.3333333333333333,
              "#9c179e"
             ],
             [
              0.4444444444444444,
              "#bd3786"
             ],
             [
              0.5555555555555556,
              "#d8576b"
             ],
             [
              0.6666666666666666,
              "#ed7953"
             ],
             [
              0.7777777777777778,
              "#fb9f3a"
             ],
             [
              0.8888888888888888,
              "#fdca26"
             ],
             [
              1,
              "#f0f921"
             ]
            ],
            "type": "heatmapgl"
           }
          ],
          "histogram": [
           {
            "marker": {
             "pattern": {
              "fillmode": "overlay",
              "size": 10,
              "solidity": 0.2
             }
            },
            "type": "histogram"
           }
          ],
          "histogram2d": [
           {
            "colorbar": {
             "outlinewidth": 0,
             "ticks": ""
            },
            "colorscale": [
             [
              0,
              "#0d0887"
             ],
             [
              0.1111111111111111,
              "#46039f"
             ],
             [
              0.2222222222222222,
              "#7201a8"
             ],
             [
              0.3333333333333333,
              "#9c179e"
             ],
             [
              0.4444444444444444,
              "#bd3786"
             ],
             [
              0.5555555555555556,
              "#d8576b"
             ],
             [
              0.6666666666666666,
              "#ed7953"
             ],
             [
              0.7777777777777778,
              "#fb9f3a"
             ],
             [
              0.8888888888888888,
              "#fdca26"
             ],
             [
              1,
              "#f0f921"
             ]
            ],
            "type": "histogram2d"
           }
          ],
          "histogram2dcontour": [
           {
            "colorbar": {
             "outlinewidth": 0,
             "ticks": ""
            },
            "colorscale": [
             [
              0,
              "#0d0887"
             ],
             [
              0.1111111111111111,
              "#46039f"
             ],
             [
              0.2222222222222222,
              "#7201a8"
             ],
             [
              0.3333333333333333,
              "#9c179e"
             ],
             [
              0.4444444444444444,
              "#bd3786"
             ],
             [
              0.5555555555555556,
              "#d8576b"
             ],
             [
              0.6666666666666666,
              "#ed7953"
             ],
             [
              0.7777777777777778,
              "#fb9f3a"
             ],
             [
              0.8888888888888888,
              "#fdca26"
             ],
             [
              1,
              "#f0f921"
             ]
            ],
            "type": "histogram2dcontour"
           }
          ],
          "mesh3d": [
           {
            "colorbar": {
             "outlinewidth": 0,
             "ticks": ""
            },
            "type": "mesh3d"
           }
          ],
          "parcoords": [
           {
            "line": {
             "colorbar": {
              "outlinewidth": 0,
              "ticks": ""
             }
            },
            "type": "parcoords"
           }
          ],
          "pie": [
           {
            "automargin": true,
            "type": "pie"
           }
          ],
          "scatter": [
           {
            "fillpattern": {
             "fillmode": "overlay",
             "size": 10,
             "solidity": 0.2
            },
            "type": "scatter"
           }
          ],
          "scatter3d": [
           {
            "line": {
             "colorbar": {
              "outlinewidth": 0,
              "ticks": ""
             }
            },
            "marker": {
             "colorbar": {
              "outlinewidth": 0,
              "ticks": ""
             }
            },
            "type": "scatter3d"
           }
          ],
          "scattercarpet": [
           {
            "marker": {
             "colorbar": {
              "outlinewidth": 0,
              "ticks": ""
             }
            },
            "type": "scattercarpet"
           }
          ],
          "scattergeo": [
           {
            "marker": {
             "colorbar": {
              "outlinewidth": 0,
              "ticks": ""
             }
            },
            "type": "scattergeo"
           }
          ],
          "scattergl": [
           {
            "marker": {
             "colorbar": {
              "outlinewidth": 0,
              "ticks": ""
             }
            },
            "type": "scattergl"
           }
          ],
          "scattermapbox": [
           {
            "marker": {
             "colorbar": {
              "outlinewidth": 0,
              "ticks": ""
             }
            },
            "type": "scattermapbox"
           }
          ],
          "scatterpolar": [
           {
            "marker": {
             "colorbar": {
              "outlinewidth": 0,
              "ticks": ""
             }
            },
            "type": "scatterpolar"
           }
          ],
          "scatterpolargl": [
           {
            "marker": {
             "colorbar": {
              "outlinewidth": 0,
              "ticks": ""
             }
            },
            "type": "scatterpolargl"
           }
          ],
          "scatterternary": [
           {
            "marker": {
             "colorbar": {
              "outlinewidth": 0,
              "ticks": ""
             }
            },
            "type": "scatterternary"
           }
          ],
          "surface": [
           {
            "colorbar": {
             "outlinewidth": 0,
             "ticks": ""
            },
            "colorscale": [
             [
              0,
              "#0d0887"
             ],
             [
              0.1111111111111111,
              "#46039f"
             ],
             [
              0.2222222222222222,
              "#7201a8"
             ],
             [
              0.3333333333333333,
              "#9c179e"
             ],
             [
              0.4444444444444444,
              "#bd3786"
             ],
             [
              0.5555555555555556,
              "#d8576b"
             ],
             [
              0.6666666666666666,
              "#ed7953"
             ],
             [
              0.7777777777777778,
              "#fb9f3a"
             ],
             [
              0.8888888888888888,
              "#fdca26"
             ],
             [
              1,
              "#f0f921"
             ]
            ],
            "type": "surface"
           }
          ],
          "table": [
           {
            "cells": {
             "fill": {
              "color": "#EBF0F8"
             },
             "line": {
              "color": "white"
             }
            },
            "header": {
             "fill": {
              "color": "#C8D4E3"
             },
             "line": {
              "color": "white"
             }
            },
            "type": "table"
           }
          ]
         },
         "layout": {
          "annotationdefaults": {
           "arrowcolor": "#2a3f5f",
           "arrowhead": 0,
           "arrowwidth": 1
          },
          "autotypenumbers": "strict",
          "coloraxis": {
           "colorbar": {
            "outlinewidth": 0,
            "ticks": ""
           }
          },
          "colorscale": {
           "diverging": [
            [
             0,
             "#8e0152"
            ],
            [
             0.1,
             "#c51b7d"
            ],
            [
             0.2,
             "#de77ae"
            ],
            [
             0.3,
             "#f1b6da"
            ],
            [
             0.4,
             "#fde0ef"
            ],
            [
             0.5,
             "#f7f7f7"
            ],
            [
             0.6,
             "#e6f5d0"
            ],
            [
             0.7,
             "#b8e186"
            ],
            [
             0.8,
             "#7fbc41"
            ],
            [
             0.9,
             "#4d9221"
            ],
            [
             1,
             "#276419"
            ]
           ],
           "sequential": [
            [
             0,
             "#0d0887"
            ],
            [
             0.1111111111111111,
             "#46039f"
            ],
            [
             0.2222222222222222,
             "#7201a8"
            ],
            [
             0.3333333333333333,
             "#9c179e"
            ],
            [
             0.4444444444444444,
             "#bd3786"
            ],
            [
             0.5555555555555556,
             "#d8576b"
            ],
            [
             0.6666666666666666,
             "#ed7953"
            ],
            [
             0.7777777777777778,
             "#fb9f3a"
            ],
            [
             0.8888888888888888,
             "#fdca26"
            ],
            [
             1,
             "#f0f921"
            ]
           ],
           "sequentialminus": [
            [
             0,
             "#0d0887"
            ],
            [
             0.1111111111111111,
             "#46039f"
            ],
            [
             0.2222222222222222,
             "#7201a8"
            ],
            [
             0.3333333333333333,
             "#9c179e"
            ],
            [
             0.4444444444444444,
             "#bd3786"
            ],
            [
             0.5555555555555556,
             "#d8576b"
            ],
            [
             0.6666666666666666,
             "#ed7953"
            ],
            [
             0.7777777777777778,
             "#fb9f3a"
            ],
            [
             0.8888888888888888,
             "#fdca26"
            ],
            [
             1,
             "#f0f921"
            ]
           ]
          },
          "colorway": [
           "#636efa",
           "#EF553B",
           "#00cc96",
           "#ab63fa",
           "#FFA15A",
           "#19d3f3",
           "#FF6692",
           "#B6E880",
           "#FF97FF",
           "#FECB52"
          ],
          "font": {
           "color": "#2a3f5f"
          },
          "geo": {
           "bgcolor": "white",
           "lakecolor": "white",
           "landcolor": "#E5ECF6",
           "showlakes": true,
           "showland": true,
           "subunitcolor": "white"
          },
          "hoverlabel": {
           "align": "left"
          },
          "hovermode": "closest",
          "mapbox": {
           "style": "light"
          },
          "paper_bgcolor": "white",
          "plot_bgcolor": "#E5ECF6",
          "polar": {
           "angularaxis": {
            "gridcolor": "white",
            "linecolor": "white",
            "ticks": ""
           },
           "bgcolor": "#E5ECF6",
           "radialaxis": {
            "gridcolor": "white",
            "linecolor": "white",
            "ticks": ""
           }
          },
          "scene": {
           "xaxis": {
            "backgroundcolor": "#E5ECF6",
            "gridcolor": "white",
            "gridwidth": 2,
            "linecolor": "white",
            "showbackground": true,
            "ticks": "",
            "zerolinecolor": "white"
           },
           "yaxis": {
            "backgroundcolor": "#E5ECF6",
            "gridcolor": "white",
            "gridwidth": 2,
            "linecolor": "white",
            "showbackground": true,
            "ticks": "",
            "zerolinecolor": "white"
           },
           "zaxis": {
            "backgroundcolor": "#E5ECF6",
            "gridcolor": "white",
            "gridwidth": 2,
            "linecolor": "white",
            "showbackground": true,
            "ticks": "",
            "zerolinecolor": "white"
           }
          },
          "shapedefaults": {
           "line": {
            "color": "#2a3f5f"
           }
          },
          "ternary": {
           "aaxis": {
            "gridcolor": "white",
            "linecolor": "white",
            "ticks": ""
           },
           "baxis": {
            "gridcolor": "white",
            "linecolor": "white",
            "ticks": ""
           },
           "bgcolor": "#E5ECF6",
           "caxis": {
            "gridcolor": "white",
            "linecolor": "white",
            "ticks": ""
           }
          },
          "title": {
           "x": 0.05
          },
          "xaxis": {
           "automargin": true,
           "gridcolor": "white",
           "linecolor": "white",
           "ticks": "",
           "title": {
            "standoff": 15
           },
           "zerolinecolor": "white",
           "zerolinewidth": 2
          },
          "yaxis": {
           "automargin": true,
           "gridcolor": "white",
           "linecolor": "white",
           "ticks": "",
           "title": {
            "standoff": 15
           },
           "zerolinecolor": "white",
           "zerolinewidth": 2
          }
         }
        }
       }
      },
      "text/html": [
       "<div>                            <div id=\"2beb2821-e7ff-4797-a333-50c4ccb5083b\" class=\"plotly-graph-div\" style=\"height:525px; width:100%;\"></div>            <script type=\"text/javascript\">                require([\"plotly\"], function(Plotly) {                    window.PLOTLYENV=window.PLOTLYENV || {};                                    if (document.getElementById(\"2beb2821-e7ff-4797-a333-50c4ccb5083b\")) {                    Plotly.newPlot(                        \"2beb2821-e7ff-4797-a333-50c4ccb5083b\",                        [{\"marker\":{\"opacity\":0.8,\"size\":2},\"mode\":\"markers\",\"x\":[122.71501159667969,88.57551574707031,35.3033561706543,-66.26210021972656,-124.6223373413086,109.09048461914062,9.068693161010742,-66.678955078125,-67.21743774414062,59.57005310058594,52.720699310302734,49.42007827758789,-17.38553810119629,-49.94287109375,-15.16911506652832,-23.748491287231445,-79.16578674316406,2.4508605003356934,82.97882843017578,79.79987335205078,-76.51066589355469,-16.400604248046875,8.194634437561035,45.20235824584961,-24.255023956298828,-36.454673767089844,-124.16345977783203,-20.304317474365234,-66.55484008789062,60.68693542480469,-95.02021789550781,33.187252044677734,29.71831703186035,-125.65462493896484,35.90715408325195,55.353736877441406,-7.427017688751221,-88.69068908691406,-20.8057861328125,111.07866668701172,-59.186058044433594,2.4516162872314453,-80.95470428466797,-122.87055969238281,-60.05601501464844,-6.57879638671875,40.59552764892578,106.86923217773438,79.26850891113281,-102.17721557617188,-8.02023983001709,-55.62265396118164,107.14362335205078,15.348265647888184,65.92577362060547,36.195953369140625,-5.82602596282959,-65.06624603271484,61.398719787597656,-3.273268461227417,-40.573326110839844,30.369508743286133,-34.96151351928711,53.15318298339844,-5.532714366912842,-21.320659637451172,-223.33132934570312,101.70063018798828,-76.63907623291016,-5.344766616821289],\"y\":[41.3703498840332,60.2204704284668,24.91123390197754,-92.75244903564453,-42.062652587890625,20.883651733398438,74.02571868896484,38.39442443847656,106.80420684814453,-109.34285736083984,-40.41783142089844,-93.21592712402344,110.3927993774414,-75.98326110839844,79.96495819091797,-154.04544067382812,-5.142069339752197,-95.18946838378906,-107.06925201416016,-46.32927703857422,56.72779083251953,-61.698402404785156,-8.596606254577637,1.437392234802246,-41.17887878417969,-118.17967224121094,-37.056968688964844,43.652000427246094,86.73637390136719,68.77002716064453,-104.2257308959961,-42.670169830322266,-92.4157485961914,15.8256196975708,98.7642822265625,115.46971130371094,28.23227882385254,-46.07106018066406,72.38435363769531,-83.8116226196289,66.94113159179688,-25.39181900024414,4.386353969573975,74.85134887695312,14.513551712036133,-121.89017486572266,-11.929519653320312,-17.987730026245117,74.21063232421875,25.589920043945312,-9.415966987609863,-3.2565224170684814,-36.79405975341797,43.81088638305664,-47.73283386230469,86.62655639648438,134.02792358398438,-42.914310455322266,15.489956855773926,-68.53160095214844,-12.224920272827148,-43.94514465332031,17.472169876098633,44.67875289916992,27.517749786376953,33.56303405761719,-202.33863830566406,18.061595916748047,-38.21977233886719,-72.55570983886719],\"z\":[-22.38817596435547,0.013486988842487335,33.32831954956055,59.9249153137207,-30.783401489257812,-91.50341033935547,-95.32332611083984,99.3261947631836,40.361446380615234,65.78304290771484,31.35489845275879,2.7048346996307373,-43.750267028808594,-24.664222717285156,86.76632690429688,-22.48829460144043,132.0880584716797,-36.04751968383789,-56.7225456237793,-73.77577209472656,35.05166244506836,-112.5524673461914,-84.45319366455078,85.38235473632812,-45.73125457763672,16.202272415161133,31.13286018371582,143.8353271484375,-20.77208137512207,-63.06636047363281,-14.904362678527832,-124.68653106689453,-94.15628051757812,5.289917469024658,65.43302917480469,-29.073896408081055,-136.55397033691406,87.7096176147461,2.568981409072876,1.1302464008331299,-90.4662857055664,44.88733673095703,49.91032791137695,1.9420852661132812,-6.137373924255371,57.01463317871094,-6.058284282684326,-5.0300493240356445,64.2252426147461,-64.0603256225586,-3.1850175857543945,-116.67867279052734,61.659690856933594,-31.095701217651367,100.50166320800781,16.75843620300293,35.23441696166992,19.197813034057617,-56.0685920715332,86.35997009277344,73.47877502441406,-63.16250228881836,-57.798152923583984,119.37306213378906,89.93460845947266,45.173221588134766,-27.351436614990234,52.205970764160156,-68.19268035888672,18.000904083251953],\"type\":\"scatter3d\"}],                        {\"template\":{\"data\":{\"histogram2dcontour\":[{\"type\":\"histogram2dcontour\",\"colorbar\":{\"outlinewidth\":0,\"ticks\":\"\"},\"colorscale\":[[0.0,\"#0d0887\"],[0.1111111111111111,\"#46039f\"],[0.2222222222222222,\"#7201a8\"],[0.3333333333333333,\"#9c179e\"],[0.4444444444444444,\"#bd3786\"],[0.5555555555555556,\"#d8576b\"],[0.6666666666666666,\"#ed7953\"],[0.7777777777777778,\"#fb9f3a\"],[0.8888888888888888,\"#fdca26\"],[1.0,\"#f0f921\"]]}],\"choropleth\":[{\"type\":\"choropleth\",\"colorbar\":{\"outlinewidth\":0,\"ticks\":\"\"}}],\"histogram2d\":[{\"type\":\"histogram2d\",\"colorbar\":{\"outlinewidth\":0,\"ticks\":\"\"},\"colorscale\":[[0.0,\"#0d0887\"],[0.1111111111111111,\"#46039f\"],[0.2222222222222222,\"#7201a8\"],[0.3333333333333333,\"#9c179e\"],[0.4444444444444444,\"#bd3786\"],[0.5555555555555556,\"#d8576b\"],[0.6666666666666666,\"#ed7953\"],[0.7777777777777778,\"#fb9f3a\"],[0.8888888888888888,\"#fdca26\"],[1.0,\"#f0f921\"]]}],\"heatmap\":[{\"type\":\"heatmap\",\"colorbar\":{\"outlinewidth\":0,\"ticks\":\"\"},\"colorscale\":[[0.0,\"#0d0887\"],[0.1111111111111111,\"#46039f\"],[0.2222222222222222,\"#7201a8\"],[0.3333333333333333,\"#9c179e\"],[0.4444444444444444,\"#bd3786\"],[0.5555555555555556,\"#d8576b\"],[0.6666666666666666,\"#ed7953\"],[0.7777777777777778,\"#fb9f3a\"],[0.8888888888888888,\"#fdca26\"],[1.0,\"#f0f921\"]]}],\"heatmapgl\":[{\"type\":\"heatmapgl\",\"colorbar\":{\"outlinewidth\":0,\"ticks\":\"\"},\"colorscale\":[[0.0,\"#0d0887\"],[0.1111111111111111,\"#46039f\"],[0.2222222222222222,\"#7201a8\"],[0.3333333333333333,\"#9c179e\"],[0.4444444444444444,\"#bd3786\"],[0.5555555555555556,\"#d8576b\"],[0.6666666666666666,\"#ed7953\"],[0.7777777777777778,\"#fb9f3a\"],[0.8888888888888888,\"#fdca26\"],[1.0,\"#f0f921\"]]}],\"contourcarpet\":[{\"type\":\"contourcarpet\",\"colorbar\":{\"outlinewidth\":0,\"ticks\":\"\"}}],\"contour\":[{\"type\":\"contour\",\"colorbar\":{\"outlinewidth\":0,\"ticks\":\"\"},\"colorscale\":[[0.0,\"#0d0887\"],[0.1111111111111111,\"#46039f\"],[0.2222222222222222,\"#7201a8\"],[0.3333333333333333,\"#9c179e\"],[0.4444444444444444,\"#bd3786\"],[0.5555555555555556,\"#d8576b\"],[0.6666666666666666,\"#ed7953\"],[0.7777777777777778,\"#fb9f3a\"],[0.8888888888888888,\"#fdca26\"],[1.0,\"#f0f921\"]]}],\"surface\":[{\"type\":\"surface\",\"colorbar\":{\"outlinewidth\":0,\"ticks\":\"\"},\"colorscale\":[[0.0,\"#0d0887\"],[0.1111111111111111,\"#46039f\"],[0.2222222222222222,\"#7201a8\"],[0.3333333333333333,\"#9c179e\"],[0.4444444444444444,\"#bd3786\"],[0.5555555555555556,\"#d8576b\"],[0.6666666666666666,\"#ed7953\"],[0.7777777777777778,\"#fb9f3a\"],[0.8888888888888888,\"#fdca26\"],[1.0,\"#f0f921\"]]}],\"mesh3d\":[{\"type\":\"mesh3d\",\"colorbar\":{\"outlinewidth\":0,\"ticks\":\"\"}}],\"scatter\":[{\"fillpattern\":{\"fillmode\":\"overlay\",\"size\":10,\"solidity\":0.2},\"type\":\"scatter\"}],\"parcoords\":[{\"type\":\"parcoords\",\"line\":{\"colorbar\":{\"outlinewidth\":0,\"ticks\":\"\"}}}],\"scatterpolargl\":[{\"type\":\"scatterpolargl\",\"marker\":{\"colorbar\":{\"outlinewidth\":0,\"ticks\":\"\"}}}],\"bar\":[{\"error_x\":{\"color\":\"#2a3f5f\"},\"error_y\":{\"color\":\"#2a3f5f\"},\"marker\":{\"line\":{\"color\":\"#E5ECF6\",\"width\":0.5},\"pattern\":{\"fillmode\":\"overlay\",\"size\":10,\"solidity\":0.2}},\"type\":\"bar\"}],\"scattergeo\":[{\"type\":\"scattergeo\",\"marker\":{\"colorbar\":{\"outlinewidth\":0,\"ticks\":\"\"}}}],\"scatterpolar\":[{\"type\":\"scatterpolar\",\"marker\":{\"colorbar\":{\"outlinewidth\":0,\"ticks\":\"\"}}}],\"histogram\":[{\"marker\":{\"pattern\":{\"fillmode\":\"overlay\",\"size\":10,\"solidity\":0.2}},\"type\":\"histogram\"}],\"scattergl\":[{\"type\":\"scattergl\",\"marker\":{\"colorbar\":{\"outlinewidth\":0,\"ticks\":\"\"}}}],\"scatter3d\":[{\"type\":\"scatter3d\",\"line\":{\"colorbar\":{\"outlinewidth\":0,\"ticks\":\"\"}},\"marker\":{\"colorbar\":{\"outlinewidth\":0,\"ticks\":\"\"}}}],\"scattermapbox\":[{\"type\":\"scattermapbox\",\"marker\":{\"colorbar\":{\"outlinewidth\":0,\"ticks\":\"\"}}}],\"scatterternary\":[{\"type\":\"scatterternary\",\"marker\":{\"colorbar\":{\"outlinewidth\":0,\"ticks\":\"\"}}}],\"scattercarpet\":[{\"type\":\"scattercarpet\",\"marker\":{\"colorbar\":{\"outlinewidth\":0,\"ticks\":\"\"}}}],\"carpet\":[{\"aaxis\":{\"endlinecolor\":\"#2a3f5f\",\"gridcolor\":\"white\",\"linecolor\":\"white\",\"minorgridcolor\":\"white\",\"startlinecolor\":\"#2a3f5f\"},\"baxis\":{\"endlinecolor\":\"#2a3f5f\",\"gridcolor\":\"white\",\"linecolor\":\"white\",\"minorgridcolor\":\"white\",\"startlinecolor\":\"#2a3f5f\"},\"type\":\"carpet\"}],\"table\":[{\"cells\":{\"fill\":{\"color\":\"#EBF0F8\"},\"line\":{\"color\":\"white\"}},\"header\":{\"fill\":{\"color\":\"#C8D4E3\"},\"line\":{\"color\":\"white\"}},\"type\":\"table\"}],\"barpolar\":[{\"marker\":{\"line\":{\"color\":\"#E5ECF6\",\"width\":0.5},\"pattern\":{\"fillmode\":\"overlay\",\"size\":10,\"solidity\":0.2}},\"type\":\"barpolar\"}],\"pie\":[{\"automargin\":true,\"type\":\"pie\"}]},\"layout\":{\"autotypenumbers\":\"strict\",\"colorway\":[\"#636efa\",\"#EF553B\",\"#00cc96\",\"#ab63fa\",\"#FFA15A\",\"#19d3f3\",\"#FF6692\",\"#B6E880\",\"#FF97FF\",\"#FECB52\"],\"font\":{\"color\":\"#2a3f5f\"},\"hovermode\":\"closest\",\"hoverlabel\":{\"align\":\"left\"},\"paper_bgcolor\":\"white\",\"plot_bgcolor\":\"#E5ECF6\",\"polar\":{\"bgcolor\":\"#E5ECF6\",\"angularaxis\":{\"gridcolor\":\"white\",\"linecolor\":\"white\",\"ticks\":\"\"},\"radialaxis\":{\"gridcolor\":\"white\",\"linecolor\":\"white\",\"ticks\":\"\"}},\"ternary\":{\"bgcolor\":\"#E5ECF6\",\"aaxis\":{\"gridcolor\":\"white\",\"linecolor\":\"white\",\"ticks\":\"\"},\"baxis\":{\"gridcolor\":\"white\",\"linecolor\":\"white\",\"ticks\":\"\"},\"caxis\":{\"gridcolor\":\"white\",\"linecolor\":\"white\",\"ticks\":\"\"}},\"coloraxis\":{\"colorbar\":{\"outlinewidth\":0,\"ticks\":\"\"}},\"colorscale\":{\"sequential\":[[0.0,\"#0d0887\"],[0.1111111111111111,\"#46039f\"],[0.2222222222222222,\"#7201a8\"],[0.3333333333333333,\"#9c179e\"],[0.4444444444444444,\"#bd3786\"],[0.5555555555555556,\"#d8576b\"],[0.6666666666666666,\"#ed7953\"],[0.7777777777777778,\"#fb9f3a\"],[0.8888888888888888,\"#fdca26\"],[1.0,\"#f0f921\"]],\"sequentialminus\":[[0.0,\"#0d0887\"],[0.1111111111111111,\"#46039f\"],[0.2222222222222222,\"#7201a8\"],[0.3333333333333333,\"#9c179e\"],[0.4444444444444444,\"#bd3786\"],[0.5555555555555556,\"#d8576b\"],[0.6666666666666666,\"#ed7953\"],[0.7777777777777778,\"#fb9f3a\"],[0.8888888888888888,\"#fdca26\"],[1.0,\"#f0f921\"]],\"diverging\":[[0,\"#8e0152\"],[0.1,\"#c51b7d\"],[0.2,\"#de77ae\"],[0.3,\"#f1b6da\"],[0.4,\"#fde0ef\"],[0.5,\"#f7f7f7\"],[0.6,\"#e6f5d0\"],[0.7,\"#b8e186\"],[0.8,\"#7fbc41\"],[0.9,\"#4d9221\"],[1,\"#276419\"]]},\"xaxis\":{\"gridcolor\":\"white\",\"linecolor\":\"white\",\"ticks\":\"\",\"title\":{\"standoff\":15},\"zerolinecolor\":\"white\",\"automargin\":true,\"zerolinewidth\":2},\"yaxis\":{\"gridcolor\":\"white\",\"linecolor\":\"white\",\"ticks\":\"\",\"title\":{\"standoff\":15},\"zerolinecolor\":\"white\",\"automargin\":true,\"zerolinewidth\":2},\"scene\":{\"xaxis\":{\"backgroundcolor\":\"#E5ECF6\",\"gridcolor\":\"white\",\"linecolor\":\"white\",\"showbackground\":true,\"ticks\":\"\",\"zerolinecolor\":\"white\",\"gridwidth\":2},\"yaxis\":{\"backgroundcolor\":\"#E5ECF6\",\"gridcolor\":\"white\",\"linecolor\":\"white\",\"showbackground\":true,\"ticks\":\"\",\"zerolinecolor\":\"white\",\"gridwidth\":2},\"zaxis\":{\"backgroundcolor\":\"#E5ECF6\",\"gridcolor\":\"white\",\"linecolor\":\"white\",\"showbackground\":true,\"ticks\":\"\",\"zerolinecolor\":\"white\",\"gridwidth\":2}},\"shapedefaults\":{\"line\":{\"color\":\"#2a3f5f\"}},\"annotationdefaults\":{\"arrowcolor\":\"#2a3f5f\",\"arrowhead\":0,\"arrowwidth\":1},\"geo\":{\"bgcolor\":\"white\",\"landcolor\":\"#E5ECF6\",\"subunitcolor\":\"white\",\"showland\":true,\"showlakes\":true,\"lakecolor\":\"white\"},\"title\":{\"x\":0.05},\"mapbox\":{\"style\":\"light\"}}},\"margin\":{\"l\":0,\"r\":0,\"b\":0,\"t\":0}},                        {\"responsive\": true}                    ).then(function(){\n",
       "                            \n",
       "var gd = document.getElementById('2beb2821-e7ff-4797-a333-50c4ccb5083b');\n",
       "var x = new MutationObserver(function (mutations, observer) {{\n",
       "        var display = window.getComputedStyle(gd).display;\n",
       "        if (!display || display === 'none') {{\n",
       "            console.log([gd, 'removed!']);\n",
       "            Plotly.purge(gd);\n",
       "            observer.disconnect();\n",
       "        }}\n",
       "}});\n",
       "\n",
       "// Listen for the removal of the full notebook cells\n",
       "var notebookContainer = gd.closest('#notebook-container');\n",
       "if (notebookContainer) {{\n",
       "    x.observe(notebookContainer, {childList: true});\n",
       "}}\n",
       "\n",
       "// Listen for the clearing of the current output cell\n",
       "var outputEl = gd.closest('.output');\n",
       "if (outputEl) {{\n",
       "    x.observe(outputEl, {childList: true});\n",
       "}}\n",
       "\n",
       "                        })                };                });            </script>        </div>"
      ]
     },
     "metadata": {},
     "output_type": "display_data"
    }
   ],
   "source": [
    "import plotly.graph_objects as go\n",
    "import numpy as np\n",
    "\n",
    "\n",
    "fig = go.Figure(data=[go.Scatter3d(\n",
    "    x=TSNE_emb[:,0],\n",
    "    y=TSNE_emb[:,1],\n",
    "    z=TSNE_emb[:,2],\n",
    "    mode='markers',\n",
    "    marker=dict(\n",
    "        size=2,\n",
    "        opacity=0.8\n",
    "    )\n",
    ")])\n",
    "\n",
    "# tight layout\n",
    "fig.update_layout(margin=dict(l=0, r=0, b=0, t=0))\n",
    "fig.show()"
   ]
  },
  {
   "cell_type": "code",
   "execution_count": 21,
   "metadata": {},
   "outputs": [],
   "source": [
    "from sklearn.manifold import TSNE\n",
    "TSNE_emb_all = TSNE(n_components=3).fit_transform(embedding.cpu().detach().numpy())"
   ]
  },
  {
   "cell_type": "code",
   "execution_count": 65,
   "metadata": {},
   "outputs": [
    {
     "data": {
      "text/plain": [
       "torch.Size([240, 1])"
      ]
     },
     "execution_count": 65,
     "metadata": {},
     "output_type": "execute_result"
    }
   ],
   "source": [
    "(data.y == 8).nonzero().shape"
   ]
  },
  {
   "cell_type": "code",
   "execution_count": 110,
   "metadata": {},
   "outputs": [],
   "source": [
    "lst = []\n",
    "for i in range(70):\n",
    "    target_classes = sorted_node[i:(i+1)]\n",
    "    idx_list = []\n",
    "    for target in target_classes:\n",
    "        idx = (data.y == target).nonzero().cpu()\n",
    "        idx_list.extend(idx)\n",
    "    idx_tensor = torch.cat(idx_list)\n",
    "    lst.append(idx_tensor)"
   ]
  },
  {
   "cell_type": "code",
   "execution_count": 113,
   "metadata": {},
   "outputs": [],
   "source": [
    "TSNE_selected = TSNE_emb_all[lst[0],:]"
   ]
  },
  {
   "cell_type": "code",
   "execution_count": 114,
   "metadata": {},
   "outputs": [
    {
     "data": {
      "text/plain": [
       "(928, 3)"
      ]
     },
     "execution_count": 114,
     "metadata": {},
     "output_type": "execute_result"
    }
   ],
   "source": [
    "TSNE_selected.shape"
   ]
  },
  {
   "cell_type": "code",
   "execution_count": 115,
   "metadata": {},
   "outputs": [],
   "source": [
    "import random\n",
    "\n",
    "def generate_discrete_colors(num_colors):\n",
    "    colors = []\n",
    "    for _ in range(num_colors):\n",
    "        color = '#' + ''.join(random.choices('0123456789ABCDEF', k=6))\n",
    "        colors.append(color)\n",
    "    return colors\n",
    "\n",
    "# Generating a list of 70 discrete hex colors\n",
    "discrete_colors70 = generate_discrete_colors(70)\n"
   ]
  },
  {
   "cell_type": "code",
   "execution_count": 116,
   "metadata": {},
   "outputs": [],
   "source": [
    "labels = data_for_tuning.y.cpu().tolist()\n",
    "labels = np.array([discrete_colors70[i] for i in labels])\n",
    "labels_vnode = np.array([discrete_colors70[i] for i in target_classes])\n",
    "discrete_colors70=(discrete_colors70)"
   ]
  },
  {
   "cell_type": "code",
   "execution_count": 117,
   "metadata": {},
   "outputs": [
    {
     "data": {
      "text/plain": [
       "19863"
      ]
     },
     "execution_count": 117,
     "metadata": {},
     "output_type": "execute_result"
    }
   ],
   "source": [
    "len(labels)"
   ]
  },
  {
   "cell_type": "code",
   "execution_count": null,
   "metadata": {},
   "outputs": [],
   "source": [
    "lst = []\n",
    "for i in range(70):\n",
    "    target_classes = sorted_node[i:(i+1)]\n",
    "    idx_list = []\n",
    "    for target in target_classes:\n",
    "        idx = (data.y == target).nonzero().cpu()\n",
    "        idx_list.extend(idx)\n",
    "    idx_tensor = torch.cat(idx_list)\n",
    "    lst.append(idx_tensor)\n"
   ]
  },
  {
   "cell_type": "code",
   "execution_count": 151,
   "metadata": {},
   "outputs": [],
   "source": [
    "jaewoo=24\n",
    "TSNE_selected = TSNE_emb_all[lst[jaewoo],:]"
   ]
  },
  {
   "cell_type": "code",
   "execution_count": 171,
   "metadata": {},
   "outputs": [
    {
     "data": {
      "application/vnd.plotly.v1+json": {
       "config": {
        "plotlyServerURL": "https://plot.ly"
       },
       "data": [
        {
         "marker": {
          "color": "blue",
          "opacity": 0.4,
          "size": 5
         },
         "mode": "markers",
         "type": "scatter3d",
         "x": [
          -10.140802383422852,
          -12.993213653564453,
          2.7913267612457275,
          -18.79391098022461,
          -16.143768310546875,
          -24.793743133544922,
          -6.939561367034912,
          14.507481575012207,
          -15.572861671447754,
          -26.585058212280273,
          -5.47101354598999,
          -8.647165298461914,
          -3.875706434249878,
          8.094130516052246,
          7.468855381011963,
          -1.0007450580596924,
          11.028215408325195,
          30.573083877563477,
          13.679716110229492,
          6.041337013244629,
          -27.454389572143555,
          3.436952829360962,
          -2.0682601928710938,
          23.287429809570312,
          5.390100955963135,
          1.1108349561691284,
          -5.682510852813721,
          23.18416404724121,
          -3.3703787326812744,
          -3.1389870643615723,
          -0.15465328097343445,
          19.577205657958984,
          14.269725799560547,
          -13.491559982299805,
          -7.238994598388672,
          11.944043159484863,
          16.994033813476562,
          11.750068664550781,
          0.05784527212381363,
          -1.009666919708252,
          19.720504760742188,
          14.777867317199707,
          -7.3864030838012695,
          -4.995222091674805,
          7.508599281311035,
          2.6220335960388184,
          -0.18190668523311615,
          3.8869779109954834,
          -4.726920127868652,
          18.970399856567383,
          4.240805625915527,
          28.138748168945312,
          4.893295764923096,
          -12.086091041564941,
          -14.53787612915039,
          -14.744771957397461,
          1.8271108865737915,
          -25.093387603759766,
          -24.500886917114258,
          -16.355876922607422,
          -1.9315083026885986,
          7.409237384796143,
          22.512481689453125,
          10.174796104431152,
          6.649974346160889,
          12.581883430480957,
          6.155913829803467,
          13.131306648254395,
          6.196180820465088,
          36.814388275146484
         ],
         "y": [
          -12.023083686828613,
          -9.556632041931152,
          -26.930200576782227,
          -11.667201042175293,
          -18.9822940826416,
          -13.529690742492676,
          -2.2968084812164307,
          -10.139678001403809,
          -17.96044921875,
          -0.5978416204452515,
          -22.610492706298828,
          -14.613862037658691,
          -7.679526329040527,
          6.517004013061523,
          -1.809584140777588,
          -9.899970054626465,
          -5.8519158363342285,
          -5.925343036651611,
          9.575984954833984,
          21.372861862182617,
          -5.268949508666992,
          28.54273223876953,
          11.793314933776855,
          -13.921663284301758,
          12.174009323120117,
          -0.06624077260494232,
          9.6085786819458,
          4.496383190155029,
          -25.784135818481445,
          10.932058334350586,
          -9.60124683380127,
          10.002395629882812,
          11.915057182312012,
          16.699726104736328,
          -5.291754722595215,
          5.006832599639893,
          -15.172562599182129,
          -21.96514129638672,
          -7.733119487762451,
          23.095458984375,
          23.149892807006836,
          21.01002311706543,
          -28.58177375793457,
          8.705265045166016,
          -23.578767776489258,
          3.5493035316467285,
          -22.48211669921875,
          -19.045352935791016,
          -3.95832896232605,
          -9.439702033996582,
          -14.279300689697266,
          -6.917325973510742,
          -13.44324016571045,
          20.969343185424805,
          -6.67724609375,
          -1.4419535398483276,
          -17.610715866088867,
          9.170674324035645,
          -16.53904914855957,
          5.596704006195068,
          -25.727643966674805,
          16.22844123840332,
          -2.9936485290527344,
          -4.6975908279418945,
          -4.247982501983643,
          -11.456140518188477,
          3.1983964443206787,
          2.012568712234497,
          3.4950478076934814,
          -5.3686842918396
         ],
         "z": [
          11.458962440490723,
          5.355319976806641,
          -1.8662821054458618,
          -16.137815475463867,
          13.019866943359375,
          12.036165237426758,
          27.848661422729492,
          13.61527156829834,
          1.108905553817749,
          15.818532943725586,
          0.36131054162979126,
          -7.403740882873535,
          12.85718059539795,
          20.50031280517578,
          -26.043630599975586,
          31.22843360900879,
          24.690467834472656,
          4.921909332275391,
          -19.040719985961914,
          -15.17417049407959,
          -3.7686574459075928,
          -3.0379838943481445,
          -1.9792760610580444,
          5.619883060455322,
          10.345494270324707,
          12.144214630126953,
          18.19364356994629,
          7.119383335113525,
          4.718631267547607,
          -25.304752349853516,
          18.29184341430664,
          -8.989910125732422,
          -1.3310860395431519,
          8.385607719421387,
          -16.918424606323242,
          -8.946130752563477,
          -3.0289857387542725,
          -13.655787467956543,
          4.619782447814941,
          9.383103370666504,
          -0.6599586009979248,
          8.256186485290527,
          -4.595315933227539,
          10.026066780090332,
          6.764416694641113,
          2.9488556385040283,
          8.657697677612305,
          20.204227447509766,
          -4.442993640899658,
          -19.358179092407227,
          9.345868110656738,
          -8.419984817504883,
          -0.42605623602867126,
          -7.336452960968018,
          -7.901189804077148,
          5.833871364593506,
          -18.207460403442383,
          -0.3698939085006714,
          -6.301741123199463,
          -17.518314361572266,
          -10.936217308044434,
          -4.724300384521484,
          19.819597244262695,
          -6.255745887756348,
          -16.487838745117188,
          -18.87047004699707,
          -15.30992603302002,
          -1.4777371883392334,
          -10.970036506652832,
          0.4249003827571869
         ]
        }
       ],
       "layout": {
        "margin": {
         "b": 0,
         "l": 1,
         "r": 1,
         "t": 50
        },
        "template": {
         "data": {
          "bar": [
           {
            "error_x": {
             "color": "#2a3f5f"
            },
            "error_y": {
             "color": "#2a3f5f"
            },
            "marker": {
             "line": {
              "color": "#E5ECF6",
              "width": 0.5
             },
             "pattern": {
              "fillmode": "overlay",
              "size": 10,
              "solidity": 0.2
             }
            },
            "type": "bar"
           }
          ],
          "barpolar": [
           {
            "marker": {
             "line": {
              "color": "#E5ECF6",
              "width": 0.5
             },
             "pattern": {
              "fillmode": "overlay",
              "size": 10,
              "solidity": 0.2
             }
            },
            "type": "barpolar"
           }
          ],
          "carpet": [
           {
            "aaxis": {
             "endlinecolor": "#2a3f5f",
             "gridcolor": "white",
             "linecolor": "white",
             "minorgridcolor": "white",
             "startlinecolor": "#2a3f5f"
            },
            "baxis": {
             "endlinecolor": "#2a3f5f",
             "gridcolor": "white",
             "linecolor": "white",
             "minorgridcolor": "white",
             "startlinecolor": "#2a3f5f"
            },
            "type": "carpet"
           }
          ],
          "choropleth": [
           {
            "colorbar": {
             "outlinewidth": 0,
             "ticks": ""
            },
            "type": "choropleth"
           }
          ],
          "contour": [
           {
            "colorbar": {
             "outlinewidth": 0,
             "ticks": ""
            },
            "colorscale": [
             [
              0,
              "#0d0887"
             ],
             [
              0.1111111111111111,
              "#46039f"
             ],
             [
              0.2222222222222222,
              "#7201a8"
             ],
             [
              0.3333333333333333,
              "#9c179e"
             ],
             [
              0.4444444444444444,
              "#bd3786"
             ],
             [
              0.5555555555555556,
              "#d8576b"
             ],
             [
              0.6666666666666666,
              "#ed7953"
             ],
             [
              0.7777777777777778,
              "#fb9f3a"
             ],
             [
              0.8888888888888888,
              "#fdca26"
             ],
             [
              1,
              "#f0f921"
             ]
            ],
            "type": "contour"
           }
          ],
          "contourcarpet": [
           {
            "colorbar": {
             "outlinewidth": 0,
             "ticks": ""
            },
            "type": "contourcarpet"
           }
          ],
          "heatmap": [
           {
            "colorbar": {
             "outlinewidth": 0,
             "ticks": ""
            },
            "colorscale": [
             [
              0,
              "#0d0887"
             ],
             [
              0.1111111111111111,
              "#46039f"
             ],
             [
              0.2222222222222222,
              "#7201a8"
             ],
             [
              0.3333333333333333,
              "#9c179e"
             ],
             [
              0.4444444444444444,
              "#bd3786"
             ],
             [
              0.5555555555555556,
              "#d8576b"
             ],
             [
              0.6666666666666666,
              "#ed7953"
             ],
             [
              0.7777777777777778,
              "#fb9f3a"
             ],
             [
              0.8888888888888888,
              "#fdca26"
             ],
             [
              1,
              "#f0f921"
             ]
            ],
            "type": "heatmap"
           }
          ],
          "heatmapgl": [
           {
            "colorbar": {
             "outlinewidth": 0,
             "ticks": ""
            },
            "colorscale": [
             [
              0,
              "#0d0887"
             ],
             [
              0.1111111111111111,
              "#46039f"
             ],
             [
              0.2222222222222222,
              "#7201a8"
             ],
             [
              0.3333333333333333,
              "#9c179e"
             ],
             [
              0.4444444444444444,
              "#bd3786"
             ],
             [
              0.5555555555555556,
              "#d8576b"
             ],
             [
              0.6666666666666666,
              "#ed7953"
             ],
             [
              0.7777777777777778,
              "#fb9f3a"
             ],
             [
              0.8888888888888888,
              "#fdca26"
             ],
             [
              1,
              "#f0f921"
             ]
            ],
            "type": "heatmapgl"
           }
          ],
          "histogram": [
           {
            "marker": {
             "pattern": {
              "fillmode": "overlay",
              "size": 10,
              "solidity": 0.2
             }
            },
            "type": "histogram"
           }
          ],
          "histogram2d": [
           {
            "colorbar": {
             "outlinewidth": 0,
             "ticks": ""
            },
            "colorscale": [
             [
              0,
              "#0d0887"
             ],
             [
              0.1111111111111111,
              "#46039f"
             ],
             [
              0.2222222222222222,
              "#7201a8"
             ],
             [
              0.3333333333333333,
              "#9c179e"
             ],
             [
              0.4444444444444444,
              "#bd3786"
             ],
             [
              0.5555555555555556,
              "#d8576b"
             ],
             [
              0.6666666666666666,
              "#ed7953"
             ],
             [
              0.7777777777777778,
              "#fb9f3a"
             ],
             [
              0.8888888888888888,
              "#fdca26"
             ],
             [
              1,
              "#f0f921"
             ]
            ],
            "type": "histogram2d"
           }
          ],
          "histogram2dcontour": [
           {
            "colorbar": {
             "outlinewidth": 0,
             "ticks": ""
            },
            "colorscale": [
             [
              0,
              "#0d0887"
             ],
             [
              0.1111111111111111,
              "#46039f"
             ],
             [
              0.2222222222222222,
              "#7201a8"
             ],
             [
              0.3333333333333333,
              "#9c179e"
             ],
             [
              0.4444444444444444,
              "#bd3786"
             ],
             [
              0.5555555555555556,
              "#d8576b"
             ],
             [
              0.6666666666666666,
              "#ed7953"
             ],
             [
              0.7777777777777778,
              "#fb9f3a"
             ],
             [
              0.8888888888888888,
              "#fdca26"
             ],
             [
              1,
              "#f0f921"
             ]
            ],
            "type": "histogram2dcontour"
           }
          ],
          "mesh3d": [
           {
            "colorbar": {
             "outlinewidth": 0,
             "ticks": ""
            },
            "type": "mesh3d"
           }
          ],
          "parcoords": [
           {
            "line": {
             "colorbar": {
              "outlinewidth": 0,
              "ticks": ""
             }
            },
            "type": "parcoords"
           }
          ],
          "pie": [
           {
            "automargin": true,
            "type": "pie"
           }
          ],
          "scatter": [
           {
            "fillpattern": {
             "fillmode": "overlay",
             "size": 10,
             "solidity": 0.2
            },
            "type": "scatter"
           }
          ],
          "scatter3d": [
           {
            "line": {
             "colorbar": {
              "outlinewidth": 0,
              "ticks": ""
             }
            },
            "marker": {
             "colorbar": {
              "outlinewidth": 0,
              "ticks": ""
             }
            },
            "type": "scatter3d"
           }
          ],
          "scattercarpet": [
           {
            "marker": {
             "colorbar": {
              "outlinewidth": 0,
              "ticks": ""
             }
            },
            "type": "scattercarpet"
           }
          ],
          "scattergeo": [
           {
            "marker": {
             "colorbar": {
              "outlinewidth": 0,
              "ticks": ""
             }
            },
            "type": "scattergeo"
           }
          ],
          "scattergl": [
           {
            "marker": {
             "colorbar": {
              "outlinewidth": 0,
              "ticks": ""
             }
            },
            "type": "scattergl"
           }
          ],
          "scattermapbox": [
           {
            "marker": {
             "colorbar": {
              "outlinewidth": 0,
              "ticks": ""
             }
            },
            "type": "scattermapbox"
           }
          ],
          "scatterpolar": [
           {
            "marker": {
             "colorbar": {
              "outlinewidth": 0,
              "ticks": ""
             }
            },
            "type": "scatterpolar"
           }
          ],
          "scatterpolargl": [
           {
            "marker": {
             "colorbar": {
              "outlinewidth": 0,
              "ticks": ""
             }
            },
            "type": "scatterpolargl"
           }
          ],
          "scatterternary": [
           {
            "marker": {
             "colorbar": {
              "outlinewidth": 0,
              "ticks": ""
             }
            },
            "type": "scatterternary"
           }
          ],
          "surface": [
           {
            "colorbar": {
             "outlinewidth": 0,
             "ticks": ""
            },
            "colorscale": [
             [
              0,
              "#0d0887"
             ],
             [
              0.1111111111111111,
              "#46039f"
             ],
             [
              0.2222222222222222,
              "#7201a8"
             ],
             [
              0.3333333333333333,
              "#9c179e"
             ],
             [
              0.4444444444444444,
              "#bd3786"
             ],
             [
              0.5555555555555556,
              "#d8576b"
             ],
             [
              0.6666666666666666,
              "#ed7953"
             ],
             [
              0.7777777777777778,
              "#fb9f3a"
             ],
             [
              0.8888888888888888,
              "#fdca26"
             ],
             [
              1,
              "#f0f921"
             ]
            ],
            "type": "surface"
           }
          ],
          "table": [
           {
            "cells": {
             "fill": {
              "color": "#EBF0F8"
             },
             "line": {
              "color": "white"
             }
            },
            "header": {
             "fill": {
              "color": "#C8D4E3"
             },
             "line": {
              "color": "white"
             }
            },
            "type": "table"
           }
          ]
         },
         "layout": {
          "annotationdefaults": {
           "arrowcolor": "#2a3f5f",
           "arrowhead": 0,
           "arrowwidth": 1
          },
          "autotypenumbers": "strict",
          "coloraxis": {
           "colorbar": {
            "outlinewidth": 0,
            "ticks": ""
           }
          },
          "colorscale": {
           "diverging": [
            [
             0,
             "#8e0152"
            ],
            [
             0.1,
             "#c51b7d"
            ],
            [
             0.2,
             "#de77ae"
            ],
            [
             0.3,
             "#f1b6da"
            ],
            [
             0.4,
             "#fde0ef"
            ],
            [
             0.5,
             "#f7f7f7"
            ],
            [
             0.6,
             "#e6f5d0"
            ],
            [
             0.7,
             "#b8e186"
            ],
            [
             0.8,
             "#7fbc41"
            ],
            [
             0.9,
             "#4d9221"
            ],
            [
             1,
             "#276419"
            ]
           ],
           "sequential": [
            [
             0,
             "#0d0887"
            ],
            [
             0.1111111111111111,
             "#46039f"
            ],
            [
             0.2222222222222222,
             "#7201a8"
            ],
            [
             0.3333333333333333,
             "#9c179e"
            ],
            [
             0.4444444444444444,
             "#bd3786"
            ],
            [
             0.5555555555555556,
             "#d8576b"
            ],
            [
             0.6666666666666666,
             "#ed7953"
            ],
            [
             0.7777777777777778,
             "#fb9f3a"
            ],
            [
             0.8888888888888888,
             "#fdca26"
            ],
            [
             1,
             "#f0f921"
            ]
           ],
           "sequentialminus": [
            [
             0,
             "#0d0887"
            ],
            [
             0.1111111111111111,
             "#46039f"
            ],
            [
             0.2222222222222222,
             "#7201a8"
            ],
            [
             0.3333333333333333,
             "#9c179e"
            ],
            [
             0.4444444444444444,
             "#bd3786"
            ],
            [
             0.5555555555555556,
             "#d8576b"
            ],
            [
             0.6666666666666666,
             "#ed7953"
            ],
            [
             0.7777777777777778,
             "#fb9f3a"
            ],
            [
             0.8888888888888888,
             "#fdca26"
            ],
            [
             1,
             "#f0f921"
            ]
           ]
          },
          "colorway": [
           "#636efa",
           "#EF553B",
           "#00cc96",
           "#ab63fa",
           "#FFA15A",
           "#19d3f3",
           "#FF6692",
           "#B6E880",
           "#FF97FF",
           "#FECB52"
          ],
          "font": {
           "color": "#2a3f5f"
          },
          "geo": {
           "bgcolor": "white",
           "lakecolor": "white",
           "landcolor": "#E5ECF6",
           "showlakes": true,
           "showland": true,
           "subunitcolor": "white"
          },
          "hoverlabel": {
           "align": "left"
          },
          "hovermode": "closest",
          "mapbox": {
           "style": "light"
          },
          "paper_bgcolor": "white",
          "plot_bgcolor": "#E5ECF6",
          "polar": {
           "angularaxis": {
            "gridcolor": "white",
            "linecolor": "white",
            "ticks": ""
           },
           "bgcolor": "#E5ECF6",
           "radialaxis": {
            "gridcolor": "white",
            "linecolor": "white",
            "ticks": ""
           }
          },
          "scene": {
           "xaxis": {
            "backgroundcolor": "#E5ECF6",
            "gridcolor": "white",
            "gridwidth": 2,
            "linecolor": "white",
            "showbackground": true,
            "ticks": "",
            "zerolinecolor": "white"
           },
           "yaxis": {
            "backgroundcolor": "#E5ECF6",
            "gridcolor": "white",
            "gridwidth": 2,
            "linecolor": "white",
            "showbackground": true,
            "ticks": "",
            "zerolinecolor": "white"
           },
           "zaxis": {
            "backgroundcolor": "#E5ECF6",
            "gridcolor": "white",
            "gridwidth": 2,
            "linecolor": "white",
            "showbackground": true,
            "ticks": "",
            "zerolinecolor": "white"
           }
          },
          "shapedefaults": {
           "line": {
            "color": "#2a3f5f"
           }
          },
          "ternary": {
           "aaxis": {
            "gridcolor": "white",
            "linecolor": "white",
            "ticks": ""
           },
           "baxis": {
            "gridcolor": "white",
            "linecolor": "white",
            "ticks": ""
           },
           "bgcolor": "#E5ECF6",
           "caxis": {
            "gridcolor": "white",
            "linecolor": "white",
            "ticks": ""
           }
          },
          "title": {
           "x": 0.05
          },
          "xaxis": {
           "automargin": true,
           "gridcolor": "white",
           "linecolor": "white",
           "ticks": "",
           "title": {
            "standoff": 15
           },
           "zerolinecolor": "white",
           "zerolinewidth": 2
          },
          "yaxis": {
           "automargin": true,
           "gridcolor": "white",
           "linecolor": "white",
           "ticks": "",
           "title": {
            "standoff": 15
           },
           "zerolinecolor": "white",
           "zerolinewidth": 2
          }
         }
        },
        "title": {
         "text": "Number of nodes: 29"
        }
       }
      },
      "text/html": [
       "<div>                            <div id=\"db13b21f-edb8-421e-9a12-0767506186e6\" class=\"plotly-graph-div\" style=\"height:525px; width:100%;\"></div>            <script type=\"text/javascript\">                require([\"plotly\"], function(Plotly) {                    window.PLOTLYENV=window.PLOTLYENV || {};                                    if (document.getElementById(\"db13b21f-edb8-421e-9a12-0767506186e6\")) {                    Plotly.newPlot(                        \"db13b21f-edb8-421e-9a12-0767506186e6\",                        [{\"marker\":{\"color\":\"blue\",\"opacity\":0.4,\"size\":5},\"mode\":\"markers\",\"x\":[-10.140802383422852,-12.993213653564453,2.7913267612457275,-18.79391098022461,-16.143768310546875,-24.793743133544922,-6.939561367034912,14.507481575012207,-15.572861671447754,-26.585058212280273,-5.47101354598999,-8.647165298461914,-3.875706434249878,8.094130516052246,7.468855381011963,-1.0007450580596924,11.028215408325195,30.573083877563477,13.679716110229492,6.041337013244629,-27.454389572143555,3.436952829360962,-2.0682601928710938,23.287429809570312,5.390100955963135,1.1108349561691284,-5.682510852813721,23.18416404724121,-3.3703787326812744,-3.1389870643615723,-0.15465328097343445,19.577205657958984,14.269725799560547,-13.491559982299805,-7.238994598388672,11.944043159484863,16.994033813476562,11.750068664550781,0.05784527212381363,-1.009666919708252,19.720504760742188,14.777867317199707,-7.3864030838012695,-4.995222091674805,7.508599281311035,2.6220335960388184,-0.18190668523311615,3.8869779109954834,-4.726920127868652,18.970399856567383,4.240805625915527,28.138748168945312,4.893295764923096,-12.086091041564941,-14.53787612915039,-14.744771957397461,1.8271108865737915,-25.093387603759766,-24.500886917114258,-16.355876922607422,-1.9315083026885986,7.409237384796143,22.512481689453125,10.174796104431152,6.649974346160889,12.581883430480957,6.155913829803467,13.131306648254395,6.196180820465088,36.814388275146484],\"y\":[-12.023083686828613,-9.556632041931152,-26.930200576782227,-11.667201042175293,-18.9822940826416,-13.529690742492676,-2.2968084812164307,-10.139678001403809,-17.96044921875,-0.5978416204452515,-22.610492706298828,-14.613862037658691,-7.679526329040527,6.517004013061523,-1.809584140777588,-9.899970054626465,-5.8519158363342285,-5.925343036651611,9.575984954833984,21.372861862182617,-5.268949508666992,28.54273223876953,11.793314933776855,-13.921663284301758,12.174009323120117,-0.06624077260494232,9.6085786819458,4.496383190155029,-25.784135818481445,10.932058334350586,-9.60124683380127,10.002395629882812,11.915057182312012,16.699726104736328,-5.291754722595215,5.006832599639893,-15.172562599182129,-21.96514129638672,-7.733119487762451,23.095458984375,23.149892807006836,21.01002311706543,-28.58177375793457,8.705265045166016,-23.578767776489258,3.5493035316467285,-22.48211669921875,-19.045352935791016,-3.95832896232605,-9.439702033996582,-14.279300689697266,-6.917325973510742,-13.44324016571045,20.969343185424805,-6.67724609375,-1.4419535398483276,-17.610715866088867,9.170674324035645,-16.53904914855957,5.596704006195068,-25.727643966674805,16.22844123840332,-2.9936485290527344,-4.6975908279418945,-4.247982501983643,-11.456140518188477,3.1983964443206787,2.012568712234497,3.4950478076934814,-5.3686842918396],\"z\":[11.458962440490723,5.355319976806641,-1.8662821054458618,-16.137815475463867,13.019866943359375,12.036165237426758,27.848661422729492,13.61527156829834,1.108905553817749,15.818532943725586,0.36131054162979126,-7.403740882873535,12.85718059539795,20.50031280517578,-26.043630599975586,31.22843360900879,24.690467834472656,4.921909332275391,-19.040719985961914,-15.17417049407959,-3.7686574459075928,-3.0379838943481445,-1.9792760610580444,5.619883060455322,10.345494270324707,12.144214630126953,18.19364356994629,7.119383335113525,4.718631267547607,-25.304752349853516,18.29184341430664,-8.989910125732422,-1.3310860395431519,8.385607719421387,-16.918424606323242,-8.946130752563477,-3.0289857387542725,-13.655787467956543,4.619782447814941,9.383103370666504,-0.6599586009979248,8.256186485290527,-4.595315933227539,10.026066780090332,6.764416694641113,2.9488556385040283,8.657697677612305,20.204227447509766,-4.442993640899658,-19.358179092407227,9.345868110656738,-8.419984817504883,-0.42605623602867126,-7.336452960968018,-7.901189804077148,5.833871364593506,-18.207460403442383,-0.3698939085006714,-6.301741123199463,-17.518314361572266,-10.936217308044434,-4.724300384521484,19.819597244262695,-6.255745887756348,-16.487838745117188,-18.87047004699707,-15.30992603302002,-1.4777371883392334,-10.970036506652832,0.4249003827571869],\"type\":\"scatter3d\"}],                        {\"template\":{\"data\":{\"histogram2dcontour\":[{\"type\":\"histogram2dcontour\",\"colorbar\":{\"outlinewidth\":0,\"ticks\":\"\"},\"colorscale\":[[0.0,\"#0d0887\"],[0.1111111111111111,\"#46039f\"],[0.2222222222222222,\"#7201a8\"],[0.3333333333333333,\"#9c179e\"],[0.4444444444444444,\"#bd3786\"],[0.5555555555555556,\"#d8576b\"],[0.6666666666666666,\"#ed7953\"],[0.7777777777777778,\"#fb9f3a\"],[0.8888888888888888,\"#fdca26\"],[1.0,\"#f0f921\"]]}],\"choropleth\":[{\"type\":\"choropleth\",\"colorbar\":{\"outlinewidth\":0,\"ticks\":\"\"}}],\"histogram2d\":[{\"type\":\"histogram2d\",\"colorbar\":{\"outlinewidth\":0,\"ticks\":\"\"},\"colorscale\":[[0.0,\"#0d0887\"],[0.1111111111111111,\"#46039f\"],[0.2222222222222222,\"#7201a8\"],[0.3333333333333333,\"#9c179e\"],[0.4444444444444444,\"#bd3786\"],[0.5555555555555556,\"#d8576b\"],[0.6666666666666666,\"#ed7953\"],[0.7777777777777778,\"#fb9f3a\"],[0.8888888888888888,\"#fdca26\"],[1.0,\"#f0f921\"]]}],\"heatmap\":[{\"type\":\"heatmap\",\"colorbar\":{\"outlinewidth\":0,\"ticks\":\"\"},\"colorscale\":[[0.0,\"#0d0887\"],[0.1111111111111111,\"#46039f\"],[0.2222222222222222,\"#7201a8\"],[0.3333333333333333,\"#9c179e\"],[0.4444444444444444,\"#bd3786\"],[0.5555555555555556,\"#d8576b\"],[0.6666666666666666,\"#ed7953\"],[0.7777777777777778,\"#fb9f3a\"],[0.8888888888888888,\"#fdca26\"],[1.0,\"#f0f921\"]]}],\"heatmapgl\":[{\"type\":\"heatmapgl\",\"colorbar\":{\"outlinewidth\":0,\"ticks\":\"\"},\"colorscale\":[[0.0,\"#0d0887\"],[0.1111111111111111,\"#46039f\"],[0.2222222222222222,\"#7201a8\"],[0.3333333333333333,\"#9c179e\"],[0.4444444444444444,\"#bd3786\"],[0.5555555555555556,\"#d8576b\"],[0.6666666666666666,\"#ed7953\"],[0.7777777777777778,\"#fb9f3a\"],[0.8888888888888888,\"#fdca26\"],[1.0,\"#f0f921\"]]}],\"contourcarpet\":[{\"type\":\"contourcarpet\",\"colorbar\":{\"outlinewidth\":0,\"ticks\":\"\"}}],\"contour\":[{\"type\":\"contour\",\"colorbar\":{\"outlinewidth\":0,\"ticks\":\"\"},\"colorscale\":[[0.0,\"#0d0887\"],[0.1111111111111111,\"#46039f\"],[0.2222222222222222,\"#7201a8\"],[0.3333333333333333,\"#9c179e\"],[0.4444444444444444,\"#bd3786\"],[0.5555555555555556,\"#d8576b\"],[0.6666666666666666,\"#ed7953\"],[0.7777777777777778,\"#fb9f3a\"],[0.8888888888888888,\"#fdca26\"],[1.0,\"#f0f921\"]]}],\"surface\":[{\"type\":\"surface\",\"colorbar\":{\"outlinewidth\":0,\"ticks\":\"\"},\"colorscale\":[[0.0,\"#0d0887\"],[0.1111111111111111,\"#46039f\"],[0.2222222222222222,\"#7201a8\"],[0.3333333333333333,\"#9c179e\"],[0.4444444444444444,\"#bd3786\"],[0.5555555555555556,\"#d8576b\"],[0.6666666666666666,\"#ed7953\"],[0.7777777777777778,\"#fb9f3a\"],[0.8888888888888888,\"#fdca26\"],[1.0,\"#f0f921\"]]}],\"mesh3d\":[{\"type\":\"mesh3d\",\"colorbar\":{\"outlinewidth\":0,\"ticks\":\"\"}}],\"scatter\":[{\"fillpattern\":{\"fillmode\":\"overlay\",\"size\":10,\"solidity\":0.2},\"type\":\"scatter\"}],\"parcoords\":[{\"type\":\"parcoords\",\"line\":{\"colorbar\":{\"outlinewidth\":0,\"ticks\":\"\"}}}],\"scatterpolargl\":[{\"type\":\"scatterpolargl\",\"marker\":{\"colorbar\":{\"outlinewidth\":0,\"ticks\":\"\"}}}],\"bar\":[{\"error_x\":{\"color\":\"#2a3f5f\"},\"error_y\":{\"color\":\"#2a3f5f\"},\"marker\":{\"line\":{\"color\":\"#E5ECF6\",\"width\":0.5},\"pattern\":{\"fillmode\":\"overlay\",\"size\":10,\"solidity\":0.2}},\"type\":\"bar\"}],\"scattergeo\":[{\"type\":\"scattergeo\",\"marker\":{\"colorbar\":{\"outlinewidth\":0,\"ticks\":\"\"}}}],\"scatterpolar\":[{\"type\":\"scatterpolar\",\"marker\":{\"colorbar\":{\"outlinewidth\":0,\"ticks\":\"\"}}}],\"histogram\":[{\"marker\":{\"pattern\":{\"fillmode\":\"overlay\",\"size\":10,\"solidity\":0.2}},\"type\":\"histogram\"}],\"scattergl\":[{\"type\":\"scattergl\",\"marker\":{\"colorbar\":{\"outlinewidth\":0,\"ticks\":\"\"}}}],\"scatter3d\":[{\"type\":\"scatter3d\",\"line\":{\"colorbar\":{\"outlinewidth\":0,\"ticks\":\"\"}},\"marker\":{\"colorbar\":{\"outlinewidth\":0,\"ticks\":\"\"}}}],\"scattermapbox\":[{\"type\":\"scattermapbox\",\"marker\":{\"colorbar\":{\"outlinewidth\":0,\"ticks\":\"\"}}}],\"scatterternary\":[{\"type\":\"scatterternary\",\"marker\":{\"colorbar\":{\"outlinewidth\":0,\"ticks\":\"\"}}}],\"scattercarpet\":[{\"type\":\"scattercarpet\",\"marker\":{\"colorbar\":{\"outlinewidth\":0,\"ticks\":\"\"}}}],\"carpet\":[{\"aaxis\":{\"endlinecolor\":\"#2a3f5f\",\"gridcolor\":\"white\",\"linecolor\":\"white\",\"minorgridcolor\":\"white\",\"startlinecolor\":\"#2a3f5f\"},\"baxis\":{\"endlinecolor\":\"#2a3f5f\",\"gridcolor\":\"white\",\"linecolor\":\"white\",\"minorgridcolor\":\"white\",\"startlinecolor\":\"#2a3f5f\"},\"type\":\"carpet\"}],\"table\":[{\"cells\":{\"fill\":{\"color\":\"#EBF0F8\"},\"line\":{\"color\":\"white\"}},\"header\":{\"fill\":{\"color\":\"#C8D4E3\"},\"line\":{\"color\":\"white\"}},\"type\":\"table\"}],\"barpolar\":[{\"marker\":{\"line\":{\"color\":\"#E5ECF6\",\"width\":0.5},\"pattern\":{\"fillmode\":\"overlay\",\"size\":10,\"solidity\":0.2}},\"type\":\"barpolar\"}],\"pie\":[{\"automargin\":true,\"type\":\"pie\"}]},\"layout\":{\"autotypenumbers\":\"strict\",\"colorway\":[\"#636efa\",\"#EF553B\",\"#00cc96\",\"#ab63fa\",\"#FFA15A\",\"#19d3f3\",\"#FF6692\",\"#B6E880\",\"#FF97FF\",\"#FECB52\"],\"font\":{\"color\":\"#2a3f5f\"},\"hovermode\":\"closest\",\"hoverlabel\":{\"align\":\"left\"},\"paper_bgcolor\":\"white\",\"plot_bgcolor\":\"#E5ECF6\",\"polar\":{\"bgcolor\":\"#E5ECF6\",\"angularaxis\":{\"gridcolor\":\"white\",\"linecolor\":\"white\",\"ticks\":\"\"},\"radialaxis\":{\"gridcolor\":\"white\",\"linecolor\":\"white\",\"ticks\":\"\"}},\"ternary\":{\"bgcolor\":\"#E5ECF6\",\"aaxis\":{\"gridcolor\":\"white\",\"linecolor\":\"white\",\"ticks\":\"\"},\"baxis\":{\"gridcolor\":\"white\",\"linecolor\":\"white\",\"ticks\":\"\"},\"caxis\":{\"gridcolor\":\"white\",\"linecolor\":\"white\",\"ticks\":\"\"}},\"coloraxis\":{\"colorbar\":{\"outlinewidth\":0,\"ticks\":\"\"}},\"colorscale\":{\"sequential\":[[0.0,\"#0d0887\"],[0.1111111111111111,\"#46039f\"],[0.2222222222222222,\"#7201a8\"],[0.3333333333333333,\"#9c179e\"],[0.4444444444444444,\"#bd3786\"],[0.5555555555555556,\"#d8576b\"],[0.6666666666666666,\"#ed7953\"],[0.7777777777777778,\"#fb9f3a\"],[0.8888888888888888,\"#fdca26\"],[1.0,\"#f0f921\"]],\"sequentialminus\":[[0.0,\"#0d0887\"],[0.1111111111111111,\"#46039f\"],[0.2222222222222222,\"#7201a8\"],[0.3333333333333333,\"#9c179e\"],[0.4444444444444444,\"#bd3786\"],[0.5555555555555556,\"#d8576b\"],[0.6666666666666666,\"#ed7953\"],[0.7777777777777778,\"#fb9f3a\"],[0.8888888888888888,\"#fdca26\"],[1.0,\"#f0f921\"]],\"diverging\":[[0,\"#8e0152\"],[0.1,\"#c51b7d\"],[0.2,\"#de77ae\"],[0.3,\"#f1b6da\"],[0.4,\"#fde0ef\"],[0.5,\"#f7f7f7\"],[0.6,\"#e6f5d0\"],[0.7,\"#b8e186\"],[0.8,\"#7fbc41\"],[0.9,\"#4d9221\"],[1,\"#276419\"]]},\"xaxis\":{\"gridcolor\":\"white\",\"linecolor\":\"white\",\"ticks\":\"\",\"title\":{\"standoff\":15},\"zerolinecolor\":\"white\",\"automargin\":true,\"zerolinewidth\":2},\"yaxis\":{\"gridcolor\":\"white\",\"linecolor\":\"white\",\"ticks\":\"\",\"title\":{\"standoff\":15},\"zerolinecolor\":\"white\",\"automargin\":true,\"zerolinewidth\":2},\"scene\":{\"xaxis\":{\"backgroundcolor\":\"#E5ECF6\",\"gridcolor\":\"white\",\"linecolor\":\"white\",\"showbackground\":true,\"ticks\":\"\",\"zerolinecolor\":\"white\",\"gridwidth\":2},\"yaxis\":{\"backgroundcolor\":\"#E5ECF6\",\"gridcolor\":\"white\",\"linecolor\":\"white\",\"showbackground\":true,\"ticks\":\"\",\"zerolinecolor\":\"white\",\"gridwidth\":2},\"zaxis\":{\"backgroundcolor\":\"#E5ECF6\",\"gridcolor\":\"white\",\"linecolor\":\"white\",\"showbackground\":true,\"ticks\":\"\",\"zerolinecolor\":\"white\",\"gridwidth\":2}},\"shapedefaults\":{\"line\":{\"color\":\"#2a3f5f\"}},\"annotationdefaults\":{\"arrowcolor\":\"#2a3f5f\",\"arrowhead\":0,\"arrowwidth\":1},\"geo\":{\"bgcolor\":\"white\",\"landcolor\":\"#E5ECF6\",\"subunitcolor\":\"white\",\"showland\":true,\"showlakes\":true,\"lakecolor\":\"white\"},\"title\":{\"x\":0.05},\"mapbox\":{\"style\":\"light\"}}},\"margin\":{\"l\":1,\"r\":1,\"b\":0,\"t\":50},\"title\":{\"text\":\"Number of nodes: 29\"}},                        {\"responsive\": true}                    ).then(function(){\n",
       "                            \n",
       "var gd = document.getElementById('db13b21f-edb8-421e-9a12-0767506186e6');\n",
       "var x = new MutationObserver(function (mutations, observer) {{\n",
       "        var display = window.getComputedStyle(gd).display;\n",
       "        if (!display || display === 'none') {{\n",
       "            console.log([gd, 'removed!']);\n",
       "            Plotly.purge(gd);\n",
       "            observer.disconnect();\n",
       "        }}\n",
       "}});\n",
       "\n",
       "// Listen for the removal of the full notebook cells\n",
       "var notebookContainer = gd.closest('#notebook-container');\n",
       "if (notebookContainer) {{\n",
       "    x.observe(notebookContainer, {childList: true});\n",
       "}}\n",
       "\n",
       "// Listen for the clearing of the current output cell\n",
       "var outputEl = gd.closest('.output');\n",
       "if (outputEl) {{\n",
       "    x.observe(outputEl, {childList: true});\n",
       "}}\n",
       "\n",
       "                        })                };                });            </script>        </div>"
      ]
     },
     "metadata": {},
     "output_type": "display_data"
    }
   ],
   "source": [
    "\n",
    "    TSNE_selected = TSNE_emb_all[lst[i],:]\n",
    "    fig = go.Figure(data=[go.Scatter3d(\n",
    "        x=TSNE_emb_all[-70:,0],\n",
    "        y=TSNE_emb_all[-70:,1],\n",
    "        z=TSNE_emb_all[-70:,2],\n",
    "        mode='markers',\n",
    "        marker=dict(\n",
    "            size=5,\n",
    "            opacity=0.4,\n",
    "            color = 'blue'\n",
    "        )\n",
    "    )])\n",
    "\n",
    "    # tight layout\n",
    "    fig.update_layout(margin=dict(l=1, r=1, b=0, t=50), \n",
    "                    title=f'Number of nodes: {num_node_[i]}',)\n",
    "\n",
    "    go.Figure.write_html(fig, file=f'./results/figures/vnodes.html', include_plotlyjs='cdn')\n",
    "    fig.show()"
   ]
  },
  {
   "cell_type": "code",
   "execution_count": 172,
   "metadata": {},
   "outputs": [],
   "source": [
    "for i in range(70):\n",
    "    TSNE_selected = TSNE_emb_all[lst[i],:]\n",
    "    fig = go.Figure(data=[go.Scatter3d(\n",
    "        x=TSNE_selected[:,0],\n",
    "        y=TSNE_selected[:,1],\n",
    "        z=TSNE_selected[:,2],\n",
    "        mode='markers',\n",
    "        marker=dict(\n",
    "            size=2,\n",
    "            opacity=0.2,\n",
    "            color = 'green'\n",
    "        )\n",
    "    ), go.Scatter3d(x=TSNE_selected[-70+target_classes,0],\n",
    "                    y=TSNE_selected[-70+target_classes,1],\n",
    "                    z=TSNE_selected[-70+target_classes,2],\n",
    "                    mode='markers',\n",
    "                    marker=dict(\n",
    "                        size=20,\n",
    "                        opacity=0.6,\n",
    "                        color = 'green'\n",
    "    ))])\n",
    "\n",
    "    # tight layout\n",
    "    fig.update_layout(margin=dict(l=1, r=1, b=0, t=50), \n",
    "                    title=f'Number of nodes: {num_node_[i]}',)\n",
    "\n",
    "    go.Figure.write_html(fig, file=f'./results/figures/class_{i}_{num_node_[i]}.html', include_plotlyjs='cdn')\n",
    "    # fig.show()"
   ]
  },
  {
   "cell_type": "code",
   "execution_count": 97,
   "metadata": {},
   "outputs": [
    {
     "data": {
      "text/plain": [
       "array([35, 67, 18, 47, 50,  4, 43,  1, 69, 68])"
      ]
     },
     "execution_count": 97,
     "metadata": {},
     "output_type": "execute_result"
    }
   ],
   "source": [
    "target_classes"
   ]
  },
  {
   "cell_type": "code",
   "execution_count": 56,
   "metadata": {},
   "outputs": [],
   "source": [
    "import random\n",
    "\n",
    "def generate_discrete_colors(num_colors):\n",
    "    colors = []\n",
    "    for _ in range(num_colors):\n",
    "        color = '#' + ''.join(random.choices('0123456789ABCDEF', k=6))\n",
    "        colors.append(color)\n",
    "    return colors\n",
    "\n",
    "# Generating a list of 70 discrete hex colors\n",
    "discrete_colors70 = generate_discrete_colors(70)\n"
   ]
  },
  {
   "cell_type": "code",
   "execution_count": 50,
   "metadata": {},
   "outputs": [
    {
     "data": {
      "text/plain": [
       "['#9615A8',\n",
       " '#FAE789',\n",
       " '#3A431F',\n",
       " '#CB1240',\n",
       " '#505636',\n",
       " '#A2296A',\n",
       " '#793A7A',\n",
       " '#E7481F',\n",
       " '#F4FB74',\n",
       " '#FD1654',\n",
       " '#B0D60D',\n",
       " '#CFEBDE',\n",
       " '#C3C334',\n",
       " '#CCA21A',\n",
       " '#0C052E',\n",
       " '#563CE5',\n",
       " '#842EFF',\n",
       " '#4DC71C',\n",
       " '#3AA6D8',\n",
       " '#16415B',\n",
       " '#46A5A7',\n",
       " '#9F59AA',\n",
       " '#7BA100',\n",
       " '#F13865',\n",
       " '#FB89BE',\n",
       " '#AD9F4B',\n",
       " '#3735F5',\n",
       " '#EA04FF',\n",
       " '#D13AF0',\n",
       " '#5FC3D8',\n",
       " '#9D3CC9',\n",
       " '#4FF8C1',\n",
       " '#D25C90',\n",
       " '#426117',\n",
       " '#59739B',\n",
       " '#EA4A0F',\n",
       " '#D61B7E',\n",
       " '#52299B',\n",
       " '#69486C',\n",
       " '#1AE8D6',\n",
       " '#E6D6B5',\n",
       " '#54FA71',\n",
       " '#16B520',\n",
       " '#F8A6DF',\n",
       " '#6E0441',\n",
       " '#827D58',\n",
       " '#14368C',\n",
       " '#9A89AB',\n",
       " '#04CE52',\n",
       " '#2A1BF1',\n",
       " '#867245',\n",
       " '#F9E2C0',\n",
       " '#176963',\n",
       " '#851A98',\n",
       " '#43F03F',\n",
       " '#CC4176',\n",
       " '#2838A5',\n",
       " '#6B6715',\n",
       " '#66A46F',\n",
       " '#2F7B56',\n",
       " '#1661DB',\n",
       " '#3C1A83',\n",
       " '#C5FA21',\n",
       " '#422C1F',\n",
       " '#A799AE',\n",
       " '#AF5F57',\n",
       " '#7AC951',\n",
       " '#7054AF',\n",
       " '#1969FB',\n",
       " '#0E9398']"
      ]
     },
     "execution_count": 50,
     "metadata": {},
     "output_type": "execute_result"
    }
   ],
   "source": [
    "discrete_colors"
   ]
  },
  {
   "cell_type": "code",
   "execution_count": null,
   "metadata": {},
   "outputs": [],
   "source": []
  },
  {
   "cell_type": "code",
   "execution_count": null,
   "metadata": {},
   "outputs": [],
   "source": []
  },
  {
   "cell_type": "code",
   "execution_count": null,
   "metadata": {},
   "outputs": [],
   "source": []
  },
  {
   "cell_type": "code",
   "execution_count": 27,
   "metadata": {},
   "outputs": [],
   "source": [
    "from sklearn.metrics import f1_score\n",
    "from sklearn.metrics import classification_report"
   ]
  },
  {
   "cell_type": "code",
   "execution_count": 29,
   "metadata": {},
   "outputs": [],
   "source": [
    "# train data real label\n",
    "train_y = data_for_tuning.y[data_for_tuning.train_mask]\n",
    "train_emb = embedding[data_for_tuning.train_mask]\n",
    "vnode_emb = embedding[-70:,:]\n",
    "\n",
    "train_ncm_label = torch.cdist(train_emb, vnode_emb).argmin(dim=-1)\n",
    "\n",
    "report = classification_report(train_ncm_label.cpu(), train_y.cpu(), output_dict=True)"
   ]
  },
  {
   "cell_type": "code",
   "execution_count": null,
   "metadata": {},
   "outputs": [],
   "source": []
  },
  {
   "cell_type": "code",
   "execution_count": 30,
   "metadata": {},
   "outputs": [],
   "source": [
    "pd.set_option('display.max_rows', 1000)"
   ]
  },
  {
   "cell_type": "code",
   "execution_count": 31,
   "metadata": {},
   "outputs": [
    {
     "data": {
      "text/html": [
       "<div>\n",
       "<style scoped>\n",
       "    .dataframe tbody tr th:only-of-type {\n",
       "        vertical-align: middle;\n",
       "    }\n",
       "\n",
       "    .dataframe tbody tr th {\n",
       "        vertical-align: top;\n",
       "    }\n",
       "\n",
       "    .dataframe thead th {\n",
       "        text-align: right;\n",
       "    }\n",
       "</style>\n",
       "<table border=\"1\" class=\"dataframe\">\n",
       "  <thead>\n",
       "    <tr style=\"text-align: right;\">\n",
       "      <th></th>\n",
       "      <th>precision</th>\n",
       "      <th>recall</th>\n",
       "      <th>f1-score</th>\n",
       "      <th>support</th>\n",
       "    </tr>\n",
       "  </thead>\n",
       "  <tbody>\n",
       "    <tr>\n",
       "      <th>0</th>\n",
       "      <td>0.941935</td>\n",
       "      <td>0.948052</td>\n",
       "      <td>0.944984</td>\n",
       "      <td>154.000000</td>\n",
       "    </tr>\n",
       "    <tr>\n",
       "      <th>1</th>\n",
       "      <td>1.000000</td>\n",
       "      <td>0.864865</td>\n",
       "      <td>0.927536</td>\n",
       "      <td>37.000000</td>\n",
       "    </tr>\n",
       "    <tr>\n",
       "      <th>2</th>\n",
       "      <td>0.870748</td>\n",
       "      <td>0.977099</td>\n",
       "      <td>0.920863</td>\n",
       "      <td>131.000000</td>\n",
       "    </tr>\n",
       "    <tr>\n",
       "      <th>3</th>\n",
       "      <td>0.951754</td>\n",
       "      <td>0.964444</td>\n",
       "      <td>0.958057</td>\n",
       "      <td>225.000000</td>\n",
       "    </tr>\n",
       "    <tr>\n",
       "      <th>4</th>\n",
       "      <td>1.000000</td>\n",
       "      <td>0.975000</td>\n",
       "      <td>0.987342</td>\n",
       "      <td>40.000000</td>\n",
       "    </tr>\n",
       "    <tr>\n",
       "      <th>5</th>\n",
       "      <td>0.972826</td>\n",
       "      <td>0.957219</td>\n",
       "      <td>0.964960</td>\n",
       "      <td>187.000000</td>\n",
       "    </tr>\n",
       "    <tr>\n",
       "      <th>6</th>\n",
       "      <td>0.893004</td>\n",
       "      <td>0.990868</td>\n",
       "      <td>0.939394</td>\n",
       "      <td>219.000000</td>\n",
       "    </tr>\n",
       "    <tr>\n",
       "      <th>7</th>\n",
       "      <td>0.899749</td>\n",
       "      <td>0.918159</td>\n",
       "      <td>0.908861</td>\n",
       "      <td>391.000000</td>\n",
       "    </tr>\n",
       "    <tr>\n",
       "      <th>8</th>\n",
       "      <td>1.000000</td>\n",
       "      <td>0.941558</td>\n",
       "      <td>0.969900</td>\n",
       "      <td>154.000000</td>\n",
       "    </tr>\n",
       "    <tr>\n",
       "      <th>9</th>\n",
       "      <td>0.927184</td>\n",
       "      <td>0.979487</td>\n",
       "      <td>0.952618</td>\n",
       "      <td>195.000000</td>\n",
       "    </tr>\n",
       "    <tr>\n",
       "      <th>10</th>\n",
       "      <td>0.965116</td>\n",
       "      <td>0.821782</td>\n",
       "      <td>0.887701</td>\n",
       "      <td>101.000000</td>\n",
       "    </tr>\n",
       "    <tr>\n",
       "      <th>11</th>\n",
       "      <td>0.962963</td>\n",
       "      <td>0.921986</td>\n",
       "      <td>0.942029</td>\n",
       "      <td>141.000000</td>\n",
       "    </tr>\n",
       "    <tr>\n",
       "      <th>12</th>\n",
       "      <td>0.854839</td>\n",
       "      <td>0.913793</td>\n",
       "      <td>0.883333</td>\n",
       "      <td>58.000000</td>\n",
       "    </tr>\n",
       "    <tr>\n",
       "      <th>13</th>\n",
       "      <td>0.942675</td>\n",
       "      <td>0.942675</td>\n",
       "      <td>0.942675</td>\n",
       "      <td>314.000000</td>\n",
       "    </tr>\n",
       "    <tr>\n",
       "      <th>14</th>\n",
       "      <td>0.961165</td>\n",
       "      <td>0.925234</td>\n",
       "      <td>0.942857</td>\n",
       "      <td>214.000000</td>\n",
       "    </tr>\n",
       "    <tr>\n",
       "      <th>15</th>\n",
       "      <td>0.976190</td>\n",
       "      <td>0.836735</td>\n",
       "      <td>0.901099</td>\n",
       "      <td>98.000000</td>\n",
       "    </tr>\n",
       "    <tr>\n",
       "      <th>16</th>\n",
       "      <td>1.000000</td>\n",
       "      <td>0.886076</td>\n",
       "      <td>0.939597</td>\n",
       "      <td>79.000000</td>\n",
       "    </tr>\n",
       "    <tr>\n",
       "      <th>17</th>\n",
       "      <td>1.000000</td>\n",
       "      <td>0.906667</td>\n",
       "      <td>0.951049</td>\n",
       "      <td>75.000000</td>\n",
       "    </tr>\n",
       "    <tr>\n",
       "      <th>18</th>\n",
       "      <td>0.938776</td>\n",
       "      <td>0.978723</td>\n",
       "      <td>0.958333</td>\n",
       "      <td>47.000000</td>\n",
       "    </tr>\n",
       "    <tr>\n",
       "      <th>19</th>\n",
       "      <td>0.870229</td>\n",
       "      <td>0.946058</td>\n",
       "      <td>0.906561</td>\n",
       "      <td>241.000000</td>\n",
       "    </tr>\n",
       "    <tr>\n",
       "      <th>20</th>\n",
       "      <td>0.944664</td>\n",
       "      <td>0.891791</td>\n",
       "      <td>0.917466</td>\n",
       "      <td>268.000000</td>\n",
       "    </tr>\n",
       "    <tr>\n",
       "      <th>21</th>\n",
       "      <td>0.960784</td>\n",
       "      <td>0.973510</td>\n",
       "      <td>0.967105</td>\n",
       "      <td>151.000000</td>\n",
       "    </tr>\n",
       "    <tr>\n",
       "      <th>22</th>\n",
       "      <td>0.867470</td>\n",
       "      <td>0.857143</td>\n",
       "      <td>0.862275</td>\n",
       "      <td>252.000000</td>\n",
       "    </tr>\n",
       "    <tr>\n",
       "      <th>23</th>\n",
       "      <td>0.924370</td>\n",
       "      <td>0.924370</td>\n",
       "      <td>0.924370</td>\n",
       "      <td>119.000000</td>\n",
       "    </tr>\n",
       "    <tr>\n",
       "      <th>24</th>\n",
       "      <td>0.880597</td>\n",
       "      <td>0.967213</td>\n",
       "      <td>0.921875</td>\n",
       "      <td>183.000000</td>\n",
       "    </tr>\n",
       "    <tr>\n",
       "      <th>25</th>\n",
       "      <td>0.915789</td>\n",
       "      <td>0.865672</td>\n",
       "      <td>0.890026</td>\n",
       "      <td>201.000000</td>\n",
       "    </tr>\n",
       "    <tr>\n",
       "      <th>26</th>\n",
       "      <td>0.719298</td>\n",
       "      <td>0.953488</td>\n",
       "      <td>0.820000</td>\n",
       "      <td>129.000000</td>\n",
       "    </tr>\n",
       "    <tr>\n",
       "      <th>27</th>\n",
       "      <td>0.966030</td>\n",
       "      <td>0.919192</td>\n",
       "      <td>0.942029</td>\n",
       "      <td>495.000000</td>\n",
       "    </tr>\n",
       "    <tr>\n",
       "      <th>28</th>\n",
       "      <td>0.855072</td>\n",
       "      <td>0.867647</td>\n",
       "      <td>0.861314</td>\n",
       "      <td>68.000000</td>\n",
       "    </tr>\n",
       "    <tr>\n",
       "      <th>29</th>\n",
       "      <td>0.985765</td>\n",
       "      <td>0.923333</td>\n",
       "      <td>0.953528</td>\n",
       "      <td>300.000000</td>\n",
       "    </tr>\n",
       "    <tr>\n",
       "      <th>30</th>\n",
       "      <td>0.940299</td>\n",
       "      <td>0.933333</td>\n",
       "      <td>0.936803</td>\n",
       "      <td>135.000000</td>\n",
       "    </tr>\n",
       "    <tr>\n",
       "      <th>31</th>\n",
       "      <td>0.889868</td>\n",
       "      <td>0.885965</td>\n",
       "      <td>0.887912</td>\n",
       "      <td>228.000000</td>\n",
       "    </tr>\n",
       "    <tr>\n",
       "      <th>32</th>\n",
       "      <td>0.881720</td>\n",
       "      <td>0.921348</td>\n",
       "      <td>0.901099</td>\n",
       "      <td>89.000000</td>\n",
       "    </tr>\n",
       "    <tr>\n",
       "      <th>33</th>\n",
       "      <td>0.896887</td>\n",
       "      <td>0.936992</td>\n",
       "      <td>0.916501</td>\n",
       "      <td>492.000000</td>\n",
       "    </tr>\n",
       "    <tr>\n",
       "      <th>34</th>\n",
       "      <td>0.930636</td>\n",
       "      <td>0.917379</td>\n",
       "      <td>0.923960</td>\n",
       "      <td>351.000000</td>\n",
       "    </tr>\n",
       "    <tr>\n",
       "      <th>35</th>\n",
       "      <td>0.764706</td>\n",
       "      <td>0.795918</td>\n",
       "      <td>0.780000</td>\n",
       "      <td>49.000000</td>\n",
       "    </tr>\n",
       "    <tr>\n",
       "      <th>36</th>\n",
       "      <td>0.966102</td>\n",
       "      <td>0.822115</td>\n",
       "      <td>0.888312</td>\n",
       "      <td>208.000000</td>\n",
       "    </tr>\n",
       "    <tr>\n",
       "      <th>37</th>\n",
       "      <td>0.969697</td>\n",
       "      <td>0.950495</td>\n",
       "      <td>0.960000</td>\n",
       "      <td>101.000000</td>\n",
       "    </tr>\n",
       "    <tr>\n",
       "      <th>38</th>\n",
       "      <td>0.828947</td>\n",
       "      <td>0.840000</td>\n",
       "      <td>0.834437</td>\n",
       "      <td>75.000000</td>\n",
       "    </tr>\n",
       "    <tr>\n",
       "      <th>39</th>\n",
       "      <td>0.905605</td>\n",
       "      <td>0.938838</td>\n",
       "      <td>0.921922</td>\n",
       "      <td>327.000000</td>\n",
       "    </tr>\n",
       "    <tr>\n",
       "      <th>40</th>\n",
       "      <td>0.982249</td>\n",
       "      <td>0.932584</td>\n",
       "      <td>0.956772</td>\n",
       "      <td>178.000000</td>\n",
       "    </tr>\n",
       "    <tr>\n",
       "      <th>41</th>\n",
       "      <td>0.895161</td>\n",
       "      <td>0.909836</td>\n",
       "      <td>0.902439</td>\n",
       "      <td>122.000000</td>\n",
       "    </tr>\n",
       "    <tr>\n",
       "      <th>42</th>\n",
       "      <td>0.947368</td>\n",
       "      <td>0.931034</td>\n",
       "      <td>0.939130</td>\n",
       "      <td>58.000000</td>\n",
       "    </tr>\n",
       "    <tr>\n",
       "      <th>43</th>\n",
       "      <td>1.000000</td>\n",
       "      <td>0.673469</td>\n",
       "      <td>0.804878</td>\n",
       "      <td>49.000000</td>\n",
       "    </tr>\n",
       "    <tr>\n",
       "      <th>44</th>\n",
       "      <td>0.923077</td>\n",
       "      <td>0.986301</td>\n",
       "      <td>0.953642</td>\n",
       "      <td>73.000000</td>\n",
       "    </tr>\n",
       "    <tr>\n",
       "      <th>45</th>\n",
       "      <td>0.901345</td>\n",
       "      <td>0.980488</td>\n",
       "      <td>0.939252</td>\n",
       "      <td>205.000000</td>\n",
       "    </tr>\n",
       "    <tr>\n",
       "      <th>46</th>\n",
       "      <td>0.945946</td>\n",
       "      <td>0.833333</td>\n",
       "      <td>0.886076</td>\n",
       "      <td>84.000000</td>\n",
       "    </tr>\n",
       "    <tr>\n",
       "      <th>47</th>\n",
       "      <td>1.000000</td>\n",
       "      <td>0.978261</td>\n",
       "      <td>0.989011</td>\n",
       "      <td>46.000000</td>\n",
       "    </tr>\n",
       "    <tr>\n",
       "      <th>48</th>\n",
       "      <td>0.892537</td>\n",
       "      <td>0.943218</td>\n",
       "      <td>0.917178</td>\n",
       "      <td>317.000000</td>\n",
       "    </tr>\n",
       "    <tr>\n",
       "      <th>49</th>\n",
       "      <td>0.889535</td>\n",
       "      <td>0.921687</td>\n",
       "      <td>0.905325</td>\n",
       "      <td>166.000000</td>\n",
       "    </tr>\n",
       "    <tr>\n",
       "      <th>50</th>\n",
       "      <td>0.977273</td>\n",
       "      <td>0.811321</td>\n",
       "      <td>0.886598</td>\n",
       "      <td>53.000000</td>\n",
       "    </tr>\n",
       "    <tr>\n",
       "      <th>51</th>\n",
       "      <td>0.938830</td>\n",
       "      <td>0.891414</td>\n",
       "      <td>0.914508</td>\n",
       "      <td>396.000000</td>\n",
       "    </tr>\n",
       "    <tr>\n",
       "      <th>52</th>\n",
       "      <td>0.778146</td>\n",
       "      <td>0.917969</td>\n",
       "      <td>0.842294</td>\n",
       "      <td>256.000000</td>\n",
       "    </tr>\n",
       "    <tr>\n",
       "      <th>53</th>\n",
       "      <td>0.953964</td>\n",
       "      <td>0.939547</td>\n",
       "      <td>0.946701</td>\n",
       "      <td>397.000000</td>\n",
       "    </tr>\n",
       "    <tr>\n",
       "      <th>54</th>\n",
       "      <td>0.783333</td>\n",
       "      <td>0.758065</td>\n",
       "      <td>0.770492</td>\n",
       "      <td>62.000000</td>\n",
       "    </tr>\n",
       "    <tr>\n",
       "      <th>55</th>\n",
       "      <td>0.891228</td>\n",
       "      <td>0.916968</td>\n",
       "      <td>0.903915</td>\n",
       "      <td>277.000000</td>\n",
       "    </tr>\n",
       "    <tr>\n",
       "      <th>56</th>\n",
       "      <td>0.928205</td>\n",
       "      <td>0.967914</td>\n",
       "      <td>0.947644</td>\n",
       "      <td>187.000000</td>\n",
       "    </tr>\n",
       "    <tr>\n",
       "      <th>57</th>\n",
       "      <td>0.897849</td>\n",
       "      <td>0.945283</td>\n",
       "      <td>0.920956</td>\n",
       "      <td>530.000000</td>\n",
       "    </tr>\n",
       "    <tr>\n",
       "      <th>58</th>\n",
       "      <td>0.773438</td>\n",
       "      <td>0.916667</td>\n",
       "      <td>0.838983</td>\n",
       "      <td>108.000000</td>\n",
       "    </tr>\n",
       "    <tr>\n",
       "      <th>59</th>\n",
       "      <td>0.983516</td>\n",
       "      <td>0.877451</td>\n",
       "      <td>0.927461</td>\n",
       "      <td>204.000000</td>\n",
       "    </tr>\n",
       "    <tr>\n",
       "      <th>60</th>\n",
       "      <td>0.985915</td>\n",
       "      <td>0.843373</td>\n",
       "      <td>0.909091</td>\n",
       "      <td>83.000000</td>\n",
       "    </tr>\n",
       "    <tr>\n",
       "      <th>61</th>\n",
       "      <td>0.969925</td>\n",
       "      <td>0.796296</td>\n",
       "      <td>0.874576</td>\n",
       "      <td>162.000000</td>\n",
       "    </tr>\n",
       "    <tr>\n",
       "      <th>62</th>\n",
       "      <td>0.860000</td>\n",
       "      <td>0.914894</td>\n",
       "      <td>0.886598</td>\n",
       "      <td>94.000000</td>\n",
       "    </tr>\n",
       "    <tr>\n",
       "      <th>63</th>\n",
       "      <td>0.931818</td>\n",
       "      <td>0.916201</td>\n",
       "      <td>0.923944</td>\n",
       "      <td>179.000000</td>\n",
       "    </tr>\n",
       "    <tr>\n",
       "      <th>64</th>\n",
       "      <td>0.921348</td>\n",
       "      <td>0.901099</td>\n",
       "      <td>0.911111</td>\n",
       "      <td>91.000000</td>\n",
       "    </tr>\n",
       "    <tr>\n",
       "      <th>65</th>\n",
       "      <td>0.910714</td>\n",
       "      <td>0.894737</td>\n",
       "      <td>0.902655</td>\n",
       "      <td>57.000000</td>\n",
       "    </tr>\n",
       "    <tr>\n",
       "      <th>66</th>\n",
       "      <td>0.903614</td>\n",
       "      <td>0.882353</td>\n",
       "      <td>0.892857</td>\n",
       "      <td>85.000000</td>\n",
       "    </tr>\n",
       "    <tr>\n",
       "      <th>67</th>\n",
       "      <td>1.000000</td>\n",
       "      <td>0.864407</td>\n",
       "      <td>0.927273</td>\n",
       "      <td>59.000000</td>\n",
       "    </tr>\n",
       "    <tr>\n",
       "      <th>68</th>\n",
       "      <td>1.000000</td>\n",
       "      <td>0.555556</td>\n",
       "      <td>0.714286</td>\n",
       "      <td>18.000000</td>\n",
       "    </tr>\n",
       "    <tr>\n",
       "      <th>69</th>\n",
       "      <td>1.000000</td>\n",
       "      <td>0.666667</td>\n",
       "      <td>0.800000</td>\n",
       "      <td>27.000000</td>\n",
       "    </tr>\n",
       "    <tr>\n",
       "      <th>accuracy</th>\n",
       "      <td>0.917371</td>\n",
       "      <td>0.917371</td>\n",
       "      <td>0.917371</td>\n",
       "      <td>0.917371</td>\n",
       "    </tr>\n",
       "    <tr>\n",
       "      <th>macro avg</th>\n",
       "      <td>0.924140</td>\n",
       "      <td>0.899294</td>\n",
       "      <td>0.908233</td>\n",
       "      <td>11945.000000</td>\n",
       "    </tr>\n",
       "    <tr>\n",
       "      <th>weighted avg</th>\n",
       "      <td>0.920897</td>\n",
       "      <td>0.917371</td>\n",
       "      <td>0.917499</td>\n",
       "      <td>11945.000000</td>\n",
       "    </tr>\n",
       "  </tbody>\n",
       "</table>\n",
       "</div>"
      ],
      "text/plain": [
       "              precision    recall  f1-score       support\n",
       "0              0.941935  0.948052  0.944984    154.000000\n",
       "1              1.000000  0.864865  0.927536     37.000000\n",
       "2              0.870748  0.977099  0.920863    131.000000\n",
       "3              0.951754  0.964444  0.958057    225.000000\n",
       "4              1.000000  0.975000  0.987342     40.000000\n",
       "5              0.972826  0.957219  0.964960    187.000000\n",
       "6              0.893004  0.990868  0.939394    219.000000\n",
       "7              0.899749  0.918159  0.908861    391.000000\n",
       "8              1.000000  0.941558  0.969900    154.000000\n",
       "9              0.927184  0.979487  0.952618    195.000000\n",
       "10             0.965116  0.821782  0.887701    101.000000\n",
       "11             0.962963  0.921986  0.942029    141.000000\n",
       "12             0.854839  0.913793  0.883333     58.000000\n",
       "13             0.942675  0.942675  0.942675    314.000000\n",
       "14             0.961165  0.925234  0.942857    214.000000\n",
       "15             0.976190  0.836735  0.901099     98.000000\n",
       "16             1.000000  0.886076  0.939597     79.000000\n",
       "17             1.000000  0.906667  0.951049     75.000000\n",
       "18             0.938776  0.978723  0.958333     47.000000\n",
       "19             0.870229  0.946058  0.906561    241.000000\n",
       "20             0.944664  0.891791  0.917466    268.000000\n",
       "21             0.960784  0.973510  0.967105    151.000000\n",
       "22             0.867470  0.857143  0.862275    252.000000\n",
       "23             0.924370  0.924370  0.924370    119.000000\n",
       "24             0.880597  0.967213  0.921875    183.000000\n",
       "25             0.915789  0.865672  0.890026    201.000000\n",
       "26             0.719298  0.953488  0.820000    129.000000\n",
       "27             0.966030  0.919192  0.942029    495.000000\n",
       "28             0.855072  0.867647  0.861314     68.000000\n",
       "29             0.985765  0.923333  0.953528    300.000000\n",
       "30             0.940299  0.933333  0.936803    135.000000\n",
       "31             0.889868  0.885965  0.887912    228.000000\n",
       "32             0.881720  0.921348  0.901099     89.000000\n",
       "33             0.896887  0.936992  0.916501    492.000000\n",
       "34             0.930636  0.917379  0.923960    351.000000\n",
       "35             0.764706  0.795918  0.780000     49.000000\n",
       "36             0.966102  0.822115  0.888312    208.000000\n",
       "37             0.969697  0.950495  0.960000    101.000000\n",
       "38             0.828947  0.840000  0.834437     75.000000\n",
       "39             0.905605  0.938838  0.921922    327.000000\n",
       "40             0.982249  0.932584  0.956772    178.000000\n",
       "41             0.895161  0.909836  0.902439    122.000000\n",
       "42             0.947368  0.931034  0.939130     58.000000\n",
       "43             1.000000  0.673469  0.804878     49.000000\n",
       "44             0.923077  0.986301  0.953642     73.000000\n",
       "45             0.901345  0.980488  0.939252    205.000000\n",
       "46             0.945946  0.833333  0.886076     84.000000\n",
       "47             1.000000  0.978261  0.989011     46.000000\n",
       "48             0.892537  0.943218  0.917178    317.000000\n",
       "49             0.889535  0.921687  0.905325    166.000000\n",
       "50             0.977273  0.811321  0.886598     53.000000\n",
       "51             0.938830  0.891414  0.914508    396.000000\n",
       "52             0.778146  0.917969  0.842294    256.000000\n",
       "53             0.953964  0.939547  0.946701    397.000000\n",
       "54             0.783333  0.758065  0.770492     62.000000\n",
       "55             0.891228  0.916968  0.903915    277.000000\n",
       "56             0.928205  0.967914  0.947644    187.000000\n",
       "57             0.897849  0.945283  0.920956    530.000000\n",
       "58             0.773438  0.916667  0.838983    108.000000\n",
       "59             0.983516  0.877451  0.927461    204.000000\n",
       "60             0.985915  0.843373  0.909091     83.000000\n",
       "61             0.969925  0.796296  0.874576    162.000000\n",
       "62             0.860000  0.914894  0.886598     94.000000\n",
       "63             0.931818  0.916201  0.923944    179.000000\n",
       "64             0.921348  0.901099  0.911111     91.000000\n",
       "65             0.910714  0.894737  0.902655     57.000000\n",
       "66             0.903614  0.882353  0.892857     85.000000\n",
       "67             1.000000  0.864407  0.927273     59.000000\n",
       "68             1.000000  0.555556  0.714286     18.000000\n",
       "69             1.000000  0.666667  0.800000     27.000000\n",
       "accuracy       0.917371  0.917371  0.917371      0.917371\n",
       "macro avg      0.924140  0.899294  0.908233  11945.000000\n",
       "weighted avg   0.920897  0.917371  0.917499  11945.000000"
      ]
     },
     "execution_count": 31,
     "metadata": {},
     "output_type": "execute_result"
    }
   ],
   "source": [
    "# classification report for train data ncm and real data\n",
    "result = pd.DataFrame(report).T\n",
    "result"
   ]
  },
  {
   "cell_type": "code",
   "execution_count": 32,
   "metadata": {},
   "outputs": [
    {
     "data": {
      "text/html": [
       "<div>\n",
       "<style scoped>\n",
       "    .dataframe tbody tr th:only-of-type {\n",
       "        vertical-align: middle;\n",
       "    }\n",
       "\n",
       "    .dataframe tbody tr th {\n",
       "        vertical-align: top;\n",
       "    }\n",
       "\n",
       "    .dataframe thead th {\n",
       "        text-align: right;\n",
       "    }\n",
       "</style>\n",
       "<table border=\"1\" class=\"dataframe\">\n",
       "  <thead>\n",
       "    <tr style=\"text-align: right;\">\n",
       "      <th></th>\n",
       "      <th>precision</th>\n",
       "      <th>recall</th>\n",
       "      <th>f1-score</th>\n",
       "      <th>support</th>\n",
       "    </tr>\n",
       "  </thead>\n",
       "  <tbody>\n",
       "    <tr>\n",
       "      <th>0</th>\n",
       "      <td>0.708738</td>\n",
       "      <td>0.768421</td>\n",
       "      <td>0.737374</td>\n",
       "      <td>95.000000</td>\n",
       "    </tr>\n",
       "    <tr>\n",
       "      <th>1</th>\n",
       "      <td>0.476190</td>\n",
       "      <td>0.476190</td>\n",
       "      <td>0.476190</td>\n",
       "      <td>21.000000</td>\n",
       "    </tr>\n",
       "    <tr>\n",
       "      <th>2</th>\n",
       "      <td>0.628866</td>\n",
       "      <td>0.743902</td>\n",
       "      <td>0.681564</td>\n",
       "      <td>82.000000</td>\n",
       "    </tr>\n",
       "    <tr>\n",
       "      <th>3</th>\n",
       "      <td>0.662252</td>\n",
       "      <td>0.781250</td>\n",
       "      <td>0.716846</td>\n",
       "      <td>128.000000</td>\n",
       "    </tr>\n",
       "    <tr>\n",
       "      <th>4</th>\n",
       "      <td>0.680000</td>\n",
       "      <td>0.653846</td>\n",
       "      <td>0.666667</td>\n",
       "      <td>26.000000</td>\n",
       "    </tr>\n",
       "    <tr>\n",
       "      <th>5</th>\n",
       "      <td>0.770492</td>\n",
       "      <td>0.734375</td>\n",
       "      <td>0.752000</td>\n",
       "      <td>128.000000</td>\n",
       "    </tr>\n",
       "    <tr>\n",
       "      <th>6</th>\n",
       "      <td>0.802469</td>\n",
       "      <td>0.928571</td>\n",
       "      <td>0.860927</td>\n",
       "      <td>140.000000</td>\n",
       "    </tr>\n",
       "    <tr>\n",
       "      <th>7</th>\n",
       "      <td>0.656604</td>\n",
       "      <td>0.644444</td>\n",
       "      <td>0.650467</td>\n",
       "      <td>270.000000</td>\n",
       "    </tr>\n",
       "    <tr>\n",
       "      <th>8</th>\n",
       "      <td>0.791667</td>\n",
       "      <td>0.628099</td>\n",
       "      <td>0.700461</td>\n",
       "      <td>121.000000</td>\n",
       "    </tr>\n",
       "    <tr>\n",
       "      <th>9</th>\n",
       "      <td>0.788321</td>\n",
       "      <td>0.818182</td>\n",
       "      <td>0.802974</td>\n",
       "      <td>132.000000</td>\n",
       "    </tr>\n",
       "    <tr>\n",
       "      <th>10</th>\n",
       "      <td>0.446429</td>\n",
       "      <td>0.471698</td>\n",
       "      <td>0.458716</td>\n",
       "      <td>53.000000</td>\n",
       "    </tr>\n",
       "    <tr>\n",
       "      <th>11</th>\n",
       "      <td>0.662921</td>\n",
       "      <td>0.608247</td>\n",
       "      <td>0.634409</td>\n",
       "      <td>97.000000</td>\n",
       "    </tr>\n",
       "    <tr>\n",
       "      <th>12</th>\n",
       "      <td>0.317073</td>\n",
       "      <td>0.520000</td>\n",
       "      <td>0.393939</td>\n",
       "      <td>25.000000</td>\n",
       "    </tr>\n",
       "    <tr>\n",
       "      <th>13</th>\n",
       "      <td>0.658654</td>\n",
       "      <td>0.709845</td>\n",
       "      <td>0.683292</td>\n",
       "      <td>193.000000</td>\n",
       "    </tr>\n",
       "    <tr>\n",
       "      <th>14</th>\n",
       "      <td>0.823529</td>\n",
       "      <td>0.741722</td>\n",
       "      <td>0.780488</td>\n",
       "      <td>151.000000</td>\n",
       "    </tr>\n",
       "    <tr>\n",
       "      <th>15</th>\n",
       "      <td>0.672727</td>\n",
       "      <td>0.578125</td>\n",
       "      <td>0.621849</td>\n",
       "      <td>64.000000</td>\n",
       "    </tr>\n",
       "    <tr>\n",
       "      <th>16</th>\n",
       "      <td>0.739130</td>\n",
       "      <td>0.539683</td>\n",
       "      <td>0.623853</td>\n",
       "      <td>63.000000</td>\n",
       "    </tr>\n",
       "    <tr>\n",
       "      <th>17</th>\n",
       "      <td>0.750000</td>\n",
       "      <td>0.622642</td>\n",
       "      <td>0.680412</td>\n",
       "      <td>53.000000</td>\n",
       "    </tr>\n",
       "    <tr>\n",
       "      <th>18</th>\n",
       "      <td>0.656250</td>\n",
       "      <td>0.777778</td>\n",
       "      <td>0.711864</td>\n",
       "      <td>27.000000</td>\n",
       "    </tr>\n",
       "    <tr>\n",
       "      <th>19</th>\n",
       "      <td>0.643678</td>\n",
       "      <td>0.704403</td>\n",
       "      <td>0.672673</td>\n",
       "      <td>159.000000</td>\n",
       "    </tr>\n",
       "    <tr>\n",
       "      <th>20</th>\n",
       "      <td>0.684524</td>\n",
       "      <td>0.628415</td>\n",
       "      <td>0.655271</td>\n",
       "      <td>183.000000</td>\n",
       "    </tr>\n",
       "    <tr>\n",
       "      <th>21</th>\n",
       "      <td>0.578431</td>\n",
       "      <td>0.702381</td>\n",
       "      <td>0.634409</td>\n",
       "      <td>84.000000</td>\n",
       "    </tr>\n",
       "    <tr>\n",
       "      <th>22</th>\n",
       "      <td>0.656627</td>\n",
       "      <td>0.664634</td>\n",
       "      <td>0.660606</td>\n",
       "      <td>164.000000</td>\n",
       "    </tr>\n",
       "    <tr>\n",
       "      <th>23</th>\n",
       "      <td>0.423077</td>\n",
       "      <td>0.464789</td>\n",
       "      <td>0.442953</td>\n",
       "      <td>71.000000</td>\n",
       "    </tr>\n",
       "    <tr>\n",
       "      <th>24</th>\n",
       "      <td>0.656716</td>\n",
       "      <td>0.721311</td>\n",
       "      <td>0.687500</td>\n",
       "      <td>122.000000</td>\n",
       "    </tr>\n",
       "    <tr>\n",
       "      <th>25</th>\n",
       "      <td>0.666667</td>\n",
       "      <td>0.608696</td>\n",
       "      <td>0.636364</td>\n",
       "      <td>138.000000</td>\n",
       "    </tr>\n",
       "    <tr>\n",
       "      <th>26</th>\n",
       "      <td>0.508772</td>\n",
       "      <td>0.805556</td>\n",
       "      <td>0.623656</td>\n",
       "      <td>72.000000</td>\n",
       "    </tr>\n",
       "    <tr>\n",
       "      <th>27</th>\n",
       "      <td>0.798722</td>\n",
       "      <td>0.698324</td>\n",
       "      <td>0.745156</td>\n",
       "      <td>358.000000</td>\n",
       "    </tr>\n",
       "    <tr>\n",
       "      <th>28</th>\n",
       "      <td>0.466667</td>\n",
       "      <td>0.538462</td>\n",
       "      <td>0.500000</td>\n",
       "      <td>39.000000</td>\n",
       "    </tr>\n",
       "    <tr>\n",
       "      <th>29</th>\n",
       "      <td>0.924731</td>\n",
       "      <td>0.851485</td>\n",
       "      <td>0.886598</td>\n",
       "      <td>202.000000</td>\n",
       "    </tr>\n",
       "    <tr>\n",
       "      <th>30</th>\n",
       "      <td>0.647727</td>\n",
       "      <td>0.662791</td>\n",
       "      <td>0.655172</td>\n",
       "      <td>86.000000</td>\n",
       "    </tr>\n",
       "    <tr>\n",
       "      <th>31</th>\n",
       "      <td>0.626667</td>\n",
       "      <td>0.666667</td>\n",
       "      <td>0.646048</td>\n",
       "      <td>141.000000</td>\n",
       "    </tr>\n",
       "    <tr>\n",
       "      <th>32</th>\n",
       "      <td>0.516129</td>\n",
       "      <td>0.603774</td>\n",
       "      <td>0.556522</td>\n",
       "      <td>53.000000</td>\n",
       "    </tr>\n",
       "    <tr>\n",
       "      <th>33</th>\n",
       "      <td>0.783626</td>\n",
       "      <td>0.795252</td>\n",
       "      <td>0.789396</td>\n",
       "      <td>337.000000</td>\n",
       "    </tr>\n",
       "    <tr>\n",
       "      <th>34</th>\n",
       "      <td>0.744589</td>\n",
       "      <td>0.719665</td>\n",
       "      <td>0.731915</td>\n",
       "      <td>239.000000</td>\n",
       "    </tr>\n",
       "    <tr>\n",
       "      <th>35</th>\n",
       "      <td>0.352941</td>\n",
       "      <td>0.285714</td>\n",
       "      <td>0.315789</td>\n",
       "      <td>42.000000</td>\n",
       "    </tr>\n",
       "    <tr>\n",
       "      <th>36</th>\n",
       "      <td>0.760684</td>\n",
       "      <td>0.581699</td>\n",
       "      <td>0.659259</td>\n",
       "      <td>153.000000</td>\n",
       "    </tr>\n",
       "    <tr>\n",
       "      <th>37</th>\n",
       "      <td>0.846154</td>\n",
       "      <td>0.679012</td>\n",
       "      <td>0.753425</td>\n",
       "      <td>81.000000</td>\n",
       "    </tr>\n",
       "    <tr>\n",
       "      <th>38</th>\n",
       "      <td>0.720000</td>\n",
       "      <td>0.620690</td>\n",
       "      <td>0.666667</td>\n",
       "      <td>58.000000</td>\n",
       "    </tr>\n",
       "    <tr>\n",
       "      <th>39</th>\n",
       "      <td>0.818584</td>\n",
       "      <td>0.822222</td>\n",
       "      <td>0.820399</td>\n",
       "      <td>225.000000</td>\n",
       "    </tr>\n",
       "    <tr>\n",
       "      <th>40</th>\n",
       "      <td>0.785714</td>\n",
       "      <td>0.814815</td>\n",
       "      <td>0.800000</td>\n",
       "      <td>108.000000</td>\n",
       "    </tr>\n",
       "    <tr>\n",
       "      <th>41</th>\n",
       "      <td>0.707317</td>\n",
       "      <td>0.698795</td>\n",
       "      <td>0.703030</td>\n",
       "      <td>83.000000</td>\n",
       "    </tr>\n",
       "    <tr>\n",
       "      <th>42</th>\n",
       "      <td>0.631579</td>\n",
       "      <td>0.533333</td>\n",
       "      <td>0.578313</td>\n",
       "      <td>45.000000</td>\n",
       "    </tr>\n",
       "    <tr>\n",
       "      <th>43</th>\n",
       "      <td>0.571429</td>\n",
       "      <td>0.375000</td>\n",
       "      <td>0.452830</td>\n",
       "      <td>32.000000</td>\n",
       "    </tr>\n",
       "    <tr>\n",
       "      <th>44</th>\n",
       "      <td>0.730769</td>\n",
       "      <td>0.775510</td>\n",
       "      <td>0.752475</td>\n",
       "      <td>49.000000</td>\n",
       "    </tr>\n",
       "    <tr>\n",
       "      <th>45</th>\n",
       "      <td>0.574324</td>\n",
       "      <td>0.739130</td>\n",
       "      <td>0.646388</td>\n",
       "      <td>115.000000</td>\n",
       "    </tr>\n",
       "    <tr>\n",
       "      <th>46</th>\n",
       "      <td>0.571429</td>\n",
       "      <td>0.388889</td>\n",
       "      <td>0.462810</td>\n",
       "      <td>72.000000</td>\n",
       "    </tr>\n",
       "    <tr>\n",
       "      <th>47</th>\n",
       "      <td>0.666667</td>\n",
       "      <td>0.800000</td>\n",
       "      <td>0.727273</td>\n",
       "      <td>25.000000</td>\n",
       "    </tr>\n",
       "    <tr>\n",
       "      <th>48</th>\n",
       "      <td>0.735426</td>\n",
       "      <td>0.719298</td>\n",
       "      <td>0.727273</td>\n",
       "      <td>228.000000</td>\n",
       "    </tr>\n",
       "    <tr>\n",
       "      <th>49</th>\n",
       "      <td>0.561404</td>\n",
       "      <td>0.680851</td>\n",
       "      <td>0.615385</td>\n",
       "      <td>94.000000</td>\n",
       "    </tr>\n",
       "    <tr>\n",
       "      <th>50</th>\n",
       "      <td>0.793103</td>\n",
       "      <td>0.396552</td>\n",
       "      <td>0.528736</td>\n",
       "      <td>58.000000</td>\n",
       "    </tr>\n",
       "    <tr>\n",
       "      <th>51</th>\n",
       "      <td>0.768000</td>\n",
       "      <td>0.659794</td>\n",
       "      <td>0.709797</td>\n",
       "      <td>291.000000</td>\n",
       "    </tr>\n",
       "    <tr>\n",
       "      <th>52</th>\n",
       "      <td>0.530000</td>\n",
       "      <td>0.692810</td>\n",
       "      <td>0.600567</td>\n",
       "      <td>153.000000</td>\n",
       "    </tr>\n",
       "    <tr>\n",
       "      <th>53</th>\n",
       "      <td>0.819231</td>\n",
       "      <td>0.838583</td>\n",
       "      <td>0.828794</td>\n",
       "      <td>254.000000</td>\n",
       "    </tr>\n",
       "    <tr>\n",
       "      <th>54</th>\n",
       "      <td>0.300000</td>\n",
       "      <td>0.260870</td>\n",
       "      <td>0.279070</td>\n",
       "      <td>46.000000</td>\n",
       "    </tr>\n",
       "    <tr>\n",
       "      <th>55</th>\n",
       "      <td>0.751323</td>\n",
       "      <td>0.780220</td>\n",
       "      <td>0.765499</td>\n",
       "      <td>182.000000</td>\n",
       "    </tr>\n",
       "    <tr>\n",
       "      <th>56</th>\n",
       "      <td>0.730769</td>\n",
       "      <td>0.760000</td>\n",
       "      <td>0.745098</td>\n",
       "      <td>125.000000</td>\n",
       "    </tr>\n",
       "    <tr>\n",
       "      <th>57</th>\n",
       "      <td>0.735849</td>\n",
       "      <td>0.791304</td>\n",
       "      <td>0.762570</td>\n",
       "      <td>345.000000</td>\n",
       "    </tr>\n",
       "    <tr>\n",
       "      <th>58</th>\n",
       "      <td>0.494118</td>\n",
       "      <td>0.617647</td>\n",
       "      <td>0.549020</td>\n",
       "      <td>68.000000</td>\n",
       "    </tr>\n",
       "    <tr>\n",
       "      <th>59</th>\n",
       "      <td>0.866667</td>\n",
       "      <td>0.748201</td>\n",
       "      <td>0.803089</td>\n",
       "      <td>139.000000</td>\n",
       "    </tr>\n",
       "    <tr>\n",
       "      <th>60</th>\n",
       "      <td>0.869565</td>\n",
       "      <td>0.625000</td>\n",
       "      <td>0.727273</td>\n",
       "      <td>64.000000</td>\n",
       "    </tr>\n",
       "    <tr>\n",
       "      <th>61</th>\n",
       "      <td>0.681818</td>\n",
       "      <td>0.447761</td>\n",
       "      <td>0.540541</td>\n",
       "      <td>134.000000</td>\n",
       "    </tr>\n",
       "    <tr>\n",
       "      <th>62</th>\n",
       "      <td>0.424242</td>\n",
       "      <td>0.636364</td>\n",
       "      <td>0.509091</td>\n",
       "      <td>44.000000</td>\n",
       "    </tr>\n",
       "    <tr>\n",
       "      <th>63</th>\n",
       "      <td>0.629310</td>\n",
       "      <td>0.663636</td>\n",
       "      <td>0.646018</td>\n",
       "      <td>110.000000</td>\n",
       "    </tr>\n",
       "    <tr>\n",
       "      <th>64</th>\n",
       "      <td>0.559322</td>\n",
       "      <td>0.523810</td>\n",
       "      <td>0.540984</td>\n",
       "      <td>63.000000</td>\n",
       "    </tr>\n",
       "    <tr>\n",
       "      <th>65</th>\n",
       "      <td>0.333333</td>\n",
       "      <td>0.571429</td>\n",
       "      <td>0.421053</td>\n",
       "      <td>21.000000</td>\n",
       "    </tr>\n",
       "    <tr>\n",
       "      <th>66</th>\n",
       "      <td>0.418182</td>\n",
       "      <td>0.575000</td>\n",
       "      <td>0.484211</td>\n",
       "      <td>40.000000</td>\n",
       "    </tr>\n",
       "    <tr>\n",
       "      <th>67</th>\n",
       "      <td>0.176471</td>\n",
       "      <td>0.206897</td>\n",
       "      <td>0.190476</td>\n",
       "      <td>29.000000</td>\n",
       "    </tr>\n",
       "    <tr>\n",
       "      <th>68</th>\n",
       "      <td>0.000000</td>\n",
       "      <td>0.000000</td>\n",
       "      <td>0.000000</td>\n",
       "      <td>6.000000</td>\n",
       "    </tr>\n",
       "    <tr>\n",
       "      <th>69</th>\n",
       "      <td>0.833333</td>\n",
       "      <td>0.526316</td>\n",
       "      <td>0.645161</td>\n",
       "      <td>19.000000</td>\n",
       "    </tr>\n",
       "    <tr>\n",
       "      <th>accuracy</th>\n",
       "      <td>0.692473</td>\n",
       "      <td>0.692473</td>\n",
       "      <td>0.692473</td>\n",
       "      <td>0.692473</td>\n",
       "    </tr>\n",
       "    <tr>\n",
       "      <th>macro avg</th>\n",
       "      <td>0.639553</td>\n",
       "      <td>0.634583</td>\n",
       "      <td>0.630241</td>\n",
       "      <td>7918.000000</td>\n",
       "    </tr>\n",
       "    <tr>\n",
       "      <th>weighted avg</th>\n",
       "      <td>0.702242</td>\n",
       "      <td>0.692473</td>\n",
       "      <td>0.693019</td>\n",
       "      <td>7918.000000</td>\n",
       "    </tr>\n",
       "  </tbody>\n",
       "</table>\n",
       "</div>"
      ],
      "text/plain": [
       "              precision    recall  f1-score      support\n",
       "0              0.708738  0.768421  0.737374    95.000000\n",
       "1              0.476190  0.476190  0.476190    21.000000\n",
       "2              0.628866  0.743902  0.681564    82.000000\n",
       "3              0.662252  0.781250  0.716846   128.000000\n",
       "4              0.680000  0.653846  0.666667    26.000000\n",
       "5              0.770492  0.734375  0.752000   128.000000\n",
       "6              0.802469  0.928571  0.860927   140.000000\n",
       "7              0.656604  0.644444  0.650467   270.000000\n",
       "8              0.791667  0.628099  0.700461   121.000000\n",
       "9              0.788321  0.818182  0.802974   132.000000\n",
       "10             0.446429  0.471698  0.458716    53.000000\n",
       "11             0.662921  0.608247  0.634409    97.000000\n",
       "12             0.317073  0.520000  0.393939    25.000000\n",
       "13             0.658654  0.709845  0.683292   193.000000\n",
       "14             0.823529  0.741722  0.780488   151.000000\n",
       "15             0.672727  0.578125  0.621849    64.000000\n",
       "16             0.739130  0.539683  0.623853    63.000000\n",
       "17             0.750000  0.622642  0.680412    53.000000\n",
       "18             0.656250  0.777778  0.711864    27.000000\n",
       "19             0.643678  0.704403  0.672673   159.000000\n",
       "20             0.684524  0.628415  0.655271   183.000000\n",
       "21             0.578431  0.702381  0.634409    84.000000\n",
       "22             0.656627  0.664634  0.660606   164.000000\n",
       "23             0.423077  0.464789  0.442953    71.000000\n",
       "24             0.656716  0.721311  0.687500   122.000000\n",
       "25             0.666667  0.608696  0.636364   138.000000\n",
       "26             0.508772  0.805556  0.623656    72.000000\n",
       "27             0.798722  0.698324  0.745156   358.000000\n",
       "28             0.466667  0.538462  0.500000    39.000000\n",
       "29             0.924731  0.851485  0.886598   202.000000\n",
       "30             0.647727  0.662791  0.655172    86.000000\n",
       "31             0.626667  0.666667  0.646048   141.000000\n",
       "32             0.516129  0.603774  0.556522    53.000000\n",
       "33             0.783626  0.795252  0.789396   337.000000\n",
       "34             0.744589  0.719665  0.731915   239.000000\n",
       "35             0.352941  0.285714  0.315789    42.000000\n",
       "36             0.760684  0.581699  0.659259   153.000000\n",
       "37             0.846154  0.679012  0.753425    81.000000\n",
       "38             0.720000  0.620690  0.666667    58.000000\n",
       "39             0.818584  0.822222  0.820399   225.000000\n",
       "40             0.785714  0.814815  0.800000   108.000000\n",
       "41             0.707317  0.698795  0.703030    83.000000\n",
       "42             0.631579  0.533333  0.578313    45.000000\n",
       "43             0.571429  0.375000  0.452830    32.000000\n",
       "44             0.730769  0.775510  0.752475    49.000000\n",
       "45             0.574324  0.739130  0.646388   115.000000\n",
       "46             0.571429  0.388889  0.462810    72.000000\n",
       "47             0.666667  0.800000  0.727273    25.000000\n",
       "48             0.735426  0.719298  0.727273   228.000000\n",
       "49             0.561404  0.680851  0.615385    94.000000\n",
       "50             0.793103  0.396552  0.528736    58.000000\n",
       "51             0.768000  0.659794  0.709797   291.000000\n",
       "52             0.530000  0.692810  0.600567   153.000000\n",
       "53             0.819231  0.838583  0.828794   254.000000\n",
       "54             0.300000  0.260870  0.279070    46.000000\n",
       "55             0.751323  0.780220  0.765499   182.000000\n",
       "56             0.730769  0.760000  0.745098   125.000000\n",
       "57             0.735849  0.791304  0.762570   345.000000\n",
       "58             0.494118  0.617647  0.549020    68.000000\n",
       "59             0.866667  0.748201  0.803089   139.000000\n",
       "60             0.869565  0.625000  0.727273    64.000000\n",
       "61             0.681818  0.447761  0.540541   134.000000\n",
       "62             0.424242  0.636364  0.509091    44.000000\n",
       "63             0.629310  0.663636  0.646018   110.000000\n",
       "64             0.559322  0.523810  0.540984    63.000000\n",
       "65             0.333333  0.571429  0.421053    21.000000\n",
       "66             0.418182  0.575000  0.484211    40.000000\n",
       "67             0.176471  0.206897  0.190476    29.000000\n",
       "68             0.000000  0.000000  0.000000     6.000000\n",
       "69             0.833333  0.526316  0.645161    19.000000\n",
       "accuracy       0.692473  0.692473  0.692473     0.692473\n",
       "macro avg      0.639553  0.634583  0.630241  7918.000000\n",
       "weighted avg   0.702242  0.692473  0.693019  7918.000000"
      ]
     },
     "execution_count": 32,
     "metadata": {},
     "output_type": "execute_result"
    }
   ],
   "source": [
    "# train data real label\n",
    "train_y = data_for_tuning.y[~data_for_tuning.train_mask]\n",
    "train_emb = embedding[~data_for_tuning.train_mask]\n",
    "vnode_emb = embedding[-70:,:]\n",
    "\n",
    "train_ncm_label = torch.cdist(train_emb, vnode_emb).argmin(dim=-1)\n",
    "\n",
    "report = classification_report(train_ncm_label.cpu(), train_y.cpu(), output_dict=True)\n",
    "result = pd.DataFrame(report).T\n",
    "result"
   ]
  },
  {
   "cell_type": "code",
   "execution_count": 52,
   "metadata": {},
   "outputs": [],
   "source": [
    "train_y = data_for_tuning.y[data_for_tuning.train_mask]\n",
    "train_emb = embedding[data_for_tuning.train_mask]\n",
    "vnode_emb = embedding[-70:,:]\n",
    "\n",
    "res_cv = {}\n",
    "res_cc = {}\n",
    "for i in sorted_node:\n",
    "    class_emb = train_emb[train_y == i]\n",
    "    v_class = vnode_emb[i].unsqueeze(0)\n",
    "    res_cv[i] = torch.cdist(class_emb, v_class).mean().item()\n",
    "    res_cc[i] = torch.cdist(class_emb, class_emb).mean().item()\n"
   ]
  },
  {
   "cell_type": "code",
   "execution_count": 53,
   "metadata": {},
   "outputs": [
    {
     "data": {
      "text/plain": [
       "<matplotlib.legend.Legend at 0x7fd664366ad0>"
      ]
     },
     "execution_count": 53,
     "metadata": {},
     "output_type": "execute_result"
    },
    {
     "data": {
      "image/png": "[encoded data removed]",
      "text/plain": [
       "<Figure size 640x480 with 1 Axes>"
      ]
     },
     "metadata": {},
     "output_type": "display_data"
    }
   ],
   "source": [
    "res_cv_lst = res_cv.values()\n",
    "res_cc_lst = res_cc.values()\n",
    "plt.hist(res_cc_lst, label='cc', alpha = 0.5)\n",
    "plt.hist(res_cv_lst, label='cv', alpha = 0.5)\n",
    "plt.legend()"
   ]
  },
  {
   "cell_type": "code",
   "execution_count": 56,
   "metadata": {},
   "outputs": [
    {
     "data": {
      "text/plain": [
       "<matplotlib.legend.Legend at 0x7fd664383370>"
      ]
     },
     "execution_count": 56,
     "metadata": {},
     "output_type": "execute_result"
    },
    {
     "data": {
      "image/png": "[encoded data removed]",
      "text/plain": [
       "<Figure size 640x480 with 1 Axes>"
      ]
     },
     "metadata": {},
     "output_type": "display_data"
    }
   ],
   "source": [
    "res_cv_lst = res_cv.values()\n",
    "res_cc_lst = res_cc.values()\n",
    "plt.hist(list(res_cc_lst)[:10], label='cc', alpha = 0.5)\n",
    "plt.hist(list(res_cv_lst)[:10], label='cv', alpha = 0.5)\n",
    "plt.legend()"
   ]
  },
  {
   "cell_type": "code",
   "execution_count": 57,
   "metadata": {},
   "outputs": [
    {
     "data": {
      "text/plain": [
       "<matplotlib.legend.Legend at 0x7fd6799d2dd0>"
      ]
     },
     "execution_count": 57,
     "metadata": {},
     "output_type": "execute_result"
    },
    {
     "data": {
      "image/png": "[encoded data removed]",
      "text/plain": [
       "<Figure size 640x480 with 1 Axes>"
      ]
     },
     "metadata": {},
     "output_type": "display_data"
    }
   ],
   "source": [
    "res_cv_lst = res_cv.values()\n",
    "res_cc_lst = res_cc.values()\n",
    "plt.hist(list(res_cc_lst)[-10:], label='cc', alpha = 0.5)\n",
    "plt.hist(list(res_cv_lst)[-10:], label='cv', alpha = 0.5)\n",
    "plt.legend()"
   ]
  },
  {
   "cell_type": "code",
   "execution_count": null,
   "metadata": {},
   "outputs": [],
   "source": []
  }
 ],
 "metadata": {
  "kernelspec": {
   "display_name": "0606",
   "language": "python",
   "name": "0606"
  },
  "language_info": {
   "codemirror_mode": {
    "name": "ipython",
    "version": 3
   },
   "file_extension": ".py",
   "mimetype": "text/x-python",
   "name": "python",
   "nbconvert_exporter": "python",
   "pygments_lexer": "ipython3",
   "version": "3.10.11"
  },
  "orig_nbformat": 4
 },
 "nbformat": 4,
 "nbformat_minor": 2
}
