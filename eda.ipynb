{
 "cells": [
  {
   "cell_type": "code",
   "execution_count": 6,
   "metadata": {},
   "outputs": [
    {
     "data": {
      "text/plain": [
       "device(type='cpu')"
      ]
     },
     "execution_count": 6,
     "metadata": {},
     "output_type": "execute_result"
    }
   ],
   "source": [
    "import os\n",
    "import random\n",
    "\n",
    "import numpy as np\n",
    "import pandas as pd\n",
    "import matplotlib.pyplot as plt\n",
    "from sklearn.model_selection import train_test_split\n",
    "from sklearn.metrics import f1_score\n",
    "\n",
    "import torch\n",
    "import torch.nn as nn\n",
    "import torch.nn.functional as F\n",
    "\n",
    "import torch_geometric\n",
    "from torch_geometric.datasets import CoraFull, Planetoid, CitationFull\n",
    "from torch_geometric.transforms import NormalizeFeatures\n",
    "import torch_geometric.nn as gnn \n",
    "\n",
    "from models import GAT\n",
    "from utils import train_model, test_model\n",
    "\n",
    "torch.manual_seed(42)\n",
    "torch.cuda.manual_seed(42)\n",
    "np.random.seed(42)\n",
    "random.seed(42)\n",
    "torch.backends.cudnn.deterministic = True\n",
    "torch.backends.cudnn.benchmark = False\n",
    "\n",
    "device = torch.device(\"cuda\" if torch.cuda.is_available() else \"cpu\")\n",
    "device"
   ]
  },
  {
   "cell_type": "code",
   "execution_count": 3,
   "metadata": {},
   "outputs": [
    {
     "name": "stderr",
     "output_type": "stream",
     "text": [
      "Downloading https://github.com/abojchevski/graph2gauss/raw/master/data/cora.npz\n",
      "Processing...\n",
      "Done!\n"
     ]
    }
   ],
   "source": [
    "dataset = CitationFull(root='dataset/Cora', name='Cora', transform=NormalizeFeatures())"
   ]
  },
  {
   "cell_type": "code",
   "execution_count": 4,
   "metadata": {},
   "outputs": [],
   "source": [
    "data = dataset[0]\n",
    "df = pd.DataFrame(data.x)\n",
    "df['y'] = data.y\n",
    "train, valid = train_test_split(df, stratify=df.y, test_size=0.33)\n",
    "data.train_mask = torch.zeros(data.num_nodes, dtype=torch.bool)\n",
    "data.train_mask[train.index]=True"
   ]
  },
  {
   "cell_type": "code",
   "execution_count": 9,
   "metadata": {},
   "outputs": [
    {
     "name": "stdout",
     "output_type": "stream",
     "text": [
      "1141062\n"
     ]
    }
   ],
   "source": [
    "model=GAT(in_channels=dataset.num_features, hidden_channels=128, number_of_classes=dataset.num_classes, num_of_hidden_layers=2, device=device)\n",
    "print(model.get_n_params())\n",
    "criterion = nn.CrossEntropyLoss()\n",
    "optimizer = torch.optim.Adam(model.parameters(), lr=0.01, weight_decay=5e-4)"
   ]
  },
  {
   "cell_type": "code",
   "execution_count": 10,
   "metadata": {},
   "outputs": [
    {
     "name": "stdout",
     "output_type": "stream",
     "text": [
      "Epoch: 000, Loss: 4.2447\n",
      "Epoch: 001, Loss: 4.2301\n",
      "Epoch: 002, Loss: 4.1965\n",
      "Epoch: 003, Loss: 4.1266\n",
      "Epoch: 004, Loss: 4.0418\n",
      "Epoch: 005, Loss: 4.0447\n",
      "Epoch: 006, Loss: 4.0443\n",
      "Epoch: 007, Loss: 4.0102\n",
      "Epoch: 008, Loss: 4.0008\n",
      "Epoch: 009, Loss: 4.0093\n",
      "Epoch: 010, Loss: 4.0154\n",
      "Epoch: 011, Loss: 4.0129\n",
      "Epoch: 012, Loss: 4.0051\n",
      "Epoch: 013, Loss: 3.9986\n",
      "Epoch: 014, Loss: 3.9978\n",
      "Epoch: 015, Loss: 3.9992\n",
      "Epoch: 016, Loss: 3.9959\n",
      "Epoch: 017, Loss: 3.9905\n",
      "Epoch: 018, Loss: 3.9883\n",
      "Epoch: 019, Loss: 3.9891\n",
      "Epoch: 020, Loss: 3.9897\n",
      "Epoch: 021, Loss: 3.9878\n",
      "Epoch: 022, Loss: 3.9834\n",
      "Epoch: 023, Loss: 3.9785\n",
      "Epoch: 024, Loss: 3.9748\n",
      "Epoch: 025, Loss: 3.9711\n",
      "Epoch: 026, Loss: 3.9641\n",
      "Epoch: 027, Loss: 3.9540\n",
      "Epoch: 028, Loss: 3.9432\n",
      "Epoch: 029, Loss: 3.9298\n",
      "Epoch: 030, Loss: 3.9078\n",
      "Epoch: 031, Loss: 3.8779\n",
      "Epoch: 032, Loss: 3.8421\n",
      "Epoch: 033, Loss: 3.7925\n",
      "Epoch: 034, Loss: 3.7396\n",
      "Epoch: 035, Loss: 3.6736\n",
      "Epoch: 036, Loss: 3.6127\n",
      "Epoch: 037, Loss: 3.5645\n",
      "Epoch: 038, Loss: 3.5220\n",
      "Epoch: 039, Loss: 3.4776\n",
      "Epoch: 040, Loss: 3.4417\n",
      "Epoch: 041, Loss: 3.4228\n",
      "Epoch: 042, Loss: 3.4197\n",
      "Epoch: 043, Loss: 3.4017\n",
      "Epoch: 044, Loss: 3.3482\n",
      "Epoch: 045, Loss: 3.3350\n",
      "Epoch: 046, Loss: 3.3399\n",
      "Epoch: 047, Loss: 3.2926\n",
      "Epoch: 048, Loss: 3.2584\n",
      "Epoch: 049, Loss: 3.2634\n",
      "Epoch: 050, Loss: 3.2252\n",
      "Epoch: 051, Loss: 3.1745\n",
      "Epoch: 052, Loss: 3.1673\n",
      "Epoch: 053, Loss: 3.1375\n",
      "Epoch: 054, Loss: 3.0773\n",
      "Epoch: 055, Loss: 3.0483\n",
      "Epoch: 056, Loss: 3.0258\n",
      "Epoch: 057, Loss: 2.9687\n",
      "Epoch: 058, Loss: 2.9193\n",
      "Epoch: 059, Loss: 2.8986\n",
      "Epoch: 060, Loss: 2.8665\n",
      "Epoch: 061, Loss: 2.8100\n",
      "Epoch: 062, Loss: 2.7698\n",
      "Epoch: 063, Loss: 2.7524\n",
      "Epoch: 064, Loss: 2.7381\n",
      "Epoch: 065, Loss: 2.7107\n",
      "Epoch: 066, Loss: 2.6591\n",
      "Epoch: 067, Loss: 2.6372\n"
     ]
    }
   ],
   "source": [
    "for epoch in range(500):\n",
    "    loss = train_model(model, data, optimizer, criterion)\n",
    "    print(f'Epoch: {epoch:03d}, Loss: {loss:.4f}')"
   ]
  },
  {
   "cell_type": "code",
   "execution_count": null,
   "metadata": {},
   "outputs": [
    {
     "name": "stdout",
     "output_type": "stream",
     "text": [
      "              precision    recall  f1-score   support\n",
      "\n",
      "           0       0.78      0.86      0.82       116\n",
      "           1       0.91      0.69      0.79        72\n",
      "           2       0.91      0.93      0.92       138\n",
      "           3       0.85      0.87      0.86       270\n",
      "           4       0.92      0.87      0.89       141\n",
      "           5       0.83      0.82      0.82        98\n",
      "           6       0.79      0.85      0.82        59\n",
      "\n",
      "    accuracy                           0.86       894\n",
      "   macro avg       0.86      0.84      0.85       894\n",
      "weighted avg       0.86      0.86      0.86       894\n",
      "\n",
      "Test Accuracy: 0.8568\n"
     ]
    }
   ],
   "source": [
    "test_acc, f1 = test_model(model, data)\n",
    "print(f'Test Accuracy: {test_acc:.4f}')"
   ]
  }
 ],
 "metadata": {
  "kernelspec": {
   "display_name": "graphormer",
   "language": "python",
   "name": "python3"
  },
  "language_info": {
   "codemirror_mode": {
    "name": "ipython",
    "version": 3
   },
   "file_extension": ".py",
   "mimetype": "text/x-python",
   "name": "python",
   "nbconvert_exporter": "python",
   "pygments_lexer": "ipython3",
   "version": "3.9.16"
  },
  "orig_nbformat": 4
 },
 "nbformat": 4,
 "nbformat_minor": 2
}
